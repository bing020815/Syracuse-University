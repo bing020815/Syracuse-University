{
 "cells": [
  {
   "cell_type": "markdown",
   "metadata": {
    "colab_type": "text",
    "id": "wBA_SnvO01JO"
   },
   "source": [
    "## IST 718 Lab 3\n",
    "### Bing-Je Wu\n",
    "\n",
    "The research question is can we use algorithms and compute to identify clothing items? Specifically, can we determine which algorithm and compute methodology provides us the most efficient approach for classifying simple fashion images?\n",
    "\n",
    "* Using the base samples available from Zalando Research:  \n",
    "    + https://github.com/zalandoresearch/fashion-mnist\n",
    "    + Review the data – clean as appropriate\n",
    "    + Provide an initial data analysis\n",
    "        \n",
    "* Implement at least two approaches for classifying the digits – examples below:\n",
    "    + Naïve bayes\n",
    "    + Neural Networks\n",
    "    + Keras\n",
    "    + Azure ML\n",
    "    + IBM DSX\n",
    "    + Boosted trees\n",
    "    + Linear classification\n",
    "    + Your choice\n",
    "    \n",
    "* Answer the following questions:\n",
    "    + What is the accuracy of each method?\n",
    "    + What are the trade-offs of each approach?\n",
    "    + What is the compute performance of each approach?\n",
    "\n",
    "    \n"
   ]
  },
  {
   "cell_type": "markdown",
   "metadata": {
    "colab_type": "text",
    "id": "0wd6LqGN01JR"
   },
   "source": [
    "Reference links:   \n",
    "https://www.tensorflow.org/tutorials/keras/classification  \n",
    "\n",
    "https://stackoverflow.com/questions/40427435/extract-images-from-idx3-ubyte-file-or-gzip-via-python  \n",
    "\n",
    "http://rasbt.github.io/mlxtend/user_guide/data/loadlocal_mnist/\n",
    "\n",
    "\n",
    "Datasets:\n",
    " 1. Fashion-MNIST\n",
    " https://github.com/zalandoresearch/fashion-mnist/tree/master/data/fashion"
   ]
  },
  {
   "cell_type": "markdown",
   "metadata": {
    "colab_type": "text",
    "id": "vfY5SJ8O01JS"
   },
   "source": [
    "# Outline:\n",
    "    + Load the dataset\n",
    "    + Explore the datasets\n",
    "        - FASHION-MINST \n",
    "    * Statistical Analysis\n",
    "    * Models\n",
    "        + Linear classification\n",
    "        + Logistics regression\n",
    "        + Support vector\n",
    "        + Naïve bayes\n",
    "        + K-Nearest Neighbors\n",
    "        + Random Forest\n",
    "        + Keras (ANN - Artificial Neural Network)\n",
    "        + Keras (CNN - Convolutional Neural Network)\n",
    "    * Final Model\n",
    "    * Questions\n",
    "    * Conclusion"
   ]
  },
  {
   "cell_type": "markdown",
   "metadata": {
    "colab_type": "text",
    "id": "tQZ6k50D01JU"
   },
   "source": [
    "# Load the dataset"
   ]
  },
  {
   "cell_type": "code",
   "execution_count": 1,
   "metadata": {
    "colab": {
     "base_uri": "https://localhost:8080/",
     "height": 476
    },
    "colab_type": "code",
    "id": "N9CVoUfQi5rw",
    "outputId": "cb1b246b-ba6a-40bb-e0cb-5efed1ce9637"
   },
   "outputs": [
    {
     "name": "stdout",
     "output_type": "stream",
     "text": [
      "Collecting tensorflow-gpu==2.0.0.alpha0\n",
      "\u001b[?25l  Downloading https://files.pythonhosted.org/packages/1a/66/32cffad095253219d53f6b6c2a436637bbe45ac4e7be0244557210dc3918/tensorflow_gpu-2.0.0a0-cp36-cp36m-manylinux1_x86_64.whl (332.1MB)\n",
      "\u001b[K     |████████████████████████████████| 332.1MB 52kB/s \n",
      "\u001b[?25hRequirement already satisfied: wheel>=0.26 in /usr/local/lib/python3.6/dist-packages (from tensorflow-gpu==2.0.0.alpha0) (0.34.2)\n",
      "Requirement already satisfied: termcolor>=1.1.0 in /usr/local/lib/python3.6/dist-packages (from tensorflow-gpu==2.0.0.alpha0) (1.1.0)\n",
      "Requirement already satisfied: grpcio>=1.8.6 in /usr/local/lib/python3.6/dist-packages (from tensorflow-gpu==2.0.0.alpha0) (1.27.1)\n",
      "Requirement already satisfied: keras-applications>=1.0.6 in /usr/local/lib/python3.6/dist-packages (from tensorflow-gpu==2.0.0.alpha0) (1.0.8)\n",
      "Requirement already satisfied: protobuf>=3.6.1 in /usr/local/lib/python3.6/dist-packages (from tensorflow-gpu==2.0.0.alpha0) (3.10.0)\n",
      "Requirement already satisfied: astor>=0.6.0 in /usr/local/lib/python3.6/dist-packages (from tensorflow-gpu==2.0.0.alpha0) (0.8.1)\n",
      "Requirement already satisfied: absl-py>=0.7.0 in /usr/local/lib/python3.6/dist-packages (from tensorflow-gpu==2.0.0.alpha0) (0.9.0)\n",
      "Requirement already satisfied: numpy<2.0,>=1.14.5 in /usr/local/lib/python3.6/dist-packages (from tensorflow-gpu==2.0.0.alpha0) (1.17.5)\n",
      "Requirement already satisfied: six>=1.10.0 in /usr/local/lib/python3.6/dist-packages (from tensorflow-gpu==2.0.0.alpha0) (1.12.0)\n",
      "Requirement already satisfied: keras-preprocessing>=1.0.5 in /usr/local/lib/python3.6/dist-packages (from tensorflow-gpu==2.0.0.alpha0) (1.1.0)\n",
      "Requirement already satisfied: google-pasta>=0.1.2 in /usr/local/lib/python3.6/dist-packages (from tensorflow-gpu==2.0.0.alpha0) (0.1.8)\n",
      "Collecting tb-nightly<1.14.0a20190302,>=1.14.0a20190301\n",
      "\u001b[?25l  Downloading https://files.pythonhosted.org/packages/a9/51/aa1d756644bf4624c03844115e4ac4058eff77acd786b26315f051a4b195/tb_nightly-1.14.0a20190301-py3-none-any.whl (3.0MB)\n",
      "\u001b[K     |████████████████████████████████| 3.0MB 20.8MB/s \n",
      "\u001b[?25hRequirement already satisfied: gast>=0.2.0 in /usr/local/lib/python3.6/dist-packages (from tensorflow-gpu==2.0.0.alpha0) (0.2.2)\n",
      "Collecting tf-estimator-nightly<1.14.0.dev2019030116,>=1.14.0.dev2019030115\n",
      "\u001b[?25l  Downloading https://files.pythonhosted.org/packages/13/82/f16063b4eed210dc2ab057930ac1da4fbe1e91b7b051a6c8370b401e6ae7/tf_estimator_nightly-1.14.0.dev2019030115-py2.py3-none-any.whl (411kB)\n",
      "\u001b[K     |████████████████████████████████| 419kB 42.8MB/s \n",
      "\u001b[?25hRequirement already satisfied: h5py in /usr/local/lib/python3.6/dist-packages (from keras-applications>=1.0.6->tensorflow-gpu==2.0.0.alpha0) (2.8.0)\n",
      "Requirement already satisfied: setuptools in /usr/local/lib/python3.6/dist-packages (from protobuf>=3.6.1->tensorflow-gpu==2.0.0.alpha0) (45.2.0)\n",
      "Requirement already satisfied: markdown>=2.6.8 in /usr/local/lib/python3.6/dist-packages (from tb-nightly<1.14.0a20190302,>=1.14.0a20190301->tensorflow-gpu==2.0.0.alpha0) (3.2.1)\n",
      "Requirement already satisfied: werkzeug>=0.11.15 in /usr/local/lib/python3.6/dist-packages (from tb-nightly<1.14.0a20190302,>=1.14.0a20190301->tensorflow-gpu==2.0.0.alpha0) (1.0.0)\n",
      "Installing collected packages: tb-nightly, tf-estimator-nightly, tensorflow-gpu\n",
      "Successfully installed tb-nightly-1.14.0a20190301 tensorflow-gpu-2.0.0a0 tf-estimator-nightly-1.14.0.dev2019030115\n"
     ]
    }
   ],
   "source": [
    "pip install tensorflow-gpu==2.0.0.alpha0"
   ]
  },
  {
   "cell_type": "code",
   "execution_count": 2,
   "metadata": {
    "colab": {
     "base_uri": "https://localhost:8080/",
     "height": 272
    },
    "colab_type": "code",
    "id": "hB6OevB5nV0h",
    "outputId": "c036d9f4-d496-422a-a178-b187cea8ab3f"
   },
   "outputs": [
    {
     "name": "stdout",
     "output_type": "stream",
     "text": [
      "Collecting numpy<1.17\n",
      "\u001b[?25l  Downloading https://files.pythonhosted.org/packages/90/b1/ba7e59da253c58aaf874ea790ae71d6870255a5243010d94688c41618678/numpy-1.16.6-cp36-cp36m-manylinux1_x86_64.whl (17.4MB)\n",
      "\u001b[K     |████████████████████████████████| 17.4MB 194kB/s \n",
      "\u001b[31mERROR: datascience 0.10.6 has requirement folium==0.2.1, but you'll have folium 0.8.3 which is incompatible.\u001b[0m\n",
      "\u001b[31mERROR: albumentations 0.1.12 has requirement imgaug<0.2.7,>=0.2.5, but you'll have imgaug 0.2.9 which is incompatible.\u001b[0m\n",
      "\u001b[?25hInstalling collected packages: numpy\n",
      "  Found existing installation: numpy 1.17.5\n",
      "    Uninstalling numpy-1.17.5:\n",
      "      Successfully uninstalled numpy-1.17.5\n",
      "Successfully installed numpy-1.16.6\n"
     ]
    },
    {
     "data": {
      "application/vnd.colab-display-data+json": {
       "pip_warning": {
        "packages": [
         "numpy"
        ]
       }
      }
     },
     "metadata": {
      "tags": []
     },
     "output_type": "display_data"
    }
   ],
   "source": [
    "pip install \"numpy<1.17\""
   ]
  },
  {
   "cell_type": "code",
   "execution_count": 0,
   "metadata": {
    "colab": {},
    "colab_type": "code",
    "id": "-dGRQRNA01JV"
   },
   "outputs": [],
   "source": [
    "import pandas as pd\n",
    "import numpy as np\n",
    "import matplotlib.pyplot as plt\n",
    "import seaborn as sns\n",
    "import time\n",
    "\n",
    "pd.set_option('display.max_columns', 50)\n",
    "pd.set_option('display.max_rows', 300)"
   ]
  },
  {
   "cell_type": "code",
   "execution_count": 4,
   "metadata": {
    "colab": {
     "base_uri": "https://localhost:8080/",
     "height": 462
    },
    "colab_type": "code",
    "id": "JwMCJFKMxS6v",
    "outputId": "6cf9d8f9-743c-45ae-8ffb-1a229fc64af9"
   },
   "outputs": [
    {
     "name": "stderr",
     "output_type": "stream",
     "text": [
      "/usr/local/lib/python3.6/dist-packages/tensorflow/python/framework/dtypes.py:523: FutureWarning: Passing (type, 1) or '1type' as a synonym of type is deprecated; in a future version of numpy, it will be understood as (type, (1,)) / '(1,)type'.\n",
      "  _np_qint8 = np.dtype([(\"qint8\", np.int8, 1)])\n",
      "/usr/local/lib/python3.6/dist-packages/tensorflow/python/framework/dtypes.py:524: FutureWarning: Passing (type, 1) or '1type' as a synonym of type is deprecated; in a future version of numpy, it will be understood as (type, (1,)) / '(1,)type'.\n",
      "  _np_quint8 = np.dtype([(\"quint8\", np.uint8, 1)])\n",
      "/usr/local/lib/python3.6/dist-packages/tensorflow/python/framework/dtypes.py:525: FutureWarning: Passing (type, 1) or '1type' as a synonym of type is deprecated; in a future version of numpy, it will be understood as (type, (1,)) / '(1,)type'.\n",
      "  _np_qint16 = np.dtype([(\"qint16\", np.int16, 1)])\n",
      "/usr/local/lib/python3.6/dist-packages/tensorflow/python/framework/dtypes.py:526: FutureWarning: Passing (type, 1) or '1type' as a synonym of type is deprecated; in a future version of numpy, it will be understood as (type, (1,)) / '(1,)type'.\n",
      "  _np_quint16 = np.dtype([(\"quint16\", np.uint16, 1)])\n",
      "/usr/local/lib/python3.6/dist-packages/tensorflow/python/framework/dtypes.py:527: FutureWarning: Passing (type, 1) or '1type' as a synonym of type is deprecated; in a future version of numpy, it will be understood as (type, (1,)) / '(1,)type'.\n",
      "  _np_qint32 = np.dtype([(\"qint32\", np.int32, 1)])\n",
      "/usr/local/lib/python3.6/dist-packages/tensorflow/python/framework/dtypes.py:532: FutureWarning: Passing (type, 1) or '1type' as a synonym of type is deprecated; in a future version of numpy, it will be understood as (type, (1,)) / '(1,)type'.\n",
      "  np_resource = np.dtype([(\"resource\", np.ubyte, 1)])\n"
     ]
    },
    {
     "name": "stdout",
     "output_type": "stream",
     "text": [
      "2.0.0-alpha0\n"
     ]
    },
    {
     "name": "stderr",
     "output_type": "stream",
     "text": [
      "/usr/local/lib/python3.6/dist-packages/tensorboard/compat/tensorflow_stub/dtypes.py:541: FutureWarning: Passing (type, 1) or '1type' as a synonym of type is deprecated; in a future version of numpy, it will be understood as (type, (1,)) / '(1,)type'.\n",
      "  _np_qint8 = np.dtype([(\"qint8\", np.int8, 1)])\n",
      "/usr/local/lib/python3.6/dist-packages/tensorboard/compat/tensorflow_stub/dtypes.py:542: FutureWarning: Passing (type, 1) or '1type' as a synonym of type is deprecated; in a future version of numpy, it will be understood as (type, (1,)) / '(1,)type'.\n",
      "  _np_quint8 = np.dtype([(\"quint8\", np.uint8, 1)])\n",
      "/usr/local/lib/python3.6/dist-packages/tensorboard/compat/tensorflow_stub/dtypes.py:543: FutureWarning: Passing (type, 1) or '1type' as a synonym of type is deprecated; in a future version of numpy, it will be understood as (type, (1,)) / '(1,)type'.\n",
      "  _np_qint16 = np.dtype([(\"qint16\", np.int16, 1)])\n",
      "/usr/local/lib/python3.6/dist-packages/tensorboard/compat/tensorflow_stub/dtypes.py:544: FutureWarning: Passing (type, 1) or '1type' as a synonym of type is deprecated; in a future version of numpy, it will be understood as (type, (1,)) / '(1,)type'.\n",
      "  _np_quint16 = np.dtype([(\"quint16\", np.uint16, 1)])\n",
      "/usr/local/lib/python3.6/dist-packages/tensorboard/compat/tensorflow_stub/dtypes.py:545: FutureWarning: Passing (type, 1) or '1type' as a synonym of type is deprecated; in a future version of numpy, it will be understood as (type, (1,)) / '(1,)type'.\n",
      "  _np_qint32 = np.dtype([(\"qint32\", np.int32, 1)])\n",
      "/usr/local/lib/python3.6/dist-packages/tensorboard/compat/tensorflow_stub/dtypes.py:550: FutureWarning: Passing (type, 1) or '1type' as a synonym of type is deprecated; in a future version of numpy, it will be understood as (type, (1,)) / '(1,)type'.\n",
      "  np_resource = np.dtype([(\"resource\", np.ubyte, 1)])\n"
     ]
    }
   ],
   "source": [
    "# TensorFlow and tf.keras\n",
    "import tensorflow as tf\n",
    "from tensorflow import keras\n",
    "print(tf.__version__)"
   ]
  },
  {
   "cell_type": "code",
   "execution_count": 5,
   "metadata": {
    "colab": {
     "base_uri": "https://localhost:8080/",
     "height": 153
    },
    "colab_type": "code",
    "id": "VuJTJ_Inzk28",
    "outputId": "ff667ae1-c4bd-4667-e6ec-7cf7998720b8"
   },
   "outputs": [
    {
     "name": "stdout",
     "output_type": "stream",
     "text": [
      "Downloading data from https://storage.googleapis.com/tensorflow/tf-keras-datasets/train-labels-idx1-ubyte.gz\n",
      "32768/29515 [=================================] - 0s 0us/step\n",
      "Downloading data from https://storage.googleapis.com/tensorflow/tf-keras-datasets/train-images-idx3-ubyte.gz\n",
      "26427392/26421880 [==============================] - 1s 0us/step\n",
      "Downloading data from https://storage.googleapis.com/tensorflow/tf-keras-datasets/t10k-labels-idx1-ubyte.gz\n",
      "8192/5148 [===============================================] - 0s 0us/step\n",
      "Downloading data from https://storage.googleapis.com/tensorflow/tf-keras-datasets/t10k-images-idx3-ubyte.gz\n",
      "4423680/4422102 [==============================] - 0s 0us/step\n"
     ]
    }
   ],
   "source": [
    "# Load the fashion-mnist dataset from keras.datasets library\n",
    "fashion_mnist = keras.datasets.fashion_mnist\n",
    "(train_images, train_labels), (test_images, test_labels) = fashion_mnist.load_data()"
   ]
  },
  {
   "cell_type": "markdown",
   "metadata": {
    "colab_type": "text",
    "id": "jMbvuxArqqlE"
   },
   "source": [
    "### Normalizing the images"
   ]
  },
  {
   "cell_type": "markdown",
   "metadata": {
    "colab_type": "text",
    "id": "vW35ecK8qE5D"
   },
   "source": [
    "We need to divide each pixel value of the image in the training and test sets by the maximum number of pixel values (255).\n",
    "\n",
    "In this way each pixel value will be in the range [0, 1]. By normalizing images it can help make sure that models train faster and perform better."
   ]
  },
  {
   "cell_type": "code",
   "execution_count": 0,
   "metadata": {
    "colab": {},
    "colab_type": "code",
    "id": "xHLDwifWplTb"
   },
   "outputs": [],
   "source": [
    "# Normalizing the images\n",
    "train_images = train_images / 255.0\n",
    "test_images = test_images /255.0"
   ]
  },
  {
   "cell_type": "markdown",
   "metadata": {
    "colab_type": "text",
    "id": "oHiXvgK1qkSV"
   },
   "source": [
    "### Reshaping the dataset"
   ]
  },
  {
   "cell_type": "code",
   "execution_count": 7,
   "metadata": {
    "colab": {
     "base_uri": "https://localhost:8080/",
     "height": 102
    },
    "colab_type": "code",
    "id": "ouV1L1rXzzqr",
    "outputId": "e03f03fa-078e-47da-eb71-8aba1b17daa8"
   },
   "outputs": [
    {
     "name": "stdout",
     "output_type": "stream",
     "text": [
      "Before reshape:\n",
      "Shape of the training set (images): (60000, 28, 28)\n",
      "Shape of the training set (labels): (60000,)\n",
      "Shape of the test set (images): (10000, 28, 28)\n",
      "Shape of the test set (labels): (10000,)\n"
     ]
    }
   ],
   "source": [
    "print('Before reshape:')\n",
    "# training set shape info\n",
    "print('Shape of the training set (images): {}'.format(train_images.shape))\n",
    "print('Shape of the training set (labels): {}'.format(train_labels.shape))\n",
    "\n",
    "# test set shape info\n",
    "print('Shape of the test set (images): {}'.format(test_images.shape))\n",
    "print('Shape of the test set (labels): {}'.format(test_labels.shape))"
   ]
  },
  {
   "cell_type": "code",
   "execution_count": 0,
   "metadata": {
    "colab": {},
    "colab_type": "code",
    "id": "JKdQZk1sqbxu"
   },
   "outputs": [],
   "source": [
    "# Reshape the training set and the test set to be into the vector format\n",
    "# Since each image's dimension is 28x28, we reshape the full dataset to [-1 (all elements), height * width]\n",
    "train_images = train_images.reshape(-1, 28*28)\n",
    "test_images = test_images.reshape(-1, 28*28)"
   ]
  },
  {
   "cell_type": "code",
   "execution_count": 9,
   "metadata": {
    "colab": {
     "base_uri": "https://localhost:8080/",
     "height": 102
    },
    "colab_type": "code",
    "id": "fdKmzFFCq5IO",
    "outputId": "144a0ffc-65c7-4fd8-fc60-8f7ce0d8eb1b"
   },
   "outputs": [
    {
     "name": "stdout",
     "output_type": "stream",
     "text": [
      "After reshape:\n",
      "Shape of the training set (images): (60000, 784)\n",
      "Shape of the training set (labels): (60000,)\n",
      "Shape of the test set (images): (10000, 784)\n",
      "Shape of the test set (labels): (10000,)\n"
     ]
    }
   ],
   "source": [
    "print('After reshape:')\n",
    "# training set shape info\n",
    "print('Shape of the training set (images): {}'.format(train_images.shape))\n",
    "print('Shape of the training set (labels): {}'.format(train_labels.shape))\n",
    "\n",
    "# test set shape info\n",
    "print('Shape of the test set (images): {}'.format(test_images.shape))\n",
    "print('Shape of the test set (labels): {}'.format(test_labels.shape))"
   ]
  },
  {
   "cell_type": "markdown",
   "metadata": {
    "colab_type": "text",
    "id": "1gH7eBK52qVC"
   },
   "source": [
    "### Shuffling index"
   ]
  },
  {
   "cell_type": "markdown",
   "metadata": {
    "colab_type": "text",
    "id": "kdHjyZRs21XX"
   },
   "source": [
    "By shuffling the training set, it helps adjust the combination of weights in neural network running in batches."
   ]
  },
  {
   "cell_type": "code",
   "execution_count": 0,
   "metadata": {
    "colab": {},
    "colab_type": "code",
    "id": "K3nzVuEI2p05"
   },
   "outputs": [],
   "source": [
    "shuffle_index = np.random.permutation(60000) \n",
    "train_images, train_labels = train_images[shuffle_index], train_labels[shuffle_index]"
   ]
  },
  {
   "cell_type": "markdown",
   "metadata": {
    "colab_type": "text",
    "id": "bHeq50DH01Ji"
   },
   "source": [
    "# Explore the datasets\n"
   ]
  },
  {
   "cell_type": "code",
   "execution_count": 0,
   "metadata": {
    "colab": {},
    "colab_type": "code",
    "id": "LEbGyhDt5nqi"
   },
   "outputs": [],
   "source": [
    "label = ['T-shirt/top', 'Trouser', 'Pullover', 'Dress', \n",
    "         'Coat', 'Sandal', 'Shirt', 'Sneaker', 'Bag', 'Ankle boo']\n",
    "label_encode = [0,1,2,3,4,5,6,7,8,9]"
   ]
  },
  {
   "cell_type": "markdown",
   "metadata": {
    "colab_type": "text",
    "id": "FhsJxbwd18X3"
   },
   "source": [
    "What the outcomes look like?"
   ]
  },
  {
   "cell_type": "markdown",
   "metadata": {
    "colab_type": "text",
    "id": "Sxbm929Brqbx"
   },
   "source": [
    "##### Sinle item"
   ]
  },
  {
   "cell_type": "code",
   "execution_count": 12,
   "metadata": {
    "colab": {
     "base_uri": "https://localhost:8080/",
     "height": 248
    },
    "colab_type": "code",
    "id": "ob-NUs8k1cVz",
    "outputId": "7616f69e-8842-49a9-f800-12c3921cca82"
   },
   "outputs": [
    {
     "data": {
      "image/png": "[encoded data removed]",
      "text/plain": [
       "<Figure size 432x288 with 1 Axes>"
      ]
     },
     "metadata": {
      "tags": []
     },
     "output_type": "display_data"
    }
   ],
   "source": [
    "# Sinle item\n",
    "cloth = train_images[48765] # select a random number between [0,60000)\n",
    "# Each image id 28 pixel * 28 pixel; \n",
    "# thus, the record needs to be reshape to 28*28 to help visualization\n",
    "cloth_image = cloth.reshape(28,28)\n",
    "plt.imshow(cloth_image, cmap = plt.cm.binary, interpolation=\"nearest\")\n",
    "plt.axis(\"off\") # trun off the axises\n",
    "plt.show()"
   ]
  },
  {
   "cell_type": "markdown",
   "metadata": {
    "colab_type": "text",
    "id": "VAbdHACmrvdE"
   },
   "source": [
    "##### Each of the item"
   ]
  },
  {
   "cell_type": "code",
   "execution_count": 13,
   "metadata": {
    "colab": {
     "base_uri": "https://localhost:8080/",
     "height": 274
    },
    "colab_type": "code",
    "id": "OWgHPoZK1cYq",
    "outputId": "9681c22e-1c13-4050-bdd8-287cee67ee7c"
   },
   "outputs": [
    {
     "data": {
      "image/png": "[encoded data removed]",
      "text/plain": [
       "<Figure size 576x288 with 10 Axes>"
      ]
     },
     "metadata": {
      "tags": []
     },
     "output_type": "display_data"
    }
   ],
   "source": [
    "# Each of the item\n",
    "fig, ax = plt.subplots(nrows=2, ncols=5, sharex=True, sharey=True,\n",
    "                       figsize=(8,4) )\n",
    "ax = ax.flatten()\n",
    "for i in range(10):\n",
    "    img = train_images[train_labels == i][0].reshape(28,28)\n",
    "    ax[i].imshow(img, cmap='Greys', interpolation='nearest')\n",
    "    ax[i].set_title('{}) {}: {}'.format(i+1, label_encode[i], label[i]))\n",
    "\n",
    "ax[0].set_xticks([])\n",
    "ax[0].set_yticks([])\n",
    "plt.tight_layout()\n",
    "plt.savefig('cloth_mnist_all.png', dpi=300)\n",
    "plt.show()"
   ]
  },
  {
   "cell_type": "markdown",
   "metadata": {
    "colab_type": "text",
    "id": "YjihsQ1Hr1C7"
   },
   "source": [
    "##### Variation of an item"
   ]
  },
  {
   "cell_type": "code",
   "execution_count": 14,
   "metadata": {
    "colab": {
     "base_uri": "https://localhost:8080/",
     "height": 567
    },
    "colab_type": "code",
    "id": "iHo8jzf81cbP",
    "outputId": "467203e4-e797-4665-c028-f67ad8eeaf5e"
   },
   "outputs": [
    {
     "data": {
      "image/png": "[encoded data removed]",
      "text/plain": [
       "<Figure size 576x576 with 25 Axes>"
      ]
     },
     "metadata": {
      "tags": []
     },
     "output_type": "display_data"
    }
   ],
   "source": [
    "# Variation of an item (Coat)\n",
    "fig, ax = plt.subplots(nrows=5, ncols=5, sharex=True, sharey=True,\n",
    "                       figsize=(8,8))\n",
    "ax = ax.flatten()\n",
    "for i in range(25):\n",
    "    img = train_images[train_labels == 4][i].reshape(28, 28)\n",
    "    ax[i].imshow(img, cmap='Greys', interpolation='nearest')\n",
    "    ax[i].set_title('Style {}'.format(i+1))\n",
    "\n",
    "ax[0].set_xticks([])\n",
    "ax[0].set_yticks([])\n",
    "plt.suptitle('Coat', fontsize=15)\n",
    "plt.tight_layout(rect=[0, 0.03, 1, 0.95])\n",
    "plt.savefig('cloth_mnist_coat.png', dpi=300)\n",
    "plt.show()"
   ]
  },
  {
   "cell_type": "code",
   "execution_count": 15,
   "metadata": {
    "colab": {
     "base_uri": "https://localhost:8080/",
     "height": 248
    },
    "colab_type": "code",
    "id": "kuXhvqrhIX_y",
    "outputId": "41781cbf-dc4a-4661-9dbd-d2caef5d821f"
   },
   "outputs": [
    {
     "data": {
      "image/png": "[encoded data removed]",
      "text/plain": [
       "<Figure size 432x288 with 1 Axes>"
      ]
     },
     "metadata": {
      "tags": []
     },
     "output_type": "display_data"
    }
   ],
   "source": [
    "# portion of 3d plot\n",
    "from mpl_toolkits.mplot3d import Axes3D\n",
    "fig = plt.figure()\n",
    "ax = fig.add_subplot(111, projection='3d')\n",
    "\n",
    "ax.scatter(train_images[:,99], train_images[:,199], train_images[:,299])\n",
    "\n",
    "ax.set_xlabel('Pixel 100')\n",
    "ax.set_ylabel('Pixel 200')\n",
    "ax.set_zlabel('Pixel 300')\n",
    "\n",
    "plt.show()"
   ]
  },
  {
   "cell_type": "markdown",
   "metadata": {
    "colab_type": "text",
    "id": "jQaEHNTS01K1"
   },
   "source": [
    "# Statistical Analysis"
   ]
  },
  {
   "cell_type": "markdown",
   "metadata": {
    "colab_type": "text",
    "id": "JaNeRKnx01K2"
   },
   "source": [
    "## Outcome Distribution"
   ]
  },
  {
   "cell_type": "markdown",
   "metadata": {
    "colab_type": "text",
    "id": "NyJvr8Ggz87A"
   },
   "source": [
    "### Create lables_df (entire dataset)"
   ]
  },
  {
   "cell_type": "code",
   "execution_count": 0,
   "metadata": {
    "colab": {},
    "colab_type": "code",
    "id": "Crxkb6MVwtQ4"
   },
   "outputs": [],
   "source": [
    "labels_dic = {0:'T-shirt/top', 1:'Trouser', 2:'Pullover', 3:'Dress', 4:'Coat', 5:'Sandal', \n",
    "              6:'Shirt', 7:'Sneaker', 8:'Bag', 9:'Ankle boo'}"
   ]
  },
  {
   "cell_type": "code",
   "execution_count": 0,
   "metadata": {
    "colab": {},
    "colab_type": "code",
    "id": "K4ZbSzBVrejo"
   },
   "outputs": [],
   "source": [
    "labels_df = pd.DataFrame(pd.concat([pd.Series(train_labels),pd.Series(test_labels)]) , columns=['outcome'])\n",
    "labels_df['label'] = labels_df['outcome'].map(labels_dic)"
   ]
  },
  {
   "cell_type": "code",
   "execution_count": 18,
   "metadata": {
    "colab": {
     "base_uri": "https://localhost:8080/",
     "height": 204
    },
    "colab_type": "code",
    "id": "vyShSWN_sxdi",
    "outputId": "710faf23-e09f-47e1-cceb-3f3601a523b2"
   },
   "outputs": [
    {
     "data": {
      "text/html": [
       "<div>\n",
       "<style scoped>\n",
       "    .dataframe tbody tr th:only-of-type {\n",
       "        vertical-align: middle;\n",
       "    }\n",
       "\n",
       "    .dataframe tbody tr th {\n",
       "        vertical-align: top;\n",
       "    }\n",
       "\n",
       "    .dataframe thead th {\n",
       "        text-align: right;\n",
       "    }\n",
       "</style>\n",
       "<table border=\"1\" class=\"dataframe\">\n",
       "  <thead>\n",
       "    <tr style=\"text-align: right;\">\n",
       "      <th></th>\n",
       "      <th>outcome</th>\n",
       "      <th>label</th>\n",
       "    </tr>\n",
       "  </thead>\n",
       "  <tbody>\n",
       "    <tr>\n",
       "      <th>0</th>\n",
       "      <td>5</td>\n",
       "      <td>Sandal</td>\n",
       "    </tr>\n",
       "    <tr>\n",
       "      <th>1</th>\n",
       "      <td>4</td>\n",
       "      <td>Coat</td>\n",
       "    </tr>\n",
       "    <tr>\n",
       "      <th>2</th>\n",
       "      <td>6</td>\n",
       "      <td>Shirt</td>\n",
       "    </tr>\n",
       "    <tr>\n",
       "      <th>3</th>\n",
       "      <td>7</td>\n",
       "      <td>Sneaker</td>\n",
       "    </tr>\n",
       "    <tr>\n",
       "      <th>4</th>\n",
       "      <td>4</td>\n",
       "      <td>Coat</td>\n",
       "    </tr>\n",
       "  </tbody>\n",
       "</table>\n",
       "</div>"
      ],
      "text/plain": [
       "   outcome    label\n",
       "0        5   Sandal\n",
       "1        4     Coat\n",
       "2        6    Shirt\n",
       "3        7  Sneaker\n",
       "4        4     Coat"
      ]
     },
     "execution_count": 18,
     "metadata": {
      "tags": []
     },
     "output_type": "execute_result"
    }
   ],
   "source": [
    "labels_df.head()"
   ]
  },
  {
   "cell_type": "markdown",
   "metadata": {
    "colab_type": "text",
    "id": "VO1TEuVJ0e7l"
   },
   "source": [
    "### Create label_df_train"
   ]
  },
  {
   "cell_type": "code",
   "execution_count": 0,
   "metadata": {
    "colab": {},
    "colab_type": "code",
    "id": "I03pdiiS0Z3P"
   },
   "outputs": [],
   "source": [
    "labels_df_train = pd.DataFrame(train_labels , columns=['outcome'])\n",
    "labels_df_train['label'] = labels_df_train['outcome'].map(labels_dic)"
   ]
  },
  {
   "cell_type": "markdown",
   "metadata": {
    "colab_type": "text",
    "id": "8Ayinrli0m5V"
   },
   "source": [
    "### Create label_df_test"
   ]
  },
  {
   "cell_type": "code",
   "execution_count": 0,
   "metadata": {
    "colab": {},
    "colab_type": "code",
    "id": "86oe0O8p0eQY"
   },
   "outputs": [],
   "source": [
    "labels_df_test = pd.DataFrame(test_labels , columns=['outcome'])\n",
    "labels_df_test['label'] = labels_df_test['outcome'].map(labels_dic)"
   ]
  },
  {
   "cell_type": "markdown",
   "metadata": {
    "colab_type": "text",
    "id": "NKVaY6Of0CsT"
   },
   "source": [
    "### Create plots"
   ]
  },
  {
   "cell_type": "code",
   "execution_count": 21,
   "metadata": {
    "colab": {
     "base_uri": "https://localhost:8080/",
     "height": 513
    },
    "colab_type": "code",
    "id": "zg81JfjGrM9B",
    "outputId": "37ae2631-4293-407d-beb0-3106543fac03"
   },
   "outputs": [
    {
     "data": {
      "image/png": "[encoded data removed]",
      "text/plain": [
       "<Figure size 720x576 with 1 Axes>"
      ]
     },
     "metadata": {
      "tags": []
     },
     "output_type": "display_data"
    }
   ],
   "source": [
    "# Control plt figure size\n",
    "plt.figure(figsize=(10,8))\n",
    "\n",
    "# Plot the countplot\n",
    "ax=sns.countplot(x='outcome', hue='outcome',data=labels_df, dodge=False,\n",
    "                 hue_order=[0,1,2,3,4,5,6,7,8,9] ,\n",
    "                 order=[0,1,2,3,4,5,6,7,8,9]\n",
    "                 )\n",
    "\n",
    "# set title of the plot, x-axis label, xticklabels, and legend\n",
    "ax.set_title('Fashion-MINST (Entire dataset) Outcome Distribution');\n",
    "ax.legend(loc='lower right')\n",
    "ax.set_xticklabels(['T-shirt/top', 'Trouser', 'Pullover', 'Dress', \n",
    "          'Coat', 'Sandal', 'Shirt', 'Sneaker', 'Bag', 'Ankle boo'])\n",
    "ax.set_xlabel('labels')\n",
    "\n",
    "# annotate the count/percentage of each column\n",
    "total = (labels_df).shape[0]\n",
    "for p in ax.patches:\n",
    "    percentage = '{:.2f}%'.format(100 * p.get_height()/total)\n",
    "    coutns = '{:.0f}'.format(p.get_height())\n",
    "    x = p.get_x() + p.get_width()/2\n",
    "    y = p.get_y() + p.get_height()\n",
    "    ax.annotate(percentage, (x, y/2), ha='center', va='center_baseline',style='italic')\n",
    "    ax.annotate(coutns, (x, y+100), ha='center', va='baseline')"
   ]
  },
  {
   "cell_type": "code",
   "execution_count": 22,
   "metadata": {
    "colab": {
     "base_uri": "https://localhost:8080/",
     "height": 513
    },
    "colab_type": "code",
    "id": "20WqWhjc064A",
    "outputId": "1b630620-c98b-43f1-9667-153bd89e6578"
   },
   "outputs": [
    {
     "data": {
      "image/png": "[encoded data removed]",
      "text/plain": [
       "<Figure size 720x576 with 1 Axes>"
      ]
     },
     "metadata": {
      "tags": []
     },
     "output_type": "display_data"
    }
   ],
   "source": [
    "# Control plt figure size\n",
    "plt.figure(figsize=(10,8))\n",
    "\n",
    "# Plot the countplot\n",
    "ax=sns.countplot(x='outcome', hue='outcome',data=labels_df_train, dodge=False,\n",
    "                 hue_order=[0,1,2,3,4,5,6,7,8,9] ,\n",
    "                 order=[0,1,2,3,4,5,6,7,8,9]\n",
    "                 )\n",
    "\n",
    "# set title of the plot, x-axis label, xticklabels, and legend\n",
    "ax.set_title('Fashion-MINST (Training Set) Outcome Distribution');\n",
    "ax.legend(loc='lower right')\n",
    "ax.set_xticklabels(['T-shirt/top', 'Trouser', 'Pullover', 'Dress', \n",
    "          'Coat', 'Sandal', 'Shirt', 'Sneaker', 'Bag', 'Ankle boo'])\n",
    "ax.set_xlabel('labels')\n",
    "\n",
    "# annotate the count/percentage of each column\n",
    "total = (labels_df_train).shape[0]\n",
    "for p in ax.patches:\n",
    "    percentage = '{:.2f}%'.format(100 * p.get_height()/total)\n",
    "    coutns = '{:.0f}'.format(p.get_height())\n",
    "    x = p.get_x() + p.get_width()/2\n",
    "    y = p.get_y() + p.get_height()\n",
    "    ax.annotate(percentage, (x, y/2), ha='center', va='center_baseline',style='italic')\n",
    "    ax.annotate(coutns, (x, y+100), ha='center', va='baseline')"
   ]
  },
  {
   "cell_type": "code",
   "execution_count": 23,
   "metadata": {
    "colab": {
     "base_uri": "https://localhost:8080/",
     "height": 513
    },
    "colab_type": "code",
    "id": "C7zpu7Cn06_a",
    "outputId": "89cd3cd7-a92d-4d7d-b353-1f912305d827"
   },
   "outputs": [
    {
     "data": {
      "image/png": "[encoded data removed]",
      "text/plain": [
       "<Figure size 720x576 with 1 Axes>"
      ]
     },
     "metadata": {
      "tags": []
     },
     "output_type": "display_data"
    }
   ],
   "source": [
    "# Control plt figure size\n",
    "plt.figure(figsize=(10,8))\n",
    "\n",
    "# Plot the countplot\n",
    "ax=sns.countplot(x='outcome', hue='outcome',data=labels_df_test, dodge=False,\n",
    "                 hue_order=[0,1,2,3,4,5,6,7,8,9] ,\n",
    "                 order=[0,1,2,3,4,5,6,7,8,9]\n",
    "                 )\n",
    "\n",
    "# set title of the plot, x-axis label, xticklabels, and legend\n",
    "ax.set_title('Fashion-MINST (Test Set) Outcome Distribution');\n",
    "ax.legend(loc='lower right')\n",
    "ax.set_xticklabels(['T-shirt/top', 'Trouser', 'Pullover', 'Dress', \n",
    "          'Coat', 'Sandal', 'Shirt', 'Sneaker', 'Bag', 'Ankle boo'])\n",
    "ax.set_xlabel('labels')\n",
    "\n",
    "# annotate the count/percentage of each column\n",
    "total = (labels_df_test).shape[0]\n",
    "for p in ax.patches:\n",
    "    percentage = '{:.2f}%'.format(100 * p.get_height()/total)\n",
    "    coutns = '{:.0f}'.format(p.get_height())\n",
    "    x = p.get_x() + p.get_width()/2\n",
    "    y = p.get_y() + p.get_height()\n",
    "    ax.annotate(percentage, (x, y/2), ha='center', va='center_baseline',style='italic')\n",
    "    ax.annotate(coutns, (x, y+10), ha='center', va='baseline')"
   ]
  },
  {
   "cell_type": "markdown",
   "metadata": {
    "colab_type": "text",
    "id": "05SfynOt0H7i"
   },
   "source": [
    "Each category is evenly distributed within the training set and test set."
   ]
  },
  {
   "cell_type": "markdown",
   "metadata": {
    "colab_type": "text",
    "id": "t2LdliQQ01K-"
   },
   "source": [
    "# Models"
   ]
  },
  {
   "cell_type": "markdown",
   "metadata": {
    "colab_type": "text",
    "id": "75daWCIEEPbL"
   },
   "source": [
    "## Linear classification"
   ]
  },
  {
   "cell_type": "code",
   "execution_count": 0,
   "metadata": {
    "colab": {},
    "colab_type": "code",
    "id": "vE8GCt1KEO8k"
   },
   "outputs": [],
   "source": [
    "from sklearn import linear_model\n",
    "lclf = linear_model.SGDClassifier(max_iter=1000)"
   ]
  },
  {
   "cell_type": "code",
   "execution_count": 25,
   "metadata": {
    "colab": {
     "base_uri": "https://localhost:8080/",
     "height": 68
    },
    "colab_type": "code",
    "id": "-inDzDBaEbkA",
    "outputId": "fed19274-a028-43f8-9f59-b99beb74b85a"
   },
   "outputs": [
    {
     "name": "stdout",
     "output_type": "stream",
     "text": [
      "\n",
      "\n",
      "Training time:31.080594778060913\n"
     ]
    }
   ],
   "source": [
    "start = time.time()\n",
    "\n",
    "lclf_fit = lclf.fit(train_images, train_labels)\n",
    "\n",
    "end = time.time()\n",
    "final_time = end-start\n",
    "print('\\n')\n",
    "print('Training time:{}'.format(final_time))"
   ]
  },
  {
   "cell_type": "code",
   "execution_count": 26,
   "metadata": {
    "colab": {
     "base_uri": "https://localhost:8080/",
     "height": 68
    },
    "colab_type": "code",
    "id": "FgtNQCIrEkh8",
    "outputId": "88f5493b-3ad8-48ba-d9a5-0636e846ca6b"
   },
   "outputs": [
    {
     "name": "stdout",
     "output_type": "stream",
     "text": [
      "\n",
      "\n",
      "Testing time:0.035745859146118164\n"
     ]
    }
   ],
   "source": [
    "start = time.time()\n",
    "\n",
    "lclf_pred = lclf.predict(test_images)\n",
    "\n",
    "end = time.time()\n",
    "final_time = end-start\n",
    "print('\\n')\n",
    "print('Testing time:{}'.format(final_time))"
   ]
  },
  {
   "cell_type": "code",
   "execution_count": 27,
   "metadata": {
    "colab": {
     "base_uri": "https://localhost:8080/",
     "height": 187
    },
    "colab_type": "code",
    "id": "r-2rwXlpE0Bg",
    "outputId": "3785f45b-0fff-4846-ff7b-4adef515ae19"
   },
   "outputs": [
    {
     "name": "stdout",
     "output_type": "stream",
     "text": [
      "[[770   5  22  19   1   4 168   0  11   0]\n",
      " [  4 962   8  17   1   0   5   1   2   0]\n",
      " [ 14   3 771   4  56   0 144   1   7   0]\n",
      " [ 41  32  27 749   9   0 134   0   8   0]\n",
      " [  1   5 179  20 482   0 303   0  10   0]\n",
      " [  3   0   2   0   0 919   0  43  11  22]\n",
      " [111   2 136  17  37   0 676   0  21   0]\n",
      " [  1   0   0   0   0  38   0 913   2  46]\n",
      " [  5   1   7   6   1   7  31   3 938   1]\n",
      " [  1   1   0   2   0  33   4  35   1 923]]\n"
     ]
    }
   ],
   "source": [
    "# Confusion Matrix\n",
    "from sklearn.metrics import confusion_matrix\n",
    "confusion_matrix = confusion_matrix(test_labels, lclf_pred)\n",
    "print(confusion_matrix)"
   ]
  },
  {
   "cell_type": "code",
   "execution_count": 28,
   "metadata": {
    "colab": {
     "base_uri": "https://localhost:8080/",
     "height": 306
    },
    "colab_type": "code",
    "id": "qvKwSbjPE0hJ",
    "outputId": "a06d4dcf-7d40-4f38-94c3-9801425efbab"
   },
   "outputs": [
    {
     "name": "stdout",
     "output_type": "stream",
     "text": [
      "              precision    recall  f1-score   support\n",
      "\n",
      "           0     0.8097    0.7700    0.7893      1000\n",
      "           1     0.9515    0.9620    0.9567      1000\n",
      "           2     0.6693    0.7710    0.7165      1000\n",
      "           3     0.8981    0.7490    0.8168      1000\n",
      "           4     0.8211    0.4820    0.6074      1000\n",
      "           5     0.9181    0.9190    0.9185      1000\n",
      "           6     0.4614    0.6760    0.5485      1000\n",
      "           7     0.9167    0.9130    0.9148      1000\n",
      "           8     0.9278    0.9380    0.9329      1000\n",
      "           9     0.9304    0.9230    0.9267      1000\n",
      "\n",
      "    accuracy                         0.8103     10000\n",
      "   macro avg     0.8304    0.8103    0.8128     10000\n",
      "weighted avg     0.8304    0.8103    0.8128     10000\n",
      "\n"
     ]
    }
   ],
   "source": [
    "# Classification Report\n",
    "from sklearn.metrics import classification_report\n",
    "print(classification_report(test_labels, lclf_pred, digits=4))"
   ]
  },
  {
   "cell_type": "code",
   "execution_count": 29,
   "metadata": {
    "colab": {
     "base_uri": "https://localhost:8080/",
     "height": 34
    },
    "colab_type": "code",
    "id": "eWqD20poI6vd",
    "outputId": "4d23f597-7662-4eb7-e782-02e8c115bcb8"
   },
   "outputs": [
    {
     "data": {
      "text/plain": [
       "0.8103"
      ]
     },
     "execution_count": 29,
     "metadata": {
      "tags": []
     },
     "output_type": "execute_result"
    }
   ],
   "source": [
    "from sklearn.metrics import accuracy_score\n",
    "accuracy_score(test_labels, lclf_pred)"
   ]
  },
  {
   "cell_type": "markdown",
   "metadata": {
    "colab_type": "text",
    "id": "upjt_o_EkfFZ"
   },
   "source": [
    "## Logistics regression"
   ]
  },
  {
   "cell_type": "code",
   "execution_count": 0,
   "metadata": {
    "colab": {},
    "colab_type": "code",
    "id": "4bImNt2F_ZVr"
   },
   "outputs": [],
   "source": [
    "from sklearn.linear_model import LogisticRegression\n",
    "logreg = LogisticRegression(solver='lbfgs', max_iter=10000)"
   ]
  },
  {
   "cell_type": "code",
   "execution_count": 31,
   "metadata": {
    "colab": {
     "base_uri": "https://localhost:8080/",
     "height": 68
    },
    "colab_type": "code",
    "id": "hHnxALVa_sYC",
    "outputId": "84444a82-c94c-4976-a8dc-5e199905e2fe"
   },
   "outputs": [
    {
     "name": "stdout",
     "output_type": "stream",
     "text": [
      "\n",
      "\n",
      "Training time:751.8370032310486\n"
     ]
    }
   ],
   "source": [
    "start = time.time()\n",
    "\n",
    "logreg_fit = logreg.fit(train_images, train_labels)\n",
    "\n",
    "end = time.time()\n",
    "final_time = end-start\n",
    "print('\\n')\n",
    "print('Training time:{}'.format(final_time))"
   ]
  },
  {
   "cell_type": "code",
   "execution_count": 32,
   "metadata": {
    "colab": {
     "base_uri": "https://localhost:8080/",
     "height": 68
    },
    "colab_type": "code",
    "id": "6rOm40VElkoc",
    "outputId": "846aa6f5-3685-48b1-c482-ad939546a6f3"
   },
   "outputs": [
    {
     "name": "stdout",
     "output_type": "stream",
     "text": [
      "\n",
      "\n",
      "Testing time:0.030037879943847656\n"
     ]
    }
   ],
   "source": [
    "start = time.time()\n",
    "\n",
    "logreg_pred = logreg.predict(test_images)\n",
    "\n",
    "end = time.time()\n",
    "final_time = end-start\n",
    "print('\\n')\n",
    "print('Testing time:{}'.format(final_time))"
   ]
  },
  {
   "cell_type": "code",
   "execution_count": 33,
   "metadata": {
    "colab": {
     "base_uri": "https://localhost:8080/",
     "height": 187
    },
    "colab_type": "code",
    "id": "zDp_XPu4BNSU",
    "outputId": "b0c6d722-8a46-429b-c789-94702f699ff7"
   },
   "outputs": [
    {
     "name": "stdout",
     "output_type": "stream",
     "text": [
      "[[806   2  11  53   4   2 111   0  11   0]\n",
      " [  4 958   3  25   4   0   3   1   2   0]\n",
      " [ 24   4 739  10 124   0  86   1  12   0]\n",
      " [ 24  17  18 861  30   0  39   0  11   0]\n",
      " [  0   2 115  36 763   0  77   0   7   0]\n",
      " [  0   0   0   1   0 922   0  48   7  22]\n",
      " [143   2 123  38 100   0 571   0  23   0]\n",
      " [  0   0   0   0   0  35   0 939   0  26]\n",
      " [  7   1   7  14   5   6  21   5 934   0]\n",
      " [  0   1   0   0   0  12   1  38   0 948]]\n"
     ]
    }
   ],
   "source": [
    "# Confusion Matrix\n",
    "from sklearn.metrics import confusion_matrix\n",
    "confusion_matrix = confusion_matrix(test_labels, logreg_pred)\n",
    "print(confusion_matrix)"
   ]
  },
  {
   "cell_type": "code",
   "execution_count": 34,
   "metadata": {
    "colab": {
     "base_uri": "https://localhost:8080/",
     "height": 306
    },
    "colab_type": "code",
    "id": "Gq-NP-RMBQRL",
    "outputId": "c599724b-d93e-496d-949a-a8993dfa79ec"
   },
   "outputs": [
    {
     "name": "stdout",
     "output_type": "stream",
     "text": [
      "              precision    recall  f1-score   support\n",
      "\n",
      "           0     0.7996    0.8060    0.8028      1000\n",
      "           1     0.9706    0.9580    0.9643      1000\n",
      "           2     0.7274    0.7390    0.7331      1000\n",
      "           3     0.8295    0.8610    0.8449      1000\n",
      "           4     0.7408    0.7630    0.7517      1000\n",
      "           5     0.9437    0.9220    0.9327      1000\n",
      "           6     0.6282    0.5710    0.5982      1000\n",
      "           7     0.9099    0.9390    0.9242      1000\n",
      "           8     0.9275    0.9340    0.9307      1000\n",
      "           9     0.9518    0.9480    0.9499      1000\n",
      "\n",
      "    accuracy                         0.8441     10000\n",
      "   macro avg     0.8429    0.8441    0.8433     10000\n",
      "weighted avg     0.8429    0.8441    0.8433     10000\n",
      "\n"
     ]
    }
   ],
   "source": [
    "# Classification Report\n",
    "from sklearn.metrics import classification_report\n",
    "print(classification_report(test_labels, logreg_pred, digits=4))"
   ]
  },
  {
   "cell_type": "code",
   "execution_count": 35,
   "metadata": {
    "colab": {
     "base_uri": "https://localhost:8080/",
     "height": 34
    },
    "colab_type": "code",
    "id": "80Yp_MOwI0iL",
    "outputId": "97944c9a-7501-4c1a-e64b-f9c748b215f2"
   },
   "outputs": [
    {
     "data": {
      "text/plain": [
       "0.8441"
      ]
     },
     "execution_count": 35,
     "metadata": {
      "tags": []
     },
     "output_type": "execute_result"
    }
   ],
   "source": [
    "from sklearn.metrics import accuracy_score\n",
    "accuracy_score(test_labels, logreg_pred)"
   ]
  },
  {
   "cell_type": "markdown",
   "metadata": {
    "colab_type": "text",
    "id": "RLsSTKSzE7eE"
   },
   "source": [
    "## Support vector"
   ]
  },
  {
   "cell_type": "code",
   "execution_count": 0,
   "metadata": {
    "colab": {},
    "colab_type": "code",
    "id": "Fi_Md6BNE6S1"
   },
   "outputs": [],
   "source": [
    "from sklearn.svm import SVC\n",
    "svc= SVC()"
   ]
  },
  {
   "cell_type": "code",
   "execution_count": 37,
   "metadata": {
    "colab": {
     "base_uri": "https://localhost:8080/",
     "height": 68
    },
    "colab_type": "code",
    "id": "hA9Cv45tE66Z",
    "outputId": "62b86c48-8e89-4bd9-acbb-090b072a0fd9"
   },
   "outputs": [
    {
     "name": "stdout",
     "output_type": "stream",
     "text": [
      "\n",
      "\n",
      "Training time:579.6898975372314\n"
     ]
    }
   ],
   "source": [
    "start = time.time()\n",
    "\n",
    "svc_fit = svc.fit(train_images, train_labels)\n",
    "\n",
    "end = time.time()\n",
    "final_time = end-start\n",
    "print('\\n')\n",
    "print('Training time:{}'.format(final_time))"
   ]
  },
  {
   "cell_type": "code",
   "execution_count": 38,
   "metadata": {
    "colab": {
     "base_uri": "https://localhost:8080/",
     "height": 68
    },
    "colab_type": "code",
    "id": "HA44BnFCIWQh",
    "outputId": "c6a0b09b-609f-4b70-b4e7-9ba01bf82165"
   },
   "outputs": [
    {
     "name": "stdout",
     "output_type": "stream",
     "text": [
      "\n",
      "\n",
      "Testing time:207.91561722755432\n"
     ]
    }
   ],
   "source": [
    "start = time.time()\n",
    "\n",
    "svc_pred = svc.predict(test_images)\n",
    "\n",
    "end = time.time()\n",
    "final_time = end-start\n",
    "print('\\n')\n",
    "print('Testing time:{}'.format(final_time))"
   ]
  },
  {
   "cell_type": "code",
   "execution_count": 39,
   "metadata": {
    "colab": {
     "base_uri": "https://localhost:8080/",
     "height": 187
    },
    "colab_type": "code",
    "id": "aHoU_LIfE6-G",
    "outputId": "b197ba42-7e4d-4aef-e044-41b02f8688bc"
   },
   "outputs": [
    {
     "name": "stdout",
     "output_type": "stream",
     "text": [
      "[[857   0  16  28   3   2  85   0   9   0]\n",
      " [  4 962   2  25   3   0   4   0   0   0]\n",
      " [ 11   2 816  16  88   0  65   0   2   0]\n",
      " [ 27   3  11 890  33   0  32   0   4   0]\n",
      " [  1   1  87  32 815   0  61   0   3   0]\n",
      " [  0   0   0   1   0 951   0  33   1  14]\n",
      " [135   1 103  27  68   0 655   0  11   0]\n",
      " [  0   0   0   0   0  21   0 955   0  24]\n",
      " [  3   1   1   5   2   2   4   5 977   0]\n",
      " [  0   0   0   0   0  11   1  37   0 951]]\n"
     ]
    }
   ],
   "source": [
    "# Confusion Matrix\n",
    "from sklearn.metrics import confusion_matrix\n",
    "confusion_matrix = confusion_matrix(test_labels, svc_pred)\n",
    "print(confusion_matrix)"
   ]
  },
  {
   "cell_type": "code",
   "execution_count": 40,
   "metadata": {
    "colab": {
     "base_uri": "https://localhost:8080/",
     "height": 306
    },
    "colab_type": "code",
    "id": "J1uqh1IxE7BS",
    "outputId": "d35bd600-c4da-4cef-d325-6a934f4e888e"
   },
   "outputs": [
    {
     "name": "stdout",
     "output_type": "stream",
     "text": [
      "              precision    recall  f1-score   support\n",
      "\n",
      "           0     0.8256    0.8570    0.8410      1000\n",
      "           1     0.9918    0.9620    0.9766      1000\n",
      "           2     0.7876    0.8160    0.8016      1000\n",
      "           3     0.8691    0.8900    0.8794      1000\n",
      "           4     0.8053    0.8150    0.8101      1000\n",
      "           5     0.9635    0.9510    0.9572      1000\n",
      "           6     0.7222    0.6550    0.6869      1000\n",
      "           7     0.9272    0.9550    0.9409      1000\n",
      "           8     0.9702    0.9770    0.9736      1000\n",
      "           9     0.9616    0.9510    0.9563      1000\n",
      "\n",
      "    accuracy                         0.8829     10000\n",
      "   macro avg     0.8824    0.8829    0.8824     10000\n",
      "weighted avg     0.8824    0.8829    0.8824     10000\n",
      "\n"
     ]
    }
   ],
   "source": [
    "# Classification Report\n",
    "from sklearn.metrics import classification_report\n",
    "print(classification_report(test_labels, svc_pred, digits=4))"
   ]
  },
  {
   "cell_type": "code",
   "execution_count": 41,
   "metadata": {
    "colab": {
     "base_uri": "https://localhost:8080/",
     "height": 34
    },
    "colab_type": "code",
    "id": "NPUVvSScIq8L",
    "outputId": "93ec5b49-1264-4770-fa8a-cff7424e573c"
   },
   "outputs": [
    {
     "data": {
      "text/plain": [
       "0.8829"
      ]
     },
     "execution_count": 41,
     "metadata": {
      "tags": []
     },
     "output_type": "execute_result"
    }
   ],
   "source": [
    "from sklearn.metrics import accuracy_score\n",
    "accuracy_score(test_labels, svc_pred)"
   ]
  },
  {
   "cell_type": "markdown",
   "metadata": {
    "colab_type": "text",
    "id": "EbhWhmPQkfJP"
   },
   "source": [
    "## Naïve bayes\n"
   ]
  },
  {
   "cell_type": "code",
   "execution_count": 0,
   "metadata": {
    "colab": {},
    "colab_type": "code",
    "id": "fHUuNxOSCYAW"
   },
   "outputs": [],
   "source": [
    "from sklearn.naive_bayes import GaussianNB\n",
    "gnb = GaussianNB()"
   ]
  },
  {
   "cell_type": "code",
   "execution_count": 43,
   "metadata": {
    "colab": {
     "base_uri": "https://localhost:8080/",
     "height": 68
    },
    "colab_type": "code",
    "id": "dBm7MPn7lkK7",
    "outputId": "c41034b7-8598-487e-9080-542db00d7ef3"
   },
   "outputs": [
    {
     "name": "stdout",
     "output_type": "stream",
     "text": [
      "\n",
      "\n",
      "Training time:0.6993002891540527\n"
     ]
    }
   ],
   "source": [
    "start = time.time()\n",
    "\n",
    "gnb_fit = gnb.fit(train_images, train_labels)\n",
    "\n",
    "end = time.time()\n",
    "final_time = end-start\n",
    "print('\\n')\n",
    "print('Training time:{}'.format(final_time))"
   ]
  },
  {
   "cell_type": "code",
   "execution_count": 44,
   "metadata": {
    "colab": {
     "base_uri": "https://localhost:8080/",
     "height": 68
    },
    "colab_type": "code",
    "id": "0qwwyz5aDhyL",
    "outputId": "03bcc88d-9703-4df3-866c-9c22a511373f"
   },
   "outputs": [
    {
     "name": "stdout",
     "output_type": "stream",
     "text": [
      "\n",
      "\n",
      "Testing time:0.5419938564300537\n"
     ]
    }
   ],
   "source": [
    "start = time.time()\n",
    "\n",
    "gnb_pred = gnb.predict(test_images)\n",
    "\n",
    "end = time.time()\n",
    "final_time = end-start\n",
    "print('\\n')\n",
    "print('Testing time:{}'.format(final_time))"
   ]
  },
  {
   "cell_type": "code",
   "execution_count": 45,
   "metadata": {
    "colab": {
     "base_uri": "https://localhost:8080/",
     "height": 187
    },
    "colab_type": "code",
    "id": "8LL77kPUDoFP",
    "outputId": "0a204340-eec3-44ce-9a30-ae6c9260fb15"
   },
   "outputs": [
    {
     "name": "stdout",
     "output_type": "stream",
     "text": [
      "[[586  64  29 162 110   0  20   0  29   0]\n",
      " [  1 939  14  36   7   0   1   0   2   0]\n",
      " [  7  14 324  65 545   0  23   0  22   0]\n",
      " [  9 387   6 545  43   0   4   0   6   0]\n",
      " [  0  34  44 131 779   0   4   0   8   0]\n",
      " [  0   0   1   1   0 278   3 660   5  52]\n",
      " [117  34 112 200 435   0  40   0  62   0]\n",
      " [  0   0   0   0   0   3   0 988   0   9]\n",
      " [  0   2  19  85 149   3  27   4 710   1]\n",
      " [  0   0   1   1   0  16   3 304   8 667]]\n"
     ]
    }
   ],
   "source": [
    "# Confusion Matrix\n",
    "from sklearn.metrics import confusion_matrix\n",
    "confusion_matrix = confusion_matrix(test_labels, gnb_pred)\n",
    "print(confusion_matrix)"
   ]
  },
  {
   "cell_type": "code",
   "execution_count": 46,
   "metadata": {
    "colab": {
     "base_uri": "https://localhost:8080/",
     "height": 306
    },
    "colab_type": "code",
    "id": "9bxnaVcHDp5c",
    "outputId": "a21b2fe1-1953-445b-9a30-a04c98b1bfeb"
   },
   "outputs": [
    {
     "name": "stdout",
     "output_type": "stream",
     "text": [
      "              precision    recall  f1-score   support\n",
      "\n",
      "           0     0.8139    0.5860    0.6814      1000\n",
      "           1     0.6370    0.9390    0.7591      1000\n",
      "           2     0.5891    0.3240    0.4181      1000\n",
      "           3     0.4445    0.5450    0.4897      1000\n",
      "           4     0.3767    0.7790    0.5078      1000\n",
      "           5     0.9267    0.2780    0.4277      1000\n",
      "           6     0.3200    0.0400    0.0711      1000\n",
      "           7     0.5051    0.9880    0.6685      1000\n",
      "           8     0.8333    0.7100    0.7667      1000\n",
      "           9     0.9150    0.6670    0.7715      1000\n",
      "\n",
      "    accuracy                         0.5856     10000\n",
      "   macro avg     0.6361    0.5856    0.5562     10000\n",
      "weighted avg     0.6361    0.5856    0.5562     10000\n",
      "\n"
     ]
    }
   ],
   "source": [
    "# Classification Report\n",
    "from sklearn.metrics import classification_report\n",
    "print(classification_report(test_labels, gnb_pred, digits=4))"
   ]
  },
  {
   "cell_type": "code",
   "execution_count": 47,
   "metadata": {
    "colab": {
     "base_uri": "https://localhost:8080/",
     "height": 34
    },
    "colab_type": "code",
    "id": "HaesWMoRIlr4",
    "outputId": "1df8cb3b-f44e-4aeb-d5fe-c1fd4b8e98c3"
   },
   "outputs": [
    {
     "data": {
      "text/plain": [
       "0.5856"
      ]
     },
     "execution_count": 47,
     "metadata": {
      "tags": []
     },
     "output_type": "execute_result"
    }
   ],
   "source": [
    "from sklearn.metrics import accuracy_score\n",
    "accuracy_score(test_labels, gnb_pred)"
   ]
  },
  {
   "cell_type": "markdown",
   "metadata": {
    "colab_type": "text",
    "id": "nNLR0BwIBi9k"
   },
   "source": [
    "## K-Nearest Neighbors"
   ]
  },
  {
   "cell_type": "code",
   "execution_count": 0,
   "metadata": {
    "colab": {},
    "colab_type": "code",
    "id": "kdpZzTnABh8j"
   },
   "outputs": [],
   "source": [
    "from sklearn.neighbors import KNeighborsClassifier\n",
    "knn = KNeighborsClassifier(n_neighbors=5)"
   ]
  },
  {
   "cell_type": "code",
   "execution_count": 49,
   "metadata": {
    "colab": {
     "base_uri": "https://localhost:8080/",
     "height": 68
    },
    "colab_type": "code",
    "id": "PycDCy97BiYp",
    "outputId": "c827ae05-574c-4b96-919a-f7663c38969e"
   },
   "outputs": [
    {
     "name": "stdout",
     "output_type": "stream",
     "text": [
      "\n",
      "\n",
      "Training time:11.35332727432251\n"
     ]
    }
   ],
   "source": [
    "start = time.time()\n",
    "\n",
    "knn.fit(train_images, train_labels)\n",
    "\n",
    "end = time.time()\n",
    "final_time = end-start\n",
    "print('\\n')\n",
    "print('Training time:{}'.format(final_time))"
   ]
  },
  {
   "cell_type": "code",
   "execution_count": 50,
   "metadata": {
    "colab": {
     "base_uri": "https://localhost:8080/",
     "height": 68
    },
    "colab_type": "code",
    "id": "GNvqADJXDwst",
    "outputId": "afbae00c-e305-49b2-f30a-eb658f63e344"
   },
   "outputs": [
    {
     "name": "stdout",
     "output_type": "stream",
     "text": [
      "\n",
      "\n",
      "Testing time:771.0947904586792\n"
     ]
    }
   ],
   "source": [
    "start = time.time()\n",
    "\n",
    "knn_pred = knn.predict(test_images)\n",
    "\n",
    "end = time.time()\n",
    "final_time = end-start\n",
    "print('\\n')\n",
    "print('Testing time:{}'.format(final_time))"
   ]
  },
  {
   "cell_type": "code",
   "execution_count": 51,
   "metadata": {
    "colab": {
     "base_uri": "https://localhost:8080/",
     "height": 187
    },
    "colab_type": "code",
    "id": "wjCUlCo_Dtno",
    "outputId": "2d7dde01-1792-4e00-d58e-4efdbe59650c"
   },
   "outputs": [
    {
     "name": "stdout",
     "output_type": "stream",
     "text": [
      "[[855   1  17  16   3   1 100   1   6   0]\n",
      " [  8 968   4  12   4   0   3   0   1   0]\n",
      " [ 24   2 819  11  75   0  69   0   0   0]\n",
      " [ 41   8  15 860  39   0  34   0   3   0]\n",
      " [  2   1 126  26 773   0  71   0   1   0]\n",
      " [  1   0   0   0   0 822   5  96   1  75]\n",
      " [176   1 132  23  80   0 575   0  13   0]\n",
      " [  0   0   0   0   0   3   0 961   0  36]\n",
      " [  2   0  10   4   7   0  16   7 953   1]\n",
      " [  0   0   0   0   0   2   1  29   0 968]]\n"
     ]
    }
   ],
   "source": [
    "# Confusion Matrix\n",
    "from sklearn.metrics import confusion_matrix\n",
    "confusion_matrix = confusion_matrix(test_labels, knn_pred)\n",
    "print(confusion_matrix)"
   ]
  },
  {
   "cell_type": "code",
   "execution_count": 52,
   "metadata": {
    "colab": {
     "base_uri": "https://localhost:8080/",
     "height": 306
    },
    "colab_type": "code",
    "id": "4uDcrrWUDvbn",
    "outputId": "d539b442-3265-4e7a-bb5a-46ebab439e5a"
   },
   "outputs": [
    {
     "name": "stdout",
     "output_type": "stream",
     "text": [
      "              precision    recall  f1-score   support\n",
      "\n",
      "           0     0.7710    0.8550    0.8108      1000\n",
      "           1     0.9867    0.9680    0.9773      1000\n",
      "           2     0.7293    0.8190    0.7715      1000\n",
      "           3     0.9034    0.8600    0.8811      1000\n",
      "           4     0.7880    0.7730    0.7804      1000\n",
      "           5     0.9928    0.8220    0.8993      1000\n",
      "           6     0.6579    0.5750    0.6137      1000\n",
      "           7     0.8784    0.9610    0.9179      1000\n",
      "           8     0.9744    0.9530    0.9636      1000\n",
      "           9     0.8963    0.9680    0.9308      1000\n",
      "\n",
      "    accuracy                         0.8554     10000\n",
      "   macro avg     0.8578    0.8554    0.8546     10000\n",
      "weighted avg     0.8578    0.8554    0.8546     10000\n",
      "\n"
     ]
    }
   ],
   "source": [
    "# Classification Report\n",
    "from sklearn.metrics import classification_report\n",
    "print(classification_report(test_labels, knn_pred, digits=4))"
   ]
  },
  {
   "cell_type": "code",
   "execution_count": 53,
   "metadata": {
    "colab": {
     "base_uri": "https://localhost:8080/",
     "height": 34
    },
    "colab_type": "code",
    "id": "zqPJScWLCRwG",
    "outputId": "8b074d4c-431c-4877-9bdb-a896411f3a7c"
   },
   "outputs": [
    {
     "data": {
      "text/plain": [
       "0.8554"
      ]
     },
     "execution_count": 53,
     "metadata": {
      "tags": []
     },
     "output_type": "execute_result"
    }
   ],
   "source": [
    "from sklearn.metrics import accuracy_score\n",
    "accuracy_score(test_labels, knn_pred)"
   ]
  },
  {
   "cell_type": "markdown",
   "metadata": {
    "colab_type": "text",
    "id": "1UQ_i318QMnw"
   },
   "source": [
    "## Random Forest"
   ]
  },
  {
   "cell_type": "code",
   "execution_count": 0,
   "metadata": {
    "colab": {},
    "colab_type": "code",
    "id": "5iWCSpQjQRfv"
   },
   "outputs": [],
   "source": [
    "from sklearn.ensemble import RandomForestClassifier \n",
    "forest = RandomForestClassifier(n_estimators = 100)"
   ]
  },
  {
   "cell_type": "code",
   "execution_count": 55,
   "metadata": {
    "colab": {
     "base_uri": "https://localhost:8080/",
     "height": 68
    },
    "colab_type": "code",
    "id": "C1PndDvyQRmk",
    "outputId": "f563bce2-7858-428d-c635-e51ed2f50fa4"
   },
   "outputs": [
    {
     "name": "stdout",
     "output_type": "stream",
     "text": [
      "\n",
      "\n",
      "Training time:81.60474896430969\n"
     ]
    }
   ],
   "source": [
    "start = time.time()\n",
    "\n",
    "forest.fit(train_images, train_labels)\n",
    "\n",
    "end = time.time()\n",
    "final_time = end-start\n",
    "print('\\n')\n",
    "print('Training time:{}'.format(final_time))"
   ]
  },
  {
   "cell_type": "code",
   "execution_count": 56,
   "metadata": {
    "colab": {
     "base_uri": "https://localhost:8080/",
     "height": 68
    },
    "colab_type": "code",
    "id": "1BpMWP50QRs4",
    "outputId": "b458d3ac-cd1f-4f84-ace2-41a6ffd809ce"
   },
   "outputs": [
    {
     "name": "stdout",
     "output_type": "stream",
     "text": [
      "\n",
      "\n",
      "Testing time:0.4056282043457031\n"
     ]
    }
   ],
   "source": [
    "start = time.time()\n",
    "\n",
    "forest_pred = forest.predict(test_images)\n",
    "\n",
    "end = time.time()\n",
    "final_time = end-start\n",
    "print('\\n')\n",
    "print('Testing time:{}'.format(final_time))"
   ]
  },
  {
   "cell_type": "code",
   "execution_count": 57,
   "metadata": {
    "colab": {
     "base_uri": "https://localhost:8080/",
     "height": 187
    },
    "colab_type": "code",
    "id": "RgDv2YLyQRxh",
    "outputId": "08260f02-f52d-4513-bdcb-1f9ee6e8dd53"
   },
   "outputs": [
    {
     "name": "stdout",
     "output_type": "stream",
     "text": [
      "[[862   0  11  31   2   1  83   0  10   0]\n",
      " [  3 961   2  21   5   0   6   0   2   0]\n",
      " [ 12   0 803  10 117   0  54   0   4   0]\n",
      " [ 18   2  11 909  30   0  28   0   2   0]\n",
      " [  1   0  94  33 820   0  50   0   2   0]\n",
      " [  0   0   0   1   0 956   0  32   1  10]\n",
      " [155   1 117  28  91   0 592   0  16   0]\n",
      " [  0   0   0   0   0  17   0 949   0  34]\n",
      " [  1   1   6   2   5   2   7   4 972   0]\n",
      " [  0   0   0   0   0  11   0  41   3 945]]\n"
     ]
    }
   ],
   "source": [
    "# Confusion Matrix\n",
    "from sklearn.metrics import confusion_matrix\n",
    "confusion_matrix = confusion_matrix(test_labels, forest_pred)\n",
    "print(confusion_matrix)"
   ]
  },
  {
   "cell_type": "code",
   "execution_count": 58,
   "metadata": {
    "colab": {
     "base_uri": "https://localhost:8080/",
     "height": 306
    },
    "colab_type": "code",
    "id": "-9rKFHiZQR8k",
    "outputId": "0f803509-5cfd-44cf-92fc-06ad694e27e1"
   },
   "outputs": [
    {
     "name": "stdout",
     "output_type": "stream",
     "text": [
      "              precision    recall  f1-score   support\n",
      "\n",
      "           0     0.8194    0.8620    0.8402      1000\n",
      "           1     0.9959    0.9610    0.9781      1000\n",
      "           2     0.7692    0.8030    0.7857      1000\n",
      "           3     0.8783    0.9090    0.8934      1000\n",
      "           4     0.7664    0.8200    0.7923      1000\n",
      "           5     0.9686    0.9560    0.9623      1000\n",
      "           6     0.7220    0.5920    0.6505      1000\n",
      "           7     0.9250    0.9490    0.9368      1000\n",
      "           8     0.9605    0.9720    0.9662      1000\n",
      "           9     0.9555    0.9450    0.9502      1000\n",
      "\n",
      "    accuracy                         0.8769     10000\n",
      "   macro avg     0.8760    0.8769    0.8756     10000\n",
      "weighted avg     0.8760    0.8769    0.8756     10000\n",
      "\n"
     ]
    }
   ],
   "source": [
    "# Classification Report\n",
    "from sklearn.metrics import classification_report\n",
    "print(classification_report(test_labels, forest_pred, digits=4))"
   ]
  },
  {
   "cell_type": "code",
   "execution_count": 59,
   "metadata": {
    "colab": {
     "base_uri": "https://localhost:8080/",
     "height": 34
    },
    "colab_type": "code",
    "id": "rg6ZbrWDQSJt",
    "outputId": "87345d69-33bf-4db8-8338-eb11605c1c18"
   },
   "outputs": [
    {
     "data": {
      "text/plain": [
       "0.8769"
      ]
     },
     "execution_count": 59,
     "metadata": {
      "tags": []
     },
     "output_type": "execute_result"
    }
   ],
   "source": [
    "from sklearn.metrics import accuracy_score\n",
    "accuracy_score(test_labels, forest_pred)"
   ]
  },
  {
   "cell_type": "markdown",
   "metadata": {
    "colab_type": "text",
    "id": "e3V3mC2GkfRy"
   },
   "source": [
    "## Keras (ANN)\n",
    "( ANN - Artificial Neural Network)"
   ]
  },
  {
   "cell_type": "markdown",
   "metadata": {
    "colab_type": "text",
    "id": "UYK9dE6qFiH6"
   },
   "source": [
    "### Defining the model"
   ]
  },
  {
   "cell_type": "code",
   "execution_count": 0,
   "metadata": {
    "colab": {},
    "colab_type": "code",
    "id": "adX3bEzlFhdt"
   },
   "outputs": [],
   "source": [
    "# Define an object of the Sequential model\n",
    "ANN = tf.keras.Sequential()"
   ]
  },
  {
   "cell_type": "markdown",
   "metadata": {
    "colab_type": "text",
    "id": "KS9_xLFJFr7p"
   },
   "source": [
    "### Adding a first fully-connected hidden layer\n",
    "\n",
    "```\n",
    "Layer hyper-parameters:\n",
    "- number of units/neurons: 128\n",
    "- activation function: ReLU\n",
    "- input_shape: (784, )\n",
    "```\n",
    "\n"
   ]
  },
  {
   "cell_type": "code",
   "execution_count": 0,
   "metadata": {
    "colab": {},
    "colab_type": "code",
    "id": "jNuQTEEpFeHy"
   },
   "outputs": [],
   "source": [
    "ANN.add(tf.keras.layers.Dense(units=128, activation='relu', input_shape=(784, )))"
   ]
  },
  {
   "cell_type": "markdown",
   "metadata": {
    "colab_type": "text",
    "id": "trr7fr1uF5MV"
   },
   "source": [
    "### Adding a second layer with Dropout\n",
    "\n",
    "Dropout is a Regularization technique where we randomly set neurons in a layer to zero. That way while training those neurons won't be updated. Because some percentage of neurons won't be updated the whole training process is long and we have less chance for overfitting."
   ]
  },
  {
   "cell_type": "code",
   "execution_count": 0,
   "metadata": {
    "colab": {},
    "colab_type": "code",
    "id": "lMVgLk1VFeNC"
   },
   "outputs": [],
   "source": [
    "ANN.add(tf.keras.layers.Dropout(0.2))"
   ]
  },
  {
   "cell_type": "markdown",
   "metadata": {
    "colab_type": "text",
    "id": "dzT9CRqUVBFL"
   },
   "source": [
    "### Adding more layers"
   ]
  },
  {
   "cell_type": "code",
   "execution_count": 0,
   "metadata": {
    "colab": {},
    "colab_type": "code",
    "id": "8mFdlnmAU0Eg"
   },
   "outputs": [],
   "source": [
    "ANN.add(tf.keras.layers.Dense(units=64, activation='relu'))\n",
    "ANN.add(tf.keras.layers.Dropout(0.2))\n",
    "ANN.add(tf.keras.layers.Dense(units=64, activation='linear'))"
   ]
  },
  {
   "cell_type": "markdown",
   "metadata": {
    "colab_type": "text",
    "id": "6cwZL-N8F9L7"
   },
   "source": [
    "### Adding the output layer\n",
    "\n",
    "```\n",
    "- units: number of classes (10 in the Fashion MNIST dataset)\n",
    "- activation: softmax\n",
    "```\n",
    "\n"
   ]
  },
  {
   "cell_type": "code",
   "execution_count": 0,
   "metadata": {
    "colab": {},
    "colab_type": "code",
    "id": "HK_DfgC6FeRF"
   },
   "outputs": [],
   "source": [
    "ANN.add(tf.keras.layers.Dense(units=10, activation='softmax'))"
   ]
  },
  {
   "cell_type": "markdown",
   "metadata": {
    "colab_type": "text",
    "id": "vtqVIAbFGEVZ"
   },
   "source": [
    "### Compiling the model\n",
    "\n",
    "```\n",
    "- Optimizer: Adam\n",
    "- Loss: Sparse softmax (categorical) crossentropy \n",
    "```\n",
    "\n",
    "List of loss function: https://keras.io/losses/"
   ]
  },
  {
   "cell_type": "code",
   "execution_count": 0,
   "metadata": {
    "colab": {},
    "colab_type": "code",
    "id": "h0HhNqMFGMHu"
   },
   "outputs": [],
   "source": [
    "ANN.compile(optimizer='adam', loss='sparse_categorical_crossentropy', \n",
    "              metrics=['sparse_categorical_accuracy'])"
   ]
  },
  {
   "cell_type": "code",
   "execution_count": 66,
   "metadata": {
    "colab": {
     "base_uri": "https://localhost:8080/",
     "height": 357
    },
    "colab_type": "code",
    "id": "Y3tNSNdLFeZw",
    "outputId": "4109b48b-69c1-4908-ba6b-8dd12ab6d609"
   },
   "outputs": [
    {
     "name": "stdout",
     "output_type": "stream",
     "text": [
      "Model: \"sequential\"\n",
      "_________________________________________________________________\n",
      "Layer (type)                 Output Shape              Param #   \n",
      "=================================================================\n",
      "dense (Dense)                (None, 128)               100480    \n",
      "_________________________________________________________________\n",
      "dropout (Dropout)            (None, 128)               0         \n",
      "_________________________________________________________________\n",
      "dense_1 (Dense)              (None, 64)                8256      \n",
      "_________________________________________________________________\n",
      "dropout_1 (Dropout)          (None, 64)                0         \n",
      "_________________________________________________________________\n",
      "dense_2 (Dense)              (None, 64)                4160      \n",
      "_________________________________________________________________\n",
      "dense_3 (Dense)              (None, 10)                650       \n",
      "=================================================================\n",
      "Total params: 113,546\n",
      "Trainable params: 113,546\n",
      "Non-trainable params: 0\n",
      "_________________________________________________________________\n"
     ]
    }
   ],
   "source": [
    "ANN.summary()"
   ]
  },
  {
   "cell_type": "markdown",
   "metadata": {
    "colab_type": "text",
    "id": "cevJ-yFYGSjL"
   },
   "source": [
    "### Training the model"
   ]
  },
  {
   "cell_type": "code",
   "execution_count": 67,
   "metadata": {
    "colab": {
     "base_uri": "https://localhost:8080/",
     "height": 1000
    },
    "colab_type": "code",
    "id": "U7ZQVxjGkfo5",
    "outputId": "db851498-6a8d-4542-8314-fb44382fa16b"
   },
   "outputs": [
    {
     "name": "stdout",
     "output_type": "stream",
     "text": [
      "Epoch 1/30\n",
      "60000/60000 [==============================] - 12s 197us/sample - loss: 0.5758 - sparse_categorical_accuracy: 0.7915\n",
      "Epoch 2/30\n",
      "60000/60000 [==============================] - 11s 177us/sample - loss: 0.4413 - sparse_categorical_accuracy: 0.8401\n",
      "Epoch 3/30\n",
      "60000/60000 [==============================] - 10s 175us/sample - loss: 0.4027 - sparse_categorical_accuracy: 0.8542\n",
      "Epoch 4/30\n",
      "60000/60000 [==============================] - 11s 176us/sample - loss: 0.3849 - sparse_categorical_accuracy: 0.8604\n",
      "Epoch 5/30\n",
      "60000/60000 [==============================] - 11s 180us/sample - loss: 0.3658 - sparse_categorical_accuracy: 0.8677\n",
      "Epoch 6/30\n",
      "60000/60000 [==============================] - 10s 173us/sample - loss: 0.3537 - sparse_categorical_accuracy: 0.8707\n",
      "Epoch 7/30\n",
      "60000/60000 [==============================] - 10s 173us/sample - loss: 0.3403 - sparse_categorical_accuracy: 0.8753\n",
      "Epoch 8/30\n",
      "60000/60000 [==============================] - 10s 175us/sample - loss: 0.3355 - sparse_categorical_accuracy: 0.8769\n",
      "Epoch 9/30\n",
      "60000/60000 [==============================] - 11s 176us/sample - loss: 0.3267 - sparse_categorical_accuracy: 0.8796\n",
      "Epoch 10/30\n",
      "60000/60000 [==============================] - 11s 178us/sample - loss: 0.3180 - sparse_categorical_accuracy: 0.8824\n",
      "Epoch 11/30\n",
      "60000/60000 [==============================] - 10s 174us/sample - loss: 0.3117 - sparse_categorical_accuracy: 0.8850\n",
      "Epoch 12/30\n",
      "60000/60000 [==============================] - 11s 181us/sample - loss: 0.3107 - sparse_categorical_accuracy: 0.8853\n",
      "Epoch 13/30\n",
      "60000/60000 [==============================] - 10s 174us/sample - loss: 0.3020 - sparse_categorical_accuracy: 0.8880\n",
      "Epoch 14/30\n",
      "60000/60000 [==============================] - 11s 177us/sample - loss: 0.2952 - sparse_categorical_accuracy: 0.8911\n",
      "Epoch 15/30\n",
      "60000/60000 [==============================] - 11s 176us/sample - loss: 0.2925 - sparse_categorical_accuracy: 0.8912\n",
      "Epoch 16/30\n",
      "60000/60000 [==============================] - 11s 177us/sample - loss: 0.2882 - sparse_categorical_accuracy: 0.8924\n",
      "Epoch 17/30\n",
      "60000/60000 [==============================] - 11s 179us/sample - loss: 0.2865 - sparse_categorical_accuracy: 0.8928\n",
      "Epoch 18/30\n",
      "60000/60000 [==============================] - 10s 172us/sample - loss: 0.2824 - sparse_categorical_accuracy: 0.8940\n",
      "Epoch 19/30\n",
      "60000/60000 [==============================] - 10s 172us/sample - loss: 0.2826 - sparse_categorical_accuracy: 0.8957\n",
      "Epoch 20/30\n",
      "60000/60000 [==============================] - 10s 174us/sample - loss: 0.2765 - sparse_categorical_accuracy: 0.8980\n",
      "Epoch 21/30\n",
      "60000/60000 [==============================] - 11s 177us/sample - loss: 0.2734 - sparse_categorical_accuracy: 0.8983\n",
      "Epoch 22/30\n",
      "60000/60000 [==============================] - 10s 172us/sample - loss: 0.2678 - sparse_categorical_accuracy: 0.9004\n",
      "Epoch 23/30\n",
      "60000/60000 [==============================] - 10s 175us/sample - loss: 0.2678 - sparse_categorical_accuracy: 0.8995\n",
      "Epoch 24/30\n",
      "60000/60000 [==============================] - 11s 176us/sample - loss: 0.2648 - sparse_categorical_accuracy: 0.9028\n",
      "Epoch 25/30\n",
      "60000/60000 [==============================] - 11s 181us/sample - loss: 0.2650 - sparse_categorical_accuracy: 0.9013\n",
      "Epoch 26/30\n",
      "60000/60000 [==============================] - 10s 175us/sample - loss: 0.2600 - sparse_categorical_accuracy: 0.9023\n",
      "Epoch 27/30\n",
      "60000/60000 [==============================] - 11s 177us/sample - loss: 0.2596 - sparse_categorical_accuracy: 0.9034\n",
      "Epoch 28/30\n",
      "60000/60000 [==============================] - 11s 175us/sample - loss: 0.2585 - sparse_categorical_accuracy: 0.9043\n",
      "Epoch 29/30\n",
      "60000/60000 [==============================] - 11s 176us/sample - loss: 0.2478 - sparse_categorical_accuracy: 0.9064\n",
      "Epoch 30/30\n",
      "60000/60000 [==============================] - 10s 171us/sample - loss: 0.2522 - sparse_categorical_accuracy: 0.9056\n",
      "\n",
      "\n",
      "Training time:318.2523956298828\n"
     ]
    }
   ],
   "source": [
    "start = time.time()\n",
    "\n",
    "ANN.fit(train_images, train_labels, epochs=30)\n",
    "\n",
    "end = time.time()\n",
    "final_time = end-start\n",
    "print('\\n')\n",
    "print('Training time:{}'.format(final_time))"
   ]
  },
  {
   "cell_type": "markdown",
   "metadata": {
    "colab_type": "text",
    "id": "4mieATQcGk7i"
   },
   "source": [
    "### Model evaluation and prediction"
   ]
  },
  {
   "cell_type": "code",
   "execution_count": 68,
   "metadata": {
    "colab": {
     "base_uri": "https://localhost:8080/",
     "height": 68
    },
    "colab_type": "code",
    "id": "W38RrgOjLgFE",
    "outputId": "2712c00e-885f-4bcb-fe6a-cdba74375e76"
   },
   "outputs": [
    {
     "name": "stdout",
     "output_type": "stream",
     "text": [
      "\n",
      "\n",
      "Testing time:0.4532601833343506\n"
     ]
    }
   ],
   "source": [
    " start = time.time()\n",
    "\n",
    "ANN_pred= ANN.predict_classes(test_images)\n",
    "\n",
    "end = time.time()\n",
    "final_time = end-start\n",
    "print('\\n')\n",
    "print('Testing time:{}'.format(final_time))"
   ]
  },
  {
   "cell_type": "code",
   "execution_count": 69,
   "metadata": {
    "colab": {
     "base_uri": "https://localhost:8080/",
     "height": 187
    },
    "colab_type": "code",
    "id": "vd58RT2FLtvR",
    "outputId": "4e8d0ece-d367-40d7-8552-35c8b0f2634a"
   },
   "outputs": [
    {
     "name": "stdout",
     "output_type": "stream",
     "text": [
      "[[789   2   9  52   9   1 129   0   9   0]\n",
      " [  0 975   1  17   4   0   2   0   1   0]\n",
      " [ 16   2 797  12 111   0  61   0   1   0]\n",
      " [ 17   6   8 908  41   0  16   0   4   0]\n",
      " [  0   1  81  28 848   0  40   0   2   0]\n",
      " [  0   0   0   0   0 959   0  24   1  16]\n",
      " [ 78   1  88  46  78   0 698   0  11   0]\n",
      " [  0   0   0   0   0  13   0 974   0  13]\n",
      " [  1   0   0   6   3   1   7   3 979   0]\n",
      " [  0   0   0   0   0   7   1  52   0 940]]\n"
     ]
    }
   ],
   "source": [
    "# Confusion Matrix\n",
    "from sklearn.metrics import confusion_matrix\n",
    "confusion_matrix = confusion_matrix(test_labels, ANN_pred)\n",
    "print(confusion_matrix)"
   ]
  },
  {
   "cell_type": "code",
   "execution_count": 70,
   "metadata": {
    "colab": {
     "base_uri": "https://localhost:8080/",
     "height": 306
    },
    "colab_type": "code",
    "id": "c8hJuqyl2cbj",
    "outputId": "f09927ef-0576-4e0e-9be5-82f5bd7ebc5e"
   },
   "outputs": [
    {
     "name": "stdout",
     "output_type": "stream",
     "text": [
      "              precision    recall  f1-score   support\n",
      "\n",
      "           0     0.8757    0.7890    0.8301      1000\n",
      "           1     0.9878    0.9750    0.9814      1000\n",
      "           2     0.8100    0.7970    0.8034      1000\n",
      "           3     0.8494    0.9080    0.8777      1000\n",
      "           4     0.7751    0.8480    0.8099      1000\n",
      "           5     0.9776    0.9590    0.9682      1000\n",
      "           6     0.7317    0.6980    0.7144      1000\n",
      "           7     0.9250    0.9740    0.9489      1000\n",
      "           8     0.9712    0.9790    0.9751      1000\n",
      "           9     0.9701    0.9400    0.9548      1000\n",
      "\n",
      "    accuracy                         0.8867     10000\n",
      "   macro avg     0.8874    0.8867    0.8864     10000\n",
      "weighted avg     0.8874    0.8867    0.8864     10000\n",
      "\n"
     ]
    }
   ],
   "source": [
    "# Classification Report\n",
    "from sklearn.metrics import classification_report\n",
    "print(classification_report(test_labels, ANN_pred, digits=4))"
   ]
  },
  {
   "cell_type": "code",
   "execution_count": 71,
   "metadata": {
    "colab": {
     "base_uri": "https://localhost:8080/",
     "height": 34
    },
    "colab_type": "code",
    "id": "0SizpchAGgDL",
    "outputId": "4f209532-2bc8-4ba7-ed97-c9497850476b"
   },
   "outputs": [
    {
     "name": "stdout",
     "output_type": "stream",
     "text": [
      "10000/10000 [==============================] - 1s 91us/sample - loss: 0.3291 - sparse_categorical_accuracy: 0.8867\n"
     ]
    }
   ],
   "source": [
    "test_loss, test_accuracy = ANN.evaluate(test_images, test_labels)"
   ]
  },
  {
   "cell_type": "code",
   "execution_count": 72,
   "metadata": {
    "colab": {
     "base_uri": "https://localhost:8080/",
     "height": 34
    },
    "colab_type": "code",
    "id": "jCvUYfoRGj8P",
    "outputId": "2a9eea9f-3acd-4d10-ab35-c3b6355daac9"
   },
   "outputs": [
    {
     "name": "stdout",
     "output_type": "stream",
     "text": [
      "Test accuracy: 0.8866999745368958\n"
     ]
    }
   ],
   "source": [
    "print(\"Test accuracy: {}\".format(test_accuracy))"
   ]
  },
  {
   "cell_type": "markdown",
   "metadata": {
    "colab_type": "text",
    "id": "AcbiEtyZQI55"
   },
   "source": [
    "## Keras (CNN)\n",
    "( CNN - Convolutional Neural Network)"
   ]
  },
  {
   "cell_type": "markdown",
   "metadata": {
    "colab_type": "text",
    "id": "DnPKPgJFZqEH"
   },
   "source": [
    "### Data for CNN\n"
   ]
  },
  {
   "cell_type": "markdown",
   "metadata": {
    "colab_type": "text",
    "id": "UZXzteVOdFPS"
   },
   "source": [
    "When using a convolutional layer as the first layer to the CNN model, we need to reshape our data to (n_images, x_shape, y_shape, channels). We should set channels to 1 for grayscale images and set channels to 3 when we have a set of RGB-images as input."
   ]
  },
  {
   "cell_type": "markdown",
   "metadata": {
    "colab_type": "text",
    "id": "sFuRJ6fGc3Qt"
   },
   "source": [
    "#### Load dataset"
   ]
  },
  {
   "cell_type": "code",
   "execution_count": 0,
   "metadata": {
    "colab": {},
    "colab_type": "code",
    "id": "EOHXskd7WhOP"
   },
   "outputs": [],
   "source": [
    "# Load the fashion-mnist dataset from keras.datasets library\n",
    "fashion_mnist = keras.datasets.fashion_mnist\n",
    "(CNN_train_images, CNN_train_labels), (CNN_test_images, CNN_test_labels) = fashion_mnist.load_data()"
   ]
  },
  {
   "cell_type": "markdown",
   "metadata": {
    "colab_type": "text",
    "id": "tJtf3GIncsyq"
   },
   "source": [
    "#### Normalizing the images"
   ]
  },
  {
   "cell_type": "code",
   "execution_count": 0,
   "metadata": {
    "colab": {},
    "colab_type": "code",
    "id": "5Q8fVhs6Wo7T"
   },
   "outputs": [],
   "source": [
    "# Normalizing the images\n",
    "CNN_train_images = CNN_train_images / 255.0\n",
    "CNN_test_images = CNN_test_images /255.0"
   ]
  },
  {
   "cell_type": "markdown",
   "metadata": {
    "colab_type": "text",
    "id": "CH7bdZLhc9q0"
   },
   "source": [
    "#### Reshaping the dataset\n",
    "To feed in the dataset into a convolutional nerual network, the dataset must at least in grayscale."
   ]
  },
  {
   "cell_type": "code",
   "execution_count": 75,
   "metadata": {
    "colab": {
     "base_uri": "https://localhost:8080/",
     "height": 102
    },
    "colab_type": "code",
    "id": "5vDvQZ9iZ3en",
    "outputId": "f9cf3182-115e-4c67-9f81-9c8b674f9087"
   },
   "outputs": [
    {
     "name": "stdout",
     "output_type": "stream",
     "text": [
      "Before reshape:\n",
      "Shape of the training set (images): (60000, 28, 28)\n",
      "Shape of the training set (labels): (60000,)\n",
      "Shape of the test set (images): (10000, 28, 28)\n",
      "Shape of the test set (labels): (10000,)\n"
     ]
    }
   ],
   "source": [
    "print('Before reshape:')\n",
    "# training set shape info\n",
    "print('Shape of the training set (images): {}'.format(CNN_train_images.shape))\n",
    "print('Shape of the training set (labels): {}'.format(CNN_train_labels.shape))\n",
    "\n",
    "# test set shape info\n",
    "print('Shape of the test set (images): {}'.format(CNN_test_images.shape))\n",
    "print('Shape of the test set (labels): {}'.format(CNN_test_labels.shape))"
   ]
  },
  {
   "cell_type": "code",
   "execution_count": 0,
   "metadata": {
    "colab": {},
    "colab_type": "code",
    "id": "Agq7QWV0Z79B"
   },
   "outputs": [],
   "source": [
    "# Reshape the training set and the test set to be into the vector format\n",
    "# Since each image's dimension is 28x28, we reshape the full dataset to [-1 (all elements), height * width]\n",
    "CNN_train_images = CNN_train_images.reshape(-1, 28,28, 1)\n",
    "CNN_test_images = CNN_test_images.reshape(-1, 28,28, 1)"
   ]
  },
  {
   "cell_type": "code",
   "execution_count": 77,
   "metadata": {
    "colab": {
     "base_uri": "https://localhost:8080/",
     "height": 102
    },
    "colab_type": "code",
    "id": "PoimPjH7aBKp",
    "outputId": "a61ff516-57bd-4322-89a0-95bddcf66e9c"
   },
   "outputs": [
    {
     "name": "stdout",
     "output_type": "stream",
     "text": [
      "After reshape:\n",
      "Shape of the training set (images): (60000, 28, 28, 1)\n",
      "Shape of the training set (labels): (60000,)\n",
      "Shape of the test set (images): (10000, 28, 28, 1)\n",
      "Shape of the test set (labels): (10000,)\n"
     ]
    }
   ],
   "source": [
    "print('After reshape:')\n",
    "# training set shape info\n",
    "print('Shape of the training set (images): {}'.format(CNN_train_images.shape))\n",
    "print('Shape of the training set (labels): {}'.format(CNN_train_labels.shape))\n",
    "\n",
    "# test set shape info\n",
    "print('Shape of the test set (images): {}'.format(CNN_test_images.shape))\n",
    "print('Shape of the test set (labels): {}'.format(CNN_test_labels.shape))"
   ]
  },
  {
   "cell_type": "markdown",
   "metadata": {
    "colab_type": "text",
    "id": "LtTdY8uOc_o3"
   },
   "source": [
    "### Shuffling index"
   ]
  },
  {
   "cell_type": "code",
   "execution_count": 0,
   "metadata": {
    "colab": {},
    "colab_type": "code",
    "id": "DxI-LzYZaFXl"
   },
   "outputs": [],
   "source": [
    "shuffle_index = np.random.permutation(60000) \n",
    "CNN_train_images, CNN_train_labels = CNN_train_images[shuffle_index], CNN_train_labels[shuffle_index]"
   ]
  },
  {
   "cell_type": "markdown",
   "metadata": {
    "colab_type": "text",
    "id": "3rvO9QVSQaKe"
   },
   "source": [
    "### Defining the model"
   ]
  },
  {
   "cell_type": "code",
   "execution_count": 0,
   "metadata": {
    "colab": {},
    "colab_type": "code",
    "id": "AaaUhXXJQS6t"
   },
   "outputs": [],
   "source": [
    "CNN = tf.keras.models.Sequential()"
   ]
  },
  {
   "cell_type": "markdown",
   "metadata": {
    "colab_type": "text",
    "id": "uOlP2s1aQfAJ"
   },
   "source": [
    "### Adding the first CNN Layer\n",
    "\n",
    "CNN layer hyper-parameters:\n",
    "```\n",
    "- filters: 32\n",
    "- kernel_size: (3,3)\n",
    "- padding: same\n",
    "- activation: relu\n",
    "- input_shape: (28, 28, 1)\n",
    "```\n",
    "\n",
    "\n",
    "\n"
   ]
  },
  {
   "cell_type": "markdown",
   "metadata": {
    "colab_type": "text",
    "id": "tRs0r0afhpl9"
   },
   "source": [
    "*Filters: the number of feauters are going to be used for convolving (filtering)\n",
    "the input*  \n",
    "*Kernel_size: the size of the filter*\n",
    "\n",
    "*Padding='Valid':*\t            \n",
    "*   No padding\t\n",
    "*   Dimensions reduce\n",
    "\n",
    "*Padding='Same':* \t\n",
    "*   Zeros around the edges\n",
    "*   Dimensions stay the same    \n",
    "\n"
   ]
  },
  {
   "cell_type": "markdown",
   "metadata": {
    "colab_type": "text",
    "id": "wpUTtfL7fntK"
   },
   "source": [
    "Conv1D is used for input signals which are similar to the voice. By employing them you can find patterns across the signal.  \n",
    "Example: 1 second stereo voice signal sampled at 44100 Hz, shape: (batch_size,  44100, 2)\n",
    "\n",
    "Conv2D is used for images. This use case is very popular. The convolution method used for this layer is so called convolution over volume. This means you have a two-dimensional image which contains multiple channels, RGB as an example. In this case, each convolutional filter should be a three-dimensional filter to be convolved, cross-correlated actually, with the image to find appropriate patterns across the image.  \n",
    "Example: 32x32 RGB image, shape: (batch_size, 32, 32, 3)\n",
    "\n",
    "Conv3D is usually used for videos where you have a frame for each time span. These layers usually have more parameters to be learnt than the previous layers. The reason we call them 3D is that other than images for each frame, there is another axis called time containing discrete values, and each of them corresponds to a particular frame.  \n",
    "Example: 1 second video of 32x32 RGB images at 24 fps, shape: (batch_size, 32, 32, 3, 24)"
   ]
  },
  {
   "cell_type": "code",
   "execution_count": 0,
   "metadata": {
    "colab": {},
    "colab_type": "code",
    "id": "aQq9JOzgQT8W"
   },
   "outputs": [],
   "source": [
    "CNN.add(tf.keras.layers.Conv2D(filters=32, kernel_size=(3,3), padding=\"same\", activation=\"relu\", input_shape=[28, 28, 1]))"
   ]
  },
  {
   "cell_type": "markdown",
   "metadata": {
    "colab_type": "text",
    "id": "kmjw2_yxXRcR"
   },
   "source": [
    "### Adding the second CNN Layer and max pool layer\n",
    "\n",
    "CNN layer hyper-parameters:\n",
    "\n",
    "```\n",
    "- filters: 32\n",
    "- kernel_size: (3,3)\n",
    "- padding: same\n",
    "- activation: relu\n",
    "```\n",
    "\n",
    "\n",
    "\n",
    "MaxPool layer hyper-parameters:\n",
    "```\n",
    "- pool_size: (2,2)\n",
    "- strides: 2\n",
    "- padding: valid\n",
    "```\n",
    "\n",
    "\n"
   ]
  },
  {
   "cell_type": "code",
   "execution_count": 0,
   "metadata": {
    "colab": {},
    "colab_type": "code",
    "id": "0-HWkJi4QUFi"
   },
   "outputs": [],
   "source": [
    "CNN.add(tf.keras.layers.Conv2D(filters=32, kernel_size=(3,3), padding=\"same\", activation=\"relu\"))"
   ]
  },
  {
   "cell_type": "code",
   "execution_count": 0,
   "metadata": {
    "colab": {},
    "colab_type": "code",
    "id": "kKMKpAH1QUNo"
   },
   "outputs": [],
   "source": [
    "CNN.add(tf.keras.layers.MaxPool2D(pool_size=(2,2), strides=2, padding='valid'))"
   ]
  },
  {
   "cell_type": "markdown",
   "metadata": {
    "colab_type": "text",
    "id": "k4frr3FoXq9a"
   },
   "source": [
    "### Adding the third CNN Layer\n",
    "\n",
    "CNN layer hyper-parameters:\n",
    "\n",
    "    filters: 64\n",
    "    kernel_size: (3,3)\n",
    "    padding: same\n",
    "    activation: relu"
   ]
  },
  {
   "cell_type": "code",
   "execution_count": 0,
   "metadata": {
    "colab": {},
    "colab_type": "code",
    "id": "sNWxKGe5XlDp"
   },
   "outputs": [],
   "source": [
    "CNN.add(tf.keras.layers.Conv2D(filters=64, kernel_size=(3,3), padding=\"same\", activation=\"relu\"))"
   ]
  },
  {
   "cell_type": "markdown",
   "metadata": {
    "colab_type": "text",
    "id": "LV5hdyqOXlr1"
   },
   "source": [
    "###  Adding the fourth CNN Layer and max pool layer\n",
    "\n",
    "CNN layer hyper-parameters:\n",
    "\n",
    "    filters: 64\n",
    "    kernel_size: (3,3)\n",
    "    padding: same\n",
    "    activation: relu\n",
    "\n",
    "MaxPool layer hyper-parameters:\n",
    "\n",
    "    pool_size: (2,2)\n",
    "    strides: 2\n",
    "    padding: valid"
   ]
  },
  {
   "cell_type": "code",
   "execution_count": 0,
   "metadata": {
    "colab": {},
    "colab_type": "code",
    "id": "c73nhr-2XxJX"
   },
   "outputs": [],
   "source": [
    "CNN.add(tf.keras.layers.Conv2D(filters=64, kernel_size=(3,3), padding=\"same\", activation=\"relu\"))"
   ]
  },
  {
   "cell_type": "code",
   "execution_count": 0,
   "metadata": {
    "colab": {},
    "colab_type": "code",
    "id": "k8ztlpJnX1Lf"
   },
   "outputs": [],
   "source": [
    "CNN.add(tf.keras.layers.MaxPool2D(pool_size=(2,2), strides=2, padding='valid'))"
   ]
  },
  {
   "cell_type": "markdown",
   "metadata": {
    "colab_type": "text",
    "id": "u4ADI06QX4ij"
   },
   "source": [
    "### Adding the Flatten layer"
   ]
  },
  {
   "cell_type": "code",
   "execution_count": 0,
   "metadata": {
    "colab": {},
    "colab_type": "code",
    "id": "prczuUYUX48S"
   },
   "outputs": [],
   "source": [
    "CNN.add(tf.keras.layers.Flatten())"
   ]
  },
  {
   "cell_type": "markdown",
   "metadata": {
    "colab_type": "text",
    "id": "SMO14mguX8gB"
   },
   "source": [
    "### Adding the first Dense layer\n",
    "\n",
    "Dense layer hyper-parameters:\n",
    "- units/neurons: 128\n",
    "- activation: relu"
   ]
  },
  {
   "cell_type": "code",
   "execution_count": 0,
   "metadata": {
    "colab": {},
    "colab_type": "code",
    "id": "faH51vo4X6YG"
   },
   "outputs": [],
   "source": [
    "CNN.add(tf.keras.layers.Dense(units=128, activation='relu'))"
   ]
  },
  {
   "cell_type": "markdown",
   "metadata": {
    "colab_type": "text",
    "id": "vRbDSwc_X_vu"
   },
   "source": [
    "### Adding the more Dense layer"
   ]
  },
  {
   "cell_type": "code",
   "execution_count": 0,
   "metadata": {
    "colab": {},
    "colab_type": "code",
    "id": "LVc-rZpmYBhF"
   },
   "outputs": [],
   "source": [
    "CNN.add(tf.keras.layers.Dropout(0.4))\n",
    "CNN.add(tf.keras.layers.Dense(units=64, activation='relu'))\n",
    "CNN.add(tf.keras.layers.Dropout(0.2))\n",
    "CNN.add(tf.keras.layers.Dense(units=32, activation='relu'))"
   ]
  },
  {
   "cell_type": "markdown",
   "metadata": {
    "colab_type": "text",
    "id": "_ECX7LMIYEI0"
   },
   "source": [
    "### Adding the last Dense layer (output layer)\n",
    "\n",
    "Dense layer hyper-parameters:\n",
    "\n",
    " - units/neurons: 10 (number of classes)\n",
    " - activation: softmax"
   ]
  },
  {
   "cell_type": "code",
   "execution_count": 0,
   "metadata": {
    "colab": {},
    "colab_type": "code",
    "id": "FRpU1l79YDRb"
   },
   "outputs": [],
   "source": [
    "CNN.add(tf.keras.layers.Dense(units=10, activation='softmax'))"
   ]
  },
  {
   "cell_type": "code",
   "execution_count": 90,
   "metadata": {
    "colab": {
     "base_uri": "https://localhost:8080/",
     "height": 595
    },
    "colab_type": "code",
    "id": "i1clfkRXYIXZ",
    "outputId": "de8611e4-4106-4b86-befd-d80732517ca6"
   },
   "outputs": [
    {
     "name": "stdout",
     "output_type": "stream",
     "text": [
      "Model: \"sequential_1\"\n",
      "_________________________________________________________________\n",
      "Layer (type)                 Output Shape              Param #   \n",
      "=================================================================\n",
      "conv2d (Conv2D)              (None, 28, 28, 32)        320       \n",
      "_________________________________________________________________\n",
      "conv2d_1 (Conv2D)            (None, 28, 28, 32)        9248      \n",
      "_________________________________________________________________\n",
      "max_pooling2d (MaxPooling2D) (None, 14, 14, 32)        0         \n",
      "_________________________________________________________________\n",
      "conv2d_2 (Conv2D)            (None, 14, 14, 64)        18496     \n",
      "_________________________________________________________________\n",
      "conv2d_3 (Conv2D)            (None, 14, 14, 64)        36928     \n",
      "_________________________________________________________________\n",
      "max_pooling2d_1 (MaxPooling2 (None, 7, 7, 64)          0         \n",
      "_________________________________________________________________\n",
      "flatten (Flatten)            (None, 3136)              0         \n",
      "_________________________________________________________________\n",
      "dense_4 (Dense)              (None, 128)               401536    \n",
      "_________________________________________________________________\n",
      "dropout_2 (Dropout)          (None, 128)               0         \n",
      "_________________________________________________________________\n",
      "dense_5 (Dense)              (None, 64)                8256      \n",
      "_________________________________________________________________\n",
      "dropout_3 (Dropout)          (None, 64)                0         \n",
      "_________________________________________________________________\n",
      "dense_6 (Dense)              (None, 32)                2080      \n",
      "_________________________________________________________________\n",
      "dense_7 (Dense)              (None, 10)                330       \n",
      "=================================================================\n",
      "Total params: 477,194\n",
      "Trainable params: 477,194\n",
      "Non-trainable params: 0\n",
      "_________________________________________________________________\n"
     ]
    }
   ],
   "source": [
    "CNN.summary()"
   ]
  },
  {
   "cell_type": "markdown",
   "metadata": {
    "colab_type": "text",
    "id": "CbZB_AIwYSqQ"
   },
   "source": [
    "### Compiling the model\n",
    "\n",
    "#### sparse_categorical_accuracy\n",
    "sparse_categorical_accuracy checks to see if the maximal true value is equal to the index of the maximal predicted value.\n",
    "\n",
    "https://stackoverflow.com/questions/44477489/keras-difference-between-categorical-accuracy-and-sparse-categorical-accuracy "
   ]
  },
  {
   "cell_type": "code",
   "execution_count": 0,
   "metadata": {
    "colab": {},
    "colab_type": "code",
    "id": "YXhJh7xSYTqy"
   },
   "outputs": [],
   "source": [
    "CNN.compile(loss=\"sparse_categorical_crossentropy\",\n",
    "              optimizer=\"Adam\", metrics=[\"sparse_categorical_accuracy\"])"
   ]
  },
  {
   "cell_type": "markdown",
   "metadata": {
    "colab_type": "text",
    "id": "Daj72BjveE-p"
   },
   "source": [
    "### Training the model"
   ]
  },
  {
   "cell_type": "code",
   "execution_count": 92,
   "metadata": {
    "colab": {
     "base_uri": "https://localhost:8080/",
     "height": 1000
    },
    "colab_type": "code",
    "id": "YTIwaiWRYrSX",
    "outputId": "a8137359-3649-4aa2-9817-6808d13e1a33"
   },
   "outputs": [
    {
     "name": "stdout",
     "output_type": "stream",
     "text": [
      "Epoch 1/30\n",
      "60000/60000 [==============================] - 30s 497us/sample - loss: 0.5787 - sparse_categorical_accuracy: 0.7905\n",
      "Epoch 2/30\n",
      "60000/60000 [==============================] - 25s 411us/sample - loss: 0.3433 - sparse_categorical_accuracy: 0.8794\n",
      "Epoch 3/30\n",
      "60000/60000 [==============================] - 25s 422us/sample - loss: 0.2829 - sparse_categorical_accuracy: 0.9014\n",
      "Epoch 4/30\n",
      "60000/60000 [==============================] - 25s 415us/sample - loss: 0.2491 - sparse_categorical_accuracy: 0.9118\n",
      "Epoch 5/30\n",
      "60000/60000 [==============================] - 25s 412us/sample - loss: 0.2247 - sparse_categorical_accuracy: 0.9190\n",
      "Epoch 6/30\n",
      "60000/60000 [==============================] - 25s 411us/sample - loss: 0.2075 - sparse_categorical_accuracy: 0.9269\n",
      "Epoch 7/30\n",
      "60000/60000 [==============================] - 24s 405us/sample - loss: 0.1909 - sparse_categorical_accuracy: 0.9326\n",
      "Epoch 8/30\n",
      "60000/60000 [==============================] - 25s 410us/sample - loss: 0.1789 - sparse_categorical_accuracy: 0.9379\n",
      "Epoch 9/30\n",
      "60000/60000 [==============================] - 25s 411us/sample - loss: 0.1679 - sparse_categorical_accuracy: 0.9398\n",
      "Epoch 10/30\n",
      "60000/60000 [==============================] - 25s 414us/sample - loss: 0.1568 - sparse_categorical_accuracy: 0.9448\n",
      "Epoch 11/30\n",
      "60000/60000 [==============================] - 25s 422us/sample - loss: 0.1482 - sparse_categorical_accuracy: 0.9464\n",
      "Epoch 12/30\n",
      "60000/60000 [==============================] - 25s 412us/sample - loss: 0.1398 - sparse_categorical_accuracy: 0.9503\n",
      "Epoch 13/30\n",
      "60000/60000 [==============================] - 25s 415us/sample - loss: 0.1338 - sparse_categorical_accuracy: 0.9530\n",
      "Epoch 14/30\n",
      "60000/60000 [==============================] - 24s 408us/sample - loss: 0.1271 - sparse_categorical_accuracy: 0.9551\n",
      "Epoch 15/30\n",
      "60000/60000 [==============================] - 24s 406us/sample - loss: 0.1196 - sparse_categorical_accuracy: 0.9580\n",
      "Epoch 16/30\n",
      "60000/60000 [==============================] - 24s 403us/sample - loss: 0.1140 - sparse_categorical_accuracy: 0.9598\n",
      "Epoch 17/30\n",
      "60000/60000 [==============================] - 25s 413us/sample - loss: 0.1141 - sparse_categorical_accuracy: 0.9599\n",
      "Epoch 18/30\n",
      "60000/60000 [==============================] - 25s 417us/sample - loss: 0.1079 - sparse_categorical_accuracy: 0.9621\n",
      "Epoch 19/30\n",
      "60000/60000 [==============================] - 25s 416us/sample - loss: 0.1014 - sparse_categorical_accuracy: 0.9647\n",
      "Epoch 20/30\n",
      "60000/60000 [==============================] - 25s 418us/sample - loss: 0.0990 - sparse_categorical_accuracy: 0.9665\n",
      "Epoch 21/30\n",
      "60000/60000 [==============================] - 25s 417us/sample - loss: 0.0975 - sparse_categorical_accuracy: 0.9661\n",
      "Epoch 22/30\n",
      "60000/60000 [==============================] - 25s 411us/sample - loss: 0.0928 - sparse_categorical_accuracy: 0.9683\n",
      "Epoch 23/30\n",
      "60000/60000 [==============================] - 26s 426us/sample - loss: 0.0868 - sparse_categorical_accuracy: 0.9701\n",
      "Epoch 24/30\n",
      "60000/60000 [==============================] - 25s 412us/sample - loss: 0.0834 - sparse_categorical_accuracy: 0.9718\n",
      "Epoch 25/30\n",
      "60000/60000 [==============================] - 25s 413us/sample - loss: 0.0858 - sparse_categorical_accuracy: 0.9698\n",
      "Epoch 26/30\n",
      "60000/60000 [==============================] - 25s 414us/sample - loss: 0.0833 - sparse_categorical_accuracy: 0.9718\n",
      "Epoch 27/30\n",
      "60000/60000 [==============================] - 25s 414us/sample - loss: 0.0737 - sparse_categorical_accuracy: 0.9743\n",
      "Epoch 28/30\n",
      "60000/60000 [==============================] - 25s 421us/sample - loss: 0.0797 - sparse_categorical_accuracy: 0.9730\n",
      "Epoch 29/30\n",
      "60000/60000 [==============================] - 25s 422us/sample - loss: 0.0724 - sparse_categorical_accuracy: 0.9755\n",
      "Epoch 30/30\n",
      "60000/60000 [==============================] - 26s 433us/sample - loss: 0.0720 - sparse_categorical_accuracy: 0.9756\n",
      "\n",
      "\n",
      "Training time:752.390468120575\n"
     ]
    }
   ],
   "source": [
    "start = time.time()\n",
    "\n",
    "CNN.fit(CNN_train_images, CNN_train_labels, epochs=30)\n",
    "\n",
    "end = time.time()\n",
    "final_time = end-start\n",
    "print('\\n')\n",
    "print('Training time:{}'.format(final_time))"
   ]
  },
  {
   "cell_type": "markdown",
   "metadata": {
    "colab_type": "text",
    "id": "0u0R8dVYeS8E"
   },
   "source": [
    "### Model evaluation and prediction"
   ]
  },
  {
   "cell_type": "code",
   "execution_count": 93,
   "metadata": {
    "colab": {
     "base_uri": "https://localhost:8080/",
     "height": 68
    },
    "colab_type": "code",
    "id": "mkKZTSkdeOOB",
    "outputId": "49e23b57-872a-43c6-d0ce-d5091d857b91"
   },
   "outputs": [
    {
     "name": "stdout",
     "output_type": "stream",
     "text": [
      "\n",
      "\n",
      "Testing time:1.047379493713379\n"
     ]
    }
   ],
   "source": [
    " start = time.time()\n",
    "\n",
    "CNN_pred= CNN.predict_classes(CNN_test_images)\n",
    "\n",
    "end = time.time()\n",
    "final_time = end-start\n",
    "print('\\n')\n",
    "print('Testing time:{}'.format(final_time))"
   ]
  },
  {
   "cell_type": "code",
   "execution_count": 94,
   "metadata": {
    "colab": {
     "base_uri": "https://localhost:8080/",
     "height": 187
    },
    "colab_type": "code",
    "id": "oaYzo11VeZLj",
    "outputId": "0ee1cf56-fff9-4827-f229-6a5d757ad648"
   },
   "outputs": [
    {
     "name": "stdout",
     "output_type": "stream",
     "text": [
      "[[897   1  14   8   1   0  75   0   4   0]\n",
      " [  0 985   0   9   0   0   4   0   2   0]\n",
      " [ 18   2 909   8  32   0  30   0   1   0]\n",
      " [ 23   0  11 933   9   0  23   0   1   0]\n",
      " [  0   0  59  28 871   0  41   0   1   0]\n",
      " [  0   0   0   0   0 978   0  13   0   9]\n",
      " [118   2  47  22  66   0 740   0   5   0]\n",
      " [  0   0   0   0   0   8   0 982   0  10]\n",
      " [  1   0   0   4   1   2   1   1 990   0]\n",
      " [  0   0   0   0   0   5   1  27   0 967]]\n"
     ]
    }
   ],
   "source": [
    "# Confusion Matrix\n",
    "from sklearn.metrics import confusion_matrix\n",
    "confusion_matrix = confusion_matrix(CNN_test_labels, CNN_pred)\n",
    "print(confusion_matrix)"
   ]
  },
  {
   "cell_type": "code",
   "execution_count": 95,
   "metadata": {
    "colab": {
     "base_uri": "https://localhost:8080/",
     "height": 306
    },
    "colab_type": "code",
    "id": "WHlUN0i5ejXG",
    "outputId": "2bca4c2e-a27a-46ad-bdcd-af1d7127448c"
   },
   "outputs": [
    {
     "name": "stdout",
     "output_type": "stream",
     "text": [
      "              precision    recall  f1-score   support\n",
      "\n",
      "           0     0.8486    0.8970    0.8721      1000\n",
      "           1     0.9949    0.9850    0.9899      1000\n",
      "           2     0.8740    0.9090    0.8912      1000\n",
      "           3     0.9219    0.9330    0.9274      1000\n",
      "           4     0.8888    0.8710    0.8798      1000\n",
      "           5     0.9849    0.9780    0.9814      1000\n",
      "           6     0.8087    0.7400    0.7728      1000\n",
      "           7     0.9599    0.9820    0.9708      1000\n",
      "           8     0.9861    0.9900    0.9880      1000\n",
      "           9     0.9807    0.9670    0.9738      1000\n",
      "\n",
      "    accuracy                         0.9252     10000\n",
      "   macro avg     0.9249    0.9252    0.9247     10000\n",
      "weighted avg     0.9249    0.9252    0.9247     10000\n",
      "\n"
     ]
    }
   ],
   "source": [
    "# Classification Report\n",
    "from sklearn.metrics import classification_report\n",
    "print(classification_report(CNN_test_labels, CNN_pred, digits=4))"
   ]
  },
  {
   "cell_type": "code",
   "execution_count": 96,
   "metadata": {
    "colab": {
     "base_uri": "https://localhost:8080/",
     "height": 34
    },
    "colab_type": "code",
    "id": "p4oeUYdyYtnR",
    "outputId": "128e5395-8fb4-418a-a602-72ecfe8f6247"
   },
   "outputs": [
    {
     "name": "stdout",
     "output_type": "stream",
     "text": [
      "10000/10000 [==============================] - 1s 141us/sample - loss: 0.2955 - sparse_categorical_accuracy: 0.9252\n"
     ]
    }
   ],
   "source": [
    "test_loss, test_accuracy = CNN.evaluate(CNN_test_images, CNN_test_labels)"
   ]
  },
  {
   "cell_type": "code",
   "execution_count": 97,
   "metadata": {
    "colab": {
     "base_uri": "https://localhost:8080/",
     "height": 34
    },
    "colab_type": "code",
    "id": "K2I8_NnjYxUw",
    "outputId": "75382a2d-16e4-407c-8b58-bd264121fa0e"
   },
   "outputs": [
    {
     "name": "stdout",
     "output_type": "stream",
     "text": [
      "Test accuracy: 0.9251999855041504\n"
     ]
    }
   ],
   "source": [
    "print(\"Test accuracy: {}\".format(test_accuracy))"
   ]
  },
  {
   "cell_type": "markdown",
   "metadata": {
    "colab_type": "text",
    "id": "NKqhbKGE01LD"
   },
   "source": [
    "# Final Model"
   ]
  },
  {
   "cell_type": "code",
   "execution_count": 0,
   "metadata": {
    "colab": {},
    "colab_type": "code",
    "id": "mpjzmnftSH9b"
   },
   "outputs": [],
   "source": [
    "algorithm = ['Linear Classification', 'Logistics Regression', 'Support Vector', 'Naïve Bayes', 'K-Nearest Neighbors', 'Random Forest', \n",
    "             'ANN (Artificial Neural Network)', 'CNN (Convolutional Neural Network)'] \n",
    "training = [31.0805, 751.8370, 579.6898, 0.6993, 11.3533, 81.6047, \n",
    "            318.2523, 752.3904]\n",
    "testing = [0.0357, 0.0300, 207.9156, 0.5419, 771.0947, 0.4056, \n",
    "           0.4532, 1.0473]\n",
    "score = np.array([0.8103, 0.8441, 0.8829, 0.5856, 0.8554, 0.8769, \n",
    "                  0.8867, 0.9251])*100"
   ]
  },
  {
   "cell_type": "code",
   "execution_count": 0,
   "metadata": {
    "colab": {},
    "colab_type": "code",
    "id": "w6BP3dCF3uX_"
   },
   "outputs": [],
   "source": [
    "performance_df = pd.DataFrame({'Algorithm':algorithm, 'Training':training, 'Testing':testing, 'Score':score})\n",
    "performance_df.sort_values(by=['Score'], axis=0, ascending=False, inplace=True)\n",
    "performance_df['Rank']=(1,2,3,4,5,6,7,8)"
   ]
  },
  {
   "cell_type": "code",
   "execution_count": 6,
   "metadata": {
    "colab": {
     "base_uri": "https://localhost:8080/",
     "height": 545
    },
    "colab_type": "code",
    "id": "-L8hx1rxGc5k",
    "outputId": "124c3e1e-78b6-4e2e-942e-4525cfd5e191"
   },
   "outputs": [
    {
     "data": {
      "text/html": [
       "<div>\n",
       "<style scoped>\n",
       "    .dataframe tbody tr th:only-of-type {\n",
       "        vertical-align: middle;\n",
       "    }\n",
       "\n",
       "    .dataframe tbody tr th {\n",
       "        vertical-align: top;\n",
       "    }\n",
       "\n",
       "    .dataframe thead th {\n",
       "        text-align: right;\n",
       "    }\n",
       "</style>\n",
       "<table border=\"1\" class=\"dataframe\">\n",
       "  <thead>\n",
       "    <tr style=\"text-align: right;\">\n",
       "      <th></th>\n",
       "      <th>Algorithm</th>\n",
       "      <th>Score</th>\n",
       "      <th>Rank</th>\n",
       "      <th>data</th>\n",
       "      <th>Cost</th>\n",
       "    </tr>\n",
       "  </thead>\n",
       "  <tbody>\n",
       "    <tr>\n",
       "      <th>0</th>\n",
       "      <td>CNN (Convolutional Neural Network)</td>\n",
       "      <td>92.51</td>\n",
       "      <td>1</td>\n",
       "      <td>Training</td>\n",
       "      <td>752.3904</td>\n",
       "    </tr>\n",
       "    <tr>\n",
       "      <th>1</th>\n",
       "      <td>ANN (Artificial Neural Network)</td>\n",
       "      <td>88.67</td>\n",
       "      <td>2</td>\n",
       "      <td>Training</td>\n",
       "      <td>318.2523</td>\n",
       "    </tr>\n",
       "    <tr>\n",
       "      <th>2</th>\n",
       "      <td>Support Vector</td>\n",
       "      <td>88.29</td>\n",
       "      <td>3</td>\n",
       "      <td>Training</td>\n",
       "      <td>579.6898</td>\n",
       "    </tr>\n",
       "    <tr>\n",
       "      <th>3</th>\n",
       "      <td>Random Forest</td>\n",
       "      <td>87.69</td>\n",
       "      <td>4</td>\n",
       "      <td>Training</td>\n",
       "      <td>81.6047</td>\n",
       "    </tr>\n",
       "    <tr>\n",
       "      <th>4</th>\n",
       "      <td>K-Nearest Neighbors</td>\n",
       "      <td>85.54</td>\n",
       "      <td>5</td>\n",
       "      <td>Training</td>\n",
       "      <td>11.3533</td>\n",
       "    </tr>\n",
       "    <tr>\n",
       "      <th>5</th>\n",
       "      <td>Logistics Regression</td>\n",
       "      <td>84.41</td>\n",
       "      <td>6</td>\n",
       "      <td>Training</td>\n",
       "      <td>751.8370</td>\n",
       "    </tr>\n",
       "    <tr>\n",
       "      <th>6</th>\n",
       "      <td>Linear Classification</td>\n",
       "      <td>81.03</td>\n",
       "      <td>7</td>\n",
       "      <td>Training</td>\n",
       "      <td>31.0805</td>\n",
       "    </tr>\n",
       "    <tr>\n",
       "      <th>7</th>\n",
       "      <td>Naïve Bayes</td>\n",
       "      <td>58.56</td>\n",
       "      <td>8</td>\n",
       "      <td>Training</td>\n",
       "      <td>0.6993</td>\n",
       "    </tr>\n",
       "    <tr>\n",
       "      <th>8</th>\n",
       "      <td>CNN (Convolutional Neural Network)</td>\n",
       "      <td>92.51</td>\n",
       "      <td>1</td>\n",
       "      <td>Testing</td>\n",
       "      <td>1.0473</td>\n",
       "    </tr>\n",
       "    <tr>\n",
       "      <th>9</th>\n",
       "      <td>ANN (Artificial Neural Network)</td>\n",
       "      <td>88.67</td>\n",
       "      <td>2</td>\n",
       "      <td>Testing</td>\n",
       "      <td>0.4532</td>\n",
       "    </tr>\n",
       "    <tr>\n",
       "      <th>10</th>\n",
       "      <td>Support Vector</td>\n",
       "      <td>88.29</td>\n",
       "      <td>3</td>\n",
       "      <td>Testing</td>\n",
       "      <td>207.9156</td>\n",
       "    </tr>\n",
       "    <tr>\n",
       "      <th>11</th>\n",
       "      <td>Random Forest</td>\n",
       "      <td>87.69</td>\n",
       "      <td>4</td>\n",
       "      <td>Testing</td>\n",
       "      <td>0.4056</td>\n",
       "    </tr>\n",
       "    <tr>\n",
       "      <th>12</th>\n",
       "      <td>K-Nearest Neighbors</td>\n",
       "      <td>85.54</td>\n",
       "      <td>5</td>\n",
       "      <td>Testing</td>\n",
       "      <td>771.0947</td>\n",
       "    </tr>\n",
       "    <tr>\n",
       "      <th>13</th>\n",
       "      <td>Logistics Regression</td>\n",
       "      <td>84.41</td>\n",
       "      <td>6</td>\n",
       "      <td>Testing</td>\n",
       "      <td>0.0300</td>\n",
       "    </tr>\n",
       "    <tr>\n",
       "      <th>14</th>\n",
       "      <td>Linear Classification</td>\n",
       "      <td>81.03</td>\n",
       "      <td>7</td>\n",
       "      <td>Testing</td>\n",
       "      <td>0.0357</td>\n",
       "    </tr>\n",
       "    <tr>\n",
       "      <th>15</th>\n",
       "      <td>Naïve Bayes</td>\n",
       "      <td>58.56</td>\n",
       "      <td>8</td>\n",
       "      <td>Testing</td>\n",
       "      <td>0.5419</td>\n",
       "    </tr>\n",
       "  </tbody>\n",
       "</table>\n",
       "</div>"
      ],
      "text/plain": [
       "                             Algorithm  Score  Rank      data      Cost\n",
       "0   CNN (Convolutional Neural Network)  92.51     1  Training  752.3904\n",
       "1      ANN (Artificial Neural Network)  88.67     2  Training  318.2523\n",
       "2                       Support Vector  88.29     3  Training  579.6898\n",
       "3                        Random Forest  87.69     4  Training   81.6047\n",
       "4                  K-Nearest Neighbors  85.54     5  Training   11.3533\n",
       "5                 Logistics Regression  84.41     6  Training  751.8370\n",
       "6                Linear Classification  81.03     7  Training   31.0805\n",
       "7                          Naïve Bayes  58.56     8  Training    0.6993\n",
       "8   CNN (Convolutional Neural Network)  92.51     1   Testing    1.0473\n",
       "9      ANN (Artificial Neural Network)  88.67     2   Testing    0.4532\n",
       "10                      Support Vector  88.29     3   Testing  207.9156\n",
       "11                       Random Forest  87.69     4   Testing    0.4056\n",
       "12                 K-Nearest Neighbors  85.54     5   Testing  771.0947\n",
       "13                Logistics Regression  84.41     6   Testing    0.0300\n",
       "14               Linear Classification  81.03     7   Testing    0.0357\n",
       "15                         Naïve Bayes  58.56     8   Testing    0.5419"
      ]
     },
     "execution_count": 6,
     "metadata": {
      "tags": []
     },
     "output_type": "execute_result"
    }
   ],
   "source": [
    "# convert the dataframe to long data\n",
    "df_melt = pd.melt(performance_df, id_vars=['Algorithm','Score','Rank'], value_vars=['Training','Testing'],\n",
    "             var_name='data', value_name='Cost')\n",
    "df_melt"
   ]
  },
  {
   "cell_type": "code",
   "execution_count": 7,
   "metadata": {
    "colab": {
     "base_uri": "https://localhost:8080/",
     "height": 297
    },
    "colab_type": "code",
    "id": "njphBHqcJbfa",
    "outputId": "2a352f62-c43d-4080-a038-6afbbc3c0736"
   },
   "outputs": [
    {
     "data": {
      "text/html": [
       "<div>\n",
       "<style scoped>\n",
       "    .dataframe tbody tr th:only-of-type {\n",
       "        vertical-align: middle;\n",
       "    }\n",
       "\n",
       "    .dataframe tbody tr th {\n",
       "        vertical-align: top;\n",
       "    }\n",
       "\n",
       "    .dataframe thead th {\n",
       "        text-align: right;\n",
       "    }\n",
       "</style>\n",
       "<table border=\"1\" class=\"dataframe\">\n",
       "  <thead>\n",
       "    <tr style=\"text-align: right;\">\n",
       "      <th></th>\n",
       "      <th>Algorithm</th>\n",
       "      <th>Training</th>\n",
       "      <th>Testing</th>\n",
       "      <th>Score</th>\n",
       "      <th>Rank</th>\n",
       "      <th>Total cost</th>\n",
       "    </tr>\n",
       "  </thead>\n",
       "  <tbody>\n",
       "    <tr>\n",
       "      <th>7</th>\n",
       "      <td>CNN (Convolutional Neural Network)</td>\n",
       "      <td>752.3904</td>\n",
       "      <td>1.0473</td>\n",
       "      <td>92.51</td>\n",
       "      <td>1</td>\n",
       "      <td>753.4377</td>\n",
       "    </tr>\n",
       "    <tr>\n",
       "      <th>6</th>\n",
       "      <td>ANN (Artificial Neural Network)</td>\n",
       "      <td>318.2523</td>\n",
       "      <td>0.4532</td>\n",
       "      <td>88.67</td>\n",
       "      <td>2</td>\n",
       "      <td>318.7055</td>\n",
       "    </tr>\n",
       "    <tr>\n",
       "      <th>2</th>\n",
       "      <td>Support Vector</td>\n",
       "      <td>579.6898</td>\n",
       "      <td>207.9156</td>\n",
       "      <td>88.29</td>\n",
       "      <td>3</td>\n",
       "      <td>787.6054</td>\n",
       "    </tr>\n",
       "    <tr>\n",
       "      <th>5</th>\n",
       "      <td>Random Forest</td>\n",
       "      <td>81.6047</td>\n",
       "      <td>0.4056</td>\n",
       "      <td>87.69</td>\n",
       "      <td>4</td>\n",
       "      <td>82.0103</td>\n",
       "    </tr>\n",
       "    <tr>\n",
       "      <th>4</th>\n",
       "      <td>K-Nearest Neighbors</td>\n",
       "      <td>11.3533</td>\n",
       "      <td>771.0947</td>\n",
       "      <td>85.54</td>\n",
       "      <td>5</td>\n",
       "      <td>782.4480</td>\n",
       "    </tr>\n",
       "    <tr>\n",
       "      <th>1</th>\n",
       "      <td>Logistics Regression</td>\n",
       "      <td>751.8370</td>\n",
       "      <td>0.0300</td>\n",
       "      <td>84.41</td>\n",
       "      <td>6</td>\n",
       "      <td>751.8670</td>\n",
       "    </tr>\n",
       "    <tr>\n",
       "      <th>0</th>\n",
       "      <td>Linear Classification</td>\n",
       "      <td>31.0805</td>\n",
       "      <td>0.0357</td>\n",
       "      <td>81.03</td>\n",
       "      <td>7</td>\n",
       "      <td>31.1162</td>\n",
       "    </tr>\n",
       "    <tr>\n",
       "      <th>3</th>\n",
       "      <td>Naïve Bayes</td>\n",
       "      <td>0.6993</td>\n",
       "      <td>0.5419</td>\n",
       "      <td>58.56</td>\n",
       "      <td>8</td>\n",
       "      <td>1.2412</td>\n",
       "    </tr>\n",
       "  </tbody>\n",
       "</table>\n",
       "</div>"
      ],
      "text/plain": [
       "                            Algorithm  Training   Testing  Score  Rank  \\\n",
       "7  CNN (Convolutional Neural Network)  752.3904    1.0473  92.51     1   \n",
       "6     ANN (Artificial Neural Network)  318.2523    0.4532  88.67     2   \n",
       "2                      Support Vector  579.6898  207.9156  88.29     3   \n",
       "5                       Random Forest   81.6047    0.4056  87.69     4   \n",
       "4                 K-Nearest Neighbors   11.3533  771.0947  85.54     5   \n",
       "1                Logistics Regression  751.8370    0.0300  84.41     6   \n",
       "0               Linear Classification   31.0805    0.0357  81.03     7   \n",
       "3                         Naïve Bayes    0.6993    0.5419  58.56     8   \n",
       "\n",
       "   Total cost  \n",
       "7    753.4377  \n",
       "6    318.7055  \n",
       "2    787.6054  \n",
       "5     82.0103  \n",
       "4    782.4480  \n",
       "1    751.8670  \n",
       "0     31.1162  \n",
       "3      1.2412  "
      ]
     },
     "execution_count": 7,
     "metadata": {
      "tags": []
     },
     "output_type": "execute_result"
    }
   ],
   "source": [
    "# add total cost feature\n",
    "performance_df['Total cost'] = performance_df['Training'] + performance_df['Testing']\n",
    "performance_df"
   ]
  },
  {
   "cell_type": "code",
   "execution_count": 8,
   "metadata": {
    "colab": {
     "base_uri": "https://localhost:8080/",
     "height": 514
    },
    "colab_type": "code",
    "id": "d9yKmoSR45hW",
    "outputId": "667cf95b-5bf0-49f5-8b79-ecc11dbab90f"
   },
   "outputs": [
    {
     "data": {
      "image/png": "[encoded data removed]",
      "text/plain": [
       "<Figure size 720x576 with 1 Axes>"
      ]
     },
     "metadata": {
      "tags": []
     },
     "output_type": "display_data"
    }
   ],
   "source": [
    "# Control plt figure size\n",
    "plt.figure(figsize=(10,8))\n",
    "\n",
    "# Plot the countplot\n",
    "ax=sns.barplot(y='Algorithm', x='Cost', data=df_melt, hue='data', palette=sns.color_palette(\"Paired\"), dodge=True\n",
    "               ,order = performance_df.sort_values(by=['Total cost'], axis=0, ascending=False)['Algorithm'].values\n",
    "               )\n",
    "\n",
    "# set title of the plot, x-axis label, xticklabels, and legend\n",
    "ax.set_title('Algorithm Classification Performance', fontsize=14);\n",
    "ax.legend(loc='lower right', title=\"Phase\", fancybox=True)\n",
    "ax.set_xlabel('Computation Time (s)')\n",
    "\n",
    "# annotate the time of each column\n",
    "for p in ax.patches:\n",
    "    time = '{:.0f}'.format(p.get_width())\n",
    "    x = p.get_x() + p.get_width()\n",
    "    y = p.get_y() + p.get_height()/2\n",
    "    ax.annotate(time, (x+5, y), ha='left', va='center_baseline')"
   ]
  },
  {
   "cell_type": "code",
   "execution_count": 9,
   "metadata": {
    "colab": {
     "base_uri": "https://localhost:8080/",
     "height": 514
    },
    "colab_type": "code",
    "id": "MqHrFBfzF1R8",
    "outputId": "e3772c61-8744-44b9-c908-e8aa568e6d41"
   },
   "outputs": [
    {
     "data": {
      "image/png": "[encoded data removed]",
      "text/plain": [
       "<Figure size 720x576 with 1 Axes>"
      ]
     },
     "metadata": {
      "tags": []
     },
     "output_type": "display_data"
    }
   ],
   "source": [
    "# Control plt figure size\n",
    "plt.figure(figsize=(10,8))\n",
    "\n",
    "# Plot the countplot\n",
    "ax=sns.barplot(y='Algorithm', x='Total cost', data=performance_df, hue='Rank', palette=sns.color_palette(\"Paired\"), dodge=False,\n",
    "               order = performance_df.sort_values(by=['Total cost'], axis=0, ascending=False)['Algorithm'].values)\n",
    "\n",
    "# set title of the plot, x-axis label, xticklabels, and legend\n",
    "ax.set_title('Algorithm Classification Overall Performance', fontsize=14);\n",
    "ax.legend(loc='lower right', title=\"Score Rank\", fancybox=True)\n",
    "ax.set_xlabel('Total Computation Time (s)')\n",
    "\n",
    "# annotate the time of each column\n",
    "for p in ax.patches:\n",
    "    time = '{:.0f}'.format(p.get_width())\n",
    "    x = p.get_x() + p.get_width()\n",
    "    y = p.get_y() + p.get_height()/2\n",
    "    ax.annotate(time, (x, y), ha='left', va='center_baseline')"
   ]
  },
  {
   "cell_type": "code",
   "execution_count": 10,
   "metadata": {
    "colab": {
     "base_uri": "https://localhost:8080/",
     "height": 514
    },
    "colab_type": "code",
    "id": "KvRNzVJXjUY6",
    "outputId": "c106e721-e5ca-49d4-ac36-e753d979dd5a"
   },
   "outputs": [
    {
     "data": {
      "image/png": "[encoded data removed]",
      "text/plain": [
       "<Figure size 720x576 with 1 Axes>"
      ]
     },
     "metadata": {
      "tags": []
     },
     "output_type": "display_data"
    }
   ],
   "source": [
    "# Control plt figure size\n",
    "plt.figure(figsize=(10,8))\n",
    "\n",
    "# Plot the countplot\n",
    "ax=sns.barplot(y='Algorithm', x='Score', data=performance_df, hue='Rank', palette=sns.color_palette(\"Paired\"), dodge=False,\n",
    "               order = performance_df.sort_values(by=['Score'], axis=0, ascending=False)['Algorithm'].values)\n",
    "\n",
    "# set title of the plot, x-axis label, xticklabels, and legend\n",
    "ax.set_title('Algorithm Classification Score', fontsize=14);\n",
    "#ax.legend(loc='lower left', title=\"Score Rank\", fancybox=True)\n",
    "ax.set_xlabel('Accuracy (%) [Rounded]')\n",
    "\n",
    "# annotate the time of each column\n",
    "for p in ax.patches:\n",
    "    time = '{:.0f}'.format(p.get_width())\n",
    "    x = p.get_x() + p.get_width()\n",
    "    y = p.get_y() + p.get_height()/2\n",
    "    ax.annotate(time, (x+1, y), ha='left', va='center_baseline')"
   ]
  },
  {
   "cell_type": "markdown",
   "metadata": {
    "colab_type": "text",
    "id": "9-pD4LUOieuD"
   },
   "source": [
    "# Questions"
   ]
  },
  {
   "cell_type": "markdown",
   "metadata": {
    "colab_type": "text",
    "id": "seutblQKihE3"
   },
   "source": [
    "What is the accuracy of each method?\n"
   ]
  },
  {
   "cell_type": "code",
   "execution_count": 11,
   "metadata": {
    "colab": {
     "base_uri": "https://localhost:8080/",
     "height": 297
    },
    "colab_type": "code",
    "id": "fAr8-3ttCoWf",
    "outputId": "8049dc1b-ef8a-4688-bbaf-de078c98abdc"
   },
   "outputs": [
    {
     "data": {
      "text/html": [
       "<div>\n",
       "<style scoped>\n",
       "    .dataframe tbody tr th:only-of-type {\n",
       "        vertical-align: middle;\n",
       "    }\n",
       "\n",
       "    .dataframe tbody tr th {\n",
       "        vertical-align: top;\n",
       "    }\n",
       "\n",
       "    .dataframe thead th {\n",
       "        text-align: right;\n",
       "    }\n",
       "</style>\n",
       "<table border=\"1\" class=\"dataframe\">\n",
       "  <thead>\n",
       "    <tr style=\"text-align: right;\">\n",
       "      <th></th>\n",
       "      <th>Algorithm</th>\n",
       "      <th>Score</th>\n",
       "    </tr>\n",
       "  </thead>\n",
       "  <tbody>\n",
       "    <tr>\n",
       "      <th>0</th>\n",
       "      <td>CNN (Convolutional Neural Network)</td>\n",
       "      <td>92.51</td>\n",
       "    </tr>\n",
       "    <tr>\n",
       "      <th>1</th>\n",
       "      <td>ANN (Artificial Neural Network)</td>\n",
       "      <td>88.67</td>\n",
       "    </tr>\n",
       "    <tr>\n",
       "      <th>2</th>\n",
       "      <td>Support Vector</td>\n",
       "      <td>88.29</td>\n",
       "    </tr>\n",
       "    <tr>\n",
       "      <th>3</th>\n",
       "      <td>Random Forest</td>\n",
       "      <td>87.69</td>\n",
       "    </tr>\n",
       "    <tr>\n",
       "      <th>4</th>\n",
       "      <td>K-Nearest Neighbors</td>\n",
       "      <td>85.54</td>\n",
       "    </tr>\n",
       "    <tr>\n",
       "      <th>5</th>\n",
       "      <td>Logistics Regression</td>\n",
       "      <td>84.41</td>\n",
       "    </tr>\n",
       "    <tr>\n",
       "      <th>6</th>\n",
       "      <td>Linear Classification</td>\n",
       "      <td>81.03</td>\n",
       "    </tr>\n",
       "    <tr>\n",
       "      <th>7</th>\n",
       "      <td>Naïve Bayes</td>\n",
       "      <td>58.56</td>\n",
       "    </tr>\n",
       "  </tbody>\n",
       "</table>\n",
       "</div>"
      ],
      "text/plain": [
       "                            Algorithm  Score\n",
       "0  CNN (Convolutional Neural Network)  92.51\n",
       "1     ANN (Artificial Neural Network)  88.67\n",
       "2                      Support Vector  88.29\n",
       "3                       Random Forest  87.69\n",
       "4                 K-Nearest Neighbors  85.54\n",
       "5                Logistics Regression  84.41\n",
       "6               Linear Classification  81.03\n",
       "7                         Naïve Bayes  58.56"
      ]
     },
     "execution_count": 11,
     "metadata": {
      "tags": []
     },
     "output_type": "execute_result"
    }
   ],
   "source": [
    "performance_df.reset_index(drop=True)[['Algorithm','Score']]"
   ]
  },
  {
   "cell_type": "markdown",
   "metadata": {
    "colab_type": "text",
    "id": "xVPS5nd3ihH4"
   },
   "source": [
    "What are the trade-offs of each approach?\n"
   ]
  },
  {
   "cell_type": "markdown",
   "metadata": {
    "colab_type": "text",
    "id": "Xlc8_fOSBgBH"
   },
   "source": [
    "Each approach has its own advantage and disadvantage. \n",
    "\n",
    "Convolutional Neural Network works the best among others. However, it comes with the package that the computation cost on training could be higher depending on how deep the network is. Artificial Neural Network works the same but has less computation cost and slightly off on the accuracy since it cannot detect every aspect of features as Convolutional Neural Network does. \n",
    "\n",
    "Support Vector Machine (SVM) works effectively in classifying higher dimensional space and saves spaces on memory because it only uses the support vectors to create the optimal line. It is the best classifier when data points are separable. But, SVM performs poorly when the classes are overlapping, such as non-separable data points, and it is limited to small dataset. The bigger the training data, the higher the computation cost. Therefore, in our case, it has higher computation cost and higher accuracy rate.\n",
    "\n",
    "Random forest has pretty good overall performance. It can handle both linear and non-linear data. But, one thing must be aware of. That is the higher depth of trees could bring the issue of the overfitting. \n",
    "\n",
    "K-Nearest Neighbors has higher computation cost on predicting It is not good for production since it requires more computation cost in predicting than training.\n",
    "\n",
    "Logistic regression works fairly and it can be used in practice but it may require more computation cost. \n",
    "\n",
    "Linear classification works just fine on the fashion-MINST dataset, but its performance is depending on the dataset. Linear classification works better on linear dataset with scaled input.\n",
    "\n",
    "Naïve Bayes is the simplest approach and known for faster computation compared to more sophisticated methods. When the training data contains continuous attribute, Gaussian Naïve Bayes is the choice. When the feature vectors represent frequencies, Multinomial Naïve Bayes should be implemented. When, the input variables are independent Booleans (binary variables), the Bernoulli Naïve Bayes is the tool to use. Overall, Naïve Bayes can perform will when the input variable is normally distributed and its predictors are independent to each other. But, clearly, it is not the case for our fashion-MINST dataset.\n"
   ]
  },
  {
   "cell_type": "markdown",
   "metadata": {
    "colab_type": "text",
    "id": "8HCTG5imihLN"
   },
   "source": [
    "What is the compute performance of each approach?"
   ]
  },
  {
   "cell_type": "code",
   "execution_count": 12,
   "metadata": {
    "colab": {
     "base_uri": "https://localhost:8080/",
     "height": 297
    },
    "colab_type": "code",
    "id": "C7KmUHNSUUry",
    "outputId": "1afaa9f8-8aed-4540-e330-22b2a5314aea"
   },
   "outputs": [
    {
     "data": {
      "text/html": [
       "<div>\n",
       "<style scoped>\n",
       "    .dataframe tbody tr th:only-of-type {\n",
       "        vertical-align: middle;\n",
       "    }\n",
       "\n",
       "    .dataframe tbody tr th {\n",
       "        vertical-align: top;\n",
       "    }\n",
       "\n",
       "    .dataframe thead th {\n",
       "        text-align: right;\n",
       "    }\n",
       "</style>\n",
       "<table border=\"1\" class=\"dataframe\">\n",
       "  <thead>\n",
       "    <tr style=\"text-align: right;\">\n",
       "      <th></th>\n",
       "      <th>Algorithm</th>\n",
       "      <th>Training</th>\n",
       "      <th>Testing</th>\n",
       "      <th>Total cost</th>\n",
       "    </tr>\n",
       "  </thead>\n",
       "  <tbody>\n",
       "    <tr>\n",
       "      <th>0</th>\n",
       "      <td>Support Vector</td>\n",
       "      <td>579.6898</td>\n",
       "      <td>207.9156</td>\n",
       "      <td>787.6054</td>\n",
       "    </tr>\n",
       "    <tr>\n",
       "      <th>1</th>\n",
       "      <td>K-Nearest Neighbors</td>\n",
       "      <td>11.3533</td>\n",
       "      <td>771.0947</td>\n",
       "      <td>782.4480</td>\n",
       "    </tr>\n",
       "    <tr>\n",
       "      <th>2</th>\n",
       "      <td>CNN (Convolutional Neural Network)</td>\n",
       "      <td>752.3904</td>\n",
       "      <td>1.0473</td>\n",
       "      <td>753.4377</td>\n",
       "    </tr>\n",
       "    <tr>\n",
       "      <th>3</th>\n",
       "      <td>Logistics Regression</td>\n",
       "      <td>751.8370</td>\n",
       "      <td>0.0300</td>\n",
       "      <td>751.8670</td>\n",
       "    </tr>\n",
       "    <tr>\n",
       "      <th>4</th>\n",
       "      <td>ANN (Artificial Neural Network)</td>\n",
       "      <td>318.2523</td>\n",
       "      <td>0.4532</td>\n",
       "      <td>318.7055</td>\n",
       "    </tr>\n",
       "    <tr>\n",
       "      <th>5</th>\n",
       "      <td>Random Forest</td>\n",
       "      <td>81.6047</td>\n",
       "      <td>0.4056</td>\n",
       "      <td>82.0103</td>\n",
       "    </tr>\n",
       "    <tr>\n",
       "      <th>6</th>\n",
       "      <td>Linear Classification</td>\n",
       "      <td>31.0805</td>\n",
       "      <td>0.0357</td>\n",
       "      <td>31.1162</td>\n",
       "    </tr>\n",
       "    <tr>\n",
       "      <th>7</th>\n",
       "      <td>Naïve Bayes</td>\n",
       "      <td>0.6993</td>\n",
       "      <td>0.5419</td>\n",
       "      <td>1.2412</td>\n",
       "    </tr>\n",
       "  </tbody>\n",
       "</table>\n",
       "</div>"
      ],
      "text/plain": [
       "                            Algorithm  Training   Testing  Total cost\n",
       "0                      Support Vector  579.6898  207.9156    787.6054\n",
       "1                 K-Nearest Neighbors   11.3533  771.0947    782.4480\n",
       "2  CNN (Convolutional Neural Network)  752.3904    1.0473    753.4377\n",
       "3                Logistics Regression  751.8370    0.0300    751.8670\n",
       "4     ANN (Artificial Neural Network)  318.2523    0.4532    318.7055\n",
       "5                       Random Forest   81.6047    0.4056     82.0103\n",
       "6               Linear Classification   31.0805    0.0357     31.1162\n",
       "7                         Naïve Bayes    0.6993    0.5419      1.2412"
      ]
     },
     "execution_count": 12,
     "metadata": {
      "tags": []
     },
     "output_type": "execute_result"
    }
   ],
   "source": [
    "performance_df.sort_values(by='Total cost', ascending=False).reset_index(drop=True)[['Algorithm','Training', 'Testing','Total cost']]"
   ]
  },
  {
   "cell_type": "markdown",
   "metadata": {
    "colab_type": "text",
    "id": "SZ8idm9f01LT"
   },
   "source": [
    "# Conclusion"
   ]
  },
  {
   "cell_type": "markdown",
   "metadata": {
    "colab_type": "text",
    "id": "t5JA_tVtEo8E"
   },
   "source": [
    "The fashion-MINST dataset was used for the eight algorithms. Among the 10 classes, 'T-shirt/top', 'Trouser', 'Pullover', 'Dress',  'Coat', 'Sandal', 'Shirt', 'Sneaker', 'Bag',  and 'Ankle boo', it is easy to find that ‘Shirt’ is the class that is hard to be classified by each of approaches. The reason could be that ‘Shirt’ shares the similar features with 'T-shirt/top’, ‘Pullover', and ‘Coat’. We can tell that by observing 'T-shirt/top’, ‘Pullover' and ‘Coat’ are not the top easy to be classified classes. ‘Trouser’ and ‘Bag’ are the classes that are easy to be classified because they have the clear features that are clearly different from others. In order to improve the ability of images recognition, the complicated neural network, Convolution Neural Network (CNN), should be built deeper for learning the varies of features with feature detector."
   ]
  },
  {
   "cell_type": "code",
   "execution_count": 0,
   "metadata": {
    "colab": {},
    "colab_type": "code",
    "id": "1B1ACGVCHBgh"
   },
   "outputs": [],
   "source": []
  }
 ],
 "metadata": {
  "accelerator": "GPU",
  "colab": {
   "collapsed_sections": [],
   "name": "Lab_3.ipynb",
   "provenance": [],
   "toc_visible": true
  },
  "kernelspec": {
   "display_name": "Python 3",
   "language": "python",
   "name": "python3"
  },
  "language_info": {
   "codemirror_mode": {
    "name": "ipython",
    "version": 3
   },
   "file_extension": ".py",
   "mimetype": "text/x-python",
   "name": "python",
   "nbconvert_exporter": "python",
   "pygments_lexer": "ipython3",
   "version": "3.7.3"
  }
 },
 "nbformat": 4,
 "nbformat_minor": 1
}
