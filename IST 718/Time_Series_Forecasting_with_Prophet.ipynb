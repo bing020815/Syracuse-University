{
  "nbformat": 4,
  "nbformat_minor": 0,
  "metadata": {
    "colab": {
      "name": "Time Series Forecasting with Prophet.ipynb",
      "provenance": []
    },
    "kernelspec": {
      "name": "python3",
      "display_name": "Python 3"
    }
  },
  "cells": [
    {
      "cell_type": "markdown",
      "metadata": {
        "id": "_BadzTWZT-XQ",
        "colab_type": "text"
      },
      "source": [
        "## Import Packages and Load Data"
      ]
    },
    {
      "cell_type": "code",
      "metadata": {
        "id": "Y8vDq429UBCs",
        "colab_type": "code",
        "colab": {}
      },
      "source": [
        "%matplotlib inline\n",
        "import pandas as pd\n",
        "from fbprophet import Prophet\n",
        "\n",
        "import matplotlib.pyplot as plt\n",
        "plt.style.use('fivethirtyeight')"
      ],
      "execution_count": 0,
      "outputs": []
    },
    {
      "cell_type": "code",
      "metadata": {
        "id": "avGw3MMAUSkN",
        "colab_type": "code",
        "colab": {
          "base_uri": "https://localhost:8080/",
          "height": 204
        },
        "outputId": "d72a21a6-daa9-45a9-fad2-f88f25ea838e"
      },
      "source": [
        "df = pd.read_csv('https://assets.digitalocean.com/articles/eng_python/prophet/AirPassengers.csv')\n",
        "\n",
        "df.head(5)"
      ],
      "execution_count": 2,
      "outputs": [
        {
          "output_type": "execute_result",
          "data": {
            "text/html": [
              "<div>\n",
              "<style scoped>\n",
              "    .dataframe tbody tr th:only-of-type {\n",
              "        vertical-align: middle;\n",
              "    }\n",
              "\n",
              "    .dataframe tbody tr th {\n",
              "        vertical-align: top;\n",
              "    }\n",
              "\n",
              "    .dataframe thead th {\n",
              "        text-align: right;\n",
              "    }\n",
              "</style>\n",
              "<table border=\"1\" class=\"dataframe\">\n",
              "  <thead>\n",
              "    <tr style=\"text-align: right;\">\n",
              "      <th></th>\n",
              "      <th>Month</th>\n",
              "      <th>AirPassengers</th>\n",
              "    </tr>\n",
              "  </thead>\n",
              "  <tbody>\n",
              "    <tr>\n",
              "      <th>0</th>\n",
              "      <td>1949-01</td>\n",
              "      <td>112</td>\n",
              "    </tr>\n",
              "    <tr>\n",
              "      <th>1</th>\n",
              "      <td>1949-02</td>\n",
              "      <td>118</td>\n",
              "    </tr>\n",
              "    <tr>\n",
              "      <th>2</th>\n",
              "      <td>1949-03</td>\n",
              "      <td>132</td>\n",
              "    </tr>\n",
              "    <tr>\n",
              "      <th>3</th>\n",
              "      <td>1949-04</td>\n",
              "      <td>129</td>\n",
              "    </tr>\n",
              "    <tr>\n",
              "      <th>4</th>\n",
              "      <td>1949-05</td>\n",
              "      <td>121</td>\n",
              "    </tr>\n",
              "  </tbody>\n",
              "</table>\n",
              "</div>"
            ],
            "text/plain": [
              "     Month  AirPassengers\n",
              "0  1949-01            112\n",
              "1  1949-02            118\n",
              "2  1949-03            132\n",
              "3  1949-04            129\n",
              "4  1949-05            121"
            ]
          },
          "metadata": {
            "tags": []
          },
          "execution_count": 2
        }
      ]
    },
    {
      "cell_type": "markdown",
      "metadata": {
        "id": "Ez6031KNT-dL",
        "colab_type": "text"
      },
      "source": [
        "Our DataFrame clearly contains a **Month** and **AirPassengers** column. The Prophet library expects as input a DataFrame with one column containing the time information, and another column containing the metric that we wish to forecast. Importantly, the time column is expected to be of the **datetime** type, so let’s check the type of our columns:"
      ]
    },
    {
      "cell_type": "markdown",
      "metadata": {
        "id": "l6c0mOXeT-tY",
        "colab_type": "text"
      },
      "source": [
        "Prophet also imposes the strict condition that the input columns be named **ds** (the time column) and **y** (the metric column), so let’s rename the columns in our DataFrame:"
      ]
    },
    {
      "cell_type": "code",
      "metadata": {
        "id": "YzjEE-XHVDz5",
        "colab_type": "code",
        "colab": {
          "base_uri": "https://localhost:8080/",
          "height": 204
        },
        "outputId": "883f2d41-6918-49e5-c943-5100aea31566"
      },
      "source": [
        "df = df.rename(columns={'Month': 'ds',\n",
        "                        'AirPassengers': 'y'})\n",
        "\n",
        "df.head(5)"
      ],
      "execution_count": 3,
      "outputs": [
        {
          "output_type": "execute_result",
          "data": {
            "text/html": [
              "<div>\n",
              "<style scoped>\n",
              "    .dataframe tbody tr th:only-of-type {\n",
              "        vertical-align: middle;\n",
              "    }\n",
              "\n",
              "    .dataframe tbody tr th {\n",
              "        vertical-align: top;\n",
              "    }\n",
              "\n",
              "    .dataframe thead th {\n",
              "        text-align: right;\n",
              "    }\n",
              "</style>\n",
              "<table border=\"1\" class=\"dataframe\">\n",
              "  <thead>\n",
              "    <tr style=\"text-align: right;\">\n",
              "      <th></th>\n",
              "      <th>ds</th>\n",
              "      <th>y</th>\n",
              "    </tr>\n",
              "  </thead>\n",
              "  <tbody>\n",
              "    <tr>\n",
              "      <th>0</th>\n",
              "      <td>1949-01</td>\n",
              "      <td>112</td>\n",
              "    </tr>\n",
              "    <tr>\n",
              "      <th>1</th>\n",
              "      <td>1949-02</td>\n",
              "      <td>118</td>\n",
              "    </tr>\n",
              "    <tr>\n",
              "      <th>2</th>\n",
              "      <td>1949-03</td>\n",
              "      <td>132</td>\n",
              "    </tr>\n",
              "    <tr>\n",
              "      <th>3</th>\n",
              "      <td>1949-04</td>\n",
              "      <td>129</td>\n",
              "    </tr>\n",
              "    <tr>\n",
              "      <th>4</th>\n",
              "      <td>1949-05</td>\n",
              "      <td>121</td>\n",
              "    </tr>\n",
              "  </tbody>\n",
              "</table>\n",
              "</div>"
            ],
            "text/plain": [
              "        ds    y\n",
              "0  1949-01  112\n",
              "1  1949-02  118\n",
              "2  1949-03  132\n",
              "3  1949-04  129\n",
              "4  1949-05  121"
            ]
          },
          "metadata": {
            "tags": []
          },
          "execution_count": 3
        }
      ]
    },
    {
      "cell_type": "markdown",
      "metadata": {
        "id": "_W343gspT-0-",
        "colab_type": "text"
      },
      "source": [
        "It is good practice to visualize the data we are going to be working with, so let’s plot our time series:"
      ]
    },
    {
      "cell_type": "code",
      "metadata": {
        "id": "4eMF_F8NVHXm",
        "colab_type": "code",
        "colab": {
          "base_uri": "https://localhost:8080/",
          "height": 537
        },
        "outputId": "c09718b5-e9e8-4663-b6a0-ec13791425f7"
      },
      "source": [
        "ax = df.set_index('ds').plot(figsize=(12, 8))\n",
        "ax.set_ylabel('Monthly Number of Airline Passengers')\n",
        "ax.set_xlabel('Date')\n",
        "\n",
        "plt.show()"
      ],
      "execution_count": 4,
      "outputs": [
        {
          "output_type": "display_data",
          "data": {
            "image/png": "[encoded data removed]",
            "text/plain": [
              "<Figure size 864x576 with 1 Axes>"
            ]
          },
          "metadata": {
            "tags": []
          }
        }
      ]
    },
    {
      "cell_type": "markdown",
      "metadata": {
        "id": "mpI4mGnfT-jI",
        "colab_type": "text"
      },
      "source": [
        "Because the **ds** column is not of the **datetime** type, we’ll need to convert it:"
      ]
    },
    {
      "cell_type": "code",
      "metadata": {
        "id": "BRoxDchIU6Oa",
        "colab_type": "code",
        "colab": {
          "base_uri": "https://localhost:8080/",
          "height": 68
        },
        "outputId": "e0dacb6a-8f2a-4f19-9d4e-3f4874594ae0"
      },
      "source": [
        "df['ds'] = pd.DatetimeIndex(df['ds'])\n",
        "df.dtypes"
      ],
      "execution_count": 5,
      "outputs": [
        {
          "output_type": "execute_result",
          "data": {
            "text/plain": [
              "ds    datetime64[ns]\n",
              "y              int64\n",
              "dtype: object"
            ]
          },
          "metadata": {
            "tags": []
          },
          "execution_count": 5
        }
      ]
    },
    {
      "cell_type": "code",
      "metadata": {
        "id": "enVc1fp_U0NU",
        "colab_type": "code",
        "colab": {
          "base_uri": "https://localhost:8080/",
          "height": 68
        },
        "outputId": "b006ee41-bfbe-4893-a991-b4d084a92e42"
      },
      "source": [
        "df.dtypes"
      ],
      "execution_count": 6,
      "outputs": [
        {
          "output_type": "execute_result",
          "data": {
            "text/plain": [
              "ds    datetime64[ns]\n",
              "y              int64\n",
              "dtype: object"
            ]
          },
          "metadata": {
            "tags": []
          },
          "execution_count": 6
        }
      ]
    },
    {
      "cell_type": "markdown",
      "metadata": {
        "id": "89as865DT_29",
        "colab_type": "text"
      },
      "source": [
        "With our data now prepared, we are ready to use the Prophet library to produce forecasts of our time series."
      ]
    },
    {
      "cell_type": "markdown",
      "metadata": {
        "id": "GBYFNO_6T_6-",
        "colab_type": "text"
      },
      "source": [
        "## Time Series Forecasting with Prophet"
      ]
    },
    {
      "cell_type": "markdown",
      "metadata": {
        "id": "TJzHXcejUAAc",
        "colab_type": "text"
      },
      "source": [
        "In this section, we will describe how to use the Prophet library to predict future values of our time series. The authors of Prophet have abstracted away many of the inherent complexities of time series forecasting and made it more intuitive for analysts and developers alike to work with time series data.\n",
        "\n",
        "To begin, we must instantiate a new Prophet object. Prophet enables us to specify a number of arguments. For example, we can specify the desired range of our uncertainty interval by setting the **interval_width** parameter."
      ]
    },
    {
      "cell_type": "code",
      "metadata": {
        "id": "P5gyVgLwWhy4",
        "colab_type": "code",
        "colab": {}
      },
      "source": [
        "# set the uncertainty interval to 95% (the Prophet default is 80%)\n",
        "my_model = Prophet(interval_width=0.95)"
      ],
      "execution_count": 0,
      "outputs": []
    },
    {
      "cell_type": "markdown",
      "metadata": {
        "id": "N0Q3XN2TUAEx",
        "colab_type": "text"
      },
      "source": [
        "Now that our Prophet model has been initialized, we can call its **fit** method with our DataFrame as input. The model fitting should take no longer than a few seconds."
      ]
    },
    {
      "cell_type": "code",
      "metadata": {
        "id": "xJPE6hsTWtWl",
        "colab_type": "code",
        "colab": {
          "base_uri": "https://localhost:8080/",
          "height": 85
        },
        "outputId": "3ab64587-f00f-4e11-b410-92169d4b5464"
      },
      "source": [
        "my_model.fit(df)"
      ],
      "execution_count": 8,
      "outputs": [
        {
          "output_type": "stream",
          "text": [
            "INFO:numexpr.utils:NumExpr defaulting to 2 threads.\n",
            "INFO:fbprophet:Disabling weekly seasonality. Run prophet with weekly_seasonality=True to override this.\n",
            "INFO:fbprophet:Disabling daily seasonality. Run prophet with daily_seasonality=True to override this.\n"
          ],
          "name": "stderr"
        },
        {
          "output_type": "execute_result",
          "data": {
            "text/plain": [
              "<fbprophet.forecaster.Prophet at 0x7f947731f1d0>"
            ]
          },
          "metadata": {
            "tags": []
          },
          "execution_count": 8
        }
      ]
    },
    {
      "cell_type": "markdown",
      "metadata": {
        "id": "3hU5S0KWUANX",
        "colab_type": "text"
      },
      "source": [
        "In order to obtain forecasts of our time series, we must provide Prophet with a new DataFrame containing a **ds** column that holds the dates for which we want predictions. Conveniently, we do not have to concern ourselves with manually creating this DataFrame, as Prophet provides the **make_future_dataframe** helper function:"
      ]
    },
    {
      "cell_type": "code",
      "metadata": {
        "id": "YRsSOIU_UAlQ",
        "colab_type": "code",
        "colab": {
          "base_uri": "https://localhost:8080/",
          "height": 204
        },
        "outputId": "2402739c-a4d2-42ec-e643-5dacf7a94e2c"
      },
      "source": [
        "future_dates = my_model.make_future_dataframe(periods=36, freq='MS')\n",
        "future_dates.tail()"
      ],
      "execution_count": 9,
      "outputs": [
        {
          "output_type": "execute_result",
          "data": {
            "text/html": [
              "<div>\n",
              "<style scoped>\n",
              "    .dataframe tbody tr th:only-of-type {\n",
              "        vertical-align: middle;\n",
              "    }\n",
              "\n",
              "    .dataframe tbody tr th {\n",
              "        vertical-align: top;\n",
              "    }\n",
              "\n",
              "    .dataframe thead th {\n",
              "        text-align: right;\n",
              "    }\n",
              "</style>\n",
              "<table border=\"1\" class=\"dataframe\">\n",
              "  <thead>\n",
              "    <tr style=\"text-align: right;\">\n",
              "      <th></th>\n",
              "      <th>ds</th>\n",
              "    </tr>\n",
              "  </thead>\n",
              "  <tbody>\n",
              "    <tr>\n",
              "      <th>175</th>\n",
              "      <td>1963-08-01</td>\n",
              "    </tr>\n",
              "    <tr>\n",
              "      <th>176</th>\n",
              "      <td>1963-09-01</td>\n",
              "    </tr>\n",
              "    <tr>\n",
              "      <th>177</th>\n",
              "      <td>1963-10-01</td>\n",
              "    </tr>\n",
              "    <tr>\n",
              "      <th>178</th>\n",
              "      <td>1963-11-01</td>\n",
              "    </tr>\n",
              "    <tr>\n",
              "      <th>179</th>\n",
              "      <td>1963-12-01</td>\n",
              "    </tr>\n",
              "  </tbody>\n",
              "</table>\n",
              "</div>"
            ],
            "text/plain": [
              "            ds\n",
              "175 1963-08-01\n",
              "176 1963-09-01\n",
              "177 1963-10-01\n",
              "178 1963-11-01\n",
              "179 1963-12-01"
            ]
          },
          "metadata": {
            "tags": []
          },
          "execution_count": 9
        }
      ]
    },
    {
      "cell_type": "markdown",
      "metadata": {
        "id": "io3Gm8TiW5hO",
        "colab_type": "text"
      },
      "source": [
        "In the code chunk above, we instructed Prophet to generate 36 datestamps in the future.\n",
        "\n",
        "When working with Prophet, it is important to consider the frequency of our time series. Because we are working with monthly data, we clearly specified the desired frequency of the timestamps (in this case, **MS** is the start of the month). Therefore, the **make_future_dataframe** generated 36 monthly timestamps for us. In other words, we are looking to predict future values of our time series 3 years into the future.\n",
        "\n",
        "The DataFrame of future dates is then used as input to the **predict** method of our fitted model."
      ]
    },
    {
      "cell_type": "code",
      "metadata": {
        "id": "6fscQHKWXE9c",
        "colab_type": "code",
        "colab": {}
      },
      "source": [
        "forecast = my_model.predict(future_dates)\n",
        "forecast[['ds', 'yhat', 'yhat_lower', 'yhat_upper']].tail()"
      ],
      "execution_count": 0,
      "outputs": []
    },
    {
      "cell_type": "markdown",
      "metadata": {
        "id": "mk2tiZvsW5vY",
        "colab_type": "text"
      },
      "source": [
        "Prophet returns a large DataFrame with many interesting columns, but we subset our output to the columns most relevant to forecasting, which are:\n",
        "\n",
        "* **ds**: the datestamp of the forecasted value\n",
        "* **yhat**: the forecasted value of our metric (in Statistics, **yhat** is a notation traditionally used to represent the predicted values of a value y)\n",
        "* **yhat_lower**: the lower bound of our forecasts\n",
        "* **yhat_upper**: the upper bound of our forecasts\n",
        "\n",
        "A variation in values from the output presented above is to be expected as Prophet relies on Markov chain Monte Carlo (MCMC) methods to generate its forecasts. MCMC is a stochastic process, so values will be slightly different each time.\n",
        "\n",
        "Prophet also provides a convenient function to quickly plot the results of our forecasts:"
      ]
    },
    {
      "cell_type": "code",
      "metadata": {
        "id": "DiliI0vtXVaF",
        "colab_type": "code",
        "colab": {}
      },
      "source": [
        "my_model.plot(forecast,\n",
        "              uncertainty=True);"
      ],
      "execution_count": 0,
      "outputs": []
    },
    {
      "cell_type": "markdown",
      "metadata": {
        "id": "PJsNy8xrW503",
        "colab_type": "text"
      },
      "source": [
        "Prophet plots the observed values of our time series (the black dots), the forecasted values (blue line) and the uncertainty intervals of our forecasts (the blue shaded regions).\n",
        "\n",
        "One other particularly strong feature of Prophet is its ability to return the components of our forecasts. This can help reveal how daily, weekly and yearly patterns of the time series contribute to the overall forecasted values:"
      ]
    },
    {
      "cell_type": "code",
      "metadata": {
        "id": "yvaKz7LWXd2h",
        "colab_type": "code",
        "colab": {}
      },
      "source": [
        "my_model.plot_components(forecast);"
      ],
      "execution_count": 0,
      "outputs": []
    },
    {
      "cell_type": "markdown",
      "metadata": {
        "id": "VsjZtbVKW56_",
        "colab_type": "text"
      },
      "source": [
        "The plot above provides interesting insights. The first plot shows that the monthly volume of airline passengers has been linearly increasing over time. The second plot highlights the fact that the weekly count of passengers peaks towards the end of the week and on Saturday, while the third plot shows that the most traffic occurs during the holiday months of July and August."
      ]
    },
    {
      "cell_type": "markdown",
      "metadata": {
        "id": "XCOYwv-XW6Ak",
        "colab_type": "text"
      },
      "source": [
        ""
      ]
    },
    {
      "cell_type": "markdown",
      "metadata": {
        "id": "iQRS1y1WW6Mq",
        "colab_type": "text"
      },
      "source": [
        ""
      ]
    },
    {
      "cell_type": "markdown",
      "metadata": {
        "id": "6Y3WA8eoW6RX",
        "colab_type": "text"
      },
      "source": [
        ""
      ]
    }
  ]
}