{
 "cells": [
  {
   "cell_type": "markdown",
   "metadata": {},
   "source": [
    "## Fetching internet data"
   ]
  },
  {
   "cell_type": "code",
   "execution_count": 1,
   "metadata": {},
   "outputs": [],
   "source": [
    "import urllib.request"
   ]
  },
  {
   "cell_type": "code",
   "execution_count": 23,
   "metadata": {},
   "outputs": [
    {
     "name": "stdout",
     "output_type": "stream",
     "text": [
      "result code: 200\n"
     ]
    }
   ],
   "source": [
    "weburl=urllib.request.urlopen('http://www.google.com') # assgin weburl variable to urllib.request class\n",
    "print(f'result code: {weburl.getcode()}')\n",
    "# 200 is ok; 404 is not found"
   ]
  },
  {
   "cell_type": "code",
   "execution_count": 24,
   "metadata": {},
   "outputs": [
    {
     "name": "stdout",
     "output_type": "stream",
     "text": [
      "b'<!doctype html><html itemscope=\"\" itemtype=\"http://schema.org/WebPage\" lang=\"en\"><head><meta content=\"Search the world\\'s information, including webpages, images, videos and more. Google has many special features to help you find exactly what you\\'re looking for.\" name=\"description\"><meta content=\"noodp\" name=\"robots\"><meta content=\"text/html; charset=UTF-8\" http-equiv=\"Content-Type\"><meta content=\"/images/branding/googleg/1x/googleg_standard_color_128dp.png\" itemprop=\"image\"><title>Google</title><script nonce=\"hkQtIfOdRsCCPNDLEVq8OA==\">(function(){window.google={kEI:\\'0va5Xf_HJo_W5gKfwZqgDg\\',kEXPI:\\'0,1353747,5662,731,223,510,1065,3151,378,207,905,112,53,2134,10,169,544,271,67,97,93,24,325,278,623,293,241,4,1130488,143,1197786,363,19,329099,1294,12383,4855,32692,15247,867,18544,3335,2,2,6801,364,3319,5505,224,2218,5942,1119,2,1306,2431,1362,4323,3700,1267,774,2251,1406,1414,1930,1139,9,1964,6195,1719,1808,1977,2043,5766,1,3142,5297,2016,38,920,873,1217,2382,593,2736,1558,1503,2,631,1142,2098,1814,5632,620,2884,20,317,2206,967,975,1,371,2775,919,992,509,776,8,2796,967,601,25,1279,2212,202,323,5,1252,840,324,193,1466,8,48,820,3438,260,52,1135,1,3,2063,606,1839,184,546,49,1182,143,379,255,429,1261,747,429,44,207,1,1,800,93,204,124,1284,16,84,336,82,773,985,667,41,1598,608,428,45,1339,29,719,1039,3094,133,773,909,639,524,7,728,89,503,1574,3275,1359,105,4,766,3634,1357,12,24,51,613,52,299,911,648,4,194,395,77,60,502,214,367,59,206,776,516,312,214,1458,1000,273,497,246,43,3,555,417,454,143,57,50,1405,6,490,903,271,581,42,231,167,1010,889,66,346,132,51,7,423,289,26,181,18,6,654,482,444,143,136,621,929,291,4,9,173,250,1,8,1,1099,354,23,655,223,22,1,1,319,1243,111,155,5875858,3131,1802763,4194854,2799592,4,1572,549,333,444,1,2,80,1,900,583,9,304,1,8,1,2,2551,1,748,141,59,736,563,1,4079,185,1,1,1,1,1,3,7,13,73,41,1,5,8,13,22,4,7,6,17,1,1,13,1,1,11,2,2795500,17949965,1557154,1662866\\',authuser:0,kscs:\\'c9c918f0_0va5Xf_HJo_W5gKfwZqgDg\\',kGL:\\'US\\',kBL:\\'gxf_\\'};google.sn=\\'webhp\\';google.kHL=\\'en\\';google.jsfs=\\'Ffpdje\\';})();(function(){google.lc=[];google.li=0;google.getEI=function(a){for(var b;a&&(!a.getAttribute||!(b=a.getAttribute(\"eid\")));)a=a.parentNode;return b||google.kEI};google.getLEI=function(a){for(var b=null;a&&(!a.getAttribute||!(b=a.getAttribute(\"leid\")));)a=a.parentNode;return b};google.https=function(){return\"https:\"==window.location.protocol};google.ml=function(){return null};google.time=function(){return(new Date).getTime()};google.log=function(a,b,e,c,g){if(a=google.logUrl(a,b,e,c,g)){b=new Image;var d=google.lc,f=google.li;d[f]=b;b.onerror=b.onload=b.onabort=function(){delete d[f]};google.vel&&google.vel.lu&&google.vel.lu(a);b.src=a;google.li=f+1}};google.logUrl=function(a,b,e,c,g){var d=\"\",f=google.ls||\"\";e||-1!=b.search(\"&ei=\")||(d=\"&ei=\"+google.getEI(c),-1==b.search(\"&lei=\")&&(c=google.getLEI(c))&&(d+=\"&lei=\"+c));c=\"\";!e&&google.cshid&&-1==b.search(\"&cshid=\")&&\"slh\"!=a&&(c=\"&cshid=\"+google.cshid);a=e||\"/\"+(g||\"gen_204\")+\"?atyp=i&ct=\"+a+\"&cad=\"+b+d+f+\"&zx=\"+google.time()+c;/^http:/i.test(a)&&google.https()&&(google.ml(Error(\"a\"),!1,{src:a,glmm:1}),a=\"\");return a};}).call(this);(function(){google.y={};google.x=function(a,b){if(a)var c=a.id;else{do c=Math.random();while(google.y[c])}google.y[c]=[a,b];return!1};google.lm=[];google.plm=function(a){google.lm.push.apply(google.lm,a)};google.lq=[];google.load=function(a,b,c){google.lq.push([[a],b,c])};google.loadAll=function(a,b){google.lq.push([a,b])};}).call(this);google.f={};var a=window.location,b=a.href.indexOf(\"#\");if(0<=b){var c=a.href.substring(b+1);/(^|&)q=/.test(c)&&-1==c.indexOf(\"#\")&&a.replace(\"/search?\"+c.replace(/(^|&)fp=[^&]*/g,\"\")+\"&cad=h\")};</script><style>#gbar,#guser{font-size:13px;padding-top:1px !important;}#gbar{height:22px}#guser{padding-bottom:7px !important;text-align:right}.gbh,.gbd{border-top:1px solid #c9d7f1;font-size:1px}.gbh{height:0;position:absolute;top:24px;width:100%}@media all{.gb1{height:22px;margin-right:.5em;vertical-align:top}#gbar{float:left}}a.gb1,a.gb4{text-decoration:underline !important}a.gb1,a.gb4{color:#00c !important}.gbi .gb4{color:#dd8e27 !important}.gbf .gb4{color:#900 !important}\\n</style><style>body,td,a,p,.h{font-family:arial,sans-serif}body{margin:0;overflow-y:scroll}#gog{padding:3px 8px 0}td{line-height:.8em}.gac_m td{line-height:17px}form{margin-bottom:20px}.h{color:#36c}.q{color:#00c}.ts td{padding:0}.ts{border-collapse:collapse}em{font-weight:bold;font-style:normal}.lst{height:25px;width:496px}.gsfi,.lst{font:18px arial,sans-serif}.gsfs{font:17px arial,sans-serif}.ds{display:inline-box;display:inline-block;margin:3px 0 4px;margin-left:4px}input{font-family:inherit}a.gb1,a.gb2,a.gb3,a.gb4{color:#11c !important}body{background:#fff;color:black}a{color:#11c;text-decoration:none}a:hover,a:active{text-decoration:underline}.fl a{color:#36c}a:visited{color:#551a8b}a.gb1,a.gb4{text-decoration:underline}a.gb3:hover{text-decoration:none}#ghead a.gb2:hover{color:#fff !important}.sblc{padding-top:5px}.sblc a{display:block;margin:2px 0;margin-left:13px;font-size:11px}.lsbb{background:#eee;border:solid 1px;border-color:#ccc #999 #999 #ccc;height:30px}.lsbb{display:block}.ftl,#fll a{display:inline-block;margin:0 12px}.lsb{background:url(/images/nav_logo229.png) 0 -261px repeat-x;border:none;color:#000;cursor:pointer;height:30px;margin:0;outline:0;font:15px arial,sans-serif;vertical-align:top}.lsb:active{background:#ccc}.lst:focus{outline:none}</style><script nonce=\"hkQtIfOdRsCCPNDLEVq8OA==\"></script></head><body bgcolor=\"#fff\"><script nonce=\"hkQtIfOdRsCCPNDLEVq8OA==\">(function(){var src=\\'/images/nav_logo229.png\\';var iesg=false;document.body.onload = function(){window.n && window.n();if (document.images){new Image().src=src;}\\nif (!iesg){document.f&&document.f.q.focus();document.gbqf&&document.gbqf.q.focus();}\\n}\\n})();</script><div id=\"mngb\"> <div id=gbar><nobr><b class=gb1>Search</b> <a class=gb1 href=\"http://www.google.com/imghp?hl=en&tab=wi\">Images</a> <a class=gb1 href=\"http://maps.google.com/maps?hl=en&tab=wl\">Maps</a> <a class=gb1 href=\"https://play.google.com/?hl=en&tab=w8\">Play</a> <a class=gb1 href=\"http://www.youtube.com/?gl=US&tab=w1\">YouTube</a> <a class=gb1 href=\"http://news.google.com/nwshp?hl=en&tab=wn\">News</a> <a class=gb1 href=\"https://mail.google.com/mail/?tab=wm\">Gmail</a> <a class=gb1 href=\"https://drive.google.com/?tab=wo\">Drive</a> <a class=gb1 style=\"text-decoration:none\" href=\"https://www.google.com/intl/en/about/products?tab=wh\"><u>More</u> &raquo;</a></nobr></div><div id=guser width=100%><nobr><span id=gbn class=gbi></span><span id=gbf class=gbf></span><span id=gbe></span><a href=\"http://www.google.com/history/optout?hl=en\" class=gb4>Web History</a> | <a  href=\"/preferences?hl=en\" class=gb4>Settings</a> | <a target=_top id=gb_70 href=\"https://accounts.google.com/ServiceLogin?hl=en&passive=true&continue=http://www.google.com/\" class=gb4>Sign in</a></nobr></div><div class=gbh style=left:0></div><div class=gbh style=right:0></div> </div><center><br clear=\"all\" id=\"lgpd\"><div id=\"lga\"><img alt=\"Google\" height=\"92\" src=\"/images/branding/googlelogo/1x/googlelogo_white_background_color_272x92dp.png\" style=\"padding:28px 0 14px\" width=\"272\" id=\"hplogo\"><br><br></div><form action=\"/search\" name=\"f\"><table cellpadding=\"0\" cellspacing=\"0\"><tr valign=\"top\"><td width=\"25%\">&nbsp;</td><td align=\"center\" nowrap=\"\"><input name=\"ie\" value=\"ISO-8859-1\" type=\"hidden\"><input value=\"en\" name=\"hl\" type=\"hidden\"><input name=\"source\" type=\"hidden\" value=\"hp\"><input name=\"biw\" type=\"hidden\"><input name=\"bih\" type=\"hidden\"><div class=\"ds\" style=\"height:32px;margin:4px 0\"><input style=\"color:#000;margin:0;padding:5px 8px 0 6px;vertical-align:top\" autocomplete=\"off\" class=\"lst\" value=\"\" title=\"Google Search\" maxlength=\"2048\" name=\"q\" size=\"57\"></div><br style=\"line-height:0\"><span class=\"ds\"><span class=\"lsbb\"><input class=\"lsb\" value=\"Google Search\" name=\"btnG\" type=\"submit\"></span></span><span class=\"ds\"><span class=\"lsbb\"><input class=\"lsb\" id=\"tsuid1\" value=\"I\\'m Feeling Lucky\" name=\"btnI\" type=\"submit\"><script nonce=\"hkQtIfOdRsCCPNDLEVq8OA==\">(function(){var id=\\'tsuid1\\';document.getElementById(id).onclick = function(){if (this.form.q.value){this.checked = 1;if (this.form.iflsig)this.form.iflsig.disabled = false;}\\nelse top.location=\\'/doodles/\\';};})();</script><input value=\"AAP1E1EAAAAAXboE4jaJu04nWxJNs6y3uYVaHcJt7Shh\" name=\"iflsig\" type=\"hidden\"></span></span></td><td class=\"fl sblc\" align=\"left\" nowrap=\"\" width=\"25%\"><a href=\"/advanced_search?hl=en&amp;authuser=0\">Advanced search</a><a href=\"/language_tools?hl=en&amp;authuser=0\">Language tools</a></td></tr></table><input id=\"gbv\" name=\"gbv\" type=\"hidden\" value=\"1\"><script nonce=\"hkQtIfOdRsCCPNDLEVq8OA==\">(function(){var a,b=\"1\";if(document&&document.getElementById)if(\"undefined\"!=typeof XMLHttpRequest)b=\"2\";else if(\"undefined\"!=typeof ActiveXObject){var c,d,e=[\"MSXML2.XMLHTTP.6.0\",\"MSXML2.XMLHTTP.3.0\",\"MSXML2.XMLHTTP\",\"Microsoft.XMLHTTP\"];for(c=0;d=e[c++];)try{new ActiveXObject(d),b=\"2\"}catch(h){}}a=b;if(\"2\"==a&&-1==location.search.indexOf(\"&gbv=2\")){var f=google.gbvu,g=document.getElementById(\"gbv\");g&&(g.value=a);f&&window.setTimeout(function(){location.href=f},0)};}).call(this);</script></form><div id=\"gac_scont\"></div><div style=\"font-size:83%;min-height:3.5em\"><br></div><span id=\"footer\"><div style=\"font-size:10pt\"><div style=\"margin:19px auto;text-align:center\" id=\"fll\"><a href=\"/intl/en/ads/\">Advertising\\xa0Programs</a><a href=\"/services/\">Business Solutions</a><a href=\"/intl/en/about.html\">About Google</a></div></div><p style=\"color:#767676;font-size:8pt\">&copy; 2019 - <a href=\"/intl/en/policies/privacy/\">Privacy</a> - <a href=\"/intl/en/policies/terms/\">Terms</a></p></span></center><script nonce=\"hkQtIfOdRsCCPNDLEVq8OA==\">(function(){window.google.cdo={height:0,width:0};(function(){var a=window.innerWidth,b=window.innerHeight;if(!a||!b){var c=window.document,d=\"CSS1Compat\"==c.compatMode?c.documentElement:c.body;a=d.clientWidth;b=d.clientHeight}a&&b&&(a!=google.cdo.width||b!=google.cdo.height)&&google.log(\"\",\"\",\"/client_204?&atyp=i&biw=\"+a+\"&bih=\"+b+\"&ei=\"+google.kEI);}).call(this);})();(function(){var u=\\'/xjs/_/js/k\\\\x3dxjs.hp.en_US.3hVDkwpH7sI.O/m\\\\x3dsb_he,d/am\\\\x3dwAlsBg/d\\\\x3d1/rs\\\\x3dACT90oFKrDSfGvAbkHpFbx8EZhA1AWx8UQ\\';setTimeout(function(){var a=document.createElement(\"script\");a.src=u;google.timers&&google.timers.load&&google.tick&&google.tick(\"load\",\"xjsls\");document.body.appendChild(a)},0);})();(function(){window.google.xjsu=\\'/xjs/_/js/k\\\\x3dxjs.hp.en_US.3hVDkwpH7sI.O/m\\\\x3dsb_he,d/am\\\\x3dwAlsBg/d\\\\x3d1/rs\\\\x3dACT90oFKrDSfGvAbkHpFbx8EZhA1AWx8UQ\\';})();function _DumpException(e){throw e;}\\nfunction _F_installCss(c){}\\n(function(){google.spjs=false;google.snet=true;google.em=[];google.emw=false;})();(function(){var pmc=\\'{\\\\x22d\\\\x22:{},\\\\x22sb_he\\\\x22:{\\\\x22agen\\\\x22:true,\\\\x22cgen\\\\x22:true,\\\\x22client\\\\x22:\\\\x22heirloom-hp\\\\x22,\\\\x22dh\\\\x22:true,\\\\x22dhqt\\\\x22:true,\\\\x22ds\\\\x22:\\\\x22\\\\x22,\\\\x22ffql\\\\x22:\\\\x22en\\\\x22,\\\\x22fl\\\\x22:true,\\\\x22host\\\\x22:\\\\x22google.com\\\\x22,\\\\x22isbh\\\\x22:28,\\\\x22jsonp\\\\x22:true,\\\\x22msgs\\\\x22:{\\\\x22cibl\\\\x22:\\\\x22Clear Search\\\\x22,\\\\x22dym\\\\x22:\\\\x22Did you mean:\\\\x22,\\\\x22lcky\\\\x22:\\\\x22I\\\\\\\\u0026#39;m Feeling Lucky\\\\x22,\\\\x22lml\\\\x22:\\\\x22Learn more\\\\x22,\\\\x22oskt\\\\x22:\\\\x22Input tools\\\\x22,\\\\x22psrc\\\\x22:\\\\x22This search was removed from your \\\\\\\\u003Ca href\\\\x3d\\\\\\\\\\\\x22/history\\\\\\\\\\\\x22\\\\\\\\u003EWeb History\\\\\\\\u003C/a\\\\\\\\u003E\\\\x22,\\\\x22psrl\\\\x22:\\\\x22Remove\\\\x22,\\\\x22sbit\\\\x22:\\\\x22Search by image\\\\x22,\\\\x22srch\\\\x22:\\\\x22Google Search\\\\x22},\\\\x22ovr\\\\x22:{},\\\\x22pq\\\\x22:\\\\x22\\\\x22,\\\\x22refpd\\\\x22:true,\\\\x22rfs\\\\x22:[],\\\\x22sbpl\\\\x22:24,\\\\x22sbpr\\\\x22:24,\\\\x22scd\\\\x22:10,\\\\x22sce\\\\x22:5,\\\\x22stok\\\\x22:\\\\x222uA2dtnOG-KbMFXH4bdL8a6DDho\\\\x22,\\\\x22uhde\\\\x22:false}}\\';google.pmc=JSON.parse(pmc);})();</script>        </body></html>'\n"
     ]
    }
   ],
   "source": [
    "data=weburl.read()\n",
    "print(data)"
   ]
  },
  {
   "cell_type": "code",
   "execution_count": null,
   "metadata": {},
   "outputs": [],
   "source": []
  },
  {
   "cell_type": "markdown",
   "metadata": {},
   "source": [
    "## Working with JSON data"
   ]
  },
  {
   "cell_type": "code",
   "execution_count": 26,
   "metadata": {},
   "outputs": [],
   "source": [
    "import json\n",
    "import urllib.request"
   ]
  },
  {
   "cell_type": "code",
   "execution_count": 58,
   "metadata": {},
   "outputs": [],
   "source": [
    "def printResults(data):\n",
    "    # Use the json module to load the sting data into a dictionary\n",
    "    theJSON=json.loads(data)\n",
    "    \n",
    "    # Now we can access the contents of the JSON like any other Python object\n",
    "    if 'title' in theJSON['metadata']:\n",
    "        print(theJSON['metadata']['title'])\n",
    "    print('-----------\\n')\n",
    "    \n",
    "    # Output the number of events, plus the magnitude and each event name\n",
    "    count = theJSON['metadata']['count']\n",
    "    print(f'{count} events recorded')\n",
    "    print('-----------\\n')\n",
    "    \n",
    "    # For each event, print the place where it occurred\n",
    "    for i in theJSON['features']:\n",
    "        print(i['properties']['place'])\n",
    "    print('-----------\\n')\n",
    "    \n",
    "    # print the events that only have a magnitude greater than 4\n",
    "    for i in theJSON['features']:\n",
    "        if i['properties']['mag'] >= 4.0:\n",
    "            a=i['properties']['mag']\n",
    "            b=i['properties']['place']\n",
    "            print('{:2.1f}, {}'.format(a,b))\n",
    "    print('-----------\\n')\n",
    "    \n",
    "    # print only the events where at least 1 person reported feeling somthing\n",
    "    print('Events that were felt:')\n",
    "    for i in theJSON['features']:\n",
    "        feltReports=i['properties']['felt']\n",
    "        if feltReports != None:\n",
    "            if feltReports >0:\n",
    "                c=i['properties']['mag']\n",
    "                d=i['properties']['place']\n",
    "                print('{:2.1f}, {}, reported {} times'.format(a,b,feltReports))    "
   ]
  },
  {
   "cell_type": "code",
   "execution_count": 59,
   "metadata": {},
   "outputs": [
    {
     "name": "stdout",
     "output_type": "stream",
     "text": [
      "result code: 200\n",
      "USGS Magnitude 2.5+ Earthquakes, Past Day\n",
      "-----------\n",
      "\n",
      "50 events recorded\n",
      "-----------\n",
      "\n",
      "26km E of Honaunau-Napoopoo, Hawaii\n",
      "24km SSW of Los Banos, CA\n",
      "79km NNW of Isabela, Puerto Rico\n",
      "78km SSE of Shishmaref, Alaska\n",
      "69km N of Road Town, British Virgin Islands\n",
      "90km SSE of Shishmaref, Alaska\n",
      "125km NW of Kota Ternate, Indonesia\n",
      "7km S of Tallaboa, Puerto Rico\n",
      "18km NE of King City, CA\n",
      "63km NNW of San Antonio, Puerto Rico\n",
      "63km SSW of Kobuk, Alaska\n",
      "13km ESE of Lincoln, Montana\n",
      "23km E of Waukomis, Oklahoma\n",
      "93km NNW of San Antonio, Puerto Rico\n",
      "87km NNW of San Antonio, Puerto Rico\n",
      "71km N of San Antonio, Puerto Rico\n",
      "21km N of Searles Valley, CA\n",
      "48km SW of Redoubt Volcano, Alaska\n",
      "70km N of Isabela, Puerto Rico\n",
      "63km N of Isabela, Puerto Rico\n",
      "80km NNE of Bandar-e Lengeh, Iran\n",
      "76km S of Boca de Yuma, Dominican Republic\n",
      "25km SE of Nikolski, Alaska\n",
      "13km SW of Avila Beach, CA\n",
      "74km N of Isabela, Puerto Rico\n",
      "8km WSW of Magsaysay, Philippines\n",
      "100km N of Isabela, Puerto Rico\n",
      "23km SSW of Los Banos, CA\n",
      "98km S of Putre, Chile\n",
      "Southwest Indian Ridge\n",
      "99km SSE of Pondaguitan, Philippines\n",
      "69km N of Isabela, Puerto Rico\n",
      "89km NE of Hachinohe, Japan\n",
      "133km ENE of Anaktuvuk Pass, Alaska\n",
      "74km NNE of Bandar-e Lengeh, Iran\n",
      "58km N of Isabela, Puerto Rico\n",
      "249km ENE of Enarotali, Indonesia\n",
      "68km N of Isabela, Puerto Rico\n",
      "11km SW of Bulatukan, Philippines\n",
      "62km W of Anchor Point, Alaska\n",
      "68km SE of Punta Cana, Dominican Republic\n",
      "5km W of Dolo, Philippines\n",
      "69km SW of New Allakaket, Alaska\n",
      "78km N of San Antonio, Puerto Rico\n",
      "74km N of Isabela, Puerto Rico\n",
      "118km NNE of San Juan, Puerto Rico\n",
      "9km ESE of Bual, Philippines\n",
      "295km SSW of Coahuayana, Mexico\n",
      "26km S of Jarm, Afghanistan\n",
      "7km WNW of Dolo, Philippines\n",
      "-----------\n",
      "\n",
      "5.2, 125km NW of Kota Ternate, Indonesia\n",
      "4.3, 80km NNE of Bandar-e Lengeh, Iran\n",
      "4.0, 25km SE of Nikolski, Alaska\n",
      "4.8, 8km WSW of Magsaysay, Philippines\n",
      "4.5, 98km S of Putre, Chile\n",
      "4.8, Southwest Indian Ridge\n",
      "4.5, 99km SSE of Pondaguitan, Philippines\n",
      "4.5, 89km NE of Hachinohe, Japan\n",
      "4.5, 74km NNE of Bandar-e Lengeh, Iran\n",
      "4.8, 249km ENE of Enarotali, Indonesia\n",
      "4.9, 11km SW of Bulatukan, Philippines\n",
      "4.8, 5km W of Dolo, Philippines\n",
      "4.6, 9km ESE of Bual, Philippines\n",
      "4.0, 295km SSW of Coahuayana, Mexico\n",
      "4.0, 26km S of Jarm, Afghanistan\n",
      "4.9, 7km WNW of Dolo, Philippines\n",
      "-----------\n",
      "\n",
      "Events that were felt:\n",
      "4.9, 7km WNW of Dolo, Philippines, reported 2 times\n",
      "4.9, 7km WNW of Dolo, Philippines, reported 2 times\n",
      "4.9, 7km WNW of Dolo, Philippines, reported 2 times\n",
      "4.9, 7km WNW of Dolo, Philippines, reported 2 times\n",
      "4.9, 7km WNW of Dolo, Philippines, reported 1 times\n",
      "4.9, 7km WNW of Dolo, Philippines, reported 3 times\n",
      "4.9, 7km WNW of Dolo, Philippines, reported 1 times\n",
      "4.9, 7km WNW of Dolo, Philippines, reported 1 times\n"
     ]
    }
   ],
   "source": [
    "# Define a variable to hold the soruce URL\n",
    "# In this case, we will use the free data feed from the USGS\n",
    "# This feed lists all earthquakes for the last day larger than Mag 2.5\n",
    "urlData='http://earthquake.usgs.gov/earthquakes/feed/v1.0/summary/2.5_day.geojson'\n",
    "\n",
    "# Open the URL and read the data\n",
    "webUrl = urllib.request.urlopen(urlData)\n",
    "print(f'result code: {webUrl.getcode()}')\n",
    "if (webUrl.getcode()==200):\n",
    "    data=webUrl.read()\n",
    "    printResults(data)\n",
    "else:\n",
    "    print('Received error, cannot parse results')"
   ]
  },
  {
   "cell_type": "code",
   "execution_count": null,
   "metadata": {},
   "outputs": [],
   "source": []
  },
  {
   "cell_type": "markdown",
   "metadata": {},
   "source": [
    "## Parsing and processing HTML"
   ]
  },
  {
   "cell_type": "code",
   "execution_count": 1,
   "metadata": {},
   "outputs": [],
   "source": [
    "from html.parser import HTMLParser"
   ]
  },
  {
   "cell_type": "code",
   "execution_count": null,
   "metadata": {},
   "outputs": [],
   "source": [
    "class MyHTMLParser(HTMLParser):"
   ]
  },
  {
   "cell_type": "code",
   "execution_count": null,
   "metadata": {},
   "outputs": [],
   "source": [
    "# instantiate the parser and feed it some HTML\n",
    "parser = MyHTMLParser()\n",
    "f = open('samplehtml.html')\n",
    "if f.mode == 'r':\n",
    "    contents=f.read()\n",
    "    parser.feed(contents)"
   ]
  },
  {
   "cell_type": "markdown",
   "metadata": {},
   "source": [
    "https://www.linkedin.com/learning/learning-python-2/next-steps?u=76816226"
   ]
  },
  {
   "cell_type": "code",
   "execution_count": null,
   "metadata": {},
   "outputs": [],
   "source": []
  },
  {
   "cell_type": "code",
   "execution_count": null,
   "metadata": {},
   "outputs": [],
   "source": []
  },
  {
   "cell_type": "markdown",
   "metadata": {},
   "source": [
    "## Manipulating XML"
   ]
  },
  {
   "cell_type": "markdown",
   "metadata": {},
   "source": []
  },
  {
   "cell_type": "code",
   "execution_count": null,
   "metadata": {},
   "outputs": [],
   "source": []
  },
  {
   "cell_type": "code",
   "execution_count": null,
   "metadata": {},
   "outputs": [],
   "source": []
  },
  {
   "cell_type": "code",
   "execution_count": null,
   "metadata": {},
   "outputs": [],
   "source": []
  }
 ],
 "metadata": {
  "kernelspec": {
   "display_name": "Python 3",
   "language": "python",
   "name": "python3"
  },
  "language_info": {
   "codemirror_mode": {
    "name": "ipython",
    "version": 3
   },
   "file_extension": ".py",
   "mimetype": "text/x-python",
   "name": "python",
   "nbconvert_exporter": "python",
   "pygments_lexer": "ipython3",
   "version": "3.7.3"
  }
 },
 "nbformat": 4,
 "nbformat_minor": 2
}
