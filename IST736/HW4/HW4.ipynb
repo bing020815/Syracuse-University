{
 "cells": [
  {
   "cell_type": "markdown",
   "metadata": {},
   "source": [
    "__Use PYTHON’s Multinomial Naïve Bayes__ algorithm to build models to classify the customer reviews by   \n",
    "(1) sentiment (positive or negative)   \n",
    "(2) authenticity (true or fake, lie detection)  \n",
    "\n",
    "For each of the two classification tasks, use MNB to build the models, and evaluate them using 10-fold cross validation methods. (5-fold is fine too) \n",
    "\n",
    "__Use CountVectorizer and Python. Create labeled data. Train the NB model and test it.__ \n",
    "\n",
    "__As part of your Results section__: For each model (lie detection and sentiment classification), report the 20 most indicative words that the models have learned. \n",
    "\n",
    "__As part of your Results (the techy part) and Conclusions (the non-techy part) include discussion of__: Based on these words, do you think the models have learned the concepts (lie or sentiment) that they are expected to learn?\n",
    "\n",
    "__As Part of Results__: Also, compare the difficulty level of sentiment classification vs. lie detection. Discuss whether you believe computers can detect fake reviews by the words."
   ]
  },
  {
   "cell_type": "code",
   "execution_count": 1,
   "metadata": {},
   "outputs": [],
   "source": [
    "import pandas as pd\n",
    "import re\n",
    "import matplotlib.pyplot as plt"
   ]
  },
  {
   "cell_type": "code",
   "execution_count": 2,
   "metadata": {},
   "outputs": [],
   "source": [
    "pd.set_option('display.max_rows', 100)\n",
    "pd.set_option('display.max_colwidth', 1000)"
   ]
  },
  {
   "cell_type": "code",
   "execution_count": 3,
   "metadata": {},
   "outputs": [],
   "source": [
    "reviews = pd.read_csv('deception_data_converted_final.tsv', sep='\\t')"
   ]
  },
  {
   "cell_type": "code",
   "execution_count": 4,
   "metadata": {},
   "outputs": [
    {
     "data": {
      "text/plain": [
       "(92, 3)"
      ]
     },
     "execution_count": 4,
     "metadata": {},
     "output_type": "execute_result"
    }
   ],
   "source": [
    "reviews.shape"
   ]
  },
  {
   "cell_type": "code",
   "execution_count": 5,
   "metadata": {
    "scrolled": false
   },
   "outputs": [
    {
     "data": {
      "text/html": [
       "<div>\n",
       "<style scoped>\n",
       "    .dataframe tbody tr th:only-of-type {\n",
       "        vertical-align: middle;\n",
       "    }\n",
       "\n",
       "    .dataframe tbody tr th {\n",
       "        vertical-align: top;\n",
       "    }\n",
       "\n",
       "    .dataframe thead th {\n",
       "        text-align: right;\n",
       "    }\n",
       "</style>\n",
       "<table border=\"1\" class=\"dataframe\">\n",
       "  <thead>\n",
       "    <tr style=\"text-align: right;\">\n",
       "      <th></th>\n",
       "      <th>lie</th>\n",
       "      <th>sentiment</th>\n",
       "      <th>review</th>\n",
       "    </tr>\n",
       "  </thead>\n",
       "  <tbody>\n",
       "    <tr>\n",
       "      <th>55</th>\n",
       "      <td>f</td>\n",
       "      <td>p</td>\n",
       "      <td>'Two days ago, I went to the rooftop restaurant in NYC that served brunch. it was one of the best brunch that I have ever had. The view from the table was serene and I could see both the the Hudson River and the East River with outstanding views of Empire State Building, the Chryslers tower, Freedom tower and the Central park. A great place with great food and a perplexing view'</td>\n",
       "    </tr>\n",
       "    <tr>\n",
       "      <th>20</th>\n",
       "      <td>f</td>\n",
       "      <td>n</td>\n",
       "      <td>'Usually, I use Yelp to find restaurant. The Yelp would give restaurant \\'stars\\' to divide them into different level. And it has own map to direct you to the right place. This summer, I use it to search a subway shop in New York city, and then it give me a best choice. I followed the map to that store, and then I was surprised. It is a butcher\\'s which sell ham gammon. I can not find any subway in this store. When I asked the shop assistant, he said that you can bought ham to do subway by yourself.'</td>\n",
       "    </tr>\n",
       "    <tr>\n",
       "      <th>23</th>\n",
       "      <td>t</td>\n",
       "      <td>n</td>\n",
       "      <td>'Pizza Hut Syracuse, NY The only thing worth going here for is the lunch salad bar. The decor is very dated and the pizza is GREESY. Tables and bathroom are dirty. Waitstaff seem to have low expectations of service.'</td>\n",
       "    </tr>\n",
       "    <tr>\n",
       "      <th>30</th>\n",
       "      <td>t</td>\n",
       "      <td>n</td>\n",
       "      <td>'I went to Applebees (regrettably) once and it was a train-wreck. The server was in a terrible mood, the beers arrived after the dinner was delivered, the appetizer was wrong, food was bad, the check was wrong, and there were barely any other people inside! I was pretty baffled at how so many things just went wrong in the whole process, the restaurant wasn\\'t even busy. '</td>\n",
       "    </tr>\n",
       "    <tr>\n",
       "      <th>0</th>\n",
       "      <td>f</td>\n",
       "      <td>n</td>\n",
       "      <td>'Mike\\'s Pizza High Point, NY Service was very slow and the quality was low. You would think they would know at least how to make good pizza, not. Stick to pre-made dishes like stuffed pasta or a salad. You should consider dining else where.'</td>\n",
       "    </tr>\n",
       "  </tbody>\n",
       "</table>\n",
       "</div>"
      ],
      "text/plain": [
       "   lie sentiment  \\\n",
       "55   f         p   \n",
       "20   f         n   \n",
       "23   t         n   \n",
       "30   t         n   \n",
       "0    f         n   \n",
       "\n",
       "                                                                                                                                                                                                                                                                                                                                                                                                                                                                                                                       review  \n",
       "55                                                                                                                              'Two days ago, I went to the rooftop restaurant in NYC that served brunch. it was one of the best brunch that I have ever had. The view from the table was serene and I could see both the the Hudson River and the East River with outstanding views of Empire State Building, the Chryslers tower, Freedom tower and the Central park. A great place with great food and a perplexing view'  \n",
       "20  'Usually, I use Yelp to find restaurant. The Yelp would give restaurant \\'stars\\' to divide them into different level. And it has own map to direct you to the right place. This summer, I use it to search a subway shop in New York city, and then it give me a best choice. I followed the map to that store, and then I was surprised. It is a butcher\\'s which sell ham gammon. I can not find any subway in this store. When I asked the shop assistant, he said that you can bought ham to do subway by yourself.'  \n",
       "23                                                                                                                                                                                                                                                                                                   'Pizza Hut Syracuse, NY The only thing worth going here for is the lunch salad bar. The decor is very dated and the pizza is GREESY. Tables and bathroom are dirty. Waitstaff seem to have low expectations of service.'  \n",
       "30                                                                                                                                     'I went to Applebees (regrettably) once and it was a train-wreck. The server was in a terrible mood, the beers arrived after the dinner was delivered, the appetizer was wrong, food was bad, the check was wrong, and there were barely any other people inside! I was pretty baffled at how so many things just went wrong in the whole process, the restaurant wasn\\'t even busy. '  \n",
       "0                                                                                                                                                                                                                                                                          'Mike\\'s Pizza High Point, NY Service was very slow and the quality was low. You would think they would know at least how to make good pizza, not. Stick to pre-made dishes like stuffed pasta or a salad. You should consider dining else where.'  "
      ]
     },
     "execution_count": 5,
     "metadata": {},
     "output_type": "execute_result"
    }
   ],
   "source": [
    "reviews.sample(5, random_state=6)"
   ]
  },
  {
   "cell_type": "markdown",
   "metadata": {},
   "source": [
    "Summary:\n",
    "   * 92 instances\n",
    "   * labels are located at fisrt two columns, one is for `lie`; the other is for `sentiment`\n",
    "   * back slash and apostrophe have to be removed"
   ]
  },
  {
   "cell_type": "code",
   "execution_count": 6,
   "metadata": {},
   "outputs": [],
   "source": [
    "def clean_str(string):\n",
    "    \"\"\"\n",
    "    expect: a string with leading and trailing apostrophe and a back slash within the string\n",
    "    ex:\"'I found worm \\in one of the dishes.'\"\n",
    "    modify: Remove the trailing and leading apostrophe and back slash\n",
    "    return: return a string\n",
    "    \"\"\"\n",
    "    temp = re.sub(r'\\\\', '', string)\n",
    "    result = temp.strip(\"'\")\n",
    "    return result"
   ]
  },
  {
   "cell_type": "code",
   "execution_count": 7,
   "metadata": {},
   "outputs": [],
   "source": [
    "sentiment_mapper = {'n':0,'p':1}\n",
    "lie_mapper = {'t': 0, 'f': 1}   # true = 0 ; fake = 1\n",
    "reviews['review'] = reviews.review.map(clean_str)\n",
    "reviews['lie_num'] = reviews.lie.map(lie_mapper)\n",
    "reviews['sentiment_num'] = reviews.sentiment.map(sentiment_mapper)"
   ]
  },
  {
   "cell_type": "code",
   "execution_count": 8,
   "metadata": {
    "scrolled": true
   },
   "outputs": [
    {
     "data": {
      "text/html": [
       "<div>\n",
       "<style scoped>\n",
       "    .dataframe tbody tr th:only-of-type {\n",
       "        vertical-align: middle;\n",
       "    }\n",
       "\n",
       "    .dataframe tbody tr th {\n",
       "        vertical-align: top;\n",
       "    }\n",
       "\n",
       "    .dataframe thead th {\n",
       "        text-align: right;\n",
       "    }\n",
       "</style>\n",
       "<table border=\"1\" class=\"dataframe\">\n",
       "  <thead>\n",
       "    <tr style=\"text-align: right;\">\n",
       "      <th></th>\n",
       "      <th>lie</th>\n",
       "      <th>sentiment</th>\n",
       "      <th>review</th>\n",
       "      <th>lie_num</th>\n",
       "      <th>sentiment_num</th>\n",
       "    </tr>\n",
       "  </thead>\n",
       "  <tbody>\n",
       "    <tr>\n",
       "      <th>55</th>\n",
       "      <td>f</td>\n",
       "      <td>p</td>\n",
       "      <td>Two days ago, I went to the rooftop restaurant in NYC that served brunch. it was one of the best brunch that I have ever had. The view from the table was serene and I could see both the the Hudson River and the East River with outstanding views of Empire State Building, the Chryslers tower, Freedom tower and the Central park. A great place with great food and a perplexing view</td>\n",
       "      <td>1</td>\n",
       "      <td>1</td>\n",
       "    </tr>\n",
       "    <tr>\n",
       "      <th>20</th>\n",
       "      <td>f</td>\n",
       "      <td>n</td>\n",
       "      <td>Usually, I use Yelp to find restaurant. The Yelp would give restaurant 'stars' to divide them into different level. And it has own map to direct you to the right place. This summer, I use it to search a subway shop in New York city, and then it give me a best choice. I followed the map to that store, and then I was surprised. It is a butcher's which sell ham gammon. I can not find any subway in this store. When I asked the shop assistant, he said that you can bought ham to do subway by yourself.</td>\n",
       "      <td>1</td>\n",
       "      <td>0</td>\n",
       "    </tr>\n",
       "    <tr>\n",
       "      <th>23</th>\n",
       "      <td>t</td>\n",
       "      <td>n</td>\n",
       "      <td>Pizza Hut Syracuse, NY The only thing worth going here for is the lunch salad bar. The decor is very dated and the pizza is GREESY. Tables and bathroom are dirty. Waitstaff seem to have low expectations of service.</td>\n",
       "      <td>0</td>\n",
       "      <td>0</td>\n",
       "    </tr>\n",
       "    <tr>\n",
       "      <th>30</th>\n",
       "      <td>t</td>\n",
       "      <td>n</td>\n",
       "      <td>I went to Applebees (regrettably) once and it was a train-wreck. The server was in a terrible mood, the beers arrived after the dinner was delivered, the appetizer was wrong, food was bad, the check was wrong, and there were barely any other people inside! I was pretty baffled at how so many things just went wrong in the whole process, the restaurant wasn't even busy.</td>\n",
       "      <td>0</td>\n",
       "      <td>0</td>\n",
       "    </tr>\n",
       "    <tr>\n",
       "      <th>0</th>\n",
       "      <td>f</td>\n",
       "      <td>n</td>\n",
       "      <td>Mike's Pizza High Point, NY Service was very slow and the quality was low. You would think they would know at least how to make good pizza, not. Stick to pre-made dishes like stuffed pasta or a salad. You should consider dining else where.</td>\n",
       "      <td>1</td>\n",
       "      <td>0</td>\n",
       "    </tr>\n",
       "  </tbody>\n",
       "</table>\n",
       "</div>"
      ],
      "text/plain": [
       "   lie sentiment  \\\n",
       "55   f         p   \n",
       "20   f         n   \n",
       "23   t         n   \n",
       "30   t         n   \n",
       "0    f         n   \n",
       "\n",
       "                                                                                                                                                                                                                                                                                                                                                                                                                                                                                                                  review  \\\n",
       "55                                                                                                                           Two days ago, I went to the rooftop restaurant in NYC that served brunch. it was one of the best brunch that I have ever had. The view from the table was serene and I could see both the the Hudson River and the East River with outstanding views of Empire State Building, the Chryslers tower, Freedom tower and the Central park. A great place with great food and a perplexing view   \n",
       "20  Usually, I use Yelp to find restaurant. The Yelp would give restaurant 'stars' to divide them into different level. And it has own map to direct you to the right place. This summer, I use it to search a subway shop in New York city, and then it give me a best choice. I followed the map to that store, and then I was surprised. It is a butcher's which sell ham gammon. I can not find any subway in this store. When I asked the shop assistant, he said that you can bought ham to do subway by yourself.   \n",
       "23                                                                                                                                                                                                                                                                                                Pizza Hut Syracuse, NY The only thing worth going here for is the lunch salad bar. The decor is very dated and the pizza is GREESY. Tables and bathroom are dirty. Waitstaff seem to have low expectations of service.   \n",
       "30                                                                                                                                   I went to Applebees (regrettably) once and it was a train-wreck. The server was in a terrible mood, the beers arrived after the dinner was delivered, the appetizer was wrong, food was bad, the check was wrong, and there were barely any other people inside! I was pretty baffled at how so many things just went wrong in the whole process, the restaurant wasn't even busy.    \n",
       "0                                                                                                                                                                                                                                                                        Mike's Pizza High Point, NY Service was very slow and the quality was low. You would think they would know at least how to make good pizza, not. Stick to pre-made dishes like stuffed pasta or a salad. You should consider dining else where.   \n",
       "\n",
       "    lie_num  sentiment_num  \n",
       "55        1              1  \n",
       "20        1              0  \n",
       "23        0              0  \n",
       "30        0              0  \n",
       "0         1              0  "
      ]
     },
     "execution_count": 8,
     "metadata": {},
     "output_type": "execute_result"
    }
   ],
   "source": [
    "reviews.sample(5, random_state=6)"
   ]
  },
  {
   "cell_type": "code",
   "execution_count": 9,
   "metadata": {},
   "outputs": [
    {
     "data": {
      "image/png": "[encoded data removed]",
      "text/plain": [
       "<Figure size 576x432 with 1 Axes>"
      ]
     },
     "metadata": {
      "needs_background": "light"
     },
     "output_type": "display_data"
    }
   ],
   "source": [
    "reviews.sentiment.value_counts().plot(kind='bar', figsize=(8,6), fontsize=11)\n",
    "plt.title('Raw Dataset', size=12)\n",
    "plt.xlabel('Sentiment')\n",
    "plt.ylabel('Counts')\n",
    "# add annotation on each bar\n",
    "for i in range(2):\n",
    "    plt.text(x = i - 0.03 , y = reviews.sentiment.value_counts().values[i] + 0.4, \n",
    "             s = reviews.sentiment.value_counts().values[i])\n",
    "plt.show()"
   ]
  },
  {
   "cell_type": "code",
   "execution_count": 10,
   "metadata": {},
   "outputs": [
    {
     "data": {
      "image/png": "[encoded data removed]",
      "text/plain": [
       "<Figure size 576x432 with 1 Axes>"
      ]
     },
     "metadata": {
      "needs_background": "light"
     },
     "output_type": "display_data"
    }
   ],
   "source": [
    "reviews.lie.value_counts().plot(kind='bar', figsize=(8,6), fontsize=11)\n",
    "plt.title('Raw Dataset', size=12)\n",
    "plt.xlabel('lie')\n",
    "plt.ylabel('Counts')\n",
    "# add annotation on each bar\n",
    "for i in range(2):\n",
    "    plt.text(x = i - 0.03 , y = reviews.lie.value_counts().values[i] + 0.4, \n",
    "             s = reviews.lie.value_counts().values[i])\n",
    "plt.show()"
   ]
  },
  {
   "cell_type": "markdown",
   "metadata": {},
   "source": [
    "## Sentiment"
   ]
  },
  {
   "cell_type": "code",
   "execution_count": 11,
   "metadata": {},
   "outputs": [],
   "source": [
    "# define X and y\n",
    "X = reviews.review\n",
    "y = reviews.sentiment_num"
   ]
  },
  {
   "cell_type": "code",
   "execution_count": 12,
   "metadata": {},
   "outputs": [
    {
     "name": "stdout",
     "output_type": "stream",
     "text": [
      "(92,)\n",
      "(92,)\n"
     ]
    }
   ],
   "source": [
    "# check the \n",
    "print(X.shape)\n",
    "print(y.shape)"
   ]
  },
  {
   "cell_type": "markdown",
   "metadata": {},
   "source": [
    "### Holdout set technique: Train/test split"
   ]
  },
  {
   "cell_type": "code",
   "execution_count": 13,
   "metadata": {},
   "outputs": [],
   "source": [
    "from sklearn.model_selection import train_test_split # test_size=0.25 in default\n",
    "X_train, X_test, y_train, y_test = train_test_split(X, y, random_state=1,)"
   ]
  },
  {
   "cell_type": "markdown",
   "metadata": {},
   "source": [
    "#### Features Contain Stop Words"
   ]
  },
  {
   "cell_type": "code",
   "execution_count": 14,
   "metadata": {},
   "outputs": [
    {
     "data": {
      "text/plain": [
       "CountVectorizer(analyzer='word', binary=False, decode_error='strict',\n",
       "                dtype=<class 'numpy.int64'>, encoding='utf-8', input='content',\n",
       "                lowercase=True, max_df=1.0, max_features=None, min_df=1,\n",
       "                ngram_range=(1, 1), preprocessor=None, stop_words=None,\n",
       "                strip_accents=None, token_pattern='(?u)\\\\b\\\\w\\\\w+\\\\b',\n",
       "                tokenizer=None, vocabulary=None)"
      ]
     },
     "execution_count": 14,
     "metadata": {},
     "output_type": "execute_result"
    }
   ],
   "source": [
    "# import and instantiate CountVectorizer (with default parameters)\n",
    "from sklearn.feature_extraction.text import CountVectorizer\n",
    "vect = CountVectorizer()\n",
    "vect"
   ]
  },
  {
   "cell_type": "code",
   "execution_count": 15,
   "metadata": {},
   "outputs": [
    {
     "name": "stdout",
     "output_type": "stream",
     "text": [
      "X_train_dtm shape: (69, 1159)\n",
      "X_test_dtm shape: (23, 1159)\n",
      "Wall time: 8.98 ms\n"
     ]
    }
   ],
   "source": [
    "%%time\n",
    "# create a document-term matrix from all of the training data\n",
    "X_train_dtm = vect.fit_transform(X_train)\n",
    "print('X_train_dtm shape: {}'.format(X_train_dtm.shape))\n",
    "X_test_dtm = vect.transform(X_test)\n",
    "print('X_test_dtm shape: {}'.format(X_test_dtm.shape))"
   ]
  },
  {
   "cell_type": "code",
   "execution_count": 16,
   "metadata": {},
   "outputs": [
    {
     "name": "stdout",
     "output_type": "stream",
     "text": [
      "There are 1159 tokens\n",
      "['10', '100', '15', '16', '20', '25', '2nd', '30', '50', '5pm', '6pm', 'abc', 'about', 'abruptly', 'acceptable', 'accord', 'acknowledge', 'actually', 'ad', 'add', 'additional', 'affordable', 'aforementioned', 'after', 'afternoon', 'again', 'aghast', 'ago', 'air', 'albert', 'all', 'almost', 'along', 'already', 'also', 'although', 'always', 'am', 'amazing', 'ambiance', 'ambient', 'america', 'american', 'amount', 'an', 'and', 'angry', 'another', 'any', 'anybody']\n"
     ]
    }
   ],
   "source": [
    "print('There are {} tokens'.format(len(vect.get_feature_names())))\n",
    "print(vect.get_feature_names()[:50])"
   ]
  },
  {
   "cell_type": "code",
   "execution_count": 17,
   "metadata": {},
   "outputs": [],
   "source": [
    "# import and instantiate Multinomial Naive Bayes (with the default parameters)\n",
    "from sklearn.naive_bayes import MultinomialNB\n",
    "nb = MultinomialNB()"
   ]
  },
  {
   "cell_type": "code",
   "execution_count": 18,
   "metadata": {},
   "outputs": [
    {
     "name": "stdout",
     "output_type": "stream",
     "text": [
      "Wall time: 3.99 ms\n"
     ]
    }
   ],
   "source": [
    "%%time\n",
    "# Train the model and make a prediction\n",
    "nb.fit(X_train_dtm.toarray(), y_train)\n",
    "y_pred_class = nb.predict(X_test_dtm.toarray())"
   ]
  },
  {
   "cell_type": "code",
   "execution_count": 19,
   "metadata": {},
   "outputs": [
    {
     "name": "stdout",
     "output_type": "stream",
     "text": [
      "Accuracy: 86.96%\n"
     ]
    }
   ],
   "source": [
    "from sklearn.metrics import accuracy_score\n",
    "print('Accuracy: {}%'.format(round(accuracy_score(y_test, y_pred_class)*100, 2)))"
   ]
  },
  {
   "cell_type": "code",
   "execution_count": 20,
   "metadata": {
    "scrolled": true
   },
   "outputs": [
    {
     "data": {
      "image/png": "[encoded data removed]",
      "text/plain": [
       "<Figure size 432x288 with 2 Axes>"
      ]
     },
     "metadata": {
      "needs_background": "light"
     },
     "output_type": "display_data"
    }
   ],
   "source": [
    "# Confusion Matrix\n",
    "from sklearn.metrics import plot_confusion_matrix\n",
    "maxtix = plot_confusion_matrix(nb, X_test_dtm.toarray(), y_test, cmap='Blues', values_format='.3g')"
   ]
  },
  {
   "cell_type": "code",
   "execution_count": 21,
   "metadata": {},
   "outputs": [
    {
     "name": "stdout",
     "output_type": "stream",
     "text": [
      "              precision    recall  f1-score   support\n",
      "\n",
      "           0     0.7500    1.0000    0.8571         9\n",
      "           1     1.0000    0.7857    0.8800        14\n",
      "\n",
      "    accuracy                         0.8696        23\n",
      "   macro avg     0.8750    0.8929    0.8686        23\n",
      "weighted avg     0.9022    0.8696    0.8711        23\n",
      "\n"
     ]
    }
   ],
   "source": [
    "# Classification Report\n",
    "from sklearn.metrics import classification_report\n",
    "print(classification_report(y_test, y_pred_class, digits=4))"
   ]
  },
  {
   "cell_type": "markdown",
   "metadata": {},
   "source": [
    "#### Features Not Contain Stop Words"
   ]
  },
  {
   "cell_type": "code",
   "execution_count": 22,
   "metadata": {},
   "outputs": [
    {
     "data": {
      "text/plain": [
       "CountVectorizer(analyzer='word', binary=False, decode_error='strict',\n",
       "                dtype=<class 'numpy.int64'>, encoding='utf-8', input='content',\n",
       "                lowercase=True, max_df=1.0, max_features=None, min_df=1,\n",
       "                ngram_range=(1, 1), preprocessor=None, stop_words='english',\n",
       "                strip_accents=None, token_pattern='(?u)\\\\b\\\\w\\\\w+\\\\b',\n",
       "                tokenizer=None, vocabulary=None)"
      ]
     },
     "execution_count": 22,
     "metadata": {},
     "output_type": "execute_result"
    }
   ],
   "source": [
    "# import and instantiate CountVectorizer (with default parameters)\n",
    "from sklearn.feature_extraction.text import CountVectorizer\n",
    "vect_stop = CountVectorizer(stop_words='english')\n",
    "vect_stop"
   ]
  },
  {
   "cell_type": "code",
   "execution_count": 23,
   "metadata": {},
   "outputs": [
    {
     "name": "stdout",
     "output_type": "stream",
     "text": [
      "X_train_dtm shape: (69, 980)\n",
      "X_test_dtm shape: (23, 980)\n",
      "Wall time: 8.98 ms\n"
     ]
    }
   ],
   "source": [
    "%%time\n",
    "# create a document-term matrix from all of the training data\n",
    "X_train_dtm = vect_stop.fit_transform(X_train)\n",
    "print('X_train_dtm shape: {}'.format(X_train_dtm.shape))\n",
    "X_test_dtm = vect_stop.transform(X_test)\n",
    "print('X_test_dtm shape: {}'.format(X_test_dtm.shape))"
   ]
  },
  {
   "cell_type": "code",
   "execution_count": 24,
   "metadata": {},
   "outputs": [
    {
     "name": "stdout",
     "output_type": "stream",
     "text": [
      "There are 980 tokens\n",
      "['10', '100', '15', '16', '20', '25', '2nd', '30', '50', '5pm', '6pm', 'abc', 'about', 'abruptly', 'acceptable', 'accord', 'acknowledge', 'actually', 'ad', 'add', 'additional', 'affordable', 'aforementioned', 'after', 'afternoon', 'again', 'aghast', 'ago', 'air', 'albert', 'all', 'almost', 'along', 'already', 'also', 'although', 'always', 'am', 'amazing', 'ambiance', 'ambient', 'america', 'american', 'amount', 'an', 'and', 'angry', 'another', 'any', 'anybody']\n"
     ]
    }
   ],
   "source": [
    "print('There are {} tokens'.format(len(vect_stop.get_feature_names())))\n",
    "print(vect.get_feature_names()[:50])"
   ]
  },
  {
   "cell_type": "code",
   "execution_count": 25,
   "metadata": {},
   "outputs": [],
   "source": [
    "# import and instantiate Multinomial Naive Bayes (with the default parameters)\n",
    "from sklearn.naive_bayes import MultinomialNB\n",
    "nb = MultinomialNB()"
   ]
  },
  {
   "cell_type": "code",
   "execution_count": 26,
   "metadata": {},
   "outputs": [
    {
     "name": "stdout",
     "output_type": "stream",
     "text": [
      "Wall time: 1.99 ms\n"
     ]
    }
   ],
   "source": [
    "%%time\n",
    "# Train the model and make a prediction\n",
    "nb.fit(X_train_dtm.toarray(), y_train)\n",
    "y_pred_class = nb.predict(X_test_dtm.toarray())"
   ]
  },
  {
   "cell_type": "code",
   "execution_count": 27,
   "metadata": {},
   "outputs": [
    {
     "name": "stdout",
     "output_type": "stream",
     "text": [
      "Accuracy: 91.3%\n"
     ]
    }
   ],
   "source": [
    "from sklearn.metrics import accuracy_score\n",
    "print('Accuracy: {}%'.format(round(accuracy_score(y_test, y_pred_class)*100, 2)))"
   ]
  },
  {
   "cell_type": "code",
   "execution_count": 28,
   "metadata": {},
   "outputs": [
    {
     "data": {
      "image/png": "[encoded data removed]",
      "text/plain": [
       "<Figure size 432x288 with 2 Axes>"
      ]
     },
     "metadata": {
      "needs_background": "light"
     },
     "output_type": "display_data"
    }
   ],
   "source": [
    "# Confusion Matrix\n",
    "from sklearn.metrics import plot_confusion_matrix\n",
    "maxtix = plot_confusion_matrix(nb, X_test_dtm.toarray(), y_test, cmap='Blues', values_format='.3g')"
   ]
  },
  {
   "cell_type": "code",
   "execution_count": 29,
   "metadata": {},
   "outputs": [
    {
     "data": {
      "text/plain": [
       "59    p\n",
       "73    p\n",
       "44    n\n",
       "56    p\n",
       "74    p\n",
       "81    p\n",
       "84    p\n",
       "53    p\n",
       "54    p\n",
       "39    n\n",
       "40    n\n",
       "31    n\n",
       "80    p\n",
       "27    n\n",
       "38    n\n",
       "55    p\n",
       "10    n\n",
       "2     n\n",
       "91    p\n",
       "89    p\n",
       "48    p\n",
       "19    n\n",
       "86    p\n",
       "Name: sentiment, dtype: object"
      ]
     },
     "execution_count": 29,
     "metadata": {},
     "output_type": "execute_result"
    }
   ],
   "source": [
    "reviews.loc[y_test.index, 'sentiment']"
   ]
  },
  {
   "cell_type": "code",
   "execution_count": 30,
   "metadata": {},
   "outputs": [
    {
     "data": {
      "text/plain": [
       "59    1\n",
       "73    1\n",
       "44    0\n",
       "56    1\n",
       "74    1\n",
       "81    1\n",
       "84    1\n",
       "53    1\n",
       "54    1\n",
       "39    0\n",
       "40    0\n",
       "31    0\n",
       "80    1\n",
       "27    0\n",
       "38    0\n",
       "55    1\n",
       "10    0\n",
       "2     0\n",
       "91    1\n",
       "89    1\n",
       "48    1\n",
       "19    0\n",
       "86    1\n",
       "Name: sentiment_num, dtype: int64"
      ]
     },
     "execution_count": 30,
     "metadata": {},
     "output_type": "execute_result"
    }
   ],
   "source": [
    "y_test"
   ]
  },
  {
   "cell_type": "code",
   "execution_count": 31,
   "metadata": {},
   "outputs": [
    {
     "data": {
      "text/plain": [
       "1    14\n",
       "0     9\n",
       "Name: sentiment_num, dtype: int64"
      ]
     },
     "execution_count": 31,
     "metadata": {},
     "output_type": "execute_result"
    }
   ],
   "source": [
    "y_test.value_counts()"
   ]
  },
  {
   "cell_type": "code",
   "execution_count": 32,
   "metadata": {},
   "outputs": [
    {
     "name": "stdout",
     "output_type": "stream",
     "text": [
      "              precision    recall  f1-score   support\n",
      "\n",
      "           0     0.8182    1.0000    0.9000         9\n",
      "           1     1.0000    0.8571    0.9231        14\n",
      "\n",
      "    accuracy                         0.9130        23\n",
      "   macro avg     0.9091    0.9286    0.9115        23\n",
      "weighted avg     0.9289    0.9130    0.9140        23\n",
      "\n"
     ]
    }
   ],
   "source": [
    "# Classification Report\n",
    "from sklearn.metrics import classification_report\n",
    "print(classification_report(y_test, y_pred_class, digits=4))"
   ]
  },
  {
   "cell_type": "code",
   "execution_count": 33,
   "metadata": {},
   "outputs": [
    {
     "name": "stdout",
     "output_type": "stream",
     "text": [
      "Base model(null model) for sentiment prediction in testing set: 39.13%\n"
     ]
    }
   ],
   "source": [
    "result = (y_test.value_counts()[0]/y_test.shape[0])\n",
    "print('Base model(null model) for sentiment prediction in testing set: {}%'.format(round(result*100, 2)))"
   ]
  },
  {
   "cell_type": "markdown",
   "metadata": {},
   "source": [
    "#### K-fold Cross-validation"
   ]
  },
  {
   "cell_type": "code",
   "execution_count": 34,
   "metadata": {},
   "outputs": [
    {
     "name": "stdout",
     "output_type": "stream",
     "text": [
      "Base model(null model) for sentiment prediction: 0.5%\n"
     ]
    }
   ],
   "source": [
    "import numpy as np\n",
    "np.random.seed(1)\n",
    "print('Base model(null model) for sentiment prediction: {}%'.format((y.value_counts()/y.shape[0])[0]))"
   ]
  },
  {
   "cell_type": "markdown",
   "metadata": {},
   "source": [
    "5 folds"
   ]
  },
  {
   "cell_type": "code",
   "execution_count": 35,
   "metadata": {
    "scrolled": true
   },
   "outputs": [
    {
     "name": "stdout",
     "output_type": "stream",
     "text": [
      "Accuracy: 80.35%\n",
      "Wall time: 63.8 ms\n"
     ]
    }
   ],
   "source": [
    "%%time\n",
    "nb = MultinomialNB()\n",
    "\n",
    "vect_cv= CountVectorizer(stop_words='english')\n",
    "X_dtm = vect_cv.fit_transform(X)\n",
    "\n",
    "# evaluate with 5-fold cross-validation (using X instead of X_train)\n",
    "from sklearn.model_selection import cross_val_score\n",
    "result = cross_val_score(nb, X_dtm.toarray(), y, cv=5, scoring='accuracy').mean()\n",
    "print('Accuracy: {}%'.format(round(result*100, 2)))"
   ]
  },
  {
   "cell_type": "code",
   "execution_count": 36,
   "metadata": {},
   "outputs": [
    {
     "name": "stdout",
     "output_type": "stream",
     "text": [
      "Recall: 88.89%\n",
      "Wall time: 42.9 ms\n"
     ]
    }
   ],
   "source": [
    "%%time\n",
    "nb = MultinomialNB()\n",
    "\n",
    "vect_cv= CountVectorizer(stop_words='english')\n",
    "X_dtm = vect_cv.fit_transform(X)\n",
    "\n",
    "# evaluate with 5-fold cross-validation (using X instead of X_train)\n",
    "from sklearn.model_selection import cross_val_score\n",
    "result = cross_val_score(nb, X_dtm.toarray(), y, cv=5, scoring='recall').mean()\n",
    "print('Recall: {}%'.format(round(result*100, 2)))"
   ]
  },
  {
   "cell_type": "markdown",
   "metadata": {},
   "source": [
    "10 folds"
   ]
  },
  {
   "cell_type": "code",
   "execution_count": 37,
   "metadata": {},
   "outputs": [
    {
     "name": "stdout",
     "output_type": "stream",
     "text": [
      "Accuracy: 82.67%\n",
      "Wall time: 34 ms\n"
     ]
    }
   ],
   "source": [
    "%%time\n",
    "nb = MultinomialNB()\n",
    "\n",
    "vect_cv= CountVectorizer(stop_words='english')\n",
    "X_dtm = vect_cv.fit_transform(X)\n",
    "\n",
    "# evaluate with 5-fold cross-validation (using X instead of X_train)\n",
    "from sklearn.model_selection import cross_val_score\n",
    "result = cross_val_score(nb, X_dtm.toarray(), y, cv=10, scoring='accuracy').mean()\n",
    "print('Accuracy: {}%'.format(round(result*100, 2)))"
   ]
  },
  {
   "cell_type": "code",
   "execution_count": 38,
   "metadata": {},
   "outputs": [
    {
     "name": "stdout",
     "output_type": "stream",
     "text": [
      "Recall: 89.0%\n",
      "Wall time: 85 ms\n"
     ]
    }
   ],
   "source": [
    "%%time\n",
    "nb = MultinomialNB()\n",
    "\n",
    "vect_cv= CountVectorizer(stop_words='english')\n",
    "X_dtm = vect_cv.fit_transform(X)\n",
    "\n",
    "# evaluate with 5-fold cross-validation (using X instead of X_train)\n",
    "from sklearn.model_selection import cross_val_score\n",
    "result = cross_val_score(nb, X_dtm.toarray(), y, cv=10, scoring='recall').mean()\n",
    "print('Recall: {}%'.format(round(result*100, 2)))"
   ]
  },
  {
   "cell_type": "markdown",
   "metadata": {},
   "source": [
    "#### Feature Ranking in MultinomialNB"
   ]
  },
  {
   "cell_type": "code",
   "execution_count": 39,
   "metadata": {},
   "outputs": [],
   "source": [
    "X_tokens = vect_cv.get_feature_names()"
   ]
  },
  {
   "cell_type": "code",
   "execution_count": 40,
   "metadata": {},
   "outputs": [
    {
     "name": "stdout",
     "output_type": "stream",
     "text": [
      "['10', '100', '15', '16', '20', '25', '2nd', '30', '50', '5pm', '6pm', '90', 'abc', 'abruptly', 'absolutely', 'acceptable', 'accord', 'acknowledge', 'actual', 'actually', 'ad', 'add', 'additional', 'adorable', 'affordable', 'aforementioned', 'afternoon', 'aghast', 'ago', 'agreed', 'air', 'albert', 'alfredo', 'amazing', 'ambiance', 'ambient', 'amer', 'america', 'american', 'angry', 'answering', 'anybody', 'appalled', 'appalling', 'appealing', 'appetizer', 'applebee', 'applebees', 'applied', 'appropriative']\n"
     ]
    }
   ],
   "source": [
    "# examine the first 50 tokens\n",
    "print(X_tokens[0:50])"
   ]
  },
  {
   "cell_type": "code",
   "execution_count": 41,
   "metadata": {},
   "outputs": [
    {
     "name": "stdout",
     "output_type": "stream",
     "text": [
      "['warm', 'warmly', 'wasn', 'watch', 'watched', 'water', 'watery', 'way', 'wearing', 'week', 'weekend', 'weird', 'welcoming', 'went', 'weren', 'west', 'whatsoever', 'whelming', 'white', 'wifi', 'wine', 'wings', 'winning', 'winter', 'wish', 'woman', 'won', 'wonderful', 'wondering', 'words', 'worked', 'world', 'worm', 'worrying', 'worse', 'worst', 'worth', 'wouldn', 'wqr', 'wreck', 'write', 'written', 'wrong', 'wrote', 'xyz', 'yeah', 'yelp', 'yesterday', 'york', 'yuenan']\n"
     ]
    }
   ],
   "source": [
    "# examine the last 50 tokens\n",
    "print(X_tokens[-50:])"
   ]
  },
  {
   "cell_type": "code",
   "execution_count": 42,
   "metadata": {},
   "outputs": [],
   "source": [
    "# import and instantiate a Multinomial Naive Bayes model\n",
    "from sklearn.naive_bayes import MultinomialNB\n",
    "nb = MultinomialNB()"
   ]
  },
  {
   "cell_type": "code",
   "execution_count": 43,
   "metadata": {},
   "outputs": [
    {
     "name": "stdout",
     "output_type": "stream",
     "text": [
      "Wall time: 997 µs\n"
     ]
    },
    {
     "data": {
      "text/plain": [
       "MultinomialNB(alpha=1.0, class_prior=None, fit_prior=True)"
      ]
     },
     "execution_count": 43,
     "metadata": {},
     "output_type": "execute_result"
    }
   ],
   "source": [
    "%%time \n",
    "# train the model using X_dtm\n",
    "nb.fit(X_dtm, y)"
   ]
  },
  {
   "cell_type": "code",
   "execution_count": 44,
   "metadata": {},
   "outputs": [
    {
     "name": "stdout",
     "output_type": "stream",
     "text": [
      "Shape: (2, 1254)\n"
     ]
    }
   ],
   "source": [
    "nb.feature_count_\n",
    "# rows represent classes, columns represent tokens\n",
    "print(\"Shape: {}\".format(nb.feature_count_.shape))"
   ]
  },
  {
   "cell_type": "code",
   "execution_count": 45,
   "metadata": {},
   "outputs": [
    {
     "data": {
      "text/plain": [
       "array([3., 1., 5., ..., 1., 2., 0.])"
      ]
     },
     "execution_count": 45,
     "metadata": {},
     "output_type": "execute_result"
    }
   ],
   "source": [
    "# number of times each token appears across all 'neg' class\n",
    "neg_token_count = nb.feature_count_[0, :]\n",
    "neg_token_count"
   ]
  },
  {
   "cell_type": "code",
   "execution_count": 46,
   "metadata": {},
   "outputs": [
    {
     "data": {
      "text/plain": [
       "array([1., 1., 1., ..., 0., 1., 1.])"
      ]
     },
     "execution_count": 46,
     "metadata": {},
     "output_type": "execute_result"
    }
   ],
   "source": [
    "# number of times each token appears across all 'pos' class\n",
    "pos_token_count = nb.feature_count_[1, :]\n",
    "pos_token_count"
   ]
  },
  {
   "cell_type": "code",
   "execution_count": 47,
   "metadata": {},
   "outputs": [],
   "source": [
    "# create a DataFrame of tokens with their separate atheism, forsale and med counts\n",
    "tokens = pd.DataFrame({'token':X_tokens, 'neg':neg_token_count, \n",
    "                       'pos':pos_token_count}).set_index('token')"
   ]
  },
  {
   "cell_type": "code",
   "execution_count": 48,
   "metadata": {},
   "outputs": [
    {
     "data": {
      "text/html": [
       "<div>\n",
       "<style scoped>\n",
       "    .dataframe tbody tr th:only-of-type {\n",
       "        vertical-align: middle;\n",
       "    }\n",
       "\n",
       "    .dataframe tbody tr th {\n",
       "        vertical-align: top;\n",
       "    }\n",
       "\n",
       "    .dataframe thead th {\n",
       "        text-align: right;\n",
       "    }\n",
       "</style>\n",
       "<table border=\"1\" class=\"dataframe\">\n",
       "  <thead>\n",
       "    <tr style=\"text-align: right;\">\n",
       "      <th></th>\n",
       "      <th>neg</th>\n",
       "      <th>pos</th>\n",
       "    </tr>\n",
       "    <tr>\n",
       "      <th>token</th>\n",
       "      <th></th>\n",
       "      <th></th>\n",
       "    </tr>\n",
       "  </thead>\n",
       "  <tbody>\n",
       "    <tr>\n",
       "      <th>visiting</th>\n",
       "      <td>0.0</td>\n",
       "      <td>2.0</td>\n",
       "    </tr>\n",
       "    <tr>\n",
       "      <th>oil</th>\n",
       "      <td>2.0</td>\n",
       "      <td>0.0</td>\n",
       "    </tr>\n",
       "    <tr>\n",
       "      <th>stains</th>\n",
       "      <td>1.0</td>\n",
       "      <td>0.0</td>\n",
       "    </tr>\n",
       "    <tr>\n",
       "      <th>couldn</th>\n",
       "      <td>1.0</td>\n",
       "      <td>0.0</td>\n",
       "    </tr>\n",
       "    <tr>\n",
       "      <th>deep</th>\n",
       "      <td>0.0</td>\n",
       "      <td>1.0</td>\n",
       "    </tr>\n",
       "  </tbody>\n",
       "</table>\n",
       "</div>"
      ],
      "text/plain": [
       "          neg  pos\n",
       "token             \n",
       "visiting  0.0  2.0\n",
       "oil       2.0  0.0\n",
       "stains    1.0  0.0\n",
       "couldn    1.0  0.0\n",
       "deep      0.0  1.0"
      ]
     },
     "execution_count": 48,
     "metadata": {},
     "output_type": "execute_result"
    }
   ],
   "source": [
    "# examine 5 random DataFrame rows\n",
    "tokens.sample(5, random_state=6)"
   ]
  },
  {
   "cell_type": "code",
   "execution_count": 49,
   "metadata": {},
   "outputs": [
    {
     "data": {
      "text/plain": [
       "array([46., 46.])"
      ]
     },
     "execution_count": 49,
     "metadata": {},
     "output_type": "execute_result"
    }
   ],
   "source": [
    "# Naive Bayes counts the number of observations in each class\n",
    "nb.class_count_"
   ]
  },
  {
   "cell_type": "code",
   "execution_count": 50,
   "metadata": {},
   "outputs": [
    {
     "name": "stdout",
     "output_type": "stream",
     "text": [
      "Number of vocabulary learned: 1254\n"
     ]
    }
   ],
   "source": [
    "# Naive Bayes counts the number of observations for all classes\n",
    "Total_vocab = tokens.shape[0]\n",
    "print('Number of vocabulary learned: {}'.format(Total_vocab))"
   ]
  },
  {
   "cell_type": "code",
   "execution_count": 51,
   "metadata": {},
   "outputs": [
    {
     "data": {
      "text/html": [
       "<div>\n",
       "<style scoped>\n",
       "    .dataframe tbody tr th:only-of-type {\n",
       "        vertical-align: middle;\n",
       "    }\n",
       "\n",
       "    .dataframe tbody tr th {\n",
       "        vertical-align: top;\n",
       "    }\n",
       "\n",
       "    .dataframe thead th {\n",
       "        text-align: right;\n",
       "    }\n",
       "</style>\n",
       "<table border=\"1\" class=\"dataframe\">\n",
       "  <thead>\n",
       "    <tr style=\"text-align: right;\">\n",
       "      <th></th>\n",
       "      <th>neg</th>\n",
       "      <th>pos</th>\n",
       "      <th>pos_ratio</th>\n",
       "      <th>neg_ratio</th>\n",
       "    </tr>\n",
       "    <tr>\n",
       "      <th>token</th>\n",
       "      <th></th>\n",
       "      <th></th>\n",
       "      <th></th>\n",
       "      <th></th>\n",
       "    </tr>\n",
       "  </thead>\n",
       "  <tbody>\n",
       "    <tr>\n",
       "      <th>amazing</th>\n",
       "      <td>0.000769</td>\n",
       "      <td>0.011538</td>\n",
       "      <td>15.00</td>\n",
       "      <td>0.066667</td>\n",
       "    </tr>\n",
       "    <tr>\n",
       "      <th>best</th>\n",
       "      <td>0.003077</td>\n",
       "      <td>0.022308</td>\n",
       "      <td>7.25</td>\n",
       "      <td>0.137931</td>\n",
       "    </tr>\n",
       "    <tr>\n",
       "      <th>makes</th>\n",
       "      <td>0.000769</td>\n",
       "      <td>0.004615</td>\n",
       "      <td>6.00</td>\n",
       "      <td>0.166667</td>\n",
       "    </tr>\n",
       "    <tr>\n",
       "      <th>cream</th>\n",
       "      <td>0.000769</td>\n",
       "      <td>0.004615</td>\n",
       "      <td>6.00</td>\n",
       "      <td>0.166667</td>\n",
       "    </tr>\n",
       "    <tr>\n",
       "      <th>restaurants</th>\n",
       "      <td>0.000769</td>\n",
       "      <td>0.004615</td>\n",
       "      <td>6.00</td>\n",
       "      <td>0.166667</td>\n",
       "    </tr>\n",
       "    <tr>\n",
       "      <th>love</th>\n",
       "      <td>0.000769</td>\n",
       "      <td>0.004615</td>\n",
       "      <td>6.00</td>\n",
       "      <td>0.166667</td>\n",
       "    </tr>\n",
       "    <tr>\n",
       "      <th>noodle</th>\n",
       "      <td>0.000769</td>\n",
       "      <td>0.004615</td>\n",
       "      <td>6.00</td>\n",
       "      <td>0.166667</td>\n",
       "    </tr>\n",
       "    <tr>\n",
       "      <th>friendly</th>\n",
       "      <td>0.001538</td>\n",
       "      <td>0.007692</td>\n",
       "      <td>5.00</td>\n",
       "      <td>0.200000</td>\n",
       "    </tr>\n",
       "    <tr>\n",
       "      <th>sushi</th>\n",
       "      <td>0.000769</td>\n",
       "      <td>0.003846</td>\n",
       "      <td>5.00</td>\n",
       "      <td>0.200000</td>\n",
       "    </tr>\n",
       "    <tr>\n",
       "      <th>ingredients</th>\n",
       "      <td>0.000769</td>\n",
       "      <td>0.003846</td>\n",
       "      <td>5.00</td>\n",
       "      <td>0.200000</td>\n",
       "    </tr>\n",
       "    <tr>\n",
       "      <th>awesome</th>\n",
       "      <td>0.000769</td>\n",
       "      <td>0.003846</td>\n",
       "      <td>5.00</td>\n",
       "      <td>0.200000</td>\n",
       "    </tr>\n",
       "    <tr>\n",
       "      <th>flavors</th>\n",
       "      <td>0.000769</td>\n",
       "      <td>0.003846</td>\n",
       "      <td>5.00</td>\n",
       "      <td>0.200000</td>\n",
       "    </tr>\n",
       "    <tr>\n",
       "      <th>coffee</th>\n",
       "      <td>0.000769</td>\n",
       "      <td>0.003846</td>\n",
       "      <td>5.00</td>\n",
       "      <td>0.200000</td>\n",
       "    </tr>\n",
       "    <tr>\n",
       "      <th>atmosphere</th>\n",
       "      <td>0.000769</td>\n",
       "      <td>0.003846</td>\n",
       "      <td>5.00</td>\n",
       "      <td>0.200000</td>\n",
       "    </tr>\n",
       "    <tr>\n",
       "      <th>chocolate</th>\n",
       "      <td>0.000769</td>\n",
       "      <td>0.003846</td>\n",
       "      <td>5.00</td>\n",
       "      <td>0.200000</td>\n",
       "    </tr>\n",
       "    <tr>\n",
       "      <th>great</th>\n",
       "      <td>0.003846</td>\n",
       "      <td>0.016923</td>\n",
       "      <td>4.40</td>\n",
       "      <td>0.227273</td>\n",
       "    </tr>\n",
       "    <tr>\n",
       "      <th>cafe</th>\n",
       "      <td>0.000769</td>\n",
       "      <td>0.003077</td>\n",
       "      <td>4.00</td>\n",
       "      <td>0.250000</td>\n",
       "    </tr>\n",
       "    <tr>\n",
       "      <th>river</th>\n",
       "      <td>0.000769</td>\n",
       "      <td>0.003077</td>\n",
       "      <td>4.00</td>\n",
       "      <td>0.250000</td>\n",
       "    </tr>\n",
       "    <tr>\n",
       "      <th>liked</th>\n",
       "      <td>0.000769</td>\n",
       "      <td>0.003077</td>\n",
       "      <td>4.00</td>\n",
       "      <td>0.250000</td>\n",
       "    </tr>\n",
       "    <tr>\n",
       "      <th>pick</th>\n",
       "      <td>0.000769</td>\n",
       "      <td>0.003077</td>\n",
       "      <td>4.00</td>\n",
       "      <td>0.250000</td>\n",
       "    </tr>\n",
       "  </tbody>\n",
       "</table>\n",
       "</div>"
      ],
      "text/plain": [
       "                  neg       pos  pos_ratio  neg_ratio\n",
       "token                                                \n",
       "amazing      0.000769  0.011538      15.00   0.066667\n",
       "best         0.003077  0.022308       7.25   0.137931\n",
       "makes        0.000769  0.004615       6.00   0.166667\n",
       "cream        0.000769  0.004615       6.00   0.166667\n",
       "restaurants  0.000769  0.004615       6.00   0.166667\n",
       "love         0.000769  0.004615       6.00   0.166667\n",
       "noodle       0.000769  0.004615       6.00   0.166667\n",
       "friendly     0.001538  0.007692       5.00   0.200000\n",
       "sushi        0.000769  0.003846       5.00   0.200000\n",
       "ingredients  0.000769  0.003846       5.00   0.200000\n",
       "awesome      0.000769  0.003846       5.00   0.200000\n",
       "flavors      0.000769  0.003846       5.00   0.200000\n",
       "coffee       0.000769  0.003846       5.00   0.200000\n",
       "atmosphere   0.000769  0.003846       5.00   0.200000\n",
       "chocolate    0.000769  0.003846       5.00   0.200000\n",
       "great        0.003846  0.016923       4.40   0.227273\n",
       "cafe         0.000769  0.003077       4.00   0.250000\n",
       "river        0.000769  0.003077       4.00   0.250000\n",
       "liked        0.000769  0.003077       4.00   0.250000\n",
       "pick         0.000769  0.003077       4.00   0.250000"
      ]
     },
     "execution_count": 51,
     "metadata": {},
     "output_type": "execute_result"
    }
   ],
   "source": [
    "# calculate the condition probabilities using Laplace smoother (N + |vocab|)\n",
    "# https://scikit-learn.org/stable/modules/naive_bayes.html\n",
    "tokens['neg'] = (tokens.neg +1) / (nb.class_count_[0]+Total_vocab)\n",
    "tokens['pos'] = (tokens.pos +1) / (nb.class_count_[1]+Total_vocab)\n",
    "tokens['pos_ratio'] = tokens.pos/tokens.neg\n",
    "tokens['neg_ratio'] = tokens.neg/tokens.pos\n",
    "tokens = tokens.sort_values('pos_ratio', ascending=False)\n",
    "tokens.head(20)"
   ]
  },
  {
   "cell_type": "code",
   "execution_count": 52,
   "metadata": {},
   "outputs": [
    {
     "name": "stdout",
     "output_type": "stream",
     "text": [
      "most indicative words for negative sentiment\n"
     ]
    },
    {
     "data": {
      "text/plain": [
       "token\n",
       "food          0.033077\n",
       "restaurant    0.031538\n",
       "place         0.023077\n",
       "went          0.018462\n",
       "minutes       0.016923\n",
       "ordered       0.014615\n",
       "good          0.011538\n",
       "service       0.011538\n",
       "just          0.010769\n",
       "experience    0.010769\n",
       "terrible      0.010000\n",
       "order         0.010000\n",
       "came          0.010000\n",
       "salad         0.010000\n",
       "like          0.010000\n",
       "took          0.009231\n",
       "waitress      0.008462\n",
       "wait          0.008462\n",
       "waiter        0.008462\n",
       "friends       0.007692\n",
       "Name: neg, dtype: float64"
      ]
     },
     "execution_count": 52,
     "metadata": {},
     "output_type": "execute_result"
    }
   ],
   "source": [
    "print('most indicative words for negative sentiment')\n",
    "tokens.loc[:,'neg'].sort_values(ascending=False)[:20]"
   ]
  },
  {
   "cell_type": "code",
   "execution_count": 53,
   "metadata": {
    "scrolled": false
   },
   "outputs": [
    {
     "name": "stdout",
     "output_type": "stream",
     "text": [
      "most indicative words for positive sentiment\n"
     ]
    },
    {
     "data": {
      "text/plain": [
       "token\n",
       "food          0.030000\n",
       "restaurant    0.028462\n",
       "best          0.022308\n",
       "great         0.016923\n",
       "good          0.013846\n",
       "amazing       0.011538\n",
       "service       0.011538\n",
       "place         0.011538\n",
       "went          0.009231\n",
       "fresh         0.009231\n",
       "really        0.008462\n",
       "experience    0.008462\n",
       "like          0.008462\n",
       "friends       0.007692\n",
       "delicious     0.007692\n",
       "sauce         0.007692\n",
       "friendly      0.007692\n",
       "ordered       0.007692\n",
       "nice          0.007692\n",
       "pizza         0.006923\n",
       "Name: pos, dtype: float64"
      ]
     },
     "execution_count": 53,
     "metadata": {},
     "output_type": "execute_result"
    }
   ],
   "source": [
    "print('most indicative words for positive sentiment')\n",
    "tokens.loc[:,'pos'].sort_values(ascending=False)[:20]"
   ]
  },
  {
   "cell_type": "markdown",
   "metadata": {},
   "source": [
    "## Lie"
   ]
  },
  {
   "cell_type": "code",
   "execution_count": 54,
   "metadata": {},
   "outputs": [],
   "source": [
    "# define X and y\n",
    "X = reviews.review\n",
    "y = reviews.lie_num"
   ]
  },
  {
   "cell_type": "code",
   "execution_count": 55,
   "metadata": {},
   "outputs": [
    {
     "name": "stdout",
     "output_type": "stream",
     "text": [
      "(92,)\n",
      "(92,)\n"
     ]
    }
   ],
   "source": [
    "print(X.shape)\n",
    "print(y.shape)"
   ]
  },
  {
   "cell_type": "markdown",
   "metadata": {},
   "source": [
    "### Holdout set technique: Train/test split"
   ]
  },
  {
   "cell_type": "code",
   "execution_count": 56,
   "metadata": {},
   "outputs": [],
   "source": [
    "from sklearn.model_selection import train_test_split # test_size=0.25 in default\n",
    "X_train, X_test, y_train, y_test = train_test_split(X, y, random_state=1,)"
   ]
  },
  {
   "cell_type": "markdown",
   "metadata": {},
   "source": [
    "#### Features Contain Stop Words"
   ]
  },
  {
   "cell_type": "code",
   "execution_count": 57,
   "metadata": {},
   "outputs": [
    {
     "data": {
      "text/plain": [
       "CountVectorizer(analyzer='word', binary=False, decode_error='strict',\n",
       "                dtype=<class 'numpy.int64'>, encoding='utf-8', input='content',\n",
       "                lowercase=True, max_df=1.0, max_features=None, min_df=1,\n",
       "                ngram_range=(1, 1), preprocessor=None, stop_words=None,\n",
       "                strip_accents=None, token_pattern='(?u)\\\\b\\\\w\\\\w+\\\\b',\n",
       "                tokenizer=None, vocabulary=None)"
      ]
     },
     "execution_count": 57,
     "metadata": {},
     "output_type": "execute_result"
    }
   ],
   "source": [
    "# import and instantiate CountVectorizer (with default parameters)\n",
    "from sklearn.feature_extraction.text import CountVectorizer\n",
    "vect = CountVectorizer()\n",
    "vect"
   ]
  },
  {
   "cell_type": "code",
   "execution_count": 58,
   "metadata": {},
   "outputs": [
    {
     "name": "stdout",
     "output_type": "stream",
     "text": [
      "X_train_dtm shape: (69, 1159)\n",
      "X_test_dtm shape: (23, 1159)\n",
      "Wall time: 9 ms\n"
     ]
    }
   ],
   "source": [
    "%%time\n",
    "# create a document-term matrix from all of the training data\n",
    "X_train_dtm = vect.fit_transform(X_train)\n",
    "print('X_train_dtm shape: {}'.format(X_train_dtm.shape))\n",
    "X_test_dtm = vect.transform(X_test)\n",
    "print('X_test_dtm shape: {}'.format(X_test_dtm.shape))"
   ]
  },
  {
   "cell_type": "code",
   "execution_count": 59,
   "metadata": {},
   "outputs": [
    {
     "name": "stdout",
     "output_type": "stream",
     "text": [
      "There are 1159 tokens\n",
      "['10', '100', '15', '16', '20', '25', '2nd', '30', '50', '5pm', '6pm', 'abc', 'about', 'abruptly', 'acceptable', 'accord', 'acknowledge', 'actually', 'ad', 'add', 'additional', 'affordable', 'aforementioned', 'after', 'afternoon', 'again', 'aghast', 'ago', 'air', 'albert', 'all', 'almost', 'along', 'already', 'also', 'although', 'always', 'am', 'amazing', 'ambiance', 'ambient', 'america', 'american', 'amount', 'an', 'and', 'angry', 'another', 'any', 'anybody']\n"
     ]
    }
   ],
   "source": [
    "print('There are {} tokens'.format(len(vect.get_feature_names())))\n",
    "print(vect.get_feature_names()[:50])"
   ]
  },
  {
   "cell_type": "code",
   "execution_count": 60,
   "metadata": {},
   "outputs": [],
   "source": [
    "# import and instantiate Multinomial Naive Bayes (with the default parameters)\n",
    "from sklearn.naive_bayes import MultinomialNB\n",
    "nb = MultinomialNB()"
   ]
  },
  {
   "cell_type": "code",
   "execution_count": 61,
   "metadata": {},
   "outputs": [
    {
     "name": "stdout",
     "output_type": "stream",
     "text": [
      "Wall time: 1.02 ms\n"
     ]
    }
   ],
   "source": [
    "%%time\n",
    "# Train the model and make a prediction\n",
    "nb.fit(X_train_dtm.toarray(), y_train)\n",
    "y_pred_class = nb.predict(X_test_dtm.toarray())"
   ]
  },
  {
   "cell_type": "code",
   "execution_count": 62,
   "metadata": {
    "scrolled": false
   },
   "outputs": [
    {
     "name": "stdout",
     "output_type": "stream",
     "text": [
      "Accuracy: 34.78%\n"
     ]
    }
   ],
   "source": [
    "from sklearn.metrics import accuracy_score\n",
    "print('Accuracy: {}%'.format(round(accuracy_score(y_test, y_pred_class)*100, 2)))"
   ]
  },
  {
   "cell_type": "code",
   "execution_count": 63,
   "metadata": {
    "scrolled": true
   },
   "outputs": [
    {
     "data": {
      "image/png": "[encoded data removed]",
      "text/plain": [
       "<Figure size 432x288 with 2 Axes>"
      ]
     },
     "metadata": {
      "needs_background": "light"
     },
     "output_type": "display_data"
    }
   ],
   "source": [
    "# Confusion Matrix\n",
    "from sklearn.metrics import plot_confusion_matrix\n",
    "maxtix = plot_confusion_matrix(nb, X_test_dtm.toarray(), y_test, cmap='Blues', values_format='.3g')"
   ]
  },
  {
   "cell_type": "code",
   "execution_count": 64,
   "metadata": {},
   "outputs": [
    {
     "name": "stdout",
     "output_type": "stream",
     "text": [
      "              precision    recall  f1-score   support\n",
      "\n",
      "           0     0.4545    0.3571    0.4000        14\n",
      "           1     0.2500    0.3333    0.2857         9\n",
      "\n",
      "    accuracy                         0.3478        23\n",
      "   macro avg     0.3523    0.3452    0.3429        23\n",
      "weighted avg     0.3745    0.3478    0.3553        23\n",
      "\n"
     ]
    }
   ],
   "source": [
    "# Classification Report\n",
    "from sklearn.metrics import classification_report\n",
    "print(classification_report(y_test, y_pred_class, digits=4))"
   ]
  },
  {
   "cell_type": "markdown",
   "metadata": {},
   "source": [
    "#### Features Not Contain Stop Words"
   ]
  },
  {
   "cell_type": "code",
   "execution_count": 65,
   "metadata": {},
   "outputs": [
    {
     "data": {
      "text/plain": [
       "CountVectorizer(analyzer='word', binary=False, decode_error='strict',\n",
       "                dtype=<class 'numpy.int64'>, encoding='utf-8', input='content',\n",
       "                lowercase=True, max_df=1.0, max_features=None, min_df=1,\n",
       "                ngram_range=(1, 1), preprocessor=None, stop_words='english',\n",
       "                strip_accents=None, token_pattern='(?u)\\\\b\\\\w\\\\w+\\\\b',\n",
       "                tokenizer=None, vocabulary=None)"
      ]
     },
     "execution_count": 65,
     "metadata": {},
     "output_type": "execute_result"
    }
   ],
   "source": [
    "# import and instantiate CountVectorizer (with default parameters)\n",
    "from sklearn.feature_extraction.text import CountVectorizer\n",
    "vect_stop = CountVectorizer(stop_words = \"english\")\n",
    "vect_stop"
   ]
  },
  {
   "cell_type": "code",
   "execution_count": 66,
   "metadata": {},
   "outputs": [
    {
     "name": "stdout",
     "output_type": "stream",
     "text": [
      "X_train_dtm shape: (69, 980)\n",
      "X_test_dtm shape: (23, 980)\n",
      "Wall time: 8.99 ms\n"
     ]
    }
   ],
   "source": [
    "%%time\n",
    "# create a document-term matrix from all of the training data\n",
    "X_train_dtm = vect_stop.fit_transform(X_train)\n",
    "print('X_train_dtm shape: {}'.format(X_train_dtm.shape))\n",
    "X_test_dtm = vect_stop.transform(X_test)\n",
    "print('X_test_dtm shape: {}'.format(X_test_dtm.shape))"
   ]
  },
  {
   "cell_type": "code",
   "execution_count": 67,
   "metadata": {},
   "outputs": [
    {
     "name": "stdout",
     "output_type": "stream",
     "text": [
      "There are 980 tokens\n",
      "['10', '100', '15', '16', '20', '25', '2nd', '30', '50', '5pm', '6pm', 'abc', 'abruptly', 'acceptable', 'accord', 'acknowledge', 'actually', 'ad', 'add', 'additional', 'affordable', 'aforementioned', 'afternoon', 'aghast', 'ago', 'air', 'albert', 'amazing', 'ambiance', 'ambient', 'america', 'american', 'angry', 'anybody', 'appetizer', 'applebee', 'applebees', 'applied', 'area', 'arrive', 'arrived', 'artichoke', 'asian', 'ask', 'asked', 'asking', 'assistant', 'ate', 'atmosphere', 'attendant']\n"
     ]
    }
   ],
   "source": [
    "print('There are {} tokens'.format(len(vect_stop.get_feature_names())))\n",
    "print(vect_stop.get_feature_names()[:50])"
   ]
  },
  {
   "cell_type": "code",
   "execution_count": 68,
   "metadata": {},
   "outputs": [],
   "source": [
    "# import and instantiate Multinomial Naive Bayes (with the default parameters)\n",
    "from sklearn.naive_bayes import MultinomialNB\n",
    "nb = MultinomialNB()"
   ]
  },
  {
   "cell_type": "code",
   "execution_count": 69,
   "metadata": {},
   "outputs": [
    {
     "name": "stdout",
     "output_type": "stream",
     "text": [
      "Wall time: 2.99 ms\n"
     ]
    }
   ],
   "source": [
    "%%time\n",
    "# Train the model and make a prediction\n",
    "nb.fit(X_train_dtm.toarray(), y_train)\n",
    "y_pred_class = nb.predict(X_test_dtm.toarray())"
   ]
  },
  {
   "cell_type": "code",
   "execution_count": 70,
   "metadata": {
    "scrolled": false
   },
   "outputs": [
    {
     "name": "stdout",
     "output_type": "stream",
     "text": [
      "Accuracy: 43.48%\n"
     ]
    }
   ],
   "source": [
    "from sklearn.metrics import accuracy_score\n",
    "print('Accuracy: {}%'.format(round(accuracy_score(y_test, y_pred_class)*100, 2)))"
   ]
  },
  {
   "cell_type": "code",
   "execution_count": 71,
   "metadata": {},
   "outputs": [
    {
     "data": {
      "image/png": "[encoded data removed]",
      "text/plain": [
       "<Figure size 432x288 with 2 Axes>"
      ]
     },
     "metadata": {
      "needs_background": "light"
     },
     "output_type": "display_data"
    }
   ],
   "source": [
    "# Confusion Matrix\n",
    "from sklearn.metrics import plot_confusion_matrix\n",
    "maxtix = plot_confusion_matrix(nb, X_test_dtm.toarray(), y_test, cmap='Blues', values_format='.3g')"
   ]
  },
  {
   "cell_type": "code",
   "execution_count": 72,
   "metadata": {},
   "outputs": [
    {
     "data": {
      "text/plain": [
       "array([[5, 9],\n",
       "       [4, 5]], dtype=int64)"
      ]
     },
     "execution_count": 72,
     "metadata": {},
     "output_type": "execute_result"
    }
   ],
   "source": [
    "# Confusion Matrix\n",
    "from sklearn.metrics import confusion_matrix\n",
    "confusion_matrix(y_test, y_pred_class)"
   ]
  },
  {
   "cell_type": "code",
   "execution_count": 73,
   "metadata": {},
   "outputs": [
    {
     "name": "stdout",
     "output_type": "stream",
     "text": [
      "              precision    recall  f1-score   support\n",
      "\n",
      "           0     0.5556    0.3571    0.4348        14\n",
      "           1     0.3571    0.5556    0.4348         9\n",
      "\n",
      "    accuracy                         0.4348        23\n",
      "   macro avg     0.4563    0.4563    0.4348        23\n",
      "weighted avg     0.4779    0.4348    0.4348        23\n",
      "\n"
     ]
    }
   ],
   "source": [
    "# Classification Report\n",
    "from sklearn.metrics import classification_report\n",
    "print(classification_report(y_test, y_pred_class, digits=4))"
   ]
  },
  {
   "cell_type": "code",
   "execution_count": 74,
   "metadata": {},
   "outputs": [
    {
     "data": {
      "text/plain": [
       "0    14\n",
       "1     9\n",
       "Name: lie_num, dtype: int64"
      ]
     },
     "execution_count": 74,
     "metadata": {},
     "output_type": "execute_result"
    }
   ],
   "source": [
    "y_test.value_counts()"
   ]
  },
  {
   "cell_type": "code",
   "execution_count": 75,
   "metadata": {},
   "outputs": [
    {
     "data": {
      "text/plain": [
       "59    f\n",
       "73    t\n",
       "44    t\n",
       "56    f\n",
       "74    t\n",
       "81    t\n",
       "84    t\n",
       "53    f\n",
       "54    f\n",
       "39    t\n",
       "40    t\n",
       "31    t\n",
       "80    t\n",
       "27    t\n",
       "38    t\n",
       "55    f\n",
       "10    f\n",
       "2     f\n",
       "91    t\n",
       "89    t\n",
       "48    f\n",
       "19    f\n",
       "86    t\n",
       "Name: lie, dtype: object"
      ]
     },
     "execution_count": 75,
     "metadata": {},
     "output_type": "execute_result"
    }
   ],
   "source": [
    "reviews.loc[[59, 73, 44, 56, 74, 81, 84, 53, 54, 39, 40, 31, 80, 27, 38, 55, 10,\n",
    "             2, 91, 89, 48, 19, 86], 'lie']"
   ]
  },
  {
   "cell_type": "code",
   "execution_count": 76,
   "metadata": {},
   "outputs": [
    {
     "data": {
      "text/plain": [
       "59    1\n",
       "73    0\n",
       "44    0\n",
       "56    1\n",
       "74    0\n",
       "81    0\n",
       "84    0\n",
       "53    1\n",
       "54    1\n",
       "39    0\n",
       "40    0\n",
       "31    0\n",
       "80    0\n",
       "27    0\n",
       "38    0\n",
       "55    1\n",
       "10    1\n",
       "2     1\n",
       "91    0\n",
       "89    0\n",
       "48    1\n",
       "19    1\n",
       "86    0\n",
       "Name: lie_num, dtype: int64"
      ]
     },
     "execution_count": 76,
     "metadata": {},
     "output_type": "execute_result"
    }
   ],
   "source": [
    "y_test"
   ]
  },
  {
   "cell_type": "code",
   "execution_count": 77,
   "metadata": {},
   "outputs": [
    {
     "name": "stdout",
     "output_type": "stream",
     "text": [
      "Base model(null model) for lie prediction in testing set: 60.87%\n"
     ]
    }
   ],
   "source": [
    "result = (y_test.value_counts()[0]/y_test.shape[0])\n",
    "print('Base model(null model) for lie prediction in testing set: {}%'.format(round(result*100, 2)))"
   ]
  },
  {
   "cell_type": "markdown",
   "metadata": {},
   "source": [
    "#### K-fold Cross-validation"
   ]
  },
  {
   "cell_type": "code",
   "execution_count": 78,
   "metadata": {
    "scrolled": true
   },
   "outputs": [
    {
     "name": "stdout",
     "output_type": "stream",
     "text": [
      "Base model(null model) for lie prediction: 0.5%\n"
     ]
    }
   ],
   "source": [
    "import numpy as np\n",
    "np.random.seed(1)\n",
    "print('Base model(null model) for lie prediction: {}%'.format((y.value_counts()/y.shape[0])[0]))"
   ]
  },
  {
   "cell_type": "markdown",
   "metadata": {},
   "source": [
    "5 folds"
   ]
  },
  {
   "cell_type": "code",
   "execution_count": 79,
   "metadata": {
    "scrolled": true
   },
   "outputs": [
    {
     "name": "stdout",
     "output_type": "stream",
     "text": [
      "Accuracy: 61.93%\n",
      "Wall time: 53.4 ms\n"
     ]
    }
   ],
   "source": [
    "%%time\n",
    "nb = MultinomialNB()\n",
    "\n",
    "vect_cv= CountVectorizer(stop_words = \"english\")\n",
    "X_dtm = vect_cv.fit_transform(X)\n",
    "\n",
    "# evaluate with 5-fold cross-validation (using X instead of X_train)\n",
    "from sklearn.model_selection import cross_val_score\n",
    "result = cross_val_score(nb, X_dtm.toarray(), y, cv=5, scoring='accuracy').mean()\n",
    "print('Accuracy: {}%'.format(round(result*100, 2)))"
   ]
  },
  {
   "cell_type": "markdown",
   "metadata": {},
   "source": [
    "The 5-fold cross-validation model has 59.71 accuracy rate which is higher than the base model. "
   ]
  },
  {
   "cell_type": "code",
   "execution_count": 80,
   "metadata": {},
   "outputs": [
    {
     "name": "stdout",
     "output_type": "stream",
     "text": [
      "Recall: 65.33%\n",
      "Wall time: 30.9 ms\n"
     ]
    }
   ],
   "source": [
    "%%time\n",
    "nb = MultinomialNB()\n",
    "\n",
    "vect_cv= CountVectorizer(stop_words = \"english\")\n",
    "X_dtm = vect_cv.fit_transform(X)\n",
    "\n",
    "# evaluate with 5-fold cross-validation (using X instead of X_train)\n",
    "from sklearn.model_selection import cross_val_score\n",
    "result = cross_val_score(nb, X_dtm.toarray(), y, cv=5, scoring='recall').mean()\n",
    "print('Recall: {}%'.format(round(result*100, 2)))"
   ]
  },
  {
   "cell_type": "markdown",
   "metadata": {},
   "source": [
    "10 folds"
   ]
  },
  {
   "cell_type": "code",
   "execution_count": 81,
   "metadata": {},
   "outputs": [
    {
     "name": "stdout",
     "output_type": "stream",
     "text": [
      "Accuracy: 56.44%\n",
      "Wall time: 33.9 ms\n"
     ]
    }
   ],
   "source": [
    "%%time\n",
    "nb = MultinomialNB()\n",
    "\n",
    "vect_cv= CountVectorizer(stop_words = \"english\")\n",
    "X_dtm = vect_cv.fit_transform(X)\n",
    "\n",
    "# evaluate with 5-fold cross-validation (using X instead of X_train)\n",
    "from sklearn.model_selection import cross_val_score\n",
    "result = cross_val_score(nb, X_dtm.toarray(), y, cv=10, scoring='accuracy').mean()\n",
    "print('Accuracy: {}%'.format(round(result*100, 2)))"
   ]
  },
  {
   "cell_type": "code",
   "execution_count": 82,
   "metadata": {},
   "outputs": [
    {
     "name": "stdout",
     "output_type": "stream",
     "text": [
      "Recall: 61.5%\n",
      "Wall time: 37.9 ms\n"
     ]
    }
   ],
   "source": [
    "%%time\n",
    "nb = MultinomialNB()\n",
    "\n",
    "vect_cv= CountVectorizer(stop_words = \"english\")\n",
    "X_dtm = vect_cv.fit_transform(X)\n",
    "\n",
    "# evaluate with 5-fold cross-validation (using X instead of X_train)\n",
    "from sklearn.model_selection import cross_val_score\n",
    "result = cross_val_score(nb, X_dtm.toarray(), y, cv=10, scoring='recall').mean()\n",
    "print('Recall: {}%'.format(round(result*100, 2)))"
   ]
  },
  {
   "cell_type": "markdown",
   "metadata": {},
   "source": [
    "#### Feature Ranking in MultinomialNB"
   ]
  },
  {
   "cell_type": "code",
   "execution_count": 83,
   "metadata": {},
   "outputs": [],
   "source": [
    "X_tokens = vect_cv.get_feature_names()"
   ]
  },
  {
   "cell_type": "code",
   "execution_count": 84,
   "metadata": {},
   "outputs": [
    {
     "name": "stdout",
     "output_type": "stream",
     "text": [
      "['10', '100', '15', '16', '20', '25', '2nd', '30', '50', '5pm', '6pm', '90', 'abc', 'abruptly', 'absolutely', 'acceptable', 'accord', 'acknowledge', 'actual', 'actually', 'ad', 'add', 'additional', 'adorable', 'affordable', 'aforementioned', 'afternoon', 'aghast', 'ago', 'agreed', 'air', 'albert', 'alfredo', 'amazing', 'ambiance', 'ambient', 'amer', 'america', 'american', 'angry', 'answering', 'anybody', 'appalled', 'appalling', 'appealing', 'appetizer', 'applebee', 'applebees', 'applied', 'appropriative']\n"
     ]
    }
   ],
   "source": [
    "# examine the first 50 tokens\n",
    "print(X_tokens[0:50])"
   ]
  },
  {
   "cell_type": "code",
   "execution_count": 85,
   "metadata": {},
   "outputs": [
    {
     "name": "stdout",
     "output_type": "stream",
     "text": [
      "['warm', 'warmly', 'wasn', 'watch', 'watched', 'water', 'watery', 'way', 'wearing', 'week', 'weekend', 'weird', 'welcoming', 'went', 'weren', 'west', 'whatsoever', 'whelming', 'white', 'wifi', 'wine', 'wings', 'winning', 'winter', 'wish', 'woman', 'won', 'wonderful', 'wondering', 'words', 'worked', 'world', 'worm', 'worrying', 'worse', 'worst', 'worth', 'wouldn', 'wqr', 'wreck', 'write', 'written', 'wrong', 'wrote', 'xyz', 'yeah', 'yelp', 'yesterday', 'york', 'yuenan']\n"
     ]
    }
   ],
   "source": [
    "# examine the last 50 tokens\n",
    "print(X_tokens[-50:])"
   ]
  },
  {
   "cell_type": "code",
   "execution_count": 86,
   "metadata": {},
   "outputs": [],
   "source": [
    "# import and instantiate a Multinomial Naive Bayes model\n",
    "from sklearn.naive_bayes import MultinomialNB\n",
    "nb = MultinomialNB()"
   ]
  },
  {
   "cell_type": "code",
   "execution_count": 87,
   "metadata": {},
   "outputs": [
    {
     "name": "stdout",
     "output_type": "stream",
     "text": [
      "Wall time: 998 µs\n"
     ]
    },
    {
     "data": {
      "text/plain": [
       "MultinomialNB(alpha=1.0, class_prior=None, fit_prior=True)"
      ]
     },
     "execution_count": 87,
     "metadata": {},
     "output_type": "execute_result"
    }
   ],
   "source": [
    "%%time \n",
    "# train the model using X_dtm\n",
    "nb.fit(X_dtm, y)"
   ]
  },
  {
   "cell_type": "code",
   "execution_count": 88,
   "metadata": {},
   "outputs": [
    {
     "name": "stdout",
     "output_type": "stream",
     "text": [
      "Shape: (2, 1254)\n"
     ]
    }
   ],
   "source": [
    "nb.feature_count_\n",
    "# rows represent classes, columns represent tokens\n",
    "print(\"Shape: {}\".format(nb.feature_count_.shape))"
   ]
  },
  {
   "cell_type": "code",
   "execution_count": 89,
   "metadata": {},
   "outputs": [
    {
     "data": {
      "text/plain": [
       "array([2., 0., 0., ..., 0., 1., 0.])"
      ]
     },
     "execution_count": 89,
     "metadata": {},
     "output_type": "execute_result"
    }
   ],
   "source": [
    "# number of times each token appears across all 'fake' class\n",
    "fake_token_count = nb.feature_count_[0, :]\n",
    "fake_token_count"
   ]
  },
  {
   "cell_type": "code",
   "execution_count": 90,
   "metadata": {},
   "outputs": [
    {
     "data": {
      "text/plain": [
       "array([2., 2., 6., ..., 1., 2., 1.])"
      ]
     },
     "execution_count": 90,
     "metadata": {},
     "output_type": "execute_result"
    }
   ],
   "source": [
    "# number of times each token appears across all 'true' class\n",
    "true_token_count = nb.feature_count_[1, :]\n",
    "true_token_count"
   ]
  },
  {
   "cell_type": "code",
   "execution_count": 91,
   "metadata": {},
   "outputs": [],
   "source": [
    "# create a DataFrame of tokens with their separate atheism, forsale and med counts\n",
    "tokens = pd.DataFrame({'token':X_tokens, 'fake':fake_token_count, \n",
    "                       'true':true_token_count}).set_index('token')"
   ]
  },
  {
   "cell_type": "code",
   "execution_count": 92,
   "metadata": {},
   "outputs": [
    {
     "data": {
      "text/html": [
       "<div>\n",
       "<style scoped>\n",
       "    .dataframe tbody tr th:only-of-type {\n",
       "        vertical-align: middle;\n",
       "    }\n",
       "\n",
       "    .dataframe tbody tr th {\n",
       "        vertical-align: top;\n",
       "    }\n",
       "\n",
       "    .dataframe thead th {\n",
       "        text-align: right;\n",
       "    }\n",
       "</style>\n",
       "<table border=\"1\" class=\"dataframe\">\n",
       "  <thead>\n",
       "    <tr style=\"text-align: right;\">\n",
       "      <th></th>\n",
       "      <th>fake</th>\n",
       "      <th>true</th>\n",
       "    </tr>\n",
       "    <tr>\n",
       "      <th>token</th>\n",
       "      <th></th>\n",
       "      <th></th>\n",
       "    </tr>\n",
       "  </thead>\n",
       "  <tbody>\n",
       "    <tr>\n",
       "      <th>visiting</th>\n",
       "      <td>0.0</td>\n",
       "      <td>2.0</td>\n",
       "    </tr>\n",
       "    <tr>\n",
       "      <th>oil</th>\n",
       "      <td>0.0</td>\n",
       "      <td>2.0</td>\n",
       "    </tr>\n",
       "    <tr>\n",
       "      <th>stains</th>\n",
       "      <td>1.0</td>\n",
       "      <td>0.0</td>\n",
       "    </tr>\n",
       "    <tr>\n",
       "      <th>couldn</th>\n",
       "      <td>1.0</td>\n",
       "      <td>0.0</td>\n",
       "    </tr>\n",
       "    <tr>\n",
       "      <th>deep</th>\n",
       "      <td>1.0</td>\n",
       "      <td>0.0</td>\n",
       "    </tr>\n",
       "  </tbody>\n",
       "</table>\n",
       "</div>"
      ],
      "text/plain": [
       "          fake  true\n",
       "token               \n",
       "visiting   0.0   2.0\n",
       "oil        0.0   2.0\n",
       "stains     1.0   0.0\n",
       "couldn     1.0   0.0\n",
       "deep       1.0   0.0"
      ]
     },
     "execution_count": 92,
     "metadata": {},
     "output_type": "execute_result"
    }
   ],
   "source": [
    "# examine 5 random DataFrame rows\n",
    "tokens.sample(5, random_state=6)"
   ]
  },
  {
   "cell_type": "code",
   "execution_count": 93,
   "metadata": {},
   "outputs": [
    {
     "data": {
      "text/plain": [
       "array([46., 46.])"
      ]
     },
     "execution_count": 93,
     "metadata": {},
     "output_type": "execute_result"
    }
   ],
   "source": [
    "# Naive Bayes counts the number of observations in each class\n",
    "nb.class_count_"
   ]
  },
  {
   "cell_type": "code",
   "execution_count": 94,
   "metadata": {},
   "outputs": [
    {
     "name": "stdout",
     "output_type": "stream",
     "text": [
      "Number of vocabulary learned: 1254\n"
     ]
    }
   ],
   "source": [
    "# Naive Bayes counts the number of observations for all classes\n",
    "Total_vocab = tokens.shape[0]\n",
    "print('Number of vocabulary learned: {}'.format(Total_vocab))"
   ]
  },
  {
   "cell_type": "code",
   "execution_count": 95,
   "metadata": {},
   "outputs": [
    {
     "data": {
      "text/html": [
       "<div>\n",
       "<style scoped>\n",
       "    .dataframe tbody tr th:only-of-type {\n",
       "        vertical-align: middle;\n",
       "    }\n",
       "\n",
       "    .dataframe tbody tr th {\n",
       "        vertical-align: top;\n",
       "    }\n",
       "\n",
       "    .dataframe thead th {\n",
       "        text-align: right;\n",
       "    }\n",
       "</style>\n",
       "<table border=\"1\" class=\"dataframe\">\n",
       "  <thead>\n",
       "    <tr style=\"text-align: right;\">\n",
       "      <th></th>\n",
       "      <th>fake</th>\n",
       "      <th>true</th>\n",
       "      <th>fake_ratio</th>\n",
       "      <th>true_ratio</th>\n",
       "    </tr>\n",
       "    <tr>\n",
       "      <th>token</th>\n",
       "      <th></th>\n",
       "      <th></th>\n",
       "      <th></th>\n",
       "      <th></th>\n",
       "    </tr>\n",
       "  </thead>\n",
       "  <tbody>\n",
       "    <tr>\n",
       "      <th>tofu</th>\n",
       "      <td>0.005385</td>\n",
       "      <td>0.000769</td>\n",
       "      <td>7.0</td>\n",
       "      <td>0.142857</td>\n",
       "    </tr>\n",
       "    <tr>\n",
       "      <th>makes</th>\n",
       "      <td>0.004615</td>\n",
       "      <td>0.000769</td>\n",
       "      <td>6.0</td>\n",
       "      <td>0.166667</td>\n",
       "    </tr>\n",
       "    <tr>\n",
       "      <th>tables</th>\n",
       "      <td>0.003846</td>\n",
       "      <td>0.000769</td>\n",
       "      <td>5.0</td>\n",
       "      <td>0.200000</td>\n",
       "    </tr>\n",
       "    <tr>\n",
       "      <th>coffee</th>\n",
       "      <td>0.003846</td>\n",
       "      <td>0.000769</td>\n",
       "      <td>5.0</td>\n",
       "      <td>0.200000</td>\n",
       "    </tr>\n",
       "    <tr>\n",
       "      <th>calling</th>\n",
       "      <td>0.003846</td>\n",
       "      <td>0.000769</td>\n",
       "      <td>5.0</td>\n",
       "      <td>0.200000</td>\n",
       "    </tr>\n",
       "    <tr>\n",
       "      <th>shrimp</th>\n",
       "      <td>0.003077</td>\n",
       "      <td>0.000769</td>\n",
       "      <td>4.0</td>\n",
       "      <td>0.250000</td>\n",
       "    </tr>\n",
       "    <tr>\n",
       "      <th>sommalier</th>\n",
       "      <td>0.003077</td>\n",
       "      <td>0.000769</td>\n",
       "      <td>4.0</td>\n",
       "      <td>0.250000</td>\n",
       "    </tr>\n",
       "    <tr>\n",
       "      <th>old</th>\n",
       "      <td>0.003077</td>\n",
       "      <td>0.000769</td>\n",
       "      <td>4.0</td>\n",
       "      <td>0.250000</td>\n",
       "    </tr>\n",
       "    <tr>\n",
       "      <th>case</th>\n",
       "      <td>0.003077</td>\n",
       "      <td>0.000769</td>\n",
       "      <td>4.0</td>\n",
       "      <td>0.250000</td>\n",
       "    </tr>\n",
       "    <tr>\n",
       "      <th>glass</th>\n",
       "      <td>0.006154</td>\n",
       "      <td>0.001538</td>\n",
       "      <td>4.0</td>\n",
       "      <td>0.250000</td>\n",
       "    </tr>\n",
       "    <tr>\n",
       "      <th>generally</th>\n",
       "      <td>0.003077</td>\n",
       "      <td>0.000769</td>\n",
       "      <td>4.0</td>\n",
       "      <td>0.250000</td>\n",
       "    </tr>\n",
       "    <tr>\n",
       "      <th>eggs</th>\n",
       "      <td>0.003077</td>\n",
       "      <td>0.000769</td>\n",
       "      <td>4.0</td>\n",
       "      <td>0.250000</td>\n",
       "    </tr>\n",
       "    <tr>\n",
       "      <th>pepper</th>\n",
       "      <td>0.003077</td>\n",
       "      <td>0.000769</td>\n",
       "      <td>4.0</td>\n",
       "      <td>0.250000</td>\n",
       "    </tr>\n",
       "    <tr>\n",
       "      <th>packed</th>\n",
       "      <td>0.003077</td>\n",
       "      <td>0.000769</td>\n",
       "      <td>4.0</td>\n",
       "      <td>0.250000</td>\n",
       "    </tr>\n",
       "    <tr>\n",
       "      <th>bar</th>\n",
       "      <td>0.006154</td>\n",
       "      <td>0.001538</td>\n",
       "      <td>4.0</td>\n",
       "      <td>0.250000</td>\n",
       "    </tr>\n",
       "    <tr>\n",
       "      <th>noisy</th>\n",
       "      <td>0.003077</td>\n",
       "      <td>0.000769</td>\n",
       "      <td>4.0</td>\n",
       "      <td>0.250000</td>\n",
       "    </tr>\n",
       "    <tr>\n",
       "      <th>dirty</th>\n",
       "      <td>0.003077</td>\n",
       "      <td>0.000769</td>\n",
       "      <td>4.0</td>\n",
       "      <td>0.250000</td>\n",
       "    </tr>\n",
       "    <tr>\n",
       "      <th>add</th>\n",
       "      <td>0.003077</td>\n",
       "      <td>0.000769</td>\n",
       "      <td>4.0</td>\n",
       "      <td>0.250000</td>\n",
       "    </tr>\n",
       "    <tr>\n",
       "      <th>cafe</th>\n",
       "      <td>0.003077</td>\n",
       "      <td>0.000769</td>\n",
       "      <td>4.0</td>\n",
       "      <td>0.250000</td>\n",
       "    </tr>\n",
       "    <tr>\n",
       "      <th>thing</th>\n",
       "      <td>0.003077</td>\n",
       "      <td>0.000769</td>\n",
       "      <td>4.0</td>\n",
       "      <td>0.250000</td>\n",
       "    </tr>\n",
       "  </tbody>\n",
       "</table>\n",
       "</div>"
      ],
      "text/plain": [
       "               fake      true  fake_ratio  true_ratio\n",
       "token                                                \n",
       "tofu       0.005385  0.000769         7.0    0.142857\n",
       "makes      0.004615  0.000769         6.0    0.166667\n",
       "tables     0.003846  0.000769         5.0    0.200000\n",
       "coffee     0.003846  0.000769         5.0    0.200000\n",
       "calling    0.003846  0.000769         5.0    0.200000\n",
       "shrimp     0.003077  0.000769         4.0    0.250000\n",
       "sommalier  0.003077  0.000769         4.0    0.250000\n",
       "old        0.003077  0.000769         4.0    0.250000\n",
       "case       0.003077  0.000769         4.0    0.250000\n",
       "glass      0.006154  0.001538         4.0    0.250000\n",
       "generally  0.003077  0.000769         4.0    0.250000\n",
       "eggs       0.003077  0.000769         4.0    0.250000\n",
       "pepper     0.003077  0.000769         4.0    0.250000\n",
       "packed     0.003077  0.000769         4.0    0.250000\n",
       "bar        0.006154  0.001538         4.0    0.250000\n",
       "noisy      0.003077  0.000769         4.0    0.250000\n",
       "dirty      0.003077  0.000769         4.0    0.250000\n",
       "add        0.003077  0.000769         4.0    0.250000\n",
       "cafe       0.003077  0.000769         4.0    0.250000\n",
       "thing      0.003077  0.000769         4.0    0.250000"
      ]
     },
     "execution_count": 95,
     "metadata": {},
     "output_type": "execute_result"
    }
   ],
   "source": [
    "# calculate the condition probabilities using Laplace smoother (N + |vocab|)\n",
    "# https://scikit-learn.org/stable/modules/naive_bayes.html\n",
    "tokens['fake'] = (tokens.fake + 1) / (nb.class_count_[0]+Total_vocab)\n",
    "tokens['true'] = (tokens.true + 1) / (nb.class_count_[1]+Total_vocab)\n",
    "tokens['fake_ratio'] = tokens.fake/tokens.true\n",
    "tokens['true_ratio']=tokens.true/tokens.fake\n",
    "tokens = tokens.sort_values('fake_ratio', ascending=False)\n",
    "tokens.head(20)"
   ]
  },
  {
   "cell_type": "code",
   "execution_count": 96,
   "metadata": {},
   "outputs": [
    {
     "name": "stdout",
     "output_type": "stream",
     "text": [
      "most indicative words for fake review\n"
     ]
    },
    {
     "data": {
      "text/plain": [
       "token\n",
       "food          0.033077\n",
       "restaurant    0.033077\n",
       "place         0.019231\n",
       "good          0.015385\n",
       "went          0.013077\n",
       "best          0.010769\n",
       "ordered       0.010769\n",
       "great         0.010000\n",
       "people        0.008462\n",
       "time          0.008462\n",
       "friends       0.007692\n",
       "service       0.007692\n",
       "waitress      0.007692\n",
       "salad         0.006923\n",
       "just          0.006923\n",
       "like          0.006923\n",
       "cheese        0.006923\n",
       "really        0.006923\n",
       "experience    0.006923\n",
       "bar           0.006154\n",
       "Name: fake, dtype: float64"
      ]
     },
     "execution_count": 96,
     "metadata": {},
     "output_type": "execute_result"
    }
   ],
   "source": [
    "print('most indicative words for fake review')\n",
    "tokens.loc[:,'fake'].sort_values(ascending=False)[:20]"
   ]
  },
  {
   "cell_type": "code",
   "execution_count": 97,
   "metadata": {
    "scrolled": false
   },
   "outputs": [
    {
     "name": "stdout",
     "output_type": "stream",
     "text": [
      "most indicative words for true review\n"
     ]
    },
    {
     "data": {
      "text/plain": [
       "token\n",
       "food          0.030000\n",
       "restaurant    0.026923\n",
       "service       0.015385\n",
       "place         0.015385\n",
       "went          0.014615\n",
       "minutes       0.014615\n",
       "best          0.014615\n",
       "experience    0.012308\n",
       "plate         0.011538\n",
       "ordered       0.011538\n",
       "like          0.011538\n",
       "great         0.010769\n",
       "good          0.010000\n",
       "amazing       0.007692\n",
       "really        0.007692\n",
       "friends       0.007692\n",
       "fresh         0.007692\n",
       "dishes        0.007692\n",
       "order         0.007692\n",
       "wait          0.007692\n",
       "Name: true, dtype: float64"
      ]
     },
     "execution_count": 97,
     "metadata": {},
     "output_type": "execute_result"
    }
   ],
   "source": [
    "print('most indicative words for true review')\n",
    "tokens.loc[:,'true'].sort_values(ascending=False)[:20]"
   ]
  }
 ],
 "metadata": {
  "kernelspec": {
   "display_name": "Python 3",
   "language": "python",
   "name": "python3"
  },
  "language_info": {
   "codemirror_mode": {
    "name": "ipython",
    "version": 3
   },
   "file_extension": ".py",
   "mimetype": "text/x-python",
   "name": "python",
   "nbconvert_exporter": "python",
   "pygments_lexer": "ipython3",
   "version": "3.7.3"
  }
 },
 "nbformat": 4,
 "nbformat_minor": 4
}
