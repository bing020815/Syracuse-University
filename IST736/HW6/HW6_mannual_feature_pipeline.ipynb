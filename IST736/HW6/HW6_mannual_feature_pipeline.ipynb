{
 "cells": [
  {
   "cell_type": "markdown",
   "metadata": {},
   "source": [
    "# HW6 \n",
    "\n",
    "1)\tUse the required format for this assignment  \n",
    "2)\tFor this assignment you will use the Benoulli (so here – be sure to use the binary=True in the CountVectorizer).  So, you will need to create two dataframes – one for Bernoulli and one for the normal frequency counts. For those who want to do more, you can also use the TfidfVectorizer and create a third dataframe that is normalized. This is fast to do and will create an interesting opportunity to compare, binary, count, and tf-idf normalized. However, it is optional.   \n",
    "3)\tNext, on the frequency data frame (and on the tfidf if you create one) use the Multinomial Naïve Bayes algorithms   \n",
    "4)\tDatasets:  \n",
    "a.\tFirst – create your own small, easy, predictable dataset (as either csv or corpus – your choice). Code the above to assure that you code works. You may choose to share this step in the Analysis section under models and methods.    \n",
    "b.\tNext, use any labeled dataset (50 rows or more so you get interesting results). You can use csv or corpus. You can use the lie data or the sentiment data from class (and can repurpose any intros that you wrote). You can also find or use and API to get data. There are many levels here and it depends on how advanced you want to go. While it is not required, it would be great for you to try to use an API, clean up the data, and then use the methods on it.    \n",
    "\n",
    "Remember that the Benoulli model takes Boolean vectors as input, \n",
    "\n",
    "NOTE: A Boolean Vector is the same as *binary* data. This means that instead of each word (in each column) being counted up for each document, rather, there is a 0 if the word is NOT in the doc and 1 if it is. \n",
    "\n",
    "and the Multinomial model takes frequency vectors as input. \n",
    "\n",
    "NOTE: This means that it uses the normal counts (and also can work on tf-idf or other normalized counts).\n",
    "\n",
    "NOTE: You will need to create a Training Set and a Testing Set AFTER you clean up and fully prep your data. Remember that Naïve Bayes (as well as Bernoulli) needs to be trained first and then tested. In both cases REMOVE AND KEEP the labels \n",
    "\n"
   ]
  },
  {
   "cell_type": "code",
   "execution_count": 1,
   "metadata": {},
   "outputs": [],
   "source": [
    "import pandas as pd\n",
    "import matplotlib.pyplot as plt\n",
    "import seaborn as sns\n",
    "import re"
   ]
  },
  {
   "cell_type": "code",
   "execution_count": 2,
   "metadata": {},
   "outputs": [],
   "source": [
    "pd.set_option('display.max_rows', 100)\n",
    "pd.set_option('display.max_colwidth', 1000)"
   ]
  },
  {
   "cell_type": "code",
   "execution_count": 3,
   "metadata": {},
   "outputs": [
    {
     "data": {
      "text/plain": [
       "(92, 3)"
      ]
     },
     "execution_count": 3,
     "metadata": {},
     "output_type": "execute_result"
    }
   ],
   "source": [
    "reviews = pd.read_csv('deception_data_converted_final.tsv', sep='\\t')\n",
    "reviews.shape"
   ]
  },
  {
   "cell_type": "code",
   "execution_count": 4,
   "metadata": {
    "scrolled": true
   },
   "outputs": [
    {
     "data": {
      "text/html": [
       "<div>\n",
       "<style scoped>\n",
       "    .dataframe tbody tr th:only-of-type {\n",
       "        vertical-align: middle;\n",
       "    }\n",
       "\n",
       "    .dataframe tbody tr th {\n",
       "        vertical-align: top;\n",
       "    }\n",
       "\n",
       "    .dataframe thead th {\n",
       "        text-align: right;\n",
       "    }\n",
       "</style>\n",
       "<table border=\"1\" class=\"dataframe\">\n",
       "  <thead>\n",
       "    <tr style=\"text-align: right;\">\n",
       "      <th></th>\n",
       "      <th>lie</th>\n",
       "      <th>sentiment</th>\n",
       "      <th>review</th>\n",
       "    </tr>\n",
       "  </thead>\n",
       "  <tbody>\n",
       "    <tr>\n",
       "      <th>40</th>\n",
       "      <td>t</td>\n",
       "      <td>n</td>\n",
       "      <td>'We indians are craving Indian food around the university campus. The first time I went to Samrat, i was very excited to taste all the dishes that were served in the buffet. As i started eating I found every was somehow tasting similar. The Bengan Bharta was sweet and gulab jaam were canned and not made freshly. To add to it the food was made with baking soda so that it filled our stomach quickly. '</td>\n",
       "    </tr>\n",
       "    <tr>\n",
       "      <th>37</th>\n",
       "      <td>t</td>\n",
       "      <td>n</td>\n",
       "      <td>'The food was not bad, but the place was all nasty. There were stains and grease all over the place, and there were even cockroaches roaming through the floor. Staffs were nice, the food were good, but the place was definitely not suitable for a dining place. '</td>\n",
       "    </tr>\n",
       "    <tr>\n",
       "      <th>52</th>\n",
       "      <td>f</td>\n",
       "      <td>p</td>\n",
       "      <td>'WQR is the best! A group of us went out last Friday to celebrate a friend\\'s birthday and we had a blast. Great ambiance, amazing food and very cheerful friendly staff! For anyone who loves wine - their red wine sangria was brilliant! I would definitely recommend going there for a fun night with friends!'</td>\n",
       "    </tr>\n",
       "    <tr>\n",
       "      <th>74</th>\n",
       "      <td>t</td>\n",
       "      <td>p</td>\n",
       "      <td>'My best restaurant is Amer Palace Hotel in my hometown. It serves delicious Indian food. I completely love their Butter Chicken and Spinach with cottage cheese. Their service is good and the food is always served hot and delicious. It is always consistent in its quality which makes it a place that I can take my friends and family, who have never been to it, without ever worrying about the experience. I love the hotel and its Indian restaurant. '</td>\n",
       "    </tr>\n",
       "    <tr>\n",
       "      <th>54</th>\n",
       "      <td>f</td>\n",
       "      <td>p</td>\n",
       "      <td>'This restaurant ROCKS! I mean the food is great and people are great. Everything is great great just great!!! I love it. I like it. '</td>\n",
       "    </tr>\n",
       "  </tbody>\n",
       "</table>\n",
       "</div>"
      ],
      "text/plain": [
       "   lie sentiment  \\\n",
       "40   t         n   \n",
       "37   t         n   \n",
       "52   f         p   \n",
       "74   t         p   \n",
       "54   f         p   \n",
       "\n",
       "                                                                                                                                                                                                                                                                                                                                                                                                                                                                review  \n",
       "40                                                  'We indians are craving Indian food around the university campus. The first time I went to Samrat, i was very excited to taste all the dishes that were served in the buffet. As i started eating I found every was somehow tasting similar. The Bengan Bharta was sweet and gulab jaam were canned and not made freshly. To add to it the food was made with baking soda so that it filled our stomach quickly. '  \n",
       "37                                                                                                                                                                                               'The food was not bad, but the place was all nasty. There were stains and grease all over the place, and there were even cockroaches roaming through the floor. Staffs were nice, the food were good, but the place was definitely not suitable for a dining place. '  \n",
       "52                                                                                                                                                 'WQR is the best! A group of us went out last Friday to celebrate a friend\\'s birthday and we had a blast. Great ambiance, amazing food and very cheerful friendly staff! For anyone who loves wine - their red wine sangria was brilliant! I would definitely recommend going there for a fun night with friends!'  \n",
       "74  'My best restaurant is Amer Palace Hotel in my hometown. It serves delicious Indian food. I completely love their Butter Chicken and Spinach with cottage cheese. Their service is good and the food is always served hot and delicious. It is always consistent in its quality which makes it a place that I can take my friends and family, who have never been to it, without ever worrying about the experience. I love the hotel and its Indian restaurant. '  \n",
       "54                                                                                                                                                                                                                                                                                                                              'This restaurant ROCKS! I mean the food is great and people are great. Everything is great great just great!!! I love it. I like it. '  "
      ]
     },
     "execution_count": 4,
     "metadata": {},
     "output_type": "execute_result"
    }
   ],
   "source": [
    "reviews.sample(5, random_state=5)"
   ]
  },
  {
   "cell_type": "code",
   "execution_count": 5,
   "metadata": {},
   "outputs": [],
   "source": [
    "def clean_str(string):\n",
    "    \"\"\"\n",
    "    expect: a string with leading and trailing apostrophe and a back slash within the string\n",
    "    ex:\"'I found worm \\in one of the dishes.'\"\n",
    "    modify: Remove the trailing and leading apostrophe and back slash\n",
    "    return: return a string\n",
    "    \"\"\"\n",
    "    temp = re.sub(r'\\\\', '', string)\n",
    "    result = temp.strip(\"'\")\n",
    "    return result"
   ]
  },
  {
   "cell_type": "code",
   "execution_count": 6,
   "metadata": {},
   "outputs": [],
   "source": [
    "sentiment_mapper = {'n':0,'p':1}\n",
    "lie_mapper = {'f': 1, 't': 0} # true = 0 ; fake = 1\n",
    "reviews['review'] = reviews.review.map(clean_str)\n",
    "reviews['lie_num'] = reviews.lie.map(lie_mapper)\n",
    "reviews['sentiment_num'] = reviews.sentiment.map(sentiment_mapper)\n",
    "reviews['length'] = reviews.review.apply(lambda string: len(string))\n",
    "reviews['n_tokens'] = reviews.review.apply(lambda string: len(string.split()))\n",
    "reviews['exclamat'] = reviews.review.apply(lambda string: 1 if '!' in string else 0) \n",
    "reviews['question'] = reviews.review.apply(lambda string: 1 if '?' in string else 0) \n",
    "reviews['neg_long_len'] = reviews.apply(lambda row: 1 if (row.sentiment=='n')&(row.length>400) else 0, axis = 1)\n",
    "reviews['pos_less_token'] = reviews.apply(lambda row: 1 if (row.sentiment=='p')&(row.n_tokens<50) else 0, axis = 1)"
   ]
  },
  {
   "cell_type": "code",
   "execution_count": 7,
   "metadata": {
    "scrolled": false
   },
   "outputs": [
    {
     "data": {
      "text/plain": [
       "f    12\n",
       "t     7\n",
       "Name: lie, dtype: int64"
      ]
     },
     "execution_count": 7,
     "metadata": {},
     "output_type": "execute_result"
    }
   ],
   "source": [
    "reviews[(reviews.sentiment=='n')&(reviews.length>400)].loc[:,['lie', 'sentiment', 'length']].lie.value_counts()"
   ]
  },
  {
   "cell_type": "code",
   "execution_count": 8,
   "metadata": {},
   "outputs": [
    {
     "data": {
      "text/html": [
       "<div>\n",
       "<style scoped>\n",
       "    .dataframe tbody tr th:only-of-type {\n",
       "        vertical-align: middle;\n",
       "    }\n",
       "\n",
       "    .dataframe tbody tr th {\n",
       "        vertical-align: top;\n",
       "    }\n",
       "\n",
       "    .dataframe thead th {\n",
       "        text-align: right;\n",
       "    }\n",
       "</style>\n",
       "<table border=\"1\" class=\"dataframe\">\n",
       "  <thead>\n",
       "    <tr style=\"text-align: right;\">\n",
       "      <th></th>\n",
       "      <th>lie</th>\n",
       "      <th>sentiment</th>\n",
       "      <th>length</th>\n",
       "    </tr>\n",
       "  </thead>\n",
       "  <tbody>\n",
       "    <tr>\n",
       "      <th>5</th>\n",
       "      <td>f</td>\n",
       "      <td>n</td>\n",
       "      <td>613</td>\n",
       "    </tr>\n",
       "    <tr>\n",
       "      <th>7</th>\n",
       "      <td>f</td>\n",
       "      <td>n</td>\n",
       "      <td>412</td>\n",
       "    </tr>\n",
       "    <tr>\n",
       "      <th>9</th>\n",
       "      <td>f</td>\n",
       "      <td>n</td>\n",
       "      <td>466</td>\n",
       "    </tr>\n",
       "    <tr>\n",
       "      <th>11</th>\n",
       "      <td>f</td>\n",
       "      <td>n</td>\n",
       "      <td>408</td>\n",
       "    </tr>\n",
       "    <tr>\n",
       "      <th>12</th>\n",
       "      <td>f</td>\n",
       "      <td>n</td>\n",
       "      <td>516</td>\n",
       "    </tr>\n",
       "    <tr>\n",
       "      <th>13</th>\n",
       "      <td>f</td>\n",
       "      <td>n</td>\n",
       "      <td>912</td>\n",
       "    </tr>\n",
       "    <tr>\n",
       "      <th>14</th>\n",
       "      <td>f</td>\n",
       "      <td>n</td>\n",
       "      <td>758</td>\n",
       "    </tr>\n",
       "    <tr>\n",
       "      <th>17</th>\n",
       "      <td>f</td>\n",
       "      <td>n</td>\n",
       "      <td>463</td>\n",
       "    </tr>\n",
       "    <tr>\n",
       "      <th>19</th>\n",
       "      <td>f</td>\n",
       "      <td>n</td>\n",
       "      <td>1343</td>\n",
       "    </tr>\n",
       "    <tr>\n",
       "      <th>20</th>\n",
       "      <td>f</td>\n",
       "      <td>n</td>\n",
       "      <td>500</td>\n",
       "    </tr>\n",
       "    <tr>\n",
       "      <th>21</th>\n",
       "      <td>f</td>\n",
       "      <td>n</td>\n",
       "      <td>550</td>\n",
       "    </tr>\n",
       "    <tr>\n",
       "      <th>22</th>\n",
       "      <td>f</td>\n",
       "      <td>n</td>\n",
       "      <td>760</td>\n",
       "    </tr>\n",
       "    <tr>\n",
       "      <th>31</th>\n",
       "      <td>t</td>\n",
       "      <td>n</td>\n",
       "      <td>543</td>\n",
       "    </tr>\n",
       "    <tr>\n",
       "      <th>32</th>\n",
       "      <td>t</td>\n",
       "      <td>n</td>\n",
       "      <td>427</td>\n",
       "    </tr>\n",
       "    <tr>\n",
       "      <th>36</th>\n",
       "      <td>t</td>\n",
       "      <td>n</td>\n",
       "      <td>750</td>\n",
       "    </tr>\n",
       "    <tr>\n",
       "      <th>41</th>\n",
       "      <td>t</td>\n",
       "      <td>n</td>\n",
       "      <td>650</td>\n",
       "    </tr>\n",
       "    <tr>\n",
       "      <th>42</th>\n",
       "      <td>t</td>\n",
       "      <td>n</td>\n",
       "      <td>588</td>\n",
       "    </tr>\n",
       "    <tr>\n",
       "      <th>44</th>\n",
       "      <td>t</td>\n",
       "      <td>n</td>\n",
       "      <td>2601</td>\n",
       "    </tr>\n",
       "    <tr>\n",
       "      <th>45</th>\n",
       "      <td>t</td>\n",
       "      <td>n</td>\n",
       "      <td>522</td>\n",
       "    </tr>\n",
       "  </tbody>\n",
       "</table>\n",
       "</div>"
      ],
      "text/plain": [
       "   lie sentiment  length\n",
       "5    f         n     613\n",
       "7    f         n     412\n",
       "9    f         n     466\n",
       "11   f         n     408\n",
       "12   f         n     516\n",
       "13   f         n     912\n",
       "14   f         n     758\n",
       "17   f         n     463\n",
       "19   f         n    1343\n",
       "20   f         n     500\n",
       "21   f         n     550\n",
       "22   f         n     760\n",
       "31   t         n     543\n",
       "32   t         n     427\n",
       "36   t         n     750\n",
       "41   t         n     650\n",
       "42   t         n     588\n",
       "44   t         n    2601\n",
       "45   t         n     522"
      ]
     },
     "execution_count": 8,
     "metadata": {},
     "output_type": "execute_result"
    }
   ],
   "source": [
    "reviews[(reviews.sentiment=='n')&(reviews.length>400)].loc[:,['lie', 'sentiment', 'length']]"
   ]
  },
  {
   "cell_type": "markdown",
   "metadata": {},
   "source": [
    "## EDA"
   ]
  },
  {
   "cell_type": "markdown",
   "metadata": {},
   "source": [
    "#### Sentiment"
   ]
  },
  {
   "cell_type": "code",
   "execution_count": 9,
   "metadata": {},
   "outputs": [
    {
     "data": {
      "image/png": "[encoded data removed]",
      "text/plain": [
       "<Figure size 576x432 with 1 Axes>"
      ]
     },
     "metadata": {
      "needs_background": "light"
     },
     "output_type": "display_data"
    }
   ],
   "source": [
    "reviews.sentiment.value_counts().plot(kind='bar', figsize=(8,6), fontsize=11)\n",
    "plt.title('Raw Dataset', size=12)\n",
    "plt.xlabel('Sentiment')\n",
    "plt.ylabel('Counts')\n",
    "# add annotation on each bar\n",
    "for i in range(2):\n",
    "    plt.text(x = i - 0.03 , y = reviews.sentiment.value_counts().values[i] + 0.4, \n",
    "             s = reviews.sentiment.value_counts().values[i])\n",
    "plt.show()"
   ]
  },
  {
   "cell_type": "code",
   "execution_count": 10,
   "metadata": {
    "scrolled": true
   },
   "outputs": [
    {
     "data": {
      "image/png": "[encoded data removed]",
      "text/plain": [
       "<Figure size 432x288 with 2 Axes>"
      ]
     },
     "metadata": {
      "needs_background": "light"
     },
     "output_type": "display_data"
    }
   ],
   "source": [
    "reviews.boxplot(column=['length', 'n_tokens'], by=['sentiment'])\n",
    "plt.show()"
   ]
  },
  {
   "cell_type": "code",
   "execution_count": 11,
   "metadata": {},
   "outputs": [
    {
     "data": {
      "image/png": "[encoded data removed]",
      "text/plain": [
       "<Figure size 432x288 with 2 Axes>"
      ]
     },
     "metadata": {
      "needs_background": "light"
     },
     "output_type": "display_data"
    }
   ],
   "source": [
    "reviews.boxplot(column=['exclamat', 'question'], by=['sentiment'])\n",
    "plt.show()"
   ]
  },
  {
   "cell_type": "markdown",
   "metadata": {},
   "source": [
    "`'exclamat'` have distinction between two classes"
   ]
  },
  {
   "cell_type": "markdown",
   "metadata": {},
   "source": [
    "#### Lie"
   ]
  },
  {
   "cell_type": "code",
   "execution_count": 12,
   "metadata": {},
   "outputs": [
    {
     "data": {
      "image/png": "[encoded data removed]",
      "text/plain": [
       "<Figure size 576x432 with 1 Axes>"
      ]
     },
     "metadata": {
      "needs_background": "light"
     },
     "output_type": "display_data"
    }
   ],
   "source": [
    "reviews.lie.value_counts().plot(kind='bar', figsize=(8,6), fontsize=11)\n",
    "plt.title('Raw Dataset', size=12)\n",
    "plt.xlabel('lie')\n",
    "plt.ylabel('Counts')\n",
    "# add annotation on each bar\n",
    "for i in range(2):\n",
    "    plt.text(x = i - 0.03 , y = reviews.lie.value_counts().values[i] + 0.4, \n",
    "             s = reviews.lie.value_counts().values[i])\n",
    "plt.show()"
   ]
  },
  {
   "cell_type": "code",
   "execution_count": 13,
   "metadata": {},
   "outputs": [
    {
     "data": {
      "image/png": "[encoded data removed]",
      "text/plain": [
       "<Figure size 432x288 with 2 Axes>"
      ]
     },
     "metadata": {
      "needs_background": "light"
     },
     "output_type": "display_data"
    }
   ],
   "source": [
    "reviews.boxplot(column=['length', 'n_tokens'], by=['lie'])\n",
    "plt.show()"
   ]
  },
  {
   "cell_type": "code",
   "execution_count": 14,
   "metadata": {},
   "outputs": [
    {
     "data": {
      "image/png": "[encoded data removed]",
      "text/plain": [
       "<Figure size 432x288 with 2 Axes>"
      ]
     },
     "metadata": {
      "needs_background": "light"
     },
     "output_type": "display_data"
    }
   ],
   "source": [
    "reviews.boxplot(column=['exclamat','question'], by=['lie'])\n",
    "plt.show()"
   ]
  },
  {
   "cell_type": "code",
   "execution_count": 15,
   "metadata": {
    "scrolled": true
   },
   "outputs": [
    {
     "data": {
      "image/png": "[encoded data removed]",
      "text/plain": [
       "<Figure size 432x288 with 2 Axes>"
      ]
     },
     "metadata": {
      "needs_background": "light"
     },
     "output_type": "display_data"
    }
   ],
   "source": [
    "reviews.boxplot(column=['neg_long_len', 'pos_less_token'], by=['lie'])\n",
    "plt.show()"
   ]
  },
  {
   "cell_type": "markdown",
   "metadata": {},
   "source": [
    "`'neg_long_len'`,`'exclamat'` have distinction between two classes"
   ]
  },
  {
   "cell_type": "markdown",
   "metadata": {},
   "source": [
    "## Model - Sentiment"
   ]
  },
  {
   "cell_type": "code",
   "execution_count": 16,
   "metadata": {},
   "outputs": [
    {
     "name": "stdout",
     "output_type": "stream",
     "text": [
      "X shape: (92,)\n",
      "y shape: (92,)\n"
     ]
    }
   ],
   "source": [
    "# define X and y\n",
    "X = reviews.review\n",
    "y = reviews.sentiment_num\n",
    "# check the shape\n",
    "print(f'X shape: {X.shape}')\n",
    "print(f'y shape: {y.shape}')"
   ]
  },
  {
   "cell_type": "markdown",
   "metadata": {},
   "source": [
    "### Pipeline with vectorizor features"
   ]
  },
  {
   "cell_type": "code",
   "execution_count": 17,
   "metadata": {},
   "outputs": [
    {
     "name": "stdout",
     "output_type": "stream",
     "text": [
      "Base model(null model) for sentiment prediction: 0.5%\n"
     ]
    }
   ],
   "source": [
    "print('Base model(null model) for sentiment prediction: {}%'.format((y.value_counts()/y.shape[0])[0]))"
   ]
  },
  {
   "cell_type": "code",
   "execution_count": 18,
   "metadata": {},
   "outputs": [],
   "source": [
    "def make_prediction(X, y, vect, clf):\n",
    "    '''\n",
    "    X: pandas series of text\n",
    "    y: pandas series of label\n",
    "    vect: an instantiated vectorizer\n",
    "    clf: an instantiated classifier\n",
    "    Workflow: 1. train_test_split for holdout test\n",
    "              2. pipe = vectorizer + classifier\n",
    "              3. CV on pipe with X_train\n",
    "              4. Validate with X_test on pipe.predict\n",
    "              5. Confusion Matrix and Classification Report\n",
    "    '''\n",
    "    # info of vect and clf\n",
    "    print(vect)\n",
    "    print(clf)\n",
    "    \n",
    "    # 1. Split data for holdout set\n",
    "    from sklearn.model_selection import train_test_split # test_size=0.25 in default\n",
    "    X_train, X_test, y_train, y_test = train_test_split(X, y, random_state=1)\n",
    "        \n",
    "        \n",
    "    # 2. Create a pipeline of Vectoerizer and classifier\n",
    "    from sklearn.pipeline import make_pipeline\n",
    "    pipe = make_pipeline(vect, clf)\n",
    "    \n",
    "    \n",
    "    # 3. CV on pipe with X_train\n",
    "    from sklearn.model_selection import cross_val_score\n",
    "    train_accuracy= cross_val_score(pipe, X_train, y_train, cv=5, scoring='accuracy').mean()\n",
    "    print('\\nTraining Accuracy with 5-fold CV: {}%'.format(round(train_accuracy*100, 2)))\n",
    "\n",
    "    \n",
    "    # 4. Validate with X_test on pipe.predict\n",
    "    pipe.fit(X_train, y_train)\n",
    "    y_pred_class = pipe.predict(X_test)\n",
    "    from sklearn import metrics\n",
    "    test_accuracy = metrics.accuracy_score(y_test, y_pred_class)\n",
    "    print('\\nTesting Accuracy: {}%'.format(round(test_accuracy*100, 2)))\n",
    "\n",
    "    \n",
    "    # 5. Confusion Matrix and Classification Report\n",
    "    ## Confusion Matrix\n",
    "    from sklearn.metrics import plot_confusion_matrix\n",
    "    matrix = plot_confusion_matrix(pipe, X_test, y_test, cmap='Blues', values_format='.3g')\n",
    "    print(\"\\nConfusion Matrix:\")\n",
    "    plt.show()\n",
    "    \n",
    "    ## Classification Report\n",
    "    from sklearn.metrics import classification_report\n",
    "    print(\"\\nClassification Report:\\n\")\n",
    "    print(classification_report(y_test, y_pred_class, digits=4))"
   ]
  },
  {
   "cell_type": "code",
   "execution_count": 19,
   "metadata": {},
   "outputs": [
    {
     "name": "stdout",
     "output_type": "stream",
     "text": [
      "CountVectorizer(analyzer='word', binary=True, decode_error='strict',\n",
      "                dtype=<class 'numpy.int64'>, encoding='utf-8', input='content',\n",
      "                lowercase=True, max_df=1.0, max_features=None, min_df=5,\n",
      "                ngram_range=(1, 1), preprocessor=None, stop_words=None,\n",
      "                strip_accents=None, token_pattern='(?u)\\\\b\\\\w\\\\w+\\\\b',\n",
      "                tokenizer=None, vocabulary=None)\n",
      "BernoulliNB(alpha=1.0, binarize=0.0, class_prior=None, fit_prior=True)\n",
      "\n",
      "Training Accuracy with 5-fold CV: 71.21%\n",
      "\n",
      "Testing Accuracy: 86.96%\n",
      "\n",
      "Confusion Matrix:\n"
     ]
    },
    {
     "data": {
      "image/png": "[encoded data removed]",
      "text/plain": [
       "<Figure size 432x288 with 2 Axes>"
      ]
     },
     "metadata": {
      "needs_background": "light"
     },
     "output_type": "display_data"
    },
    {
     "name": "stdout",
     "output_type": "stream",
     "text": [
      "\n",
      "Classification Report:\n",
      "\n",
      "              precision    recall  f1-score   support\n",
      "\n",
      "           0     1.0000    0.6667    0.8000         9\n",
      "           1     0.8235    1.0000    0.9032        14\n",
      "\n",
      "    accuracy                         0.8696        23\n",
      "   macro avg     0.9118    0.8333    0.8516        23\n",
      "weighted avg     0.8926    0.8696    0.8628        23\n",
      "\n"
     ]
    }
   ],
   "source": [
    "from sklearn.naive_bayes import BernoulliNB\n",
    "bnb = BernoulliNB()\n",
    "\n",
    "# import and instantiate CountVectorizer for BernoulliNB (with default parameters)\n",
    "from sklearn.feature_extraction.text import CountVectorizer\n",
    "vect_b = CountVectorizer(min_df=5, binary=True)\n",
    "\n",
    "make_prediction(X, y,vect_b ,bnb)"
   ]
  },
  {
   "cell_type": "code",
   "execution_count": 20,
   "metadata": {},
   "outputs": [
    {
     "name": "stdout",
     "output_type": "stream",
     "text": [
      "CountVectorizer(analyzer='word', binary=False, decode_error='strict',\n",
      "                dtype=<class 'numpy.int64'>, encoding='utf-8', input='content',\n",
      "                lowercase=True, max_df=1.0, max_features=None, min_df=5,\n",
      "                ngram_range=(1, 1), preprocessor=None, stop_words=None,\n",
      "                strip_accents=None, token_pattern='(?u)\\\\b\\\\w\\\\w+\\\\b',\n",
      "                tokenizer=None, vocabulary=None)\n",
      "MultinomialNB(alpha=1.0, class_prior=None, fit_prior=True)\n",
      "\n",
      "Training Accuracy with 5-fold CV: 77.03%\n",
      "\n",
      "Testing Accuracy: 86.96%\n",
      "\n",
      "Confusion Matrix:\n"
     ]
    },
    {
     "data": {
      "image/png": "[encoded data removed]",
      "text/plain": [
       "<Figure size 432x288 with 2 Axes>"
      ]
     },
     "metadata": {
      "needs_background": "light"
     },
     "output_type": "display_data"
    },
    {
     "name": "stdout",
     "output_type": "stream",
     "text": [
      "\n",
      "Classification Report:\n",
      "\n",
      "              precision    recall  f1-score   support\n",
      "\n",
      "           0     0.8000    0.8889    0.8421         9\n",
      "           1     0.9231    0.8571    0.8889        14\n",
      "\n",
      "    accuracy                         0.8696        23\n",
      "   macro avg     0.8615    0.8730    0.8655        23\n",
      "weighted avg     0.8749    0.8696    0.8706        23\n",
      "\n"
     ]
    }
   ],
   "source": [
    "# import and instantiate Multinomial Naive Bayes (with the default parameters)\n",
    "from sklearn.naive_bayes import MultinomialNB\n",
    "nb = MultinomialNB()\n",
    "\n",
    "# import and instantiate CountVectorizer (with min_df=5)\n",
    "from sklearn.feature_extraction.text import CountVectorizer\n",
    "vect = CountVectorizer(min_df=5)\n",
    "\n",
    "make_prediction(X, y,vect ,nb)"
   ]
  },
  {
   "cell_type": "code",
   "execution_count": 21,
   "metadata": {},
   "outputs": [
    {
     "name": "stdout",
     "output_type": "stream",
     "text": [
      "TfidfVectorizer(analyzer='word', binary=False, decode_error='strict',\n",
      "                dtype=<class 'numpy.float64'>, encoding='utf-8',\n",
      "                input='content', lowercase=True, max_df=1.0, max_features=None,\n",
      "                min_df=5, ngram_range=(1, 1), norm='l2', preprocessor=None,\n",
      "                smooth_idf=True, stop_words=None, strip_accents=None,\n",
      "                sublinear_tf=False, token_pattern='(?u)\\\\b\\\\w\\\\w+\\\\b',\n",
      "                tokenizer=None, use_idf=True, vocabulary=None)\n",
      "MultinomialNB(alpha=1.0, class_prior=None, fit_prior=True)\n",
      "\n",
      "Training Accuracy with 5-fold CV: 68.13%\n",
      "\n",
      "Testing Accuracy: 91.3%\n",
      "\n",
      "Confusion Matrix:\n"
     ]
    },
    {
     "data": {
      "image/png": "[encoded data removed]",
      "text/plain": [
       "<Figure size 432x288 with 2 Axes>"
      ]
     },
     "metadata": {
      "needs_background": "light"
     },
     "output_type": "display_data"
    },
    {
     "name": "stdout",
     "output_type": "stream",
     "text": [
      "\n",
      "Classification Report:\n",
      "\n",
      "              precision    recall  f1-score   support\n",
      "\n",
      "           0     0.8182    1.0000    0.9000         9\n",
      "           1     1.0000    0.8571    0.9231        14\n",
      "\n",
      "    accuracy                         0.9130        23\n",
      "   macro avg     0.9091    0.9286    0.9115        23\n",
      "weighted avg     0.9289    0.9130    0.9140        23\n",
      "\n"
     ]
    }
   ],
   "source": [
    "# import and instantiate Multinomial Naive Bayes (with the default parameters)\n",
    "from sklearn.naive_bayes import MultinomialNB\n",
    "nb = MultinomialNB()\n",
    "\n",
    "# import and instantiate CountVectorizer (with min_df=5)\n",
    "from sklearn.feature_extraction.text import TfidfVectorizer\n",
    "tfidf = TfidfVectorizer(min_df=5)\n",
    "\n",
    "make_prediction(X, y, tfidf ,nb)"
   ]
  },
  {
   "cell_type": "markdown",
   "metadata": {},
   "source": [
    "## Efficiently searching for tuning parameters using RandomizedSearchCV\n",
    "\n",
    "- When there are many parameters to tune, searching all possible combinations of parameter values may be **computationally infeasible**.\n",
    "- **`RandomizedSearchCV`** searches a sample of the parameter values, and you control the computational \"budget\".\n",
    "\n",
    "[RandomizedSearchCV documentation](https://scikit-learn.org/stable/modules/generated/sklearn.model_selection.RandomizedSearchCV.html)\n",
    "\n",
    "[scipy.stats documentation](https://docs.scipy.org/doc/scipy/reference/stats.html)"
   ]
  },
  {
   "cell_type": "markdown",
   "metadata": {},
   "source": [
    "### 1. Rebuild the pipeline combination"
   ]
  },
  {
   "cell_type": "code",
   "execution_count": 22,
   "metadata": {},
   "outputs": [
    {
     "data": {
      "text/plain": [
       "[('tfidfvectorizer',\n",
       "  TfidfVectorizer(analyzer='word', binary=False, decode_error='strict',\n",
       "                  dtype=<class 'numpy.float64'>, encoding='utf-8',\n",
       "                  input='content', lowercase=True, max_df=1.0, max_features=None,\n",
       "                  min_df=1, ngram_range=(1, 1), norm='l2', preprocessor=None,\n",
       "                  smooth_idf=True, stop_words=None, strip_accents=None,\n",
       "                  sublinear_tf=False, token_pattern='(?u)\\\\b\\\\w\\\\w+\\\\b',\n",
       "                  tokenizer=None, use_idf=True, vocabulary=None)),\n",
       " ('multinomialnb', MultinomialNB(alpha=1.0, class_prior=None, fit_prior=True))]"
      ]
     },
     "execution_count": 22,
     "metadata": {},
     "output_type": "execute_result"
    }
   ],
   "source": [
    "# import and instantiate Multinomial Naive Bayes (with the default parameters)\n",
    "from sklearn.naive_bayes import MultinomialNB\n",
    "nb = MultinomialNB()\n",
    "\n",
    "# import and instantiate CountVectorizer (with min_df=5)\n",
    "from sklearn.feature_extraction.text import TfidfVectorizer\n",
    "tfidf = TfidfVectorizer()\n",
    "\n",
    "from sklearn.pipeline import make_pipeline\n",
    "pipe = make_pipeline(tfidf, nb)\n",
    "pipe.steps"
   ]
  },
  {
   "cell_type": "code",
   "execution_count": 23,
   "metadata": {},
   "outputs": [
    {
     "data": {
      "text/plain": [
       "dict_keys(['tfidfvectorizer', 'multinomialnb'])"
      ]
     },
     "execution_count": 23,
     "metadata": {},
     "output_type": "execute_result"
    }
   ],
   "source": [
    "# pipeline steps are automatically assigned names by make_pipeline\n",
    "pipe.named_steps.keys()"
   ]
  },
  {
   "cell_type": "markdown",
   "metadata": {},
   "source": [
    "### 2. Random Grid Search with CV"
   ]
  },
  {
   "cell_type": "code",
   "execution_count": 24,
   "metadata": {},
   "outputs": [
    {
     "data": {
      "text/plain": [
       "{'tfidfvectorizer__token_pattern': ['\\\\b\\\\w\\\\w+\\\\b',\n",
       "  \"'([a-zA-Z ]+)'\",\n",
       "  '(?u)\\\\b\\\\w\\\\w+\\\\b'],\n",
       " 'tfidfvectorizer__ngram_range': [(1, 1), (1, 2)],\n",
       " 'tfidfvectorizer__min_df': [1, 3, 5],\n",
       " 'multinomialnb__alpha': <scipy.stats._distn_infrastructure.rv_frozen at 0x1a1e751cf8>}"
      ]
     },
     "execution_count": 24,
     "metadata": {},
     "output_type": "execute_result"
    }
   ],
   "source": [
    "import scipy as sp\n",
    "# set a random seed for sp.stats.uniform\n",
    "import numpy as np\n",
    "np.random.seed(1)\n",
    "\n",
    "from sklearn.model_selection import RandomizedSearchCV\n",
    "# for any continuous parameters, specify a distribution instead of a list of options\n",
    "param_grid = {}\n",
    "param_grid['tfidfvectorizer__token_pattern'] = [r\"\\b\\w\\w+\\b\", r\"'([a-zA-Z ]+)'\", r'(?u)\\b\\w\\w+\\b']\n",
    "param_grid['tfidfvectorizer__ngram_range'] = [(1, 1),(1, 2)]\n",
    "param_grid['tfidfvectorizer__min_df'] = [1,3,5]\n",
    "param_grid['multinomialnb__alpha'] = sp.stats.uniform(scale=1)\n",
    "param_grid"
   ]
  },
  {
   "cell_type": "code",
   "execution_count": 25,
   "metadata": {},
   "outputs": [],
   "source": [
    "def grid_result(pipe, param_grid):\n",
    "    '''\n",
    "    '''\n",
    "    from sklearn.model_selection import RandomizedSearchCV\n",
    "    # additional parameters are n_iter (number of searches) and random_state\n",
    "    rand = RandomizedSearchCV(pipe, param_grid, cv=5, scoring='accuracy', n_iter=5, random_state=1)   \n",
    "    %time rand.fit(X, y) \n",
    "    # time the randomized search\n",
    "    \n",
    "    print('Random Search Best Score: \\n  {}%\\n'.format(round(rand.best_score_*100, 2)))\n",
    "    print('Random Search Best Parameters: \\n{}\\n'.format(rand.best_params_))\n",
    "    \n",
    "    results = pd.DataFrame(rand.cv_results_)\n",
    "    return results[['mean_test_score', 'std_test_score', 'params']] "
   ]
  },
  {
   "cell_type": "code",
   "execution_count": 26,
   "metadata": {},
   "outputs": [
    {
     "name": "stdout",
     "output_type": "stream",
     "text": [
      "CPU times: user 214 ms, sys: 2.53 ms, total: 216 ms\n",
      "Wall time: 238 ms\n",
      "Random Search Best Score: \n",
      "  88.01%\n",
      "\n",
      "Random Search Best Parameters: \n",
      "{'multinomialnb__alpha': 0.6852195003967595, 'tfidfvectorizer__min_df': 1, 'tfidfvectorizer__ngram_range': (1, 1), 'tfidfvectorizer__token_pattern': '\\\\b\\\\w\\\\w+\\\\b'}\n",
      "\n"
     ]
    },
    {
     "data": {
      "text/html": [
       "<div>\n",
       "<style scoped>\n",
       "    .dataframe tbody tr th:only-of-type {\n",
       "        vertical-align: middle;\n",
       "    }\n",
       "\n",
       "    .dataframe tbody tr th {\n",
       "        vertical-align: top;\n",
       "    }\n",
       "\n",
       "    .dataframe thead th {\n",
       "        text-align: right;\n",
       "    }\n",
       "</style>\n",
       "<table border=\"1\" class=\"dataframe\">\n",
       "  <thead>\n",
       "    <tr style=\"text-align: right;\">\n",
       "      <th></th>\n",
       "      <th>mean_test_score</th>\n",
       "      <th>std_test_score</th>\n",
       "      <th>params</th>\n",
       "    </tr>\n",
       "  </thead>\n",
       "  <tbody>\n",
       "    <tr>\n",
       "      <th>0</th>\n",
       "      <td>0.489474</td>\n",
       "      <td>0.012892</td>\n",
       "      <td>{'multinomialnb__alpha': 0.417022004702574, 'tfidfvectorizer__min_df': 1, 'tfidfvectorizer__ngram_range': (1, 1), 'tfidfvectorizer__token_pattern': ''([a-zA-Z ]+)''}</td>\n",
       "    </tr>\n",
       "    <tr>\n",
       "      <th>1</th>\n",
       "      <td>0.489474</td>\n",
       "      <td>0.012892</td>\n",
       "      <td>{'multinomialnb__alpha': 0.30233257263183977, 'tfidfvectorizer__min_df': 1, 'tfidfvectorizer__ngram_range': (1, 1), 'tfidfvectorizer__token_pattern': ''([a-zA-Z ]+)''}</td>\n",
       "    </tr>\n",
       "    <tr>\n",
       "      <th>2</th>\n",
       "      <td>0.868421</td>\n",
       "      <td>0.057951</td>\n",
       "      <td>{'multinomialnb__alpha': 0.1862602113776709, 'tfidfvectorizer__min_df': 3, 'tfidfvectorizer__ngram_range': (1, 1), 'tfidfvectorizer__token_pattern': '(?u)\\b\\w\\w+\\b'}</td>\n",
       "    </tr>\n",
       "    <tr>\n",
       "      <th>3</th>\n",
       "      <td>0.489474</td>\n",
       "      <td>0.012892</td>\n",
       "      <td>{'multinomialnb__alpha': 0.9355390708060318, 'tfidfvectorizer__min_df': 1, 'tfidfvectorizer__ngram_range': (1, 1), 'tfidfvectorizer__token_pattern': ''([a-zA-Z ]+)''}</td>\n",
       "    </tr>\n",
       "    <tr>\n",
       "      <th>4</th>\n",
       "      <td>0.880117</td>\n",
       "      <td>0.054983</td>\n",
       "      <td>{'multinomialnb__alpha': 0.6852195003967595, 'tfidfvectorizer__min_df': 1, 'tfidfvectorizer__ngram_range': (1, 1), 'tfidfvectorizer__token_pattern': '\\b\\w\\w+\\b'}</td>\n",
       "    </tr>\n",
       "  </tbody>\n",
       "</table>\n",
       "</div>"
      ],
      "text/plain": [
       "   mean_test_score  std_test_score  \\\n",
       "0         0.489474        0.012892   \n",
       "1         0.489474        0.012892   \n",
       "2         0.868421        0.057951   \n",
       "3         0.489474        0.012892   \n",
       "4         0.880117        0.054983   \n",
       "\n",
       "                                                                                                                                                                    params  \n",
       "0    {'multinomialnb__alpha': 0.417022004702574, 'tfidfvectorizer__min_df': 1, 'tfidfvectorizer__ngram_range': (1, 1), 'tfidfvectorizer__token_pattern': ''([a-zA-Z ]+)''}  \n",
       "1  {'multinomialnb__alpha': 0.30233257263183977, 'tfidfvectorizer__min_df': 1, 'tfidfvectorizer__ngram_range': (1, 1), 'tfidfvectorizer__token_pattern': ''([a-zA-Z ]+)''}  \n",
       "2    {'multinomialnb__alpha': 0.1862602113776709, 'tfidfvectorizer__min_df': 3, 'tfidfvectorizer__ngram_range': (1, 1), 'tfidfvectorizer__token_pattern': '(?u)\\b\\w\\w+\\b'}  \n",
       "3   {'multinomialnb__alpha': 0.9355390708060318, 'tfidfvectorizer__min_df': 1, 'tfidfvectorizer__ngram_range': (1, 1), 'tfidfvectorizer__token_pattern': ''([a-zA-Z ]+)''}  \n",
       "4        {'multinomialnb__alpha': 0.6852195003967595, 'tfidfvectorizer__min_df': 1, 'tfidfvectorizer__ngram_range': (1, 1), 'tfidfvectorizer__token_pattern': '\\b\\w\\w+\\b'}  "
      ]
     },
     "execution_count": 26,
     "metadata": {},
     "output_type": "execute_result"
    }
   ],
   "source": [
    "grid_result(pipe, param_grid)"
   ]
  },
  {
   "cell_type": "markdown",
   "metadata": {},
   "source": [
    "   "
   ]
  },
  {
   "cell_type": "markdown",
   "metadata": {},
   "source": [
    "   "
   ]
  },
  {
   "cell_type": "markdown",
   "metadata": {},
   "source": [
    "   "
   ]
  },
  {
   "cell_type": "markdown",
   "metadata": {},
   "source": [
    "## Adding features to a document-term matrix (using `FeatureUnion`)\n",
    "\n",
    "- Below is a process that does allow for proper cross-validation, and does integrate well with the scikit-learn workflow.\n",
    "- To use this process, we have to learn about transformers, **`FunctionTransformer`**, and **`FeatureUnion`**.\n",
    "\n",
    "Transformer objects provide a `transform` method in order to perform **data transformations**. Here are a few examples:\n",
    "\n",
    "- **`CountVectorizer`**\n",
    "    - `fit` learns the vocabulary\n",
    "    - `transform` creates a document-term matrix using the vocabulary\n",
    "- **`SimpleImputer`**\n",
    "    - `fit` learns the value to impute\n",
    "    - `transform` fills in missing entries using the imputation value\n",
    "- **`StandardScaler`**\n",
    "    - `fit` learns the mean and scale of each feature\n",
    "    - `transform` standardizes the features using the mean and scale\n",
    "- **`HashingVectorizer`**\n",
    "    - `fit` is not used, and thus it is known as a \"stateless\" transformer\n",
    "    - `transform` creates the document-term matrix using a hash of the token\n",
    "    \n",
    " [FunctionTransformer documentation](https://scikit-learn.org/stable/modules/generated/sklearn.preprocessing.FunctionTransformer.html)\n",
    " \n",
    "![Pipeline versus FeatureUnion](transformer_example.png)\n",
    "\n",
    "![Transformation_Workflow](transformation_workflow.png)"
   ]
  },
  {
   "cell_type": "code",
   "execution_count": 27,
   "metadata": {},
   "outputs": [],
   "source": [
    "# define X and y\n",
    "X = reviews.loc[:, ['review','length']] # put necessary features\n",
    "y = reviews.sentiment_num"
   ]
  },
  {
   "cell_type": "markdown",
   "metadata": {},
   "source": [
    "##### FunctionTransformer 1"
   ]
  },
  {
   "cell_type": "code",
   "execution_count": 28,
   "metadata": {},
   "outputs": [],
   "source": [
    "# define a function that accepts a DataFrame returns the manually created features\n",
    "def get_manual(df):\n",
    "    return df.loc[:, ['length']]\n",
    "\n",
    "from sklearn.preprocessing import FunctionTransformer\n",
    "# create a stateless transformer from the get_manual function\n",
    "get_manual_ft = FunctionTransformer(get_manual, validate=False)"
   ]
  },
  {
   "cell_type": "markdown",
   "metadata": {},
   "source": [
    "##### FunctionTransformer 2"
   ]
  },
  {
   "cell_type": "code",
   "execution_count": 29,
   "metadata": {},
   "outputs": [],
   "source": [
    "# define a function that accepts a DataFrame returns the ingredients string\n",
    "def get_text(df):\n",
    "    return df.review\n",
    "\n",
    "# create another transformer\n",
    "get_text_ft = FunctionTransformer(get_text, validate=False)"
   ]
  },
  {
   "cell_type": "markdown",
   "metadata": {},
   "source": [
    "#### Combining feature extraction steps"
   ]
  },
  {
   "cell_type": "markdown",
   "metadata": {},
   "source": [
    "With the `FunctionTransformer` built, it can be combined into pipeline using `make_pipleine` and `make_union`.  \n",
    "  * `make_union` can contain `make_pipleine` and `FunctionTransformer`.  \n",
    "      * `make_pipleine` can contain `FunctionTransformer` and `CountVectorizer` as a series of pipeline"
   ]
  },
  {
   "cell_type": "code",
   "execution_count": 30,
   "metadata": {},
   "outputs": [],
   "source": [
    "def make_prediction_manual_ft(X, y, vect, clf):\n",
    "    '''\n",
    "    X: pandas series of text\n",
    "    y: pandas series of label\n",
    "    vect: an instantiated vectorizer\n",
    "    clf: an instantiated classifier\n",
    "    Workflow: 1. train_test_split for holdout test\n",
    "              2. pipe = [(get_text_ft + vectorizer) + get_manual_ft]+ clf\n",
    "              3. CV on pipe with X_train\n",
    "              4. Validate with X_test on pipe.predict\n",
    "              5. Confusion Matrix and Classification Report\n",
    "    '''\n",
    "    # info of vect and clf\n",
    "    print(vect)\n",
    "    print(clf)\n",
    "    \n",
    "    # 1. Split data for holdout set\n",
    "    from sklearn.model_selection import train_test_split # test_size=0.25 in default\n",
    "    X_train, X_test, y_train, y_test = train_test_split(X, y, random_state=1)\n",
    "        \n",
    "        \n",
    "    # 2. Create a complete pipeline\n",
    "    ## 2.1 make union: (get_text_ft + vectorizer) + get_manual_ft\n",
    "    from sklearn.pipeline import make_pipeline\n",
    "    from sklearn.pipeline import make_union\n",
    "    union = make_union(make_pipeline(get_text_ft, vect), get_manual_ft)\n",
    "\n",
    "    ## 2.2 make pipleine: [union]+ clf\n",
    "    pipe = make_pipeline(union, clf)\n",
    "    \n",
    "    \n",
    "    # 3. CV on pipe with X_train\n",
    "    ## properly cross-validate the entire pipeline (and pass it the entire DataFrame)\n",
    "    from sklearn.model_selection import cross_val_score\n",
    "    train_accuracy= cross_val_score(pipe, X_train, y_train, cv=5, scoring='accuracy').mean()\n",
    "    print('\\nTraining Accuracy with 5-fold CV: {}%'.format(round(train_accuracy*100, 2)))\n",
    "\n",
    "    \n",
    "    # 4. Validate with X_test on pipe.predict\n",
    "    pipe.fit(X_train, y_train)\n",
    "    y_pred_class = pipe.predict(X_test)\n",
    "    from sklearn import metrics\n",
    "    test_accuracy = metrics.accuracy_score(y_test, y_pred_class)\n",
    "    print('\\nTesting Accuracy: {}%'.format(round(test_accuracy*100, 2)))\n",
    "\n",
    "    \n",
    "    # 5. Confusion Matrix and Classification Report\n",
    "    ## Confusion Matrix\n",
    "    from sklearn.metrics import plot_confusion_matrix\n",
    "    matrix = plot_confusion_matrix(pipe, X_test, y_test, cmap='Blues', values_format='.3g')\n",
    "    print(\"\\nConfusion Matrix:\")\n",
    "    plt.show()\n",
    "    \n",
    "    ## Classification Report\n",
    "    from sklearn.metrics import classification_report\n",
    "    print(\"\\nClassification Report:\\n\")\n",
    "    print(classification_report(y_test, y_pred_class, digits=4))"
   ]
  },
  {
   "cell_type": "code",
   "execution_count": 31,
   "metadata": {
    "scrolled": false
   },
   "outputs": [
    {
     "name": "stdout",
     "output_type": "stream",
     "text": [
      "CountVectorizer(analyzer='word', binary=True, decode_error='strict',\n",
      "                dtype=<class 'numpy.int64'>, encoding='utf-8', input='content',\n",
      "                lowercase=True, max_df=1.0, max_features=None, min_df=1,\n",
      "                ngram_range=(1, 1), preprocessor=None, stop_words=None,\n",
      "                strip_accents=None, token_pattern='(?u)\\\\b\\\\w\\\\w+\\\\b',\n",
      "                tokenizer=None, vocabulary=None)\n",
      "BernoulliNB(alpha=1.0, binarize=0.0, class_prior=None, fit_prior=True)\n",
      "\n",
      "Training Accuracy with 5-fold CV: 66.81%\n",
      "\n",
      "Testing Accuracy: 82.61%\n",
      "\n",
      "Confusion Matrix:\n"
     ]
    },
    {
     "data": {
      "image/png": "[encoded data removed]",
      "text/plain": [
       "<Figure size 432x288 with 2 Axes>"
      ]
     },
     "metadata": {
      "needs_background": "light"
     },
     "output_type": "display_data"
    },
    {
     "name": "stdout",
     "output_type": "stream",
     "text": [
      "\n",
      "Classification Report:\n",
      "\n",
      "              precision    recall  f1-score   support\n",
      "\n",
      "           0     0.8571    0.6667    0.7500         9\n",
      "           1     0.8125    0.9286    0.8667        14\n",
      "\n",
      "    accuracy                         0.8261        23\n",
      "   macro avg     0.8348    0.7976    0.8083        23\n",
      "weighted avg     0.8300    0.8261    0.8210        23\n",
      "\n"
     ]
    }
   ],
   "source": [
    "from sklearn.naive_bayes import BernoulliNB\n",
    "bnb = BernoulliNB()\n",
    "\n",
    "# import and instantiate CountVectorizer for BernoulliNB (with default parameters)\n",
    "from sklearn.feature_extraction.text import CountVectorizer\n",
    "vect_b = CountVectorizer(binary=True)\n",
    "\n",
    "make_prediction_manual_ft(X, y,vect_b ,bnb)"
   ]
  },
  {
   "cell_type": "code",
   "execution_count": 32,
   "metadata": {
    "scrolled": false
   },
   "outputs": [
    {
     "name": "stdout",
     "output_type": "stream",
     "text": [
      "CountVectorizer(analyzer='word', binary=False, decode_error='strict',\n",
      "                dtype=<class 'numpy.int64'>, encoding='utf-8', input='content',\n",
      "                lowercase=True, max_df=1.0, max_features=None, min_df=1,\n",
      "                ngram_range=(1, 1), preprocessor=None, stop_words=None,\n",
      "                strip_accents=None, token_pattern='(?u)\\\\b\\\\w\\\\w+\\\\b',\n",
      "                tokenizer=None, vocabulary=None)\n",
      "MultinomialNB(alpha=1.0, class_prior=None, fit_prior=True)\n",
      "\n",
      "Training Accuracy with 5-fold CV: 62.31%\n",
      "\n",
      "Testing Accuracy: 82.61%\n",
      "\n",
      "Confusion Matrix:\n"
     ]
    },
    {
     "data": {
      "image/png": "[encoded data removed]",
      "text/plain": [
       "<Figure size 432x288 with 2 Axes>"
      ]
     },
     "metadata": {
      "needs_background": "light"
     },
     "output_type": "display_data"
    },
    {
     "name": "stdout",
     "output_type": "stream",
     "text": [
      "\n",
      "Classification Report:\n",
      "\n",
      "              precision    recall  f1-score   support\n",
      "\n",
      "           0     0.6923    1.0000    0.8182         9\n",
      "           1     1.0000    0.7143    0.8333        14\n",
      "\n",
      "    accuracy                         0.8261        23\n",
      "   macro avg     0.8462    0.8571    0.8258        23\n",
      "weighted avg     0.8796    0.8261    0.8274        23\n",
      "\n"
     ]
    }
   ],
   "source": [
    "# import and instantiate Multinomial Naive Bayes (with the default parameters)\n",
    "from sklearn.naive_bayes import MultinomialNB\n",
    "nb = MultinomialNB()\n",
    "\n",
    "# import and instantiate CountVectorizer\n",
    "from sklearn.feature_extraction.text import CountVectorizer\n",
    "vect = CountVectorizer()\n",
    "\n",
    "make_prediction_manual_ft(X, y,vect ,nb)"
   ]
  },
  {
   "cell_type": "code",
   "execution_count": 33,
   "metadata": {
    "scrolled": false
   },
   "outputs": [
    {
     "name": "stdout",
     "output_type": "stream",
     "text": [
      "TfidfVectorizer(analyzer='word', binary=False, decode_error='strict',\n",
      "                dtype=<class 'numpy.float64'>, encoding='utf-8',\n",
      "                input='content', lowercase=True, max_df=1.0, max_features=None,\n",
      "                min_df=1, ngram_range=(1, 1), norm='l2', preprocessor=None,\n",
      "                smooth_idf=True, stop_words=None, strip_accents=None,\n",
      "                sublinear_tf=False, token_pattern='(?u)\\\\b\\\\w\\\\w+\\\\b',\n",
      "                tokenizer=None, use_idf=True, vocabulary=None)\n",
      "MultinomialNB(alpha=1.0, class_prior=None, fit_prior=True)\n",
      "\n",
      "Training Accuracy with 5-fold CV: 53.63%\n",
      "\n",
      "Testing Accuracy: 39.13%\n",
      "\n",
      "Confusion Matrix:\n"
     ]
    },
    {
     "data": {
      "image/png": "[encoded data removed]",
      "text/plain": [
       "<Figure size 432x288 with 2 Axes>"
      ]
     },
     "metadata": {
      "needs_background": "light"
     },
     "output_type": "display_data"
    },
    {
     "name": "stdout",
     "output_type": "stream",
     "text": [
      "\n",
      "Classification Report:\n",
      "\n",
      "              precision    recall  f1-score   support\n",
      "\n",
      "           0     0.3913    1.0000    0.5625         9\n",
      "           1     0.0000    0.0000    0.0000        14\n",
      "\n",
      "    accuracy                         0.3913        23\n",
      "   macro avg     0.1957    0.5000    0.2812        23\n",
      "weighted avg     0.1531    0.3913    0.2201        23\n",
      "\n"
     ]
    },
    {
     "name": "stderr",
     "output_type": "stream",
     "text": [
      "/anaconda3/lib/python3.7/site-packages/sklearn/metrics/_classification.py:1272: UndefinedMetricWarning: Precision and F-score are ill-defined and being set to 0.0 in labels with no predicted samples. Use `zero_division` parameter to control this behavior.\n",
      "  _warn_prf(average, modifier, msg_start, len(result))\n"
     ]
    }
   ],
   "source": [
    "# import and instantiate Multinomial Naive Bayes (with the default parameters)\n",
    "from sklearn.naive_bayes import MultinomialNB\n",
    "nb = MultinomialNB()\n",
    "\n",
    "# import and instantiate CountVectorizer\n",
    "from sklearn.feature_extraction.text import TfidfVectorizer\n",
    "tfidf = TfidfVectorizer()\n",
    "\n",
    "make_prediction_manual_ft(X, y, tfidf ,nb)"
   ]
  },
  {
   "cell_type": "markdown",
   "metadata": {},
   "source": [
    "## Efficiently searching for tuning parameters using RandomizedSearchCV\n",
    "\n",
    "- When there are many parameters to tune, searching all possible combinations of parameter values may be **computationally infeasible**.\n",
    "- **`RandomizedSearchCV`** searches a sample of the parameter values, and you control the computational \"budget\".\n",
    "\n",
    "[RandomizedSearchCV documentation](https://scikit-learn.org/stable/modules/generated/sklearn.model_selection.RandomizedSearchCV.html)\n",
    "\n",
    "[scipy.stats documentation](https://docs.scipy.org/doc/scipy/reference/stats.html)"
   ]
  },
  {
   "cell_type": "markdown",
   "metadata": {},
   "source": [
    "### 1. Rebuild the pipeline combination"
   ]
  },
  {
   "cell_type": "code",
   "execution_count": 34,
   "metadata": {},
   "outputs": [
    {
     "data": {
      "text/plain": [
       "[('featureunion', FeatureUnion(n_jobs=None,\n",
       "               transformer_list=[('pipeline',\n",
       "                                  Pipeline(memory=None,\n",
       "                                           steps=[('functiontransformer',\n",
       "                                                   FunctionTransformer(accept_sparse=False,\n",
       "                                                                       check_inverse=True,\n",
       "                                                                       func=<function get_text at 0x1a1ec26598>,\n",
       "                                                                       inv_kw_args=None,\n",
       "                                                                       inverse_func=None,\n",
       "                                                                       kw_args=None,\n",
       "                                                                       validate=False)),\n",
       "                                                  ('countvectorizer',\n",
       "                                                   CountVectorizer(analyzer='word',\n",
       "                                                                   binary=False,\n",
       "                                                                   decode_error='stri...\n",
       "                                                                   preprocessor=None,\n",
       "                                                                   stop_words=None,\n",
       "                                                                   strip_accents=None,\n",
       "                                                                   token_pattern='(?u)\\\\b\\\\w\\\\w+\\\\b',\n",
       "                                                                   tokenizer=None,\n",
       "                                                                   vocabulary=None))],\n",
       "                                           verbose=False)),\n",
       "                                 ('functiontransformer',\n",
       "                                  FunctionTransformer(accept_sparse=False,\n",
       "                                                      check_inverse=True,\n",
       "                                                      func=<function get_manual at 0x1a1ed657b8>,\n",
       "                                                      inv_kw_args=None,\n",
       "                                                      inverse_func=None,\n",
       "                                                      kw_args=None,\n",
       "                                                      validate=False))],\n",
       "               transformer_weights=None, verbose=False)),\n",
       " ('multinomialnb', MultinomialNB(alpha=1.0, class_prior=None, fit_prior=True))]"
      ]
     },
     "execution_count": 34,
     "metadata": {},
     "output_type": "execute_result"
    }
   ],
   "source": [
    "# import and instantiate Multinomial Naive Bayes (with the default parameters)\n",
    "from sklearn.naive_bayes import MultinomialNB\n",
    "nb = MultinomialNB()\n",
    "\n",
    "# import and instantiate CountVectorizer\n",
    "from sklearn.feature_extraction.text import CountVectorizer\n",
    "vect = CountVectorizer()\n",
    "\n",
    "# 2. Create a complete pipeline\n",
    "## 2.1 make union: (get_text_ft + vectorizer) + get_manual_ft\n",
    "from sklearn.pipeline import make_pipeline\n",
    "from sklearn.pipeline import make_union\n",
    "union = make_union(make_pipeline(get_text_ft, vect), get_manual_ft)\n",
    "\n",
    "## 2.2 make pipleine: [union]+ clf\n",
    "pipe = make_pipeline(union, nb)\n",
    "pipe.steps"
   ]
  },
  {
   "cell_type": "code",
   "execution_count": 35,
   "metadata": {},
   "outputs": [
    {
     "data": {
      "text/plain": [
       "dict_keys(['featureunion', 'multinomialnb'])"
      ]
     },
     "execution_count": 35,
     "metadata": {},
     "output_type": "execute_result"
    }
   ],
   "source": [
    "# pipeline steps are automatically assigned names by make_pipeline\n",
    "pipe.named_steps.keys()"
   ]
  },
  {
   "cell_type": "markdown",
   "metadata": {},
   "source": [
    "### 2. Random Grid Search with CV"
   ]
  },
  {
   "cell_type": "code",
   "execution_count": 36,
   "metadata": {},
   "outputs": [
    {
     "data": {
      "text/plain": [
       "{'featureunion__pipeline__countvectorizer__token_pattern': ['\\\\b\\\\w\\\\w+\\\\b',\n",
       "  \"'([a-zA-Z ]+)'\",\n",
       "  '(?u)\\\\b\\\\w\\\\w+\\\\b'],\n",
       " 'featureunion__pipeline__countvectorizer__min_df': [1, 5],\n",
       " 'multinomialnb__alpha': <scipy.stats._distn_infrastructure.rv_frozen at 0x1a1f0858d0>}"
      ]
     },
     "execution_count": 36,
     "metadata": {},
     "output_type": "execute_result"
    }
   ],
   "source": [
    "import scipy as sp\n",
    "# set a random seed for sp.stats.uniform\n",
    "import numpy as np\n",
    "np.random.seed(1)\n",
    "\n",
    "from sklearn.model_selection import RandomizedSearchCV\n",
    "# for any continuous parameters, specify a distribution instead of a list of options\n",
    "param_grid = {}\n",
    "param_grid['featureunion__pipeline__countvectorizer__token_pattern'] = [r\"\\b\\w\\w+\\b\", r\"'([a-zA-Z ]+)'\", r'(?u)\\b\\w\\w+\\b']\n",
    "param_grid['featureunion__pipeline__countvectorizer__min_df'] = [1, 5]\n",
    "param_grid['multinomialnb__alpha'] = sp.stats.uniform(scale=1)\n",
    "param_grid"
   ]
  },
  {
   "cell_type": "code",
   "execution_count": 37,
   "metadata": {},
   "outputs": [],
   "source": [
    "# def grid_result_manual_ft(pipe, param_grid):\n",
    "#     '''\n",
    "    \n",
    "#     '''\n",
    "#     from sklearn.model_selection import RandomizedSearchCV\n",
    "#     # additional parameters are n_iter (number of searches) and random_state\n",
    "#     rand = RandomizedSearchCV(pipe, param_grid, cv=5, scoring='accuracy', n_iter=5, random_state=1)   \n",
    "#     %time rand.fit(X, y) \n",
    "#     # time the randomized search\n",
    "    \n",
    "#     print('Random Search Best Score: \\n  {}%\\n'.format(round(rand.best_score_*100, 2)))\n",
    "#     print('Random Search Best Parameters: \\n{}\\n'.format(rand.best_params_))\n",
    "    \n",
    "#     results = pd.DataFrame(rand.cv_results_)\n",
    "#     return results[['mean_test_score', 'std_test_score', 'params']]\n"
   ]
  },
  {
   "cell_type": "code",
   "execution_count": 38,
   "metadata": {
    "scrolled": false
   },
   "outputs": [
    {
     "name": "stderr",
     "output_type": "stream",
     "text": [
      "/anaconda3/lib/python3.7/site-packages/sklearn/model_selection/_validation.py:536: FitFailedWarning: Estimator fit failed. The score on this train-test partition for these parameters will be set to nan. Details: \n",
      "ValueError: After pruning, no terms remain. Try a lower min_df or a higher max_df.\n",
      "\n",
      "  FitFailedWarning)\n"
     ]
    },
    {
     "name": "stdout",
     "output_type": "stream",
     "text": [
      "CPU times: user 315 ms, sys: 4.13 ms, total: 320 ms\n",
      "Wall time: 339 ms\n",
      "Random Search Best Score: \n",
      "  92.4%\n",
      "\n",
      "Random Search Best Parameters: \n",
      "{'featureunion__pipeline__countvectorizer__min_df': 5, 'featureunion__pipeline__countvectorizer__token_pattern': '\\\\b\\\\w\\\\w+\\\\b', 'multinomialnb__alpha': 0.9325573593386588}\n",
      "\n"
     ]
    },
    {
     "data": {
      "text/html": [
       "<div>\n",
       "<style scoped>\n",
       "    .dataframe tbody tr th:only-of-type {\n",
       "        vertical-align: middle;\n",
       "    }\n",
       "\n",
       "    .dataframe tbody tr th {\n",
       "        vertical-align: top;\n",
       "    }\n",
       "\n",
       "    .dataframe thead th {\n",
       "        text-align: right;\n",
       "    }\n",
       "</style>\n",
       "<table border=\"1\" class=\"dataframe\">\n",
       "  <thead>\n",
       "    <tr style=\"text-align: right;\">\n",
       "      <th></th>\n",
       "      <th>mean_test_score</th>\n",
       "      <th>std_test_score</th>\n",
       "      <th>params</th>\n",
       "    </tr>\n",
       "  </thead>\n",
       "  <tbody>\n",
       "    <tr>\n",
       "      <th>0</th>\n",
       "      <td>0.923977</td>\n",
       "      <td>0.026348</td>\n",
       "      <td>{'featureunion__pipeline__countvectorizer__min_df': 5, 'featureunion__pipeline__countvectorizer__token_pattern': '\\b\\w\\w+\\b', 'multinomialnb__alpha': 0.9325573593386588}</td>\n",
       "    </tr>\n",
       "    <tr>\n",
       "      <th>1</th>\n",
       "      <td>NaN</td>\n",
       "      <td>NaN</td>\n",
       "      <td>{'featureunion__pipeline__countvectorizer__min_df': 5, 'featureunion__pipeline__countvectorizer__token_pattern': ''([a-zA-Z ]+)'', 'multinomialnb__alpha': 0.14675589081711304}</td>\n",
       "    </tr>\n",
       "    <tr>\n",
       "      <th>2</th>\n",
       "      <td>0.478947</td>\n",
       "      <td>0.030689</td>\n",
       "      <td>{'featureunion__pipeline__countvectorizer__min_df': 1, 'featureunion__pipeline__countvectorizer__token_pattern': ''([a-zA-Z ]+)'', 'multinomialnb__alpha': 0.1862602113776709}</td>\n",
       "    </tr>\n",
       "    <tr>\n",
       "      <th>3</th>\n",
       "      <td>0.912865</td>\n",
       "      <td>0.027078</td>\n",
       "      <td>{'featureunion__pipeline__countvectorizer__min_df': 5, 'featureunion__pipeline__countvectorizer__token_pattern': '\\b\\w\\w+\\b', 'multinomialnb__alpha': 0.39676747423066994}</td>\n",
       "    </tr>\n",
       "    <tr>\n",
       "      <th>4</th>\n",
       "      <td>0.890643</td>\n",
       "      <td>0.050394</td>\n",
       "      <td>{'featureunion__pipeline__countvectorizer__min_df': 1, 'featureunion__pipeline__countvectorizer__token_pattern': '\\b\\w\\w+\\b', 'multinomialnb__alpha': 0.4191945144032948}</td>\n",
       "    </tr>\n",
       "  </tbody>\n",
       "</table>\n",
       "</div>"
      ],
      "text/plain": [
       "   mean_test_score  std_test_score  \\\n",
       "0         0.923977        0.026348   \n",
       "1              NaN             NaN   \n",
       "2         0.478947        0.030689   \n",
       "3         0.912865        0.027078   \n",
       "4         0.890643        0.050394   \n",
       "\n",
       "                                                                                                                                                                            params  \n",
       "0        {'featureunion__pipeline__countvectorizer__min_df': 5, 'featureunion__pipeline__countvectorizer__token_pattern': '\\b\\w\\w+\\b', 'multinomialnb__alpha': 0.9325573593386588}  \n",
       "1  {'featureunion__pipeline__countvectorizer__min_df': 5, 'featureunion__pipeline__countvectorizer__token_pattern': ''([a-zA-Z ]+)'', 'multinomialnb__alpha': 0.14675589081711304}  \n",
       "2   {'featureunion__pipeline__countvectorizer__min_df': 1, 'featureunion__pipeline__countvectorizer__token_pattern': ''([a-zA-Z ]+)'', 'multinomialnb__alpha': 0.1862602113776709}  \n",
       "3       {'featureunion__pipeline__countvectorizer__min_df': 5, 'featureunion__pipeline__countvectorizer__token_pattern': '\\b\\w\\w+\\b', 'multinomialnb__alpha': 0.39676747423066994}  \n",
       "4        {'featureunion__pipeline__countvectorizer__min_df': 1, 'featureunion__pipeline__countvectorizer__token_pattern': '\\b\\w\\w+\\b', 'multinomialnb__alpha': 0.4191945144032948}  "
      ]
     },
     "execution_count": 38,
     "metadata": {},
     "output_type": "execute_result"
    }
   ],
   "source": [
    "grid_result(pipe, param_grid)"
   ]
  },
  {
   "cell_type": "markdown",
   "metadata": {},
   "source": [
    "   "
   ]
  },
  {
   "cell_type": "markdown",
   "metadata": {},
   "source": [
    "   "
   ]
  },
  {
   "cell_type": "markdown",
   "metadata": {},
   "source": [
    "   "
   ]
  },
  {
   "cell_type": "markdown",
   "metadata": {},
   "source": [
    "   "
   ]
  },
  {
   "cell_type": "markdown",
   "metadata": {},
   "source": [
    "   "
   ]
  },
  {
   "cell_type": "markdown",
   "metadata": {},
   "source": [
    "   "
   ]
  },
  {
   "cell_type": "markdown",
   "metadata": {},
   "source": [
    "   "
   ]
  },
  {
   "cell_type": "markdown",
   "metadata": {},
   "source": [
    "## Model - Lie"
   ]
  },
  {
   "cell_type": "code",
   "execution_count": 39,
   "metadata": {},
   "outputs": [
    {
     "name": "stdout",
     "output_type": "stream",
     "text": [
      "X shape: (92,)\n",
      "y shape: (92,)\n"
     ]
    }
   ],
   "source": [
    "# define X and y\n",
    "X = reviews.review\n",
    "y = reviews.lie_num\n",
    "# check the shape\n",
    "print(f'X shape: {X.shape}')\n",
    "print(f'y shape: {y.shape}')"
   ]
  },
  {
   "cell_type": "code",
   "execution_count": 40,
   "metadata": {},
   "outputs": [
    {
     "name": "stdout",
     "output_type": "stream",
     "text": [
      "Base model(null model) for sentiment prediction: 0.5%\n"
     ]
    }
   ],
   "source": [
    "print('Base model(null model) for sentiment prediction: {}%'.format((y.value_counts()/y.shape[0])[0]))"
   ]
  },
  {
   "cell_type": "code",
   "execution_count": 41,
   "metadata": {},
   "outputs": [
    {
     "name": "stdout",
     "output_type": "stream",
     "text": [
      "CountVectorizer(analyzer='word', binary=True, decode_error='strict',\n",
      "                dtype=<class 'numpy.int64'>, encoding='utf-8', input='content',\n",
      "                lowercase=True, max_df=1.0, max_features=None, min_df=1,\n",
      "                ngram_range=(1, 1), preprocessor=None, stop_words=None,\n",
      "                strip_accents=None, token_pattern='(?u)\\\\b\\\\w\\\\w+\\\\b',\n",
      "                tokenizer=None, vocabulary=None)\n",
      "BernoulliNB(alpha=1.0, binarize=0.0, class_prior=None, fit_prior=True)\n",
      "\n",
      "Training Accuracy with 5-fold CV: 53.63%\n",
      "\n",
      "Testing Accuracy: 43.48%\n",
      "\n",
      "Confusion Matrix:\n"
     ]
    },
    {
     "data": {
      "image/png": "[encoded data removed]",
      "text/plain": [
       "<Figure size 432x288 with 2 Axes>"
      ]
     },
     "metadata": {
      "needs_background": "light"
     },
     "output_type": "display_data"
    },
    {
     "name": "stdout",
     "output_type": "stream",
     "text": [
      "\n",
      "Classification Report:\n",
      "\n",
      "              precision    recall  f1-score   support\n",
      "\n",
      "           0     0.5333    0.5714    0.5517        14\n",
      "           1     0.2500    0.2222    0.2353         9\n",
      "\n",
      "    accuracy                         0.4348        23\n",
      "   macro avg     0.3917    0.3968    0.3935        23\n",
      "weighted avg     0.4225    0.4348    0.4279        23\n",
      "\n"
     ]
    }
   ],
   "source": [
    "from sklearn.naive_bayes import BernoulliNB\n",
    "bnb = BernoulliNB()\n",
    "\n",
    "# import and instantiate CountVectorizer for BernoulliNB (with default parameters)\n",
    "from sklearn.feature_extraction.text import CountVectorizer\n",
    "vect_b = CountVectorizer(binary=True)\n",
    "\n",
    "make_prediction(X, y,vect_b ,bnb)"
   ]
  },
  {
   "cell_type": "code",
   "execution_count": 42,
   "metadata": {},
   "outputs": [
    {
     "name": "stdout",
     "output_type": "stream",
     "text": [
      "CountVectorizer(analyzer='word', binary=False, decode_error='strict',\n",
      "                dtype=<class 'numpy.int64'>, encoding='utf-8', input='content',\n",
      "                lowercase=True, max_df=1.0, max_features=None, min_df=1,\n",
      "                ngram_range=(1, 1), preprocessor=None, stop_words=None,\n",
      "                strip_accents=None, token_pattern='(?u)\\\\b\\\\w\\\\w+\\\\b',\n",
      "                tokenizer=None, vocabulary=None)\n",
      "MultinomialNB(alpha=1.0, class_prior=None, fit_prior=True)\n",
      "\n",
      "Training Accuracy with 5-fold CV: 55.16%\n",
      "\n",
      "Testing Accuracy: 34.78%\n",
      "\n",
      "Confusion Matrix:\n"
     ]
    },
    {
     "data": {
      "image/png": "[encoded data removed]",
      "text/plain": [
       "<Figure size 432x288 with 2 Axes>"
      ]
     },
     "metadata": {
      "needs_background": "light"
     },
     "output_type": "display_data"
    },
    {
     "name": "stdout",
     "output_type": "stream",
     "text": [
      "\n",
      "Classification Report:\n",
      "\n",
      "              precision    recall  f1-score   support\n",
      "\n",
      "           0     0.4545    0.3571    0.4000        14\n",
      "           1     0.2500    0.3333    0.2857         9\n",
      "\n",
      "    accuracy                         0.3478        23\n",
      "   macro avg     0.3523    0.3452    0.3429        23\n",
      "weighted avg     0.3745    0.3478    0.3553        23\n",
      "\n"
     ]
    }
   ],
   "source": [
    "# import and instantiate Multinomial Naive Bayes (with the default parameters)\n",
    "from sklearn.naive_bayes import MultinomialNB\n",
    "nb = MultinomialNB()\n",
    "\n",
    "# import and instantiate CountVectorizer (with min_df=5)\n",
    "from sklearn.feature_extraction.text import CountVectorizer\n",
    "vect = CountVectorizer()\n",
    "\n",
    "make_prediction(X, y,vect ,nb)"
   ]
  },
  {
   "cell_type": "code",
   "execution_count": 43,
   "metadata": {},
   "outputs": [
    {
     "name": "stdout",
     "output_type": "stream",
     "text": [
      "TfidfVectorizer(analyzer='word', binary=False, decode_error='strict',\n",
      "                dtype=<class 'numpy.float64'>, encoding='utf-8',\n",
      "                input='content', lowercase=True, max_df=1.0, max_features=None,\n",
      "                min_df=1, ngram_range=(1, 1), norm='l2', preprocessor=None,\n",
      "                smooth_idf=True, stop_words=None, strip_accents=None,\n",
      "                sublinear_tf=False, token_pattern='(?u)\\\\b\\\\w\\\\w+\\\\b',\n",
      "                tokenizer=None, use_idf=True, vocabulary=None)\n",
      "MultinomialNB(alpha=1.0, class_prior=None, fit_prior=True)\n",
      "\n",
      "Training Accuracy with 5-fold CV: 52.31%\n",
      "\n",
      "Testing Accuracy: 34.78%\n",
      "\n",
      "Confusion Matrix:\n"
     ]
    },
    {
     "data": {
      "image/png": "[encoded data removed]",
      "text/plain": [
       "<Figure size 432x288 with 2 Axes>"
      ]
     },
     "metadata": {
      "needs_background": "light"
     },
     "output_type": "display_data"
    },
    {
     "name": "stdout",
     "output_type": "stream",
     "text": [
      "\n",
      "Classification Report:\n",
      "\n",
      "              precision    recall  f1-score   support\n",
      "\n",
      "           0     0.0000    0.0000    0.0000        14\n",
      "           1     0.3636    0.8889    0.5161         9\n",
      "\n",
      "    accuracy                         0.3478        23\n",
      "   macro avg     0.1818    0.4444    0.2581        23\n",
      "weighted avg     0.1423    0.3478    0.2020        23\n",
      "\n"
     ]
    }
   ],
   "source": [
    "# import and instantiate Multinomial Naive Bayes (with the default parameters)\n",
    "from sklearn.naive_bayes import MultinomialNB\n",
    "nb = MultinomialNB()\n",
    "\n",
    "# import and instantiate CountVectorizer (with min_df=5)\n",
    "from sklearn.feature_extraction.text import TfidfVectorizer\n",
    "tfidf = TfidfVectorizer()\n",
    "\n",
    "make_prediction(X, y, tfidf ,nb)"
   ]
  },
  {
   "cell_type": "markdown",
   "metadata": {},
   "source": [
    "## Efficiently searching for tuning parameters using RandomizedSearchCV\n",
    "\n",
    "- When there are many parameters to tune, searching all possible combinations of parameter values may be **computationally infeasible**.\n",
    "- **`RandomizedSearchCV`** searches a sample of the parameter values, and you control the computational \"budget\".\n",
    "\n",
    "[RandomizedSearchCV documentation](https://scikit-learn.org/stable/modules/generated/sklearn.model_selection.RandomizedSearchCV.html)\n",
    "\n",
    "[scipy.stats documentation](https://docs.scipy.org/doc/scipy/reference/stats.html)"
   ]
  },
  {
   "cell_type": "markdown",
   "metadata": {},
   "source": [
    "### 1. Rebuild the pipeline combination"
   ]
  },
  {
   "cell_type": "code",
   "execution_count": 44,
   "metadata": {},
   "outputs": [
    {
     "data": {
      "text/plain": [
       "[('countvectorizer',\n",
       "  CountVectorizer(analyzer='word', binary=True, decode_error='strict',\n",
       "                  dtype=<class 'numpy.int64'>, encoding='utf-8', input='content',\n",
       "                  lowercase=True, max_df=1.0, max_features=None, min_df=1,\n",
       "                  ngram_range=(1, 1), preprocessor=None, stop_words=None,\n",
       "                  strip_accents=None, token_pattern='(?u)\\\\b\\\\w\\\\w+\\\\b',\n",
       "                  tokenizer=None, vocabulary=None)),\n",
       " ('bernoullinb',\n",
       "  BernoulliNB(alpha=1.0, binarize=0.0, class_prior=None, fit_prior=True))]"
      ]
     },
     "execution_count": 44,
     "metadata": {},
     "output_type": "execute_result"
    }
   ],
   "source": [
    "from sklearn.naive_bayes import BernoulliNB\n",
    "bnb = BernoulliNB()\n",
    "\n",
    "# import and instantiate CountVectorizer for BernoulliNB (with default parameters)\n",
    "from sklearn.feature_extraction.text import CountVectorizer\n",
    "vect_b = CountVectorizer(binary=True)\n",
    "\n",
    "from sklearn.pipeline import make_pipeline\n",
    "pipe = make_pipeline(vect_b, bnb)\n",
    "pipe.steps"
   ]
  },
  {
   "cell_type": "code",
   "execution_count": 45,
   "metadata": {},
   "outputs": [
    {
     "data": {
      "text/plain": [
       "dict_keys(['countvectorizer', 'bernoullinb'])"
      ]
     },
     "execution_count": 45,
     "metadata": {},
     "output_type": "execute_result"
    }
   ],
   "source": [
    "# pipeline steps are automatically assigned names by make_pipeline\n",
    "pipe.named_steps.keys()"
   ]
  },
  {
   "cell_type": "markdown",
   "metadata": {},
   "source": [
    "### 2. Random Grid Search with CV"
   ]
  },
  {
   "cell_type": "code",
   "execution_count": 46,
   "metadata": {},
   "outputs": [
    {
     "data": {
      "text/plain": [
       "{'countvectorizer__token_pattern': ['\\\\b\\\\w\\\\w+\\\\b',\n",
       "  \"'([a-zA-Z ]+)'\",\n",
       "  '(?u)\\\\b\\\\w\\\\w+\\\\b'],\n",
       " 'countvectorizer__ngram_range': [(1, 1), (1, 2)],\n",
       " 'countvectorizer__min_df': [1, 3, 5],\n",
       " 'bernoullinb__alpha': <scipy.stats._distn_infrastructure.rv_frozen at 0x1a1f3b2710>}"
      ]
     },
     "execution_count": 46,
     "metadata": {},
     "output_type": "execute_result"
    }
   ],
   "source": [
    "import scipy as sp\n",
    "# set a random seed for sp.stats.uniform\n",
    "import numpy as np\n",
    "np.random.seed(1)\n",
    "\n",
    "from sklearn.model_selection import RandomizedSearchCV\n",
    "# for any continuous parameters, specify a distribution instead of a list of options\n",
    "param_grid = {}\n",
    "param_grid['countvectorizer__token_pattern'] = [r\"\\b\\w\\w+\\b\", r\"'([a-zA-Z ]+)'\", r'(?u)\\b\\w\\w+\\b']\n",
    "param_grid['countvectorizer__ngram_range'] = [(1, 1),(1, 2)]\n",
    "param_grid['countvectorizer__min_df'] = [1,3,5]\n",
    "param_grid['bernoullinb__alpha'] = sp.stats.uniform(scale=1)\n",
    "param_grid"
   ]
  },
  {
   "cell_type": "code",
   "execution_count": 47,
   "metadata": {},
   "outputs": [
    {
     "name": "stdout",
     "output_type": "stream",
     "text": [
      "CPU times: user 249 ms, sys: 3.42 ms, total: 253 ms\n",
      "Wall time: 294 ms\n",
      "Random Search Best Score: \n",
      "  59.94%\n",
      "\n",
      "Random Search Best Parameters: \n",
      "{'bernoullinb__alpha': 0.6852195003967595, 'countvectorizer__min_df': 1, 'countvectorizer__ngram_range': (1, 1), 'countvectorizer__token_pattern': '\\\\b\\\\w\\\\w+\\\\b'}\n",
      "\n"
     ]
    },
    {
     "data": {
      "text/html": [
       "<div>\n",
       "<style scoped>\n",
       "    .dataframe tbody tr th:only-of-type {\n",
       "        vertical-align: middle;\n",
       "    }\n",
       "\n",
       "    .dataframe tbody tr th {\n",
       "        vertical-align: top;\n",
       "    }\n",
       "\n",
       "    .dataframe thead th {\n",
       "        text-align: right;\n",
       "    }\n",
       "</style>\n",
       "<table border=\"1\" class=\"dataframe\">\n",
       "  <thead>\n",
       "    <tr style=\"text-align: right;\">\n",
       "      <th></th>\n",
       "      <th>mean_test_score</th>\n",
       "      <th>std_test_score</th>\n",
       "      <th>params</th>\n",
       "    </tr>\n",
       "  </thead>\n",
       "  <tbody>\n",
       "    <tr>\n",
       "      <th>0</th>\n",
       "      <td>0.500000</td>\n",
       "      <td>0.016644</td>\n",
       "      <td>{'bernoullinb__alpha': 0.417022004702574, 'countvectorizer__min_df': 1, 'countvectorizer__ngram_range': (1, 1), 'countvectorizer__token_pattern': ''([a-zA-Z ]+)''}</td>\n",
       "    </tr>\n",
       "    <tr>\n",
       "      <th>1</th>\n",
       "      <td>0.500000</td>\n",
       "      <td>0.016644</td>\n",
       "      <td>{'bernoullinb__alpha': 0.30233257263183977, 'countvectorizer__min_df': 1, 'countvectorizer__ngram_range': (1, 1), 'countvectorizer__token_pattern': ''([a-zA-Z ]+)''}</td>\n",
       "    </tr>\n",
       "    <tr>\n",
       "      <th>2</th>\n",
       "      <td>0.543860</td>\n",
       "      <td>0.062521</td>\n",
       "      <td>{'bernoullinb__alpha': 0.1862602113776709, 'countvectorizer__min_df': 3, 'countvectorizer__ngram_range': (1, 1), 'countvectorizer__token_pattern': '(?u)\\b\\w\\w+\\b'}</td>\n",
       "    </tr>\n",
       "    <tr>\n",
       "      <th>3</th>\n",
       "      <td>0.500000</td>\n",
       "      <td>0.016644</td>\n",
       "      <td>{'bernoullinb__alpha': 0.9355390708060318, 'countvectorizer__min_df': 1, 'countvectorizer__ngram_range': (1, 1), 'countvectorizer__token_pattern': ''([a-zA-Z ]+)''}</td>\n",
       "    </tr>\n",
       "    <tr>\n",
       "      <th>4</th>\n",
       "      <td>0.599415</td>\n",
       "      <td>0.111756</td>\n",
       "      <td>{'bernoullinb__alpha': 0.6852195003967595, 'countvectorizer__min_df': 1, 'countvectorizer__ngram_range': (1, 1), 'countvectorizer__token_pattern': '\\b\\w\\w+\\b'}</td>\n",
       "    </tr>\n",
       "  </tbody>\n",
       "</table>\n",
       "</div>"
      ],
      "text/plain": [
       "   mean_test_score  std_test_score  \\\n",
       "0         0.500000        0.016644   \n",
       "1         0.500000        0.016644   \n",
       "2         0.543860        0.062521   \n",
       "3         0.500000        0.016644   \n",
       "4         0.599415        0.111756   \n",
       "\n",
       "                                                                                                                                                                  params  \n",
       "0    {'bernoullinb__alpha': 0.417022004702574, 'countvectorizer__min_df': 1, 'countvectorizer__ngram_range': (1, 1), 'countvectorizer__token_pattern': ''([a-zA-Z ]+)''}  \n",
       "1  {'bernoullinb__alpha': 0.30233257263183977, 'countvectorizer__min_df': 1, 'countvectorizer__ngram_range': (1, 1), 'countvectorizer__token_pattern': ''([a-zA-Z ]+)''}  \n",
       "2    {'bernoullinb__alpha': 0.1862602113776709, 'countvectorizer__min_df': 3, 'countvectorizer__ngram_range': (1, 1), 'countvectorizer__token_pattern': '(?u)\\b\\w\\w+\\b'}  \n",
       "3   {'bernoullinb__alpha': 0.9355390708060318, 'countvectorizer__min_df': 1, 'countvectorizer__ngram_range': (1, 1), 'countvectorizer__token_pattern': ''([a-zA-Z ]+)''}  \n",
       "4        {'bernoullinb__alpha': 0.6852195003967595, 'countvectorizer__min_df': 1, 'countvectorizer__ngram_range': (1, 1), 'countvectorizer__token_pattern': '\\b\\w\\w+\\b'}  "
      ]
     },
     "execution_count": 47,
     "metadata": {},
     "output_type": "execute_result"
    }
   ],
   "source": [
    "grid_result(pipe, param_grid)"
   ]
  },
  {
   "cell_type": "markdown",
   "metadata": {},
   "source": [
    "  "
   ]
  },
  {
   "cell_type": "markdown",
   "metadata": {},
   "source": [
    "  "
   ]
  },
  {
   "cell_type": "markdown",
   "metadata": {},
   "source": [
    "## Adding features to a document-term matrix (using `FeatureUnion`)\n",
    "\n",
    "- Below is a process that does allow for proper cross-validation, and does integrate well with the scikit-learn workflow.\n",
    "- To use this process, we have to learn about transformers, **`FunctionTransformer`**, and **`FeatureUnion`**.\n",
    "\n",
    "Transformer objects provide a `transform` method in order to perform **data transformations**. Here are a few examples:\n",
    "\n",
    "- **`CountVectorizer`**\n",
    "    - `fit` learns the vocabulary\n",
    "    - `transform` creates a document-term matrix using the vocabulary\n",
    "- **`SimpleImputer`**\n",
    "    - `fit` learns the value to impute\n",
    "    - `transform` fills in missing entries using the imputation value\n",
    "- **`StandardScaler`**\n",
    "    - `fit` learns the mean and scale of each feature\n",
    "    - `transform` standardizes the features using the mean and scale\n",
    "- **`HashingVectorizer`**\n",
    "    - `fit` is not used, and thus it is known as a \"stateless\" transformer\n",
    "    - `transform` creates the document-term matrix using a hash of the token\n",
    "    \n",
    " [FunctionTransformer documentation](https://scikit-learn.org/stable/modules/generated/sklearn.preprocessing.FunctionTransformer.html)\n",
    " \n",
    "![Pipeline versus FeatureUnion](transformer_example.png)\n",
    "\n",
    "![Transformation_Workflow](transformation_workflow.png)"
   ]
  },
  {
   "cell_type": "code",
   "execution_count": 48,
   "metadata": {},
   "outputs": [],
   "source": [
    "# define X and y\n",
    "X = reviews.loc[:, ['review','neg_long_len', 'exclamat']] # put necessary features\n",
    "y = reviews.lie_num"
   ]
  },
  {
   "cell_type": "markdown",
   "metadata": {},
   "source": [
    "##### FunctionTransformer 1"
   ]
  },
  {
   "cell_type": "code",
   "execution_count": 49,
   "metadata": {},
   "outputs": [],
   "source": [
    "# define a function that accepts a DataFrame returns the manually created features\n",
    "def get_manual(df):\n",
    "    return df.loc[:, ['neg_long_len', 'exclamat']]\n",
    "\n",
    "from sklearn.preprocessing import FunctionTransformer\n",
    "# create a stateless transformer from the get_manual function\n",
    "get_manual_ft = FunctionTransformer(get_manual, validate=False)"
   ]
  },
  {
   "cell_type": "markdown",
   "metadata": {},
   "source": [
    "##### FunctionTransformer 2"
   ]
  },
  {
   "cell_type": "code",
   "execution_count": 50,
   "metadata": {},
   "outputs": [],
   "source": [
    "# define a function that accepts a DataFrame returns the ingredients string\n",
    "def get_text(df):\n",
    "    return df.review\n",
    "\n",
    "# create another transformer\n",
    "get_text_ft = FunctionTransformer(get_text, validate=False)"
   ]
  },
  {
   "cell_type": "markdown",
   "metadata": {},
   "source": [
    "#### Combining feature extraction steps"
   ]
  },
  {
   "cell_type": "markdown",
   "metadata": {},
   "source": [
    "With the `FunctionTransformer` built, it can be combined into pipeline using `make_pipleine` and `make_union`.  \n",
    "  * `make_union` can contain `make_pipleine` and `FunctionTransformer`.  \n",
    "      * `make_pipleine` can contain `FunctionTransformer` and `CountVectorizer` as a series of pipeline"
   ]
  },
  {
   "cell_type": "code",
   "execution_count": 51,
   "metadata": {},
   "outputs": [
    {
     "name": "stdout",
     "output_type": "stream",
     "text": [
      "CountVectorizer(analyzer='word', binary=True, decode_error='strict',\n",
      "                dtype=<class 'numpy.int64'>, encoding='utf-8', input='content',\n",
      "                lowercase=True, max_df=1.0, max_features=None, min_df=1,\n",
      "                ngram_range=(1, 1), preprocessor=None, stop_words=None,\n",
      "                strip_accents=None, token_pattern='(?u)\\\\b\\\\w\\\\w+\\\\b',\n",
      "                tokenizer=None, vocabulary=None)\n",
      "BernoulliNB(alpha=1.0, binarize=0.0, class_prior=None, fit_prior=True)\n",
      "\n",
      "Training Accuracy with 5-fold CV: 53.63%\n",
      "\n",
      "Testing Accuracy: 43.48%\n",
      "\n",
      "Confusion Matrix:\n"
     ]
    },
    {
     "data": {
      "image/png": "[encoded data removed]",
      "text/plain": [
       "<Figure size 432x288 with 2 Axes>"
      ]
     },
     "metadata": {
      "needs_background": "light"
     },
     "output_type": "display_data"
    },
    {
     "name": "stdout",
     "output_type": "stream",
     "text": [
      "\n",
      "Classification Report:\n",
      "\n",
      "              precision    recall  f1-score   support\n",
      "\n",
      "           0     0.5333    0.5714    0.5517        14\n",
      "           1     0.2500    0.2222    0.2353         9\n",
      "\n",
      "    accuracy                         0.4348        23\n",
      "   macro avg     0.3917    0.3968    0.3935        23\n",
      "weighted avg     0.4225    0.4348    0.4279        23\n",
      "\n"
     ]
    }
   ],
   "source": [
    "from sklearn.naive_bayes import BernoulliNB\n",
    "bnb = BernoulliNB()\n",
    "\n",
    "# import and instantiate CountVectorizer for BernoulliNB (with default parameters)\n",
    "from sklearn.feature_extraction.text import CountVectorizer\n",
    "vect_b = CountVectorizer(binary=True)\n",
    "\n",
    "make_prediction_manual_ft(X, y,vect_b ,bnb)"
   ]
  },
  {
   "cell_type": "code",
   "execution_count": 52,
   "metadata": {},
   "outputs": [
    {
     "name": "stdout",
     "output_type": "stream",
     "text": [
      "CountVectorizer(analyzer='word', binary=False, decode_error='strict',\n",
      "                dtype=<class 'numpy.int64'>, encoding='utf-8', input='content',\n",
      "                lowercase=True, max_df=1.0, max_features=None, min_df=1,\n",
      "                ngram_range=(1, 1), preprocessor=None, stop_words=None,\n",
      "                strip_accents=None, token_pattern='(?u)\\\\b\\\\w\\\\w+\\\\b',\n",
      "                tokenizer=None, vocabulary=None)\n",
      "MultinomialNB(alpha=1.0, class_prior=None, fit_prior=True)\n",
      "\n",
      "Training Accuracy with 5-fold CV: 56.7%\n",
      "\n",
      "Testing Accuracy: 34.78%\n",
      "\n",
      "Confusion Matrix:\n"
     ]
    },
    {
     "data": {
      "image/png": "[encoded data removed]",
      "text/plain": [
       "<Figure size 432x288 with 2 Axes>"
      ]
     },
     "metadata": {
      "needs_background": "light"
     },
     "output_type": "display_data"
    },
    {
     "name": "stdout",
     "output_type": "stream",
     "text": [
      "\n",
      "Classification Report:\n",
      "\n",
      "              precision    recall  f1-score   support\n",
      "\n",
      "           0     0.4545    0.3571    0.4000        14\n",
      "           1     0.2500    0.3333    0.2857         9\n",
      "\n",
      "    accuracy                         0.3478        23\n",
      "   macro avg     0.3523    0.3452    0.3429        23\n",
      "weighted avg     0.3745    0.3478    0.3553        23\n",
      "\n"
     ]
    }
   ],
   "source": [
    "# import and instantiate Multinomial Naive Bayes (with the default parameters)\n",
    "from sklearn.naive_bayes import MultinomialNB\n",
    "nb = MultinomialNB()\n",
    "\n",
    "# import and instantiate CountVectorizer (with min_df=5)\n",
    "from sklearn.feature_extraction.text import CountVectorizer\n",
    "vect = CountVectorizer()\n",
    "\n",
    "make_prediction_manual_ft(X, y,vect ,nb)"
   ]
  },
  {
   "cell_type": "code",
   "execution_count": 53,
   "metadata": {},
   "outputs": [
    {
     "name": "stdout",
     "output_type": "stream",
     "text": [
      "TfidfVectorizer(analyzer='word', binary=False, decode_error='strict',\n",
      "                dtype=<class 'numpy.float64'>, encoding='utf-8',\n",
      "                input='content', lowercase=True, max_df=1.0, max_features=None,\n",
      "                min_df=1, ngram_range=(1, 1), norm='l2', preprocessor=None,\n",
      "                smooth_idf=True, stop_words=None, strip_accents=None,\n",
      "                sublinear_tf=False, token_pattern='(?u)\\\\b\\\\w\\\\w+\\\\b',\n",
      "                tokenizer=None, use_idf=True, vocabulary=None)\n",
      "MultinomialNB(alpha=1.0, class_prior=None, fit_prior=True)\n",
      "\n",
      "Training Accuracy with 5-fold CV: 55.16%\n",
      "\n",
      "Testing Accuracy: 39.13%\n",
      "\n",
      "Confusion Matrix:\n"
     ]
    },
    {
     "data": {
      "image/png": "[encoded data removed]",
      "text/plain": [
       "<Figure size 432x288 with 2 Axes>"
      ]
     },
     "metadata": {
      "needs_background": "light"
     },
     "output_type": "display_data"
    },
    {
     "name": "stdout",
     "output_type": "stream",
     "text": [
      "\n",
      "Classification Report:\n",
      "\n",
      "              precision    recall  f1-score   support\n",
      "\n",
      "           0     0.0000    0.0000    0.0000        14\n",
      "           1     0.3913    1.0000    0.5625         9\n",
      "\n",
      "    accuracy                         0.3913        23\n",
      "   macro avg     0.1957    0.5000    0.2812        23\n",
      "weighted avg     0.1531    0.3913    0.2201        23\n",
      "\n"
     ]
    },
    {
     "name": "stderr",
     "output_type": "stream",
     "text": [
      "/anaconda3/lib/python3.7/site-packages/sklearn/metrics/_classification.py:1272: UndefinedMetricWarning: Precision and F-score are ill-defined and being set to 0.0 in labels with no predicted samples. Use `zero_division` parameter to control this behavior.\n",
      "  _warn_prf(average, modifier, msg_start, len(result))\n"
     ]
    }
   ],
   "source": [
    "# import and instantiate Multinomial Naive Bayes (with the default parameters)\n",
    "from sklearn.naive_bayes import MultinomialNB\n",
    "nb = MultinomialNB()\n",
    "\n",
    "# import and instantiate CountVectorizer\n",
    "from sklearn.feature_extraction.text import TfidfVectorizer\n",
    "tfidf = TfidfVectorizer()\n",
    "\n",
    "make_prediction_manual_ft(X, y, tfidf ,nb)"
   ]
  },
  {
   "cell_type": "markdown",
   "metadata": {},
   "source": [
    "## Efficiently searching for tuning parameters using RandomizedSearchCV"
   ]
  },
  {
   "cell_type": "markdown",
   "metadata": {},
   "source": [
    "### 1. Rebuild the pipeline combination"
   ]
  },
  {
   "cell_type": "code",
   "execution_count": 54,
   "metadata": {},
   "outputs": [
    {
     "data": {
      "text/plain": [
       "[('featureunion', FeatureUnion(n_jobs=None,\n",
       "               transformer_list=[('pipeline',\n",
       "                                  Pipeline(memory=None,\n",
       "                                           steps=[('functiontransformer',\n",
       "                                                   FunctionTransformer(accept_sparse=False,\n",
       "                                                                       check_inverse=True,\n",
       "                                                                       func=<function get_text at 0x1a1f4a61e0>,\n",
       "                                                                       inv_kw_args=None,\n",
       "                                                                       inverse_func=None,\n",
       "                                                                       kw_args=None,\n",
       "                                                                       validate=False)),\n",
       "                                                  ('countvectorizer',\n",
       "                                                   CountVectorizer(analyzer='word',\n",
       "                                                                   binary=True,\n",
       "                                                                   decode_error='stric...\n",
       "                                                                   preprocessor=None,\n",
       "                                                                   stop_words=None,\n",
       "                                                                   strip_accents=None,\n",
       "                                                                   token_pattern='(?u)\\\\b\\\\w\\\\w+\\\\b',\n",
       "                                                                   tokenizer=None,\n",
       "                                                                   vocabulary=None))],\n",
       "                                           verbose=False)),\n",
       "                                 ('functiontransformer',\n",
       "                                  FunctionTransformer(accept_sparse=False,\n",
       "                                                      check_inverse=True,\n",
       "                                                      func=<function get_manual at 0x1a1f4a68c8>,\n",
       "                                                      inv_kw_args=None,\n",
       "                                                      inverse_func=None,\n",
       "                                                      kw_args=None,\n",
       "                                                      validate=False))],\n",
       "               transformer_weights=None, verbose=False)),\n",
       " ('bernoullinb',\n",
       "  BernoulliNB(alpha=1.0, binarize=0.0, class_prior=None, fit_prior=True))]"
      ]
     },
     "execution_count": 54,
     "metadata": {},
     "output_type": "execute_result"
    }
   ],
   "source": [
    "from sklearn.pipeline import make_pipeline\n",
    "pipe = make_pipeline(vect_b, bnb)\n",
    "\n",
    "# import and instantiate Bernoulli Naive Bayes (with the default parameters)\n",
    "from sklearn.naive_bayes import BernoulliNB\n",
    "bnb = BernoulliNB()\n",
    "\n",
    "# import and instantiate CountVectorizer for BernoulliNB (with default parameters)\n",
    "from sklearn.feature_extraction.text import CountVectorizer\n",
    "vect_b = CountVectorizer(binary=True)\n",
    "\n",
    "# 2. Create a complete pipeline\n",
    "## 2.1 make union: (get_text_ft + vectorizer) + get_manual_ft\n",
    "from sklearn.pipeline import make_pipeline\n",
    "from sklearn.pipeline import make_union\n",
    "union = make_union(make_pipeline(get_text_ft, vect_b), get_manual_ft)\n",
    "\n",
    "## 2.2 make pipleine: [union]+ clf\n",
    "pipe = make_pipeline(union, bnb)\n",
    "pipe.steps"
   ]
  },
  {
   "cell_type": "code",
   "execution_count": 55,
   "metadata": {},
   "outputs": [
    {
     "data": {
      "text/plain": [
       "dict_keys(['featureunion', 'bernoullinb'])"
      ]
     },
     "execution_count": 55,
     "metadata": {},
     "output_type": "execute_result"
    }
   ],
   "source": [
    "# pipeline steps are automatically assigned names by make_pipeline\n",
    "pipe.named_steps.keys()"
   ]
  },
  {
   "cell_type": "markdown",
   "metadata": {},
   "source": [
    "### 2. Random Grid Search with CV"
   ]
  },
  {
   "cell_type": "code",
   "execution_count": 56,
   "metadata": {},
   "outputs": [
    {
     "data": {
      "text/plain": [
       "{'featureunion__pipeline__countvectorizer__token_pattern': ['\\\\b\\\\w\\\\w+\\\\b',\n",
       "  \"'([a-zA-Z ]+)'\",\n",
       "  '(?u)\\\\b\\\\w\\\\w+\\\\b'],\n",
       " 'bernoullinb__alpha': <scipy.stats._distn_infrastructure.rv_frozen at 0x1a1eab0748>}"
      ]
     },
     "execution_count": 56,
     "metadata": {},
     "output_type": "execute_result"
    }
   ],
   "source": [
    "import scipy as sp\n",
    "# set a random seed for sp.stats.uniform\n",
    "import numpy as np\n",
    "np.random.seed(1)\n",
    "\n",
    "from sklearn.model_selection import RandomizedSearchCV\n",
    "# for any continuous parameters, specify a distribution instead of a list of options\n",
    "param_grid = {}\n",
    "param_grid['featureunion__pipeline__countvectorizer__token_pattern'] = [r\"\\b\\w\\w+\\b\", r\"'([a-zA-Z ]+)'\", r'(?u)\\b\\w\\w+\\b']\n",
    "param_grid['bernoullinb__alpha'] = sp.stats.uniform(scale=1)\n",
    "param_grid"
   ]
  },
  {
   "cell_type": "code",
   "execution_count": 57,
   "metadata": {
    "scrolled": true
   },
   "outputs": [
    {
     "name": "stdout",
     "output_type": "stream",
     "text": [
      "CPU times: user 424 ms, sys: 7.7 ms, total: 432 ms\n",
      "Wall time: 444 ms\n",
      "Random Search Best Score: \n",
      "  61.87%\n",
      "\n",
      "Random Search Best Parameters: \n",
      "{'bernoullinb__alpha': 0.9325573593386588, 'featureunion__pipeline__countvectorizer__token_pattern': \"'([a-zA-Z ]+)'\"}\n",
      "\n"
     ]
    },
    {
     "data": {
      "text/html": [
       "<div>\n",
       "<style scoped>\n",
       "    .dataframe tbody tr th:only-of-type {\n",
       "        vertical-align: middle;\n",
       "    }\n",
       "\n",
       "    .dataframe tbody tr th {\n",
       "        vertical-align: top;\n",
       "    }\n",
       "\n",
       "    .dataframe thead th {\n",
       "        text-align: right;\n",
       "    }\n",
       "</style>\n",
       "<table border=\"1\" class=\"dataframe\">\n",
       "  <thead>\n",
       "    <tr style=\"text-align: right;\">\n",
       "      <th></th>\n",
       "      <th>mean_test_score</th>\n",
       "      <th>std_test_score</th>\n",
       "      <th>params</th>\n",
       "    </tr>\n",
       "  </thead>\n",
       "  <tbody>\n",
       "    <tr>\n",
       "      <th>0</th>\n",
       "      <td>0.598830</td>\n",
       "      <td>0.097564</td>\n",
       "      <td>{'bernoullinb__alpha': 0.417022004702574, 'featureunion__pipeline__countvectorizer__token_pattern': '\\b\\w\\w+\\b'}</td>\n",
       "    </tr>\n",
       "    <tr>\n",
       "      <th>1</th>\n",
       "      <td>0.618713</td>\n",
       "      <td>0.041376</td>\n",
       "      <td>{'bernoullinb__alpha': 0.9325573593386588, 'featureunion__pipeline__countvectorizer__token_pattern': ''([a-zA-Z ]+)''}</td>\n",
       "    </tr>\n",
       "    <tr>\n",
       "      <th>2</th>\n",
       "      <td>0.598830</td>\n",
       "      <td>0.097564</td>\n",
       "      <td>{'bernoullinb__alpha': 0.30233257263183977, 'featureunion__pipeline__countvectorizer__token_pattern': '\\b\\w\\w+\\b'}</td>\n",
       "    </tr>\n",
       "    <tr>\n",
       "      <th>3</th>\n",
       "      <td>0.564912</td>\n",
       "      <td>0.099405</td>\n",
       "      <td>{'bernoullinb__alpha': 0.0923385947687978, 'featureunion__pipeline__countvectorizer__token_pattern': '\\b\\w\\w+\\b'}</td>\n",
       "    </tr>\n",
       "    <tr>\n",
       "      <th>4</th>\n",
       "      <td>0.598830</td>\n",
       "      <td>0.097564</td>\n",
       "      <td>{'bernoullinb__alpha': 0.3879107411620074, 'featureunion__pipeline__countvectorizer__token_pattern': '\\b\\w\\w+\\b'}</td>\n",
       "    </tr>\n",
       "  </tbody>\n",
       "</table>\n",
       "</div>"
      ],
      "text/plain": [
       "   mean_test_score  std_test_score  \\\n",
       "0         0.598830        0.097564   \n",
       "1         0.618713        0.041376   \n",
       "2         0.598830        0.097564   \n",
       "3         0.564912        0.099405   \n",
       "4         0.598830        0.097564   \n",
       "\n",
       "                                                                                                                   params  \n",
       "0        {'bernoullinb__alpha': 0.417022004702574, 'featureunion__pipeline__countvectorizer__token_pattern': '\\b\\w\\w+\\b'}  \n",
       "1  {'bernoullinb__alpha': 0.9325573593386588, 'featureunion__pipeline__countvectorizer__token_pattern': ''([a-zA-Z ]+)''}  \n",
       "2      {'bernoullinb__alpha': 0.30233257263183977, 'featureunion__pipeline__countvectorizer__token_pattern': '\\b\\w\\w+\\b'}  \n",
       "3       {'bernoullinb__alpha': 0.0923385947687978, 'featureunion__pipeline__countvectorizer__token_pattern': '\\b\\w\\w+\\b'}  \n",
       "4       {'bernoullinb__alpha': 0.3879107411620074, 'featureunion__pipeline__countvectorizer__token_pattern': '\\b\\w\\w+\\b'}  "
      ]
     },
     "execution_count": 57,
     "metadata": {},
     "output_type": "execute_result"
    }
   ],
   "source": [
    "grid_result(pipe, param_grid)"
   ]
  }
 ],
 "metadata": {
  "kernelspec": {
   "display_name": "Python 3",
   "language": "python",
   "name": "python3"
  },
  "language_info": {
   "codemirror_mode": {
    "name": "ipython",
    "version": 3
   },
   "file_extension": ".py",
   "mimetype": "text/x-python",
   "name": "python",
   "nbconvert_exporter": "python",
   "pygments_lexer": "ipython3",
   "version": "3.7.3"
  }
 },
 "nbformat": 4,
 "nbformat_minor": 2
}
