{
 "cells": [
  {
   "cell_type": "markdown",
   "metadata": {},
   "source": [
    "NOTE1: You do not have to use the docs or data from HW1. You can find, use, or create any data you wish for this assignment. \n",
    "\n",
    "and use AMT platform to request five sentiment labels per document. Note that you can set up your tasks in different ways, such as hiring five workers, each annotating all comments, or hiring 10 workers, each annotating half of the comments, etc.\n",
    "\n",
    "NOTE2: Class – the goal here is to realize that sometimes you need labeled data, but do not have it. This happens in real life very often. I suggest that you find, use, or create 6 small doc – __three (3) positive__ and __three (3) negative__ – such as movie or restaurant reviews. Make 4 of them really easy. For example, an easy one that is positive would have words like good, like, love, great, excellent, etc. or for negative, words like bad, poor, dislike, etc. Then, make two of the six ambiguous  - such as using sarcasm, etc. These are just ideas. You may use whatever you wish. The goal is ot create something that makes sense to you, so that you understand the results. \n",
    "\n",
    "Next, you will practice using something new. Amazon Mechanical Turk (AMT). Learn about it. Google it. Then use it on your 6 (or so) docs. Did the “Turkers” labels correctly? What did they get wrong? How long did it take? How much did it cost? Etc. \n",
    "\n",
    "After obtaining the labels, calculate pair-wise Kappa values among the AMT workers, and then calculate the average Kappa value as the overall agreement among the AMT workers. Also calculate the Kappa agreement between each AMT worker's annotations and your manual annotations. Based on these calculations, discuss the AMT workers' annotation reliability.\n",
    "\n",
    "NOTE 3: Use YouTube to learn how to calculate Kappa. The math is easy and so this is a great opportunity to practice taking the lead and learning something new without a Guide. \n",
    "\n",
    "Describe in your report:\n",
    "\n",
    "NOTE 4: Please use the Assignment Format. Remember – the topic is whatever the dataset is about. The Analysis is the AMT and labeling part. The Results are what happened. The conclusions might include whether a restaurant owner (if you data is about restaurants for example0 can use this method to better understand the sentiment of 1 million reviews, etc. \n",
    "\n",
    "Also include the following in the appropriate location in the format assignment….\n",
    "\n",
    "a.\tThe experiment design: How many turkers do you aim to hire? What is the workload and payment for each turker? What is your requirement for the turkers (language proficiency, geographical location, past work performance, etc.)? Please also explain why you think this is the best choice for your experiment design to obtain the best-quality data in the most efficient way, e.g., your spam-control strategy.  \n",
    "\n",
    "b.\tThe experiment outcome: How long did it take to obtain all labels? How much did you pay in total? Did any unexpected events occur during the process? Did you find any spammers? If yes, how did you find out and remove spam data? What is the average Kappa agreement among the workers? What are their levels of agreement with your ground truth? Do all AMT workers share similar marginal distributions?  \n",
    "\n",
    "c.\tConclusion: Do you think AMT is a viable approach for obtaining training labels? What lessons did you learn in this experiment?  \n"
   ]
  },
  {
   "cell_type": "markdown",
   "metadata": {},
   "source": [
    "|||B||\n",
    "|--|---|---|---|\n",
    "|||Yes|No|\n",
    "|A|Yes|a|b|\n",
    "||No|c|d|\n",
    "\n",
    "\n",
    "$P_o$ (observe agreement/the probability of random agreement) $=$ $\\frac{a+d}{a+b+c+d}$  \n",
    " \n",
    "$P_e$ (expect agreement/the probability of expect agreement)) $=$ $P_{Yes} + P_{No}$ $=$ $\\frac{a+b}{a+b+c+d} * \\frac{a+c}{a+b+c+d} + \\frac{c+d}{a+b+c+d} * \\frac{b+d}{a+b+c+d}$  \n",
    "$K$ (Cohen's Kappa) $=$ $\\frac{P_o-P_e}{1-Pe} = 1-\\frac{1- P_o}{1-Pe}$  \n",
    "\n",
    "[Kappa](https://en.wikipedia.org/wiki/Cohen%27s_kappa)"
   ]
  },
  {
   "cell_type": "code",
   "execution_count": 1,
   "metadata": {},
   "outputs": [],
   "source": [
    "import pandas as pd\n",
    "import matplotlib.pyplot as plt\n",
    "pd.set_option('display.max_colwidth', 1000)"
   ]
  },
  {
   "cell_type": "code",
   "execution_count": 2,
   "metadata": {},
   "outputs": [],
   "source": [
    "yelp = pd.read_csv('text.csv', index_col='doc')"
   ]
  },
  {
   "cell_type": "code",
   "execution_count": 3,
   "metadata": {},
   "outputs": [
    {
     "data": {
      "text/html": [
       "<div>\n",
       "<style scoped>\n",
       "    .dataframe tbody tr th:only-of-type {\n",
       "        vertical-align: middle;\n",
       "    }\n",
       "\n",
       "    .dataframe tbody tr th {\n",
       "        vertical-align: top;\n",
       "    }\n",
       "\n",
       "    .dataframe thead th {\n",
       "        text-align: right;\n",
       "    }\n",
       "</style>\n",
       "<table border=\"1\" class=\"dataframe\">\n",
       "  <thead>\n",
       "    <tr style=\"text-align: right;\">\n",
       "      <th></th>\n",
       "      <th>stars</th>\n",
       "      <th>text</th>\n",
       "      <th>label</th>\n",
       "    </tr>\n",
       "    <tr>\n",
       "      <th>doc</th>\n",
       "      <th></th>\n",
       "      <th></th>\n",
       "      <th></th>\n",
       "    </tr>\n",
       "  </thead>\n",
       "  <tbody>\n",
       "    <tr>\n",
       "      <th>1</th>\n",
       "      <td>1</td>\n",
       "      <td>Went to Fatburger with our family tonight and will not return. Average food. The burgers were average. The lettuce was wilted, the tomato was green, and nothing outstanding about the flavor. I'd say better options nearby are Joe's farm grill, In-n-out, or Culvers. Cleanliness was average. The floor was a little sticky and the beverage area was kept very neat. The kitchen appeared clean. Service was below average/horrible. The cashier was very unpleasant. We all ordered at the same time and the first half of the food came out about 15 minutes prior to the 2nd part. It was pretty slow. By the time we got the fries they were cold. The staff literally acted like they were a bunch of highschoolers who were annoyed that there were any customers who interrupted their hangout. I know this sounds harsh...it is. My experience was absolutely horrible. We will not be back and I don't recommend that you should either.</td>\n",
       "      <td>n</td>\n",
       "    </tr>\n",
       "    <tr>\n",
       "      <th>2</th>\n",
       "      <td>5</td>\n",
       "      <td>Being from San Antonio I missed Rudy's so much! This Arizona location is similar, but different. The BBQ is definitely a winner, but their now commercialized packaged BBQ sauce is horrible! Bring back the other stuff in the Styrofoam containers! I will still keep coming for the brisket when I'm in the area!!!!!</td>\n",
       "      <td>p</td>\n",
       "    </tr>\n",
       "    <tr>\n",
       "      <th>3</th>\n",
       "      <td>2</td>\n",
       "      <td>Yelpers giving this place four or five stars are either seriously misguided, don't have refined pallets, or simply haven't tried Bianco or Cibo.  This place was over priced, had fairly poor service, and the pizza just wasn't that good.I ordered the sausage pizza.  The sausage was pretty bland.  They also screwed up my order by adding onions when I didn't ask for them.  I've had my order messed up on pizzas before by having toppings left off, but never added on that I simply didn't order.  Found that strange.  I would have sent it back, but the waiter didn't check to see how everything was until about fifteen minutes after the food was brought to the table.I'd give Humbe Pie 1.5 stars if I could, but rounded up since it is better than Dominos and Pizza Hut.  I went after buying the GroupOn coupon, but won't be returning.</td>\n",
       "      <td>n</td>\n",
       "    </tr>\n",
       "    <tr>\n",
       "      <th>4</th>\n",
       "      <td>5</td>\n",
       "      <td>I went with my sister 2 days ago. It was my first time eating Famous Dave's. I got a hamburger and got some mac &amp; cheese. They were both okay, I tasted better. Now the hot wings &amp; onion rings were better. the place was packed we sat outside.</td>\n",
       "      <td>p</td>\n",
       "    </tr>\n",
       "    <tr>\n",
       "      <th>5</th>\n",
       "      <td>4</td>\n",
       "      <td>Via Delosantos is one of the few places in Phoenix that a vegetarian can get a good Mexican meal.  Neither the beans or rice are cooked in lard, which is hard to find in this town.  The chips and salsa are premium, just watch out for the fried potatoes and such - very greasy. Thanks to Philip's illuminating review, I hadn't heard about their health code violations.  It's something I'll keep an eye on in the future though... if they take another dive like they did in 2004 I'll keep my distance for a while.</td>\n",
       "      <td>p</td>\n",
       "    </tr>\n",
       "    <tr>\n",
       "      <th>6</th>\n",
       "      <td>2</td>\n",
       "      <td>The food leans toward the SouthWest and is located near Old Scottsdale.  The place has a couple of patios as well as couches/easy chairs for seating.  Large curved bar with televisions.  Tons of tequila.The place tends to be busy because of its location, however the food is nothing special - burgers, wraps, tacos, etc.  Prices are steep considering what you get.  Service can be spotty depending on time of day.</td>\n",
       "      <td>n</td>\n",
       "    </tr>\n",
       "  </tbody>\n",
       "</table>\n",
       "</div>"
      ],
      "text/plain": [
       "     stars  \\\n",
       "doc          \n",
       "1        1   \n",
       "2        5   \n",
       "3        2   \n",
       "4        5   \n",
       "5        4   \n",
       "6        2   \n",
       "\n",
       "                                                                                                                                                                                                                                                                                                                                                                                                                                                                                                                                                                                                                                                                                                                                                                                                                                                                                                                                                       text  \\\n",
       "doc                                                                                                                                                                                                                                                                                                                                                                                                                                                                                                                                                                                                                                                                                                                                                                                                                                                                                                                                                           \n",
       "1    Went to Fatburger with our family tonight and will not return. Average food. The burgers were average. The lettuce was wilted, the tomato was green, and nothing outstanding about the flavor. I'd say better options nearby are Joe's farm grill, In-n-out, or Culvers. Cleanliness was average. The floor was a little sticky and the beverage area was kept very neat. The kitchen appeared clean. Service was below average/horrible. The cashier was very unpleasant. We all ordered at the same time and the first half of the food came out about 15 minutes prior to the 2nd part. It was pretty slow. By the time we got the fries they were cold. The staff literally acted like they were a bunch of highschoolers who were annoyed that there were any customers who interrupted their hangout. I know this sounds harsh...it is. My experience was absolutely horrible. We will not be back and I don't recommend that you should either.   \n",
       "2                                                                                                                                                                                                                                                                                                                                                                                                                                                                                                                                                                                                                                  Being from San Antonio I missed Rudy's so much! This Arizona location is similar, but different. The BBQ is definitely a winner, but their now commercialized packaged BBQ sauce is horrible! Bring back the other stuff in the Styrofoam containers! I will still keep coming for the brisket when I'm in the area!!!!!   \n",
       "3                                                                                           Yelpers giving this place four or five stars are either seriously misguided, don't have refined pallets, or simply haven't tried Bianco or Cibo.  This place was over priced, had fairly poor service, and the pizza just wasn't that good.I ordered the sausage pizza.  The sausage was pretty bland.  They also screwed up my order by adding onions when I didn't ask for them.  I've had my order messed up on pizzas before by having toppings left off, but never added on that I simply didn't order.  Found that strange.  I would have sent it back, but the waiter didn't check to see how everything was until about fifteen minutes after the food was brought to the table.I'd give Humbe Pie 1.5 stars if I could, but rounded up since it is better than Dominos and Pizza Hut.  I went after buying the GroupOn coupon, but won't be returning.   \n",
       "4                                                                                                                                                                                                                                                                                                                                                                                                                                                                                                                                                                                                                                                                                                         I went with my sister 2 days ago. It was my first time eating Famous Dave's. I got a hamburger and got some mac & cheese. They were both okay, I tasted better. Now the hot wings & onion rings were better. the place was packed we sat outside.   \n",
       "5                                                                                                                                                                                                                                                                                                                                                                                                                            Via Delosantos is one of the few places in Phoenix that a vegetarian can get a good Mexican meal.  Neither the beans or rice are cooked in lard, which is hard to find in this town.  The chips and salsa are premium, just watch out for the fried potatoes and such - very greasy. Thanks to Philip's illuminating review, I hadn't heard about their health code violations.  It's something I'll keep an eye on in the future though... if they take another dive like they did in 2004 I'll keep my distance for a while.   \n",
       "6                                                                                                                                                                                                                                                                                                                                                                                                                                                                                                                             The food leans toward the SouthWest and is located near Old Scottsdale.  The place has a couple of patios as well as couches/easy chairs for seating.  Large curved bar with televisions.  Tons of tequila.The place tends to be busy because of its location, however the food is nothing special - burgers, wraps, tacos, etc.  Prices are steep considering what you get.  Service can be spotty depending on time of day.   \n",
       "\n",
       "    label  \n",
       "doc        \n",
       "1       n  \n",
       "2       p  \n",
       "3       n  \n",
       "4       p  \n",
       "5       p  \n",
       "6       n  "
      ]
     },
     "execution_count": 3,
     "metadata": {},
     "output_type": "execute_result"
    }
   ],
   "source": [
    "yelp.loc[:,['stars', 'text', 'label']]"
   ]
  },
  {
   "cell_type": "code",
   "execution_count": 4,
   "metadata": {},
   "outputs": [
    {
     "data": {
      "text/html": [
       "<div>\n",
       "<style scoped>\n",
       "    .dataframe tbody tr th:only-of-type {\n",
       "        vertical-align: middle;\n",
       "    }\n",
       "\n",
       "    .dataframe tbody tr th {\n",
       "        vertical-align: top;\n",
       "    }\n",
       "\n",
       "    .dataframe thead th {\n",
       "        text-align: right;\n",
       "    }\n",
       "</style>\n",
       "<table border=\"1\" class=\"dataframe\">\n",
       "  <thead>\n",
       "    <tr style=\"text-align: right;\">\n",
       "      <th></th>\n",
       "      <th>label</th>\n",
       "      <th>A</th>\n",
       "      <th>B</th>\n",
       "      <th>C</th>\n",
       "      <th>D</th>\n",
       "      <th>E</th>\n",
       "      <th>F</th>\n",
       "      <th>G</th>\n",
       "      <th>H</th>\n",
       "      <th>I</th>\n",
       "      <th>J</th>\n",
       "      <th>K</th>\n",
       "      <th>L</th>\n",
       "      <th>M</th>\n",
       "      <th>N</th>\n",
       "      <th>O</th>\n",
       "      <th>P</th>\n",
       "      <th>Q</th>\n",
       "      <th>R</th>\n",
       "    </tr>\n",
       "    <tr>\n",
       "      <th>doc</th>\n",
       "      <th></th>\n",
       "      <th></th>\n",
       "      <th></th>\n",
       "      <th></th>\n",
       "      <th></th>\n",
       "      <th></th>\n",
       "      <th></th>\n",
       "      <th></th>\n",
       "      <th></th>\n",
       "      <th></th>\n",
       "      <th></th>\n",
       "      <th></th>\n",
       "      <th></th>\n",
       "      <th></th>\n",
       "      <th></th>\n",
       "      <th></th>\n",
       "      <th></th>\n",
       "      <th></th>\n",
       "      <th></th>\n",
       "    </tr>\n",
       "  </thead>\n",
       "  <tbody>\n",
       "    <tr>\n",
       "      <th>1</th>\n",
       "      <td>n</td>\n",
       "      <td>NaN</td>\n",
       "      <td>n</td>\n",
       "      <td>p</td>\n",
       "      <td>n</td>\n",
       "      <td>NaN</td>\n",
       "      <td>NaN</td>\n",
       "      <td>NaN</td>\n",
       "      <td>NaN</td>\n",
       "      <td>NaN</td>\n",
       "      <td>NaN</td>\n",
       "      <td>NaN</td>\n",
       "      <td>NaN</td>\n",
       "      <td>NaN</td>\n",
       "      <td>NaN</td>\n",
       "      <td>n</td>\n",
       "      <td>NaN</td>\n",
       "      <td>p</td>\n",
       "      <td>NaN</td>\n",
       "    </tr>\n",
       "    <tr>\n",
       "      <th>2</th>\n",
       "      <td>p</td>\n",
       "      <td>p</td>\n",
       "      <td>NaN</td>\n",
       "      <td>NaN</td>\n",
       "      <td>NaN</td>\n",
       "      <td>NaN</td>\n",
       "      <td>NaN</td>\n",
       "      <td>NaN</td>\n",
       "      <td>n</td>\n",
       "      <td>NaN</td>\n",
       "      <td>NaN</td>\n",
       "      <td>NaN</td>\n",
       "      <td>p</td>\n",
       "      <td>NaN</td>\n",
       "      <td>NaN</td>\n",
       "      <td>NaN</td>\n",
       "      <td>n</td>\n",
       "      <td>p</td>\n",
       "      <td>NaN</td>\n",
       "    </tr>\n",
       "    <tr>\n",
       "      <th>3</th>\n",
       "      <td>n</td>\n",
       "      <td>NaN</td>\n",
       "      <td>NaN</td>\n",
       "      <td>NaN</td>\n",
       "      <td>NaN</td>\n",
       "      <td>n</td>\n",
       "      <td>n</td>\n",
       "      <td>NaN</td>\n",
       "      <td>NaN</td>\n",
       "      <td>NaN</td>\n",
       "      <td>p</td>\n",
       "      <td>NaN</td>\n",
       "      <td>NaN</td>\n",
       "      <td>NaN</td>\n",
       "      <td>NaN</td>\n",
       "      <td>NaN</td>\n",
       "      <td>n</td>\n",
       "      <td>p</td>\n",
       "      <td>NaN</td>\n",
       "    </tr>\n",
       "    <tr>\n",
       "      <th>4</th>\n",
       "      <td>p</td>\n",
       "      <td>NaN</td>\n",
       "      <td>NaN</td>\n",
       "      <td>NaN</td>\n",
       "      <td>NaN</td>\n",
       "      <td>NaN</td>\n",
       "      <td>NaN</td>\n",
       "      <td>NaN</td>\n",
       "      <td>NaN</td>\n",
       "      <td>NaN</td>\n",
       "      <td>NaN</td>\n",
       "      <td>NaN</td>\n",
       "      <td>p</td>\n",
       "      <td>p</td>\n",
       "      <td>p</td>\n",
       "      <td>p</td>\n",
       "      <td>NaN</td>\n",
       "      <td>NaN</td>\n",
       "      <td>p</td>\n",
       "    </tr>\n",
       "    <tr>\n",
       "      <th>5</th>\n",
       "      <td>p</td>\n",
       "      <td>NaN</td>\n",
       "      <td>NaN</td>\n",
       "      <td>NaN</td>\n",
       "      <td>NaN</td>\n",
       "      <td>NaN</td>\n",
       "      <td>NaN</td>\n",
       "      <td>p</td>\n",
       "      <td>p</td>\n",
       "      <td>NaN</td>\n",
       "      <td>p</td>\n",
       "      <td>NaN</td>\n",
       "      <td>NaN</td>\n",
       "      <td>NaN</td>\n",
       "      <td>NaN</td>\n",
       "      <td>NaN</td>\n",
       "      <td>p</td>\n",
       "      <td>p</td>\n",
       "      <td>NaN</td>\n",
       "    </tr>\n",
       "    <tr>\n",
       "      <th>6</th>\n",
       "      <td>n</td>\n",
       "      <td>NaN</td>\n",
       "      <td>NaN</td>\n",
       "      <td>NaN</td>\n",
       "      <td>NaN</td>\n",
       "      <td>NaN</td>\n",
       "      <td>NaN</td>\n",
       "      <td>NaN</td>\n",
       "      <td>NaN</td>\n",
       "      <td>n</td>\n",
       "      <td>p</td>\n",
       "      <td>n</td>\n",
       "      <td>NaN</td>\n",
       "      <td>NaN</td>\n",
       "      <td>NaN</td>\n",
       "      <td>NaN</td>\n",
       "      <td>n</td>\n",
       "      <td>p</td>\n",
       "      <td>NaN</td>\n",
       "    </tr>\n",
       "  </tbody>\n",
       "</table>\n",
       "</div>"
      ],
      "text/plain": [
       "    label    A    B    C    D    E    F    G    H    I    J    K    L    M  \\\n",
       "doc                                                                          \n",
       "1       n  NaN    n    p    n  NaN  NaN  NaN  NaN  NaN  NaN  NaN  NaN  NaN   \n",
       "2       p    p  NaN  NaN  NaN  NaN  NaN  NaN    n  NaN  NaN  NaN    p  NaN   \n",
       "3       n  NaN  NaN  NaN  NaN    n    n  NaN  NaN  NaN    p  NaN  NaN  NaN   \n",
       "4       p  NaN  NaN  NaN  NaN  NaN  NaN  NaN  NaN  NaN  NaN  NaN    p    p   \n",
       "5       p  NaN  NaN  NaN  NaN  NaN  NaN    p    p  NaN    p  NaN  NaN  NaN   \n",
       "6       n  NaN  NaN  NaN  NaN  NaN  NaN  NaN  NaN    n    p    n  NaN  NaN   \n",
       "\n",
       "       N    O    P    Q    R  \n",
       "doc                           \n",
       "1    NaN    n  NaN    p  NaN  \n",
       "2    NaN  NaN    n    p  NaN  \n",
       "3    NaN  NaN    n    p  NaN  \n",
       "4      p    p  NaN  NaN    p  \n",
       "5    NaN  NaN    p    p  NaN  \n",
       "6    NaN  NaN    n    p  NaN  "
      ]
     },
     "execution_count": 4,
     "metadata": {},
     "output_type": "execute_result"
    }
   ],
   "source": [
    "sentiment_map = {'n':0, 'p':1}\n",
    "AMT = yelp.loc[:,'label':'R'].copy()\n",
    "AMT"
   ]
  },
  {
   "cell_type": "code",
   "execution_count": 5,
   "metadata": {},
   "outputs": [],
   "source": [
    "doc = ['doc1','doc2','doc3','doc4','doc5', 'doc6']\n",
    "tucker = [5,5,5,5,5,5]\n",
    "vote = [(2/5), (3/5), (2/5), 1, 1, (2/5)]\n",
    "match = [0,0,0,1,1,0]\n",
    "tucker_df = pd.DataFrame({'doc':doc, 'tucker':tucker, 'vote':vote})"
   ]
  },
  {
   "cell_type": "code",
   "execution_count": 6,
   "metadata": {},
   "outputs": [
    {
     "data": {
      "text/plain": [
       "Text(0.5, 1.0, 'Votes from Tuckers')"
      ]
     },
     "execution_count": 6,
     "metadata": {},
     "output_type": "execute_result"
    },
    {
     "data": {
      "image/png": "[encoded data removed]",
      "text/plain": [
       "<Figure size 432x288 with 1 Axes>"
      ]
     },
     "metadata": {
      "needs_background": "light"
     },
     "output_type": "display_data"
    }
   ],
   "source": [
    "tucker_df.plot(kind='barh', x='doc', y='vote')\n",
    "plt.title('Votes from Tuckers')"
   ]
  },
  {
   "cell_type": "code",
   "execution_count": 7,
   "metadata": {
    "scrolled": true
   },
   "outputs": [
    {
     "data": {
      "text/plain": [
       "Index(['stars', 'label', 'A', 'B', 'C', 'D', 'E', 'F', 'G', 'H', 'I', 'J', 'K',\n",
       "       'L', 'M', 'N', 'O', 'P', 'Q', 'R', 'text'],\n",
       "      dtype='object')"
      ]
     },
     "execution_count": 7,
     "metadata": {},
     "output_type": "execute_result"
    }
   ],
   "source": [
    "yelp.columns"
   ]
  },
  {
   "cell_type": "code",
   "execution_count": 8,
   "metadata": {},
   "outputs": [],
   "source": [
    "#pip install -U scikit-learn"
   ]
  },
  {
   "cell_type": "code",
   "execution_count": 9,
   "metadata": {},
   "outputs": [],
   "source": [
    "from sklearn.metrics import confusion_matrix\n",
    "import seaborn as sns"
   ]
  },
  {
   "cell_type": "code",
   "execution_count": 10,
   "metadata": {},
   "outputs": [
    {
     "data": {
      "text/plain": [
       "(2.0, 0.0)"
      ]
     },
     "execution_count": 10,
     "metadata": {},
     "output_type": "execute_result"
    },
    {
     "data": {
      "image/png": "[encoded data removed]",
      "text/plain": [
       "<Figure size 432x288 with 2 Axes>"
      ]
     },
     "metadata": {
      "needs_background": "light"
     },
     "output_type": "display_data"
    }
   ],
   "source": [
    "cfm = confusion_matrix(['n','n','p','n'],['p','p','p','p']) # P and Q\n",
    "#cmap = sns.diverging_palette(258, 0, n=2, as_cmap=True)\n",
    "hm = sns.heatmap(cfm,annot=True, cmap='Blues')\n",
    "bottom, top = hm.get_ylim()\n",
    "hm.set(xticklabels=['n', 'p'])\n",
    "hm.set(yticklabels=['n', 'p'])\n",
    "hm.set(ylabel='Annotator P', xlabel='Annotator Q')\n",
    "hm.set_ylim(bottom + 0.5, top - 0.5)"
   ]
  },
  {
   "cell_type": "code",
   "execution_count": 11,
   "metadata": {},
   "outputs": [],
   "source": [
    "GroundTruth = ['p','p','p','p','p',\n",
    "               'n','n','n','n','n',\n",
    "               'p','p','p','p','p',\n",
    "               'n','n','n','n','n',\n",
    "               'n','n','n','n','n',\n",
    "               'p','p','p','p','p']\n",
    "TuckerLabel = ['p','p','p','p','p',\n",
    "               'p','n','p','n','n',\n",
    "               'p','p','p','p','p',\n",
    "               'p','n','n','p','n',\n",
    "               'n','n','p','p','n',\n",
    "               'n','n','p','p','p']"
   ]
  },
  {
   "cell_type": "code",
   "execution_count": 12,
   "metadata": {},
   "outputs": [
    {
     "data": {
      "text/plain": [
       "(2.0, 0.0)"
      ]
     },
     "execution_count": 12,
     "metadata": {},
     "output_type": "execute_result"
    },
    {
     "data": {
      "image/png": "[encoded data removed]",
      "text/plain": [
       "<Figure size 432x288 with 2 Axes>"
      ]
     },
     "metadata": {
      "needs_background": "light"
     },
     "output_type": "display_data"
    }
   ],
   "source": [
    "cfm = confusion_matrix(GroundTruth,TuckerLabel)\n",
    "#cmap = sns.diverging_palette(258, 0, n=2, as_cmap=True)\n",
    "hm = sns.heatmap(cfm,annot=True, cmap='Blues')\n",
    "bottom, top = hm.get_ylim()\n",
    "hm.set(xticklabels=['n', 'p'])\n",
    "hm.set(yticklabels=['n', 'p'])\n",
    "hm.set(ylabel='Ground Truth', xlabel='Tucker Label')\n",
    "hm.set_ylim(bottom + 0.5, top - 0.5)"
   ]
  },
  {
   "cell_type": "code",
   "execution_count": null,
   "metadata": {},
   "outputs": [],
   "source": []
  }
 ],
 "metadata": {
  "kernelspec": {
   "display_name": "Python 3",
   "language": "python",
   "name": "python3"
  },
  "language_info": {
   "codemirror_mode": {
    "name": "ipython",
    "version": 3
   },
   "file_extension": ".py",
   "mimetype": "text/x-python",
   "name": "python",
   "nbconvert_exporter": "python",
   "pygments_lexer": "ipython3",
   "version": "3.7.3"
  }
 },
 "nbformat": 4,
 "nbformat_minor": 4
}
