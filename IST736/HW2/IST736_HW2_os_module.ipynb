{
 "cells": [
  {
   "cell_type": "markdown",
   "metadata": {},
   "source": [
    "# HW2 Vectorization"
   ]
  },
  {
   "cell_type": "markdown",
   "metadata": {},
   "source": [
    "Create a corpus. Add .txt files to the corpus.   \n",
    "Use Python and CountVectorizer to convert the data (through the appropriate steps) to a dataframe (and to a matrix if you have time).   \n",
    "Use the code example. Include labels in the data frame."
   ]
  },
  {
   "cell_type": "markdown",
   "metadata": {},
   "source": [
    "### Import data"
   ]
  },
  {
   "cell_type": "code",
   "execution_count": 1,
   "metadata": {},
   "outputs": [],
   "source": [
    "import pandas as pd\n",
    "import matplotlib.pyplot as plt\n",
    "from sklearn.feature_extraction.text import CountVectorizer\n",
    "import os\n",
    "pd.set_option('display.max_colwidth', 1000)\n",
    "pd.set_option('display.max_rows', 500)\n",
    "pd.set_option('colheader_justify', 'center')"
   ]
  },
  {
   "cell_type": "markdown",
   "metadata": {},
   "source": [
    "#### train and test set:"
   ]
  },
  {
   "cell_type": "code",
   "execution_count": 2,
   "metadata": {},
   "outputs": [
    {
     "name": "stdout",
     "output_type": "stream",
     "text": [
      "calling os...\n",
      "train: \n",
      "['neg_01.txt', 'neg_02.txt', 'neg_03.txt', 'neg_04.txt', 'neg_05.txt', 'neg_06.txt', 'neg_07.txt', 'neg_08.txt', 'neg_09.txt', 'neg_10.txt', 'pos_01.txt', 'pos_02.txt', 'pos_03.txt', 'pos_04.txt', 'pos_05.txt', 'pos_06.txt', 'pos_07.txt', 'pos_08.txt', 'pos_09.txt', 'pos_10.txt']\n",
      "test: \n",
      "['neg_01.txt', 'neg_02.txt', 'neg_03.txt', 'neg_04.txt', 'neg_05.txt', 'neg_06.txt', 'neg_07.txt', 'neg_08.txt', 'neg_09.txt', 'neg_10.txt', 'pos_01.txt', 'pos_02.txt', 'pos_03.txt', 'pos_04.txt', 'pos_05.txt', 'pos_06.txt', 'pos_07.txt', 'pos_08.txt', 'pos_09.txt', 'pos_10.txt']\n"
     ]
    }
   ],
   "source": [
    "train_path = r'C:\\Users\\bing0\\Dropbox\\7. Syracuse University\\Courses\\IST 736 Spring 2020\\Week 2\\HW2\\data\\train'\n",
    "test_path = r'C:\\Users\\bing0\\Dropbox\\7. Syracuse University\\Courses\\IST 736 Spring 2020\\Week 2\\HW2\\data\\test'\n",
    "print(\"calling os...\")\n",
    "print(f'train: \\n{os.listdir(train_path)}')\n",
    "print(f'test: \\n{os.listdir(test_path)}')\n",
    "\n",
    "# assgin the list of filename to variables\n",
    "train_FileNameList=os.listdir(train_path)\n",
    "test_FileNameList=os.listdir(test_path)"
   ]
  },
  {
   "cell_type": "code",
   "execution_count": 3,
   "metadata": {},
   "outputs": [
    {
     "name": "stdout",
     "output_type": "stream",
     "text": [
      "## train: \n",
      "\n",
      "C:\\Users\\bing0\\Dropbox\\7. Syracuse University\\Courses\\IST 736 Spring 2020\\Week 2\\HW2\\data\\train\\neg_01.txt\n",
      "C:\\Users\\bing0\\Dropbox\\7. Syracuse University\\Courses\\IST 736 Spring 2020\\Week 2\\HW2\\data\\train\\neg_02.txt\n",
      "C:\\Users\\bing0\\Dropbox\\7. Syracuse University\\Courses\\IST 736 Spring 2020\\Week 2\\HW2\\data\\train\\neg_03.txt\n",
      "C:\\Users\\bing0\\Dropbox\\7. Syracuse University\\Courses\\IST 736 Spring 2020\\Week 2\\HW2\\data\\train\\neg_04.txt\n",
      "C:\\Users\\bing0\\Dropbox\\7. Syracuse University\\Courses\\IST 736 Spring 2020\\Week 2\\HW2\\data\\train\\neg_05.txt\n",
      "C:\\Users\\bing0\\Dropbox\\7. Syracuse University\\Courses\\IST 736 Spring 2020\\Week 2\\HW2\\data\\train\\neg_06.txt\n",
      "C:\\Users\\bing0\\Dropbox\\7. Syracuse University\\Courses\\IST 736 Spring 2020\\Week 2\\HW2\\data\\train\\neg_07.txt\n",
      "C:\\Users\\bing0\\Dropbox\\7. Syracuse University\\Courses\\IST 736 Spring 2020\\Week 2\\HW2\\data\\train\\neg_08.txt\n",
      "C:\\Users\\bing0\\Dropbox\\7. Syracuse University\\Courses\\IST 736 Spring 2020\\Week 2\\HW2\\data\\train\\neg_09.txt\n",
      "C:\\Users\\bing0\\Dropbox\\7. Syracuse University\\Courses\\IST 736 Spring 2020\\Week 2\\HW2\\data\\train\\neg_10.txt\n",
      "C:\\Users\\bing0\\Dropbox\\7. Syracuse University\\Courses\\IST 736 Spring 2020\\Week 2\\HW2\\data\\train\\pos_01.txt\n",
      "C:\\Users\\bing0\\Dropbox\\7. Syracuse University\\Courses\\IST 736 Spring 2020\\Week 2\\HW2\\data\\train\\pos_02.txt\n",
      "C:\\Users\\bing0\\Dropbox\\7. Syracuse University\\Courses\\IST 736 Spring 2020\\Week 2\\HW2\\data\\train\\pos_03.txt\n",
      "C:\\Users\\bing0\\Dropbox\\7. Syracuse University\\Courses\\IST 736 Spring 2020\\Week 2\\HW2\\data\\train\\pos_04.txt\n",
      "C:\\Users\\bing0\\Dropbox\\7. Syracuse University\\Courses\\IST 736 Spring 2020\\Week 2\\HW2\\data\\train\\pos_05.txt\n",
      "C:\\Users\\bing0\\Dropbox\\7. Syracuse University\\Courses\\IST 736 Spring 2020\\Week 2\\HW2\\data\\train\\pos_06.txt\n",
      "C:\\Users\\bing0\\Dropbox\\7. Syracuse University\\Courses\\IST 736 Spring 2020\\Week 2\\HW2\\data\\train\\pos_07.txt\n",
      "C:\\Users\\bing0\\Dropbox\\7. Syracuse University\\Courses\\IST 736 Spring 2020\\Week 2\\HW2\\data\\train\\pos_08.txt\n",
      "C:\\Users\\bing0\\Dropbox\\7. Syracuse University\\Courses\\IST 736 Spring 2020\\Week 2\\HW2\\data\\train\\pos_09.txt\n",
      "C:\\Users\\bing0\\Dropbox\\7. Syracuse University\\Courses\\IST 736 Spring 2020\\Week 2\\HW2\\data\\train\\pos_10.txt\n",
      "\n",
      "full list...\n",
      "\n",
      "Path for train: \n",
      "['C:\\\\Users\\\\bing0\\\\Dropbox\\\\7. Syracuse University\\\\Courses\\\\IST 736 Spring 2020\\\\Week 2\\\\HW2\\\\data\\\\train\\\\neg_01.txt', 'C:\\\\Users\\\\bing0\\\\Dropbox\\\\7. Syracuse University\\\\Courses\\\\IST 736 Spring 2020\\\\Week 2\\\\HW2\\\\data\\\\train\\\\neg_02.txt', 'C:\\\\Users\\\\bing0\\\\Dropbox\\\\7. Syracuse University\\\\Courses\\\\IST 736 Spring 2020\\\\Week 2\\\\HW2\\\\data\\\\train\\\\neg_03.txt', 'C:\\\\Users\\\\bing0\\\\Dropbox\\\\7. Syracuse University\\\\Courses\\\\IST 736 Spring 2020\\\\Week 2\\\\HW2\\\\data\\\\train\\\\neg_04.txt', 'C:\\\\Users\\\\bing0\\\\Dropbox\\\\7. Syracuse University\\\\Courses\\\\IST 736 Spring 2020\\\\Week 2\\\\HW2\\\\data\\\\train\\\\neg_05.txt', 'C:\\\\Users\\\\bing0\\\\Dropbox\\\\7. Syracuse University\\\\Courses\\\\IST 736 Spring 2020\\\\Week 2\\\\HW2\\\\data\\\\train\\\\neg_06.txt', 'C:\\\\Users\\\\bing0\\\\Dropbox\\\\7. Syracuse University\\\\Courses\\\\IST 736 Spring 2020\\\\Week 2\\\\HW2\\\\data\\\\train\\\\neg_07.txt', 'C:\\\\Users\\\\bing0\\\\Dropbox\\\\7. Syracuse University\\\\Courses\\\\IST 736 Spring 2020\\\\Week 2\\\\HW2\\\\data\\\\train\\\\neg_08.txt', 'C:\\\\Users\\\\bing0\\\\Dropbox\\\\7. Syracuse University\\\\Courses\\\\IST 736 Spring 2020\\\\Week 2\\\\HW2\\\\data\\\\train\\\\neg_09.txt', 'C:\\\\Users\\\\bing0\\\\Dropbox\\\\7. Syracuse University\\\\Courses\\\\IST 736 Spring 2020\\\\Week 2\\\\HW2\\\\data\\\\train\\\\neg_10.txt', 'C:\\\\Users\\\\bing0\\\\Dropbox\\\\7. Syracuse University\\\\Courses\\\\IST 736 Spring 2020\\\\Week 2\\\\HW2\\\\data\\\\train\\\\pos_01.txt', 'C:\\\\Users\\\\bing0\\\\Dropbox\\\\7. Syracuse University\\\\Courses\\\\IST 736 Spring 2020\\\\Week 2\\\\HW2\\\\data\\\\train\\\\pos_02.txt', 'C:\\\\Users\\\\bing0\\\\Dropbox\\\\7. Syracuse University\\\\Courses\\\\IST 736 Spring 2020\\\\Week 2\\\\HW2\\\\data\\\\train\\\\pos_03.txt', 'C:\\\\Users\\\\bing0\\\\Dropbox\\\\7. Syracuse University\\\\Courses\\\\IST 736 Spring 2020\\\\Week 2\\\\HW2\\\\data\\\\train\\\\pos_04.txt', 'C:\\\\Users\\\\bing0\\\\Dropbox\\\\7. Syracuse University\\\\Courses\\\\IST 736 Spring 2020\\\\Week 2\\\\HW2\\\\data\\\\train\\\\pos_05.txt', 'C:\\\\Users\\\\bing0\\\\Dropbox\\\\7. Syracuse University\\\\Courses\\\\IST 736 Spring 2020\\\\Week 2\\\\HW2\\\\data\\\\train\\\\pos_06.txt', 'C:\\\\Users\\\\bing0\\\\Dropbox\\\\7. Syracuse University\\\\Courses\\\\IST 736 Spring 2020\\\\Week 2\\\\HW2\\\\data\\\\train\\\\pos_07.txt', 'C:\\\\Users\\\\bing0\\\\Dropbox\\\\7. Syracuse University\\\\Courses\\\\IST 736 Spring 2020\\\\Week 2\\\\HW2\\\\data\\\\train\\\\pos_08.txt', 'C:\\\\Users\\\\bing0\\\\Dropbox\\\\7. Syracuse University\\\\Courses\\\\IST 736 Spring 2020\\\\Week 2\\\\HW2\\\\data\\\\train\\\\pos_09.txt', 'C:\\\\Users\\\\bing0\\\\Dropbox\\\\7. Syracuse University\\\\Courses\\\\IST 736 Spring 2020\\\\Week 2\\\\HW2\\\\data\\\\train\\\\pos_10.txt']\n",
      "\n",
      "Filename for train: \n",
      "['neg_01', 'neg_02', 'neg_03', 'neg_04', 'neg_05', 'neg_06', 'neg_07', 'neg_08', 'neg_09', 'neg_10', 'pos_01', 'pos_02', 'pos_03', 'pos_04', 'pos_05', 'pos_06', 'pos_07', 'pos_08', 'pos_09', 'pos_10']\n",
      "\n",
      "## test: \n",
      "\n",
      "C:\\Users\\bing0\\Dropbox\\7. Syracuse University\\Courses\\IST 736 Spring 2020\\Week 2\\HW2\\data\\test\\neg_01.txt\n",
      "C:\\Users\\bing0\\Dropbox\\7. Syracuse University\\Courses\\IST 736 Spring 2020\\Week 2\\HW2\\data\\test\\neg_02.txt\n",
      "C:\\Users\\bing0\\Dropbox\\7. Syracuse University\\Courses\\IST 736 Spring 2020\\Week 2\\HW2\\data\\test\\neg_03.txt\n",
      "C:\\Users\\bing0\\Dropbox\\7. Syracuse University\\Courses\\IST 736 Spring 2020\\Week 2\\HW2\\data\\test\\neg_04.txt\n",
      "C:\\Users\\bing0\\Dropbox\\7. Syracuse University\\Courses\\IST 736 Spring 2020\\Week 2\\HW2\\data\\test\\neg_05.txt\n",
      "C:\\Users\\bing0\\Dropbox\\7. Syracuse University\\Courses\\IST 736 Spring 2020\\Week 2\\HW2\\data\\test\\neg_06.txt\n",
      "C:\\Users\\bing0\\Dropbox\\7. Syracuse University\\Courses\\IST 736 Spring 2020\\Week 2\\HW2\\data\\test\\neg_07.txt\n",
      "C:\\Users\\bing0\\Dropbox\\7. Syracuse University\\Courses\\IST 736 Spring 2020\\Week 2\\HW2\\data\\test\\neg_08.txt\n",
      "C:\\Users\\bing0\\Dropbox\\7. Syracuse University\\Courses\\IST 736 Spring 2020\\Week 2\\HW2\\data\\test\\neg_09.txt\n",
      "C:\\Users\\bing0\\Dropbox\\7. Syracuse University\\Courses\\IST 736 Spring 2020\\Week 2\\HW2\\data\\test\\neg_10.txt\n",
      "C:\\Users\\bing0\\Dropbox\\7. Syracuse University\\Courses\\IST 736 Spring 2020\\Week 2\\HW2\\data\\test\\pos_01.txt\n",
      "C:\\Users\\bing0\\Dropbox\\7. Syracuse University\\Courses\\IST 736 Spring 2020\\Week 2\\HW2\\data\\test\\pos_02.txt\n",
      "C:\\Users\\bing0\\Dropbox\\7. Syracuse University\\Courses\\IST 736 Spring 2020\\Week 2\\HW2\\data\\test\\pos_03.txt\n",
      "C:\\Users\\bing0\\Dropbox\\7. Syracuse University\\Courses\\IST 736 Spring 2020\\Week 2\\HW2\\data\\test\\pos_04.txt\n",
      "C:\\Users\\bing0\\Dropbox\\7. Syracuse University\\Courses\\IST 736 Spring 2020\\Week 2\\HW2\\data\\test\\pos_05.txt\n",
      "C:\\Users\\bing0\\Dropbox\\7. Syracuse University\\Courses\\IST 736 Spring 2020\\Week 2\\HW2\\data\\test\\pos_06.txt\n",
      "C:\\Users\\bing0\\Dropbox\\7. Syracuse University\\Courses\\IST 736 Spring 2020\\Week 2\\HW2\\data\\test\\pos_07.txt\n",
      "C:\\Users\\bing0\\Dropbox\\7. Syracuse University\\Courses\\IST 736 Spring 2020\\Week 2\\HW2\\data\\test\\pos_08.txt\n",
      "C:\\Users\\bing0\\Dropbox\\7. Syracuse University\\Courses\\IST 736 Spring 2020\\Week 2\\HW2\\data\\test\\pos_09.txt\n",
      "C:\\Users\\bing0\\Dropbox\\7. Syracuse University\\Courses\\IST 736 Spring 2020\\Week 2\\HW2\\data\\test\\pos_10.txt\n",
      "\n",
      "full list...\n",
      "\n",
      "Path for test: \n",
      "['C:\\\\Users\\\\bing0\\\\Dropbox\\\\7. Syracuse University\\\\Courses\\\\IST 736 Spring 2020\\\\Week 2\\\\HW2\\\\data\\\\test\\\\neg_01.txt', 'C:\\\\Users\\\\bing0\\\\Dropbox\\\\7. Syracuse University\\\\Courses\\\\IST 736 Spring 2020\\\\Week 2\\\\HW2\\\\data\\\\test\\\\neg_02.txt', 'C:\\\\Users\\\\bing0\\\\Dropbox\\\\7. Syracuse University\\\\Courses\\\\IST 736 Spring 2020\\\\Week 2\\\\HW2\\\\data\\\\test\\\\neg_03.txt', 'C:\\\\Users\\\\bing0\\\\Dropbox\\\\7. Syracuse University\\\\Courses\\\\IST 736 Spring 2020\\\\Week 2\\\\HW2\\\\data\\\\test\\\\neg_04.txt', 'C:\\\\Users\\\\bing0\\\\Dropbox\\\\7. Syracuse University\\\\Courses\\\\IST 736 Spring 2020\\\\Week 2\\\\HW2\\\\data\\\\test\\\\neg_05.txt', 'C:\\\\Users\\\\bing0\\\\Dropbox\\\\7. Syracuse University\\\\Courses\\\\IST 736 Spring 2020\\\\Week 2\\\\HW2\\\\data\\\\test\\\\neg_06.txt', 'C:\\\\Users\\\\bing0\\\\Dropbox\\\\7. Syracuse University\\\\Courses\\\\IST 736 Spring 2020\\\\Week 2\\\\HW2\\\\data\\\\test\\\\neg_07.txt', 'C:\\\\Users\\\\bing0\\\\Dropbox\\\\7. Syracuse University\\\\Courses\\\\IST 736 Spring 2020\\\\Week 2\\\\HW2\\\\data\\\\test\\\\neg_08.txt', 'C:\\\\Users\\\\bing0\\\\Dropbox\\\\7. Syracuse University\\\\Courses\\\\IST 736 Spring 2020\\\\Week 2\\\\HW2\\\\data\\\\test\\\\neg_09.txt', 'C:\\\\Users\\\\bing0\\\\Dropbox\\\\7. Syracuse University\\\\Courses\\\\IST 736 Spring 2020\\\\Week 2\\\\HW2\\\\data\\\\test\\\\neg_10.txt', 'C:\\\\Users\\\\bing0\\\\Dropbox\\\\7. Syracuse University\\\\Courses\\\\IST 736 Spring 2020\\\\Week 2\\\\HW2\\\\data\\\\test\\\\pos_01.txt', 'C:\\\\Users\\\\bing0\\\\Dropbox\\\\7. Syracuse University\\\\Courses\\\\IST 736 Spring 2020\\\\Week 2\\\\HW2\\\\data\\\\test\\\\pos_02.txt', 'C:\\\\Users\\\\bing0\\\\Dropbox\\\\7. Syracuse University\\\\Courses\\\\IST 736 Spring 2020\\\\Week 2\\\\HW2\\\\data\\\\test\\\\pos_03.txt', 'C:\\\\Users\\\\bing0\\\\Dropbox\\\\7. Syracuse University\\\\Courses\\\\IST 736 Spring 2020\\\\Week 2\\\\HW2\\\\data\\\\test\\\\pos_04.txt', 'C:\\\\Users\\\\bing0\\\\Dropbox\\\\7. Syracuse University\\\\Courses\\\\IST 736 Spring 2020\\\\Week 2\\\\HW2\\\\data\\\\test\\\\pos_05.txt', 'C:\\\\Users\\\\bing0\\\\Dropbox\\\\7. Syracuse University\\\\Courses\\\\IST 736 Spring 2020\\\\Week 2\\\\HW2\\\\data\\\\test\\\\pos_06.txt', 'C:\\\\Users\\\\bing0\\\\Dropbox\\\\7. Syracuse University\\\\Courses\\\\IST 736 Spring 2020\\\\Week 2\\\\HW2\\\\data\\\\test\\\\pos_07.txt', 'C:\\\\Users\\\\bing0\\\\Dropbox\\\\7. Syracuse University\\\\Courses\\\\IST 736 Spring 2020\\\\Week 2\\\\HW2\\\\data\\\\test\\\\pos_08.txt', 'C:\\\\Users\\\\bing0\\\\Dropbox\\\\7. Syracuse University\\\\Courses\\\\IST 736 Spring 2020\\\\Week 2\\\\HW2\\\\data\\\\test\\\\pos_09.txt', 'C:\\\\Users\\\\bing0\\\\Dropbox\\\\7. Syracuse University\\\\Courses\\\\IST 736 Spring 2020\\\\Week 2\\\\HW2\\\\data\\\\test\\\\pos_10.txt']\n",
      "\n",
      "Filename for test: \n",
      "['neg_01', 'neg_02', 'neg_03', 'neg_04', 'neg_05', 'neg_06', 'neg_07', 'neg_08', 'neg_09', 'neg_10', 'pos_01', 'pos_02', 'pos_03', 'pos_04', 'pos_05', 'pos_06', 'pos_07', 'pos_08', 'pos_09', 'pos_10']\n",
      "\n"
     ]
    }
   ],
   "source": [
    "## When using CountVecotrizer with \"filename\", you need the COMPLETE PATHS\n",
    "## A list of complete paths needs to be obtained in order to use CountVecotrizer with \"filename\"\n",
    "\n",
    "print(f'## train: \\n')\n",
    "#- training set\n",
    "train_ListOfCompleteFilePaths=[]\n",
    "train_ListOfJustFileNames=[]\n",
    "for name in train_FileNameList:\n",
    "    print(f'{train_path}\\{name}')\n",
    "    temp_path = f'{train_path}\\{name}'\n",
    "    \n",
    "    nextnameL=name.split(\".\")   # split returns a list \n",
    "    nextname=nextnameL[0]   # remove the file extension with the file name as label\n",
    "    \n",
    "    train_ListOfCompleteFilePaths.append(temp_path)\n",
    "    train_ListOfJustFileNames.append(nextname)\n",
    "    \n",
    "print(\"\\nfull list...\\n\")\n",
    "print(f'Path for train: \\n{train_ListOfCompleteFilePaths}\\n')\n",
    "print(f'Filename for train: \\n{train_ListOfJustFileNames}\\n')\n",
    "\n",
    "\n",
    "print(f'## test: \\n')\n",
    "#- test set\n",
    "test_ListOfCompleteFilePaths=[]\n",
    "test_ListOfJustFileNames=[]\n",
    "for name in test_FileNameList:\n",
    "    print(f'{test_path}\\{name}')\n",
    "    temp_path = f'{test_path}\\{name}'\n",
    "    \n",
    "    nextnameL=name.split(\".\")   # split returns a list \n",
    "    nextname=nextnameL[0]   # remove the file extension with the file name as label\n",
    "    \n",
    "    test_ListOfCompleteFilePaths.append(temp_path)\n",
    "    test_ListOfJustFileNames.append(nextname)\n",
    "    \n",
    "print(\"\\nfull list...\\n\")\n",
    "print(f'Path for test: \\n{test_ListOfCompleteFilePaths}\\n')\n",
    "print(f'Filename for test: \\n{test_ListOfJustFileNames}\\n')"
   ]
  },
  {
   "cell_type": "markdown",
   "metadata": {},
   "source": [
    "#### All dataset"
   ]
  },
  {
   "cell_type": "code",
   "execution_count": 4,
   "metadata": {},
   "outputs": [
    {
     "name": "stdout",
     "output_type": "stream",
     "text": [
      "Complete path for entire dataset: \n",
      "['C:\\\\Users\\\\bing0\\\\Dropbox\\\\7. Syracuse University\\\\Courses\\\\IST 736 Spring 2020\\\\Week 2\\\\HW2\\\\data\\\\train\\\\neg_01.txt', 'C:\\\\Users\\\\bing0\\\\Dropbox\\\\7. Syracuse University\\\\Courses\\\\IST 736 Spring 2020\\\\Week 2\\\\HW2\\\\data\\\\train\\\\neg_02.txt', 'C:\\\\Users\\\\bing0\\\\Dropbox\\\\7. Syracuse University\\\\Courses\\\\IST 736 Spring 2020\\\\Week 2\\\\HW2\\\\data\\\\train\\\\neg_03.txt', 'C:\\\\Users\\\\bing0\\\\Dropbox\\\\7. Syracuse University\\\\Courses\\\\IST 736 Spring 2020\\\\Week 2\\\\HW2\\\\data\\\\train\\\\neg_04.txt', 'C:\\\\Users\\\\bing0\\\\Dropbox\\\\7. Syracuse University\\\\Courses\\\\IST 736 Spring 2020\\\\Week 2\\\\HW2\\\\data\\\\train\\\\neg_05.txt', 'C:\\\\Users\\\\bing0\\\\Dropbox\\\\7. Syracuse University\\\\Courses\\\\IST 736 Spring 2020\\\\Week 2\\\\HW2\\\\data\\\\train\\\\neg_06.txt', 'C:\\\\Users\\\\bing0\\\\Dropbox\\\\7. Syracuse University\\\\Courses\\\\IST 736 Spring 2020\\\\Week 2\\\\HW2\\\\data\\\\train\\\\neg_07.txt', 'C:\\\\Users\\\\bing0\\\\Dropbox\\\\7. Syracuse University\\\\Courses\\\\IST 736 Spring 2020\\\\Week 2\\\\HW2\\\\data\\\\train\\\\neg_08.txt', 'C:\\\\Users\\\\bing0\\\\Dropbox\\\\7. Syracuse University\\\\Courses\\\\IST 736 Spring 2020\\\\Week 2\\\\HW2\\\\data\\\\train\\\\neg_09.txt', 'C:\\\\Users\\\\bing0\\\\Dropbox\\\\7. Syracuse University\\\\Courses\\\\IST 736 Spring 2020\\\\Week 2\\\\HW2\\\\data\\\\train\\\\neg_10.txt', 'C:\\\\Users\\\\bing0\\\\Dropbox\\\\7. Syracuse University\\\\Courses\\\\IST 736 Spring 2020\\\\Week 2\\\\HW2\\\\data\\\\train\\\\pos_01.txt', 'C:\\\\Users\\\\bing0\\\\Dropbox\\\\7. Syracuse University\\\\Courses\\\\IST 736 Spring 2020\\\\Week 2\\\\HW2\\\\data\\\\train\\\\pos_02.txt', 'C:\\\\Users\\\\bing0\\\\Dropbox\\\\7. Syracuse University\\\\Courses\\\\IST 736 Spring 2020\\\\Week 2\\\\HW2\\\\data\\\\train\\\\pos_03.txt', 'C:\\\\Users\\\\bing0\\\\Dropbox\\\\7. Syracuse University\\\\Courses\\\\IST 736 Spring 2020\\\\Week 2\\\\HW2\\\\data\\\\train\\\\pos_04.txt', 'C:\\\\Users\\\\bing0\\\\Dropbox\\\\7. Syracuse University\\\\Courses\\\\IST 736 Spring 2020\\\\Week 2\\\\HW2\\\\data\\\\train\\\\pos_05.txt', 'C:\\\\Users\\\\bing0\\\\Dropbox\\\\7. Syracuse University\\\\Courses\\\\IST 736 Spring 2020\\\\Week 2\\\\HW2\\\\data\\\\train\\\\pos_06.txt', 'C:\\\\Users\\\\bing0\\\\Dropbox\\\\7. Syracuse University\\\\Courses\\\\IST 736 Spring 2020\\\\Week 2\\\\HW2\\\\data\\\\train\\\\pos_07.txt', 'C:\\\\Users\\\\bing0\\\\Dropbox\\\\7. Syracuse University\\\\Courses\\\\IST 736 Spring 2020\\\\Week 2\\\\HW2\\\\data\\\\train\\\\pos_08.txt', 'C:\\\\Users\\\\bing0\\\\Dropbox\\\\7. Syracuse University\\\\Courses\\\\IST 736 Spring 2020\\\\Week 2\\\\HW2\\\\data\\\\train\\\\pos_09.txt', 'C:\\\\Users\\\\bing0\\\\Dropbox\\\\7. Syracuse University\\\\Courses\\\\IST 736 Spring 2020\\\\Week 2\\\\HW2\\\\data\\\\train\\\\pos_10.txt', 'C:\\\\Users\\\\bing0\\\\Dropbox\\\\7. Syracuse University\\\\Courses\\\\IST 736 Spring 2020\\\\Week 2\\\\HW2\\\\data\\\\test\\\\neg_01.txt', 'C:\\\\Users\\\\bing0\\\\Dropbox\\\\7. Syracuse University\\\\Courses\\\\IST 736 Spring 2020\\\\Week 2\\\\HW2\\\\data\\\\test\\\\neg_02.txt', 'C:\\\\Users\\\\bing0\\\\Dropbox\\\\7. Syracuse University\\\\Courses\\\\IST 736 Spring 2020\\\\Week 2\\\\HW2\\\\data\\\\test\\\\neg_03.txt', 'C:\\\\Users\\\\bing0\\\\Dropbox\\\\7. Syracuse University\\\\Courses\\\\IST 736 Spring 2020\\\\Week 2\\\\HW2\\\\data\\\\test\\\\neg_04.txt', 'C:\\\\Users\\\\bing0\\\\Dropbox\\\\7. Syracuse University\\\\Courses\\\\IST 736 Spring 2020\\\\Week 2\\\\HW2\\\\data\\\\test\\\\neg_05.txt', 'C:\\\\Users\\\\bing0\\\\Dropbox\\\\7. Syracuse University\\\\Courses\\\\IST 736 Spring 2020\\\\Week 2\\\\HW2\\\\data\\\\test\\\\neg_06.txt', 'C:\\\\Users\\\\bing0\\\\Dropbox\\\\7. Syracuse University\\\\Courses\\\\IST 736 Spring 2020\\\\Week 2\\\\HW2\\\\data\\\\test\\\\neg_07.txt', 'C:\\\\Users\\\\bing0\\\\Dropbox\\\\7. Syracuse University\\\\Courses\\\\IST 736 Spring 2020\\\\Week 2\\\\HW2\\\\data\\\\test\\\\neg_08.txt', 'C:\\\\Users\\\\bing0\\\\Dropbox\\\\7. Syracuse University\\\\Courses\\\\IST 736 Spring 2020\\\\Week 2\\\\HW2\\\\data\\\\test\\\\neg_09.txt', 'C:\\\\Users\\\\bing0\\\\Dropbox\\\\7. Syracuse University\\\\Courses\\\\IST 736 Spring 2020\\\\Week 2\\\\HW2\\\\data\\\\test\\\\neg_10.txt', 'C:\\\\Users\\\\bing0\\\\Dropbox\\\\7. Syracuse University\\\\Courses\\\\IST 736 Spring 2020\\\\Week 2\\\\HW2\\\\data\\\\test\\\\pos_01.txt', 'C:\\\\Users\\\\bing0\\\\Dropbox\\\\7. Syracuse University\\\\Courses\\\\IST 736 Spring 2020\\\\Week 2\\\\HW2\\\\data\\\\test\\\\pos_02.txt', 'C:\\\\Users\\\\bing0\\\\Dropbox\\\\7. Syracuse University\\\\Courses\\\\IST 736 Spring 2020\\\\Week 2\\\\HW2\\\\data\\\\test\\\\pos_03.txt', 'C:\\\\Users\\\\bing0\\\\Dropbox\\\\7. Syracuse University\\\\Courses\\\\IST 736 Spring 2020\\\\Week 2\\\\HW2\\\\data\\\\test\\\\pos_04.txt', 'C:\\\\Users\\\\bing0\\\\Dropbox\\\\7. Syracuse University\\\\Courses\\\\IST 736 Spring 2020\\\\Week 2\\\\HW2\\\\data\\\\test\\\\pos_05.txt', 'C:\\\\Users\\\\bing0\\\\Dropbox\\\\7. Syracuse University\\\\Courses\\\\IST 736 Spring 2020\\\\Week 2\\\\HW2\\\\data\\\\test\\\\pos_06.txt', 'C:\\\\Users\\\\bing0\\\\Dropbox\\\\7. Syracuse University\\\\Courses\\\\IST 736 Spring 2020\\\\Week 2\\\\HW2\\\\data\\\\test\\\\pos_07.txt', 'C:\\\\Users\\\\bing0\\\\Dropbox\\\\7. Syracuse University\\\\Courses\\\\IST 736 Spring 2020\\\\Week 2\\\\HW2\\\\data\\\\test\\\\pos_08.txt', 'C:\\\\Users\\\\bing0\\\\Dropbox\\\\7. Syracuse University\\\\Courses\\\\IST 736 Spring 2020\\\\Week 2\\\\HW2\\\\data\\\\test\\\\pos_09.txt', 'C:\\\\Users\\\\bing0\\\\Dropbox\\\\7. Syracuse University\\\\Courses\\\\IST 736 Spring 2020\\\\Week 2\\\\HW2\\\\data\\\\test\\\\pos_10.txt']\n",
      "\n",
      "Complete filename for entire dataset: \n",
      "['neg_01', 'neg_02', 'neg_03', 'neg_04', 'neg_05', 'neg_06', 'neg_07', 'neg_08', 'neg_09', 'neg_10', 'pos_01', 'pos_02', 'pos_03', 'pos_04', 'pos_05', 'pos_06', 'pos_07', 'pos_08', 'pos_09', 'pos_10', 'neg_01', 'neg_02', 'neg_03', 'neg_04', 'neg_05', 'neg_06', 'neg_07', 'neg_08', 'neg_09', 'neg_10', 'pos_01', 'pos_02', 'pos_03', 'pos_04', 'pos_05', 'pos_06', 'pos_07', 'pos_08', 'pos_09', 'pos_10']\n",
      "\n"
     ]
    }
   ],
   "source": [
    "## combine train and test as an entire dataset\n",
    "\n",
    "# File path\n",
    "ListOfCompleteFilePaths = train_ListOfCompleteFilePaths + test_ListOfCompleteFilePaths\n",
    "print(f'Complete path for entire dataset: \\n{ListOfCompleteFilePaths}\\n')\n",
    "\n",
    "# Filename\n",
    "ListOfJustFileNames = train_ListOfJustFileNames + test_ListOfJustFileNames\n",
    "print(f'Complete filename for entire dataset: \\n{ListOfJustFileNames}\\n')\n"
   ]
  },
  {
   "cell_type": "markdown",
   "metadata": {},
   "source": [
    "### Vectorization"
   ]
  },
  {
   "cell_type": "code",
   "execution_count": 5,
   "metadata": {},
   "outputs": [
    {
     "name": "stdout",
     "output_type": "stream",
     "text": [
      "Tpye of review_dtm : <class 'scipy.sparse.csr.csr_matrix'>\n",
      "\n",
      "Tpye of df : <class 'pandas.core.frame.DataFrame'>\n",
      "\n",
      "Shape of df: (40, 1990)\n",
      "\n"
     ]
    },
    {
     "data": {
      "text/html": [
       "<div>\n",
       "<style scoped>\n",
       "    .dataframe tbody tr th:only-of-type {\n",
       "        vertical-align: middle;\n",
       "    }\n",
       "\n",
       "    .dataframe tbody tr th {\n",
       "        vertical-align: top;\n",
       "    }\n",
       "\n",
       "    .dataframe thead th {\n",
       "        text-align: right;\n",
       "    }\n",
       "</style>\n",
       "<table border=\"1\" class=\"dataframe\">\n",
       "  <thead>\n",
       "    <tr style=\"text-align: center;\">\n",
       "      <th></th>\n",
       "      <th>10</th>\n",
       "      <th>100th</th>\n",
       "      <th>12</th>\n",
       "      <th>15</th>\n",
       "      <th>1940s</th>\n",
       "      <th>1960s</th>\n",
       "      <th>1970</th>\n",
       "      <th>1982</th>\n",
       "      <th>1million</th>\n",
       "      <th>1st</th>\n",
       "      <th>...</th>\n",
       "      <th>you</th>\n",
       "      <th>young</th>\n",
       "      <th>younger</th>\n",
       "      <th>your</th>\n",
       "      <th>yourself</th>\n",
       "      <th>yup</th>\n",
       "      <th>zeppelin</th>\n",
       "      <th>zero</th>\n",
       "      <th>zsigmond</th>\n",
       "      <th>label</th>\n",
       "    </tr>\n",
       "  </thead>\n",
       "  <tbody>\n",
       "    <tr>\n",
       "      <th>0</th>\n",
       "      <td>0</td>\n",
       "      <td>0</td>\n",
       "      <td>0</td>\n",
       "      <td>0</td>\n",
       "      <td>0</td>\n",
       "      <td>0</td>\n",
       "      <td>0</td>\n",
       "      <td>0</td>\n",
       "      <td>0</td>\n",
       "      <td>0</td>\n",
       "      <td>...</td>\n",
       "      <td>0</td>\n",
       "      <td>0</td>\n",
       "      <td>0</td>\n",
       "      <td>0</td>\n",
       "      <td>0</td>\n",
       "      <td>0</td>\n",
       "      <td>0</td>\n",
       "      <td>0</td>\n",
       "      <td>0</td>\n",
       "      <td>neg</td>\n",
       "    </tr>\n",
       "    <tr>\n",
       "      <th>1</th>\n",
       "      <td>1</td>\n",
       "      <td>0</td>\n",
       "      <td>0</td>\n",
       "      <td>0</td>\n",
       "      <td>0</td>\n",
       "      <td>0</td>\n",
       "      <td>0</td>\n",
       "      <td>0</td>\n",
       "      <td>0</td>\n",
       "      <td>0</td>\n",
       "      <td>...</td>\n",
       "      <td>0</td>\n",
       "      <td>0</td>\n",
       "      <td>0</td>\n",
       "      <td>0</td>\n",
       "      <td>0</td>\n",
       "      <td>0</td>\n",
       "      <td>0</td>\n",
       "      <td>1</td>\n",
       "      <td>0</td>\n",
       "      <td>neg</td>\n",
       "    </tr>\n",
       "    <tr>\n",
       "      <th>2</th>\n",
       "      <td>0</td>\n",
       "      <td>0</td>\n",
       "      <td>0</td>\n",
       "      <td>0</td>\n",
       "      <td>0</td>\n",
       "      <td>0</td>\n",
       "      <td>0</td>\n",
       "      <td>0</td>\n",
       "      <td>0</td>\n",
       "      <td>0</td>\n",
       "      <td>...</td>\n",
       "      <td>2</td>\n",
       "      <td>0</td>\n",
       "      <td>0</td>\n",
       "      <td>0</td>\n",
       "      <td>1</td>\n",
       "      <td>0</td>\n",
       "      <td>0</td>\n",
       "      <td>0</td>\n",
       "      <td>0</td>\n",
       "      <td>neg</td>\n",
       "    </tr>\n",
       "    <tr>\n",
       "      <th>3</th>\n",
       "      <td>0</td>\n",
       "      <td>0</td>\n",
       "      <td>0</td>\n",
       "      <td>0</td>\n",
       "      <td>0</td>\n",
       "      <td>0</td>\n",
       "      <td>0</td>\n",
       "      <td>0</td>\n",
       "      <td>0</td>\n",
       "      <td>0</td>\n",
       "      <td>...</td>\n",
       "      <td>0</td>\n",
       "      <td>0</td>\n",
       "      <td>0</td>\n",
       "      <td>0</td>\n",
       "      <td>0</td>\n",
       "      <td>0</td>\n",
       "      <td>0</td>\n",
       "      <td>0</td>\n",
       "      <td>0</td>\n",
       "      <td>neg</td>\n",
       "    </tr>\n",
       "    <tr>\n",
       "      <th>4</th>\n",
       "      <td>0</td>\n",
       "      <td>0</td>\n",
       "      <td>0</td>\n",
       "      <td>0</td>\n",
       "      <td>0</td>\n",
       "      <td>0</td>\n",
       "      <td>0</td>\n",
       "      <td>0</td>\n",
       "      <td>0</td>\n",
       "      <td>0</td>\n",
       "      <td>...</td>\n",
       "      <td>1</td>\n",
       "      <td>0</td>\n",
       "      <td>0</td>\n",
       "      <td>2</td>\n",
       "      <td>0</td>\n",
       "      <td>0</td>\n",
       "      <td>0</td>\n",
       "      <td>0</td>\n",
       "      <td>0</td>\n",
       "      <td>neg</td>\n",
       "    </tr>\n",
       "  </tbody>\n",
       "</table>\n",
       "<p>5 rows × 1990 columns</p>\n",
       "</div>"
      ],
      "text/plain": [
       "   10  100th  12  15  1940s  1960s  1970  1982  1million  1st  ...  you  \\\n",
       "0   0    0     0   0    0      0      0     0       0      0   ...   0    \n",
       "1   1    0     0   0    0      0      0     0       0      0   ...   0    \n",
       "2   0    0     0   0    0      0      0     0       0      0   ...   2    \n",
       "3   0    0     0   0    0      0      0     0       0      0   ...   0    \n",
       "4   0    0     0   0    0      0      0     0       0      0   ...   1    \n",
       "\n",
       "   young  younger  your  yourself  yup  zeppelin  zero  zsigmond  label  \n",
       "0    0       0       0       0      0       0       0       0      neg   \n",
       "1    0       0       0       0      0       0       1       0      neg   \n",
       "2    0       0       0       1      0       0       0       0      neg   \n",
       "3    0       0       0       0      0       0       0       0      neg   \n",
       "4    0       0       2       0      0       0       0       0      neg   \n",
       "\n",
       "[5 rows x 1990 columns]"
      ]
     },
     "execution_count": 5,
     "metadata": {},
     "output_type": "execute_result"
    }
   ],
   "source": [
    "# instantiate the CountVectorizer with parameter setting, input='filename'\n",
    "vect=CountVectorizer(input='filename')\n",
    "review_dtm = vect.fit_transform(ListOfCompleteFilePaths)\n",
    "print(f'Tpye of review_dtm : {type(review_dtm)}\\n')\n",
    "\n",
    "df = pd.DataFrame(review_dtm.toarray(),columns=vect.get_feature_names())\n",
    "df['label']=ListOfJustFileNames\n",
    "df['label']=df.label.apply(lambda string: string.split('_')[0])\n",
    "print(f'Tpye of df : {type(df)}\\n')\n",
    "print('Shape of df: {}\\n'.format(df.shape))\n",
    "df.head()\n"
   ]
  },
  {
   "cell_type": "code",
   "execution_count": 6,
   "metadata": {},
   "outputs": [
    {
     "data": {
      "text/plain": [
       "CountVectorizer(analyzer='word', binary=False, decode_error='strict',\n",
       "                dtype=<class 'numpy.int64'>, encoding='utf-8', input='filename',\n",
       "                lowercase=True, max_df=1.0, max_features=None, min_df=1,\n",
       "                ngram_range=(1, 1), preprocessor=None, stop_words=None,\n",
       "                strip_accents=None, token_pattern='(?u)\\\\b\\\\w\\\\w+\\\\b',\n",
       "                tokenizer=None, vocabulary=None)"
      ]
     },
     "execution_count": 6,
     "metadata": {},
     "output_type": "execute_result"
    }
   ],
   "source": [
    "vect"
   ]
  },
  {
   "cell_type": "code",
   "execution_count": 7,
   "metadata": {},
   "outputs": [
    {
     "data": {
      "image/png": "[encoded data removed]",
      "text/plain": [
       "<Figure size 576x432 with 1 Axes>"
      ]
     },
     "metadata": {
      "needs_background": "light"
     },
     "output_type": "display_data"
    }
   ],
   "source": [
    "df.label.value_counts().plot(kind='bar', figsize=(8,6), fontsize=11);\n",
    "plt.title('Dataset Output Distribution', size=12)\n",
    "plt.xlabel('label')\n",
    "plt.ylabel('Counts')\n",
    "# add annotation on each bar\n",
    "for i in range(2):\n",
    "    plt.text(x = i - 0.05 , y = df.label.value_counts().values[i] + 0.2, \n",
    "             s = df.label.value_counts().values[i])\n",
    "plt.show()"
   ]
  }
 ],
 "metadata": {
  "kernelspec": {
   "display_name": "Python 3",
   "language": "python",
   "name": "python3"
  },
  "language_info": {
   "codemirror_mode": {
    "name": "ipython",
    "version": 3
   },
   "file_extension": ".py",
   "mimetype": "text/x-python",
   "name": "python",
   "nbconvert_exporter": "python",
   "pygments_lexer": "ipython3",
   "version": "3.7.3"
  }
 },
 "nbformat": 4,
 "nbformat_minor": 2
}
