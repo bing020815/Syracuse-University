{
 "cells": [
  {
   "cell_type": "markdown",
   "metadata": {},
   "source": [
    "# HW2 Vectorization"
   ]
  },
  {
   "cell_type": "markdown",
   "metadata": {},
   "source": [
    "Create a corpus. Add .txt files to the corpus.   \n",
    "Use Python and CountVectorizer to convert the data (through the appropriate steps) to a dataframe (and to a matrix if you have time).   \n",
    "Use the code example. Include labels in the data frame."
   ]
  },
  {
   "cell_type": "markdown",
   "metadata": {},
   "source": [
    "### Import data"
   ]
  },
  {
   "cell_type": "code",
   "execution_count": 1,
   "metadata": {},
   "outputs": [],
   "source": [
    "import pandas as pd\n",
    "import matplotlib.pyplot as plt\n",
    "import os\n",
    "pd.set_option('display.max_colwidth', 1000)\n",
    "pd.set_option('display.max_rows', 500)\n",
    "pd.set_option('colheader_justify', 'center')"
   ]
  },
  {
   "cell_type": "markdown",
   "metadata": {},
   "source": [
    "training set:"
   ]
  },
  {
   "cell_type": "code",
   "execution_count": 2,
   "metadata": {},
   "outputs": [
    {
     "name": "stdout",
     "output_type": "stream",
     "text": [
      "train_text:\n",
      "['C:\\\\Users\\\\bing0\\\\Dropbox\\\\7. Syracuse University\\\\Courses\\\\IST 736 Spring 2020\\\\Week 2\\\\HW2\\\\data\\\\train\\\\neg_01.txt', 'C:\\\\Users\\\\bing0\\\\Dropbox\\\\7. Syracuse University\\\\Courses\\\\IST 736 Spring 2020\\\\Week 2\\\\HW2\\\\data\\\\train\\\\neg_02.txt', 'C:\\\\Users\\\\bing0\\\\Dropbox\\\\7. Syracuse University\\\\Courses\\\\IST 736 Spring 2020\\\\Week 2\\\\HW2\\\\data\\\\train\\\\neg_03.txt', 'C:\\\\Users\\\\bing0\\\\Dropbox\\\\7. Syracuse University\\\\Courses\\\\IST 736 Spring 2020\\\\Week 2\\\\HW2\\\\data\\\\train\\\\neg_04.txt', 'C:\\\\Users\\\\bing0\\\\Dropbox\\\\7. Syracuse University\\\\Courses\\\\IST 736 Spring 2020\\\\Week 2\\\\HW2\\\\data\\\\train\\\\neg_05.txt', 'C:\\\\Users\\\\bing0\\\\Dropbox\\\\7. Syracuse University\\\\Courses\\\\IST 736 Spring 2020\\\\Week 2\\\\HW2\\\\data\\\\train\\\\neg_06.txt', 'C:\\\\Users\\\\bing0\\\\Dropbox\\\\7. Syracuse University\\\\Courses\\\\IST 736 Spring 2020\\\\Week 2\\\\HW2\\\\data\\\\train\\\\neg_07.txt', 'C:\\\\Users\\\\bing0\\\\Dropbox\\\\7. Syracuse University\\\\Courses\\\\IST 736 Spring 2020\\\\Week 2\\\\HW2\\\\data\\\\train\\\\neg_08.txt', 'C:\\\\Users\\\\bing0\\\\Dropbox\\\\7. Syracuse University\\\\Courses\\\\IST 736 Spring 2020\\\\Week 2\\\\HW2\\\\data\\\\train\\\\neg_09.txt', 'C:\\\\Users\\\\bing0\\\\Dropbox\\\\7. Syracuse University\\\\Courses\\\\IST 736 Spring 2020\\\\Week 2\\\\HW2\\\\data\\\\train\\\\neg_10.txt']\n",
      "\n",
      "test_text:\n",
      "['C:\\\\Users\\\\bing0\\\\Dropbox\\\\7. Syracuse University\\\\Courses\\\\IST 736 Spring 2020\\\\Week 2\\\\HW2\\\\data\\\\test\\\\neg_01.txt', 'C:\\\\Users\\\\bing0\\\\Dropbox\\\\7. Syracuse University\\\\Courses\\\\IST 736 Spring 2020\\\\Week 2\\\\HW2\\\\data\\\\test\\\\neg_02.txt', 'C:\\\\Users\\\\bing0\\\\Dropbox\\\\7. Syracuse University\\\\Courses\\\\IST 736 Spring 2020\\\\Week 2\\\\HW2\\\\data\\\\test\\\\neg_03.txt', 'C:\\\\Users\\\\bing0\\\\Dropbox\\\\7. Syracuse University\\\\Courses\\\\IST 736 Spring 2020\\\\Week 2\\\\HW2\\\\data\\\\test\\\\neg_04.txt', 'C:\\\\Users\\\\bing0\\\\Dropbox\\\\7. Syracuse University\\\\Courses\\\\IST 736 Spring 2020\\\\Week 2\\\\HW2\\\\data\\\\test\\\\neg_05.txt', 'C:\\\\Users\\\\bing0\\\\Dropbox\\\\7. Syracuse University\\\\Courses\\\\IST 736 Spring 2020\\\\Week 2\\\\HW2\\\\data\\\\test\\\\neg_06.txt', 'C:\\\\Users\\\\bing0\\\\Dropbox\\\\7. Syracuse University\\\\Courses\\\\IST 736 Spring 2020\\\\Week 2\\\\HW2\\\\data\\\\test\\\\neg_07.txt', 'C:\\\\Users\\\\bing0\\\\Dropbox\\\\7. Syracuse University\\\\Courses\\\\IST 736 Spring 2020\\\\Week 2\\\\HW2\\\\data\\\\test\\\\neg_08.txt', 'C:\\\\Users\\\\bing0\\\\Dropbox\\\\7. Syracuse University\\\\Courses\\\\IST 736 Spring 2020\\\\Week 2\\\\HW2\\\\data\\\\test\\\\neg_09.txt', 'C:\\\\Users\\\\bing0\\\\Dropbox\\\\7. Syracuse University\\\\Courses\\\\IST 736 Spring 2020\\\\Week 2\\\\HW2\\\\data\\\\test\\\\neg_10.txt']\n"
     ]
    }
   ],
   "source": [
    "# use glob to create a list of train_pos_filenames\n",
    "import glob\n",
    "train_filenames = glob.glob(r'C:\\Users\\bing0\\Dropbox\\7. Syracuse University\\Courses\\IST 736 Spring 2020\\Week 2\\HW2\\data\\train/*.txt')\n",
    "test_filenames = glob.glob(r'C:\\Users\\bing0\\Dropbox\\7. Syracuse University\\Courses\\IST 736 Spring 2020\\Week 2\\HW2\\data\\test/*.txt')\n",
    "print(\"train_text:\")\n",
    "print(train_filenames[:10])\n",
    "print(\"\\ntest_text:\")\n",
    "print(test_filenames[:10])"
   ]
  },
  {
   "cell_type": "code",
   "execution_count": 3,
   "metadata": {},
   "outputs": [
    {
     "name": "stdout",
     "output_type": "stream",
     "text": [
      "20\n",
      "20\n"
     ]
    }
   ],
   "source": [
    "print(len(train_filenames))\n",
    "print(len(test_filenames))"
   ]
  },
  {
   "cell_type": "code",
   "execution_count": 4,
   "metadata": {},
   "outputs": [
    {
     "name": "stdout",
     "output_type": "stream",
     "text": [
      "Wall time: 0 ns\n",
      "train_text:\n",
      "Robert DeNiro plays the most unbelievably intelligent illiterate of all time. This movie is so wasteful of talent, it is truly disgusting. The script is unbelievable. The dialog is unbelievable. Jane Fonda's character is a caricature of herself, and not a funny one. The movie moves at a snail's pace, is photographed in an ill-advised manner, and is insufferably preachy. It also plugs in every cliche in the book. Swoozie Kurtz is excellent in a supporting role, but so what?<br /><br />Equally annoying is this new IMDB rule of requiring ten lines for every review. When a movie is this worthless, it doesn't require ten lines of text to let other readers know that it is a waste of time and tape. Avoid this movie.\n",
      "\n",
      "test_text:\n",
      "This is a pale imitation of 'Officer and a Gentleman.' There is NO chemistry between Kutcher and the unknown woman who plays his love interest. The dialog is wooden, the situations hackneyed. It's too long and the climax is anti-climactic(!). I love the USCG, its men and women are fearless and tough. The action scenes are awesome, but this movie doesn't do much for recruiting, I fear. The script is formulaic, but confusing. Kutcher's character is trying to redeem himself for an accident that wasn't his fault? Costner's is raging against the dying of the light, but why? His 'conflict' with his wife is about as deep as a mud puddle. I saw this sneak preview for free and certainly felt I got my money's worth.\n"
     ]
    }
   ],
   "source": [
    "%time\n",
    "# read the contents of the train_pos files into a list (each list element is one review)\n",
    "train_text = []\n",
    "for filename in train_filenames:\n",
    "    with open(filename, encoding='utf-8') as f:\n",
    "        train_text.append(f.read())\n",
    "print(\"train_text:\")\n",
    "print(train_text[0])\n",
    "\n",
    "test_text = []\n",
    "for filename in test_filenames:\n",
    "    with open(filename, encoding='utf-8') as f:\n",
    "        test_text.append(f.read())\n",
    "print(\"\\ntest_text:\")\n",
    "print(test_text[0])"
   ]
  },
  {
   "cell_type": "code",
   "execution_count": 5,
   "metadata": {},
   "outputs": [],
   "source": [
    "# define function to extract filename\n",
    "def filename_extract(string):\n",
    "    import re\n",
    "    result = re.search(r'([\\w]{3})\\_\\d+\\.txt', string).group(1)\n",
    "    return result"
   ]
  },
  {
   "cell_type": "code",
   "execution_count": 6,
   "metadata": {},
   "outputs": [],
   "source": [
    "# Create dataframe\n",
    "import pandas as pd\n",
    "# convert the lists into a DataFrame\n",
    "train_df = pd.DataFrame({'label':train_filenames, 'reviews':train_text})\n",
    "test_df = pd.DataFrame({'label':test_filenames, 'reviews':test_text})"
   ]
  },
  {
   "cell_type": "code",
   "execution_count": 7,
   "metadata": {},
   "outputs": [],
   "source": [
    "# Create labels\n",
    "import re\n",
    "train_df['label']=train_df.label.map(lambda string: re.search(r'([\\w]{3})\\_\\d+\\.txt', string).group(1))\n",
    "test_df['label']=test_df.label.map(lambda string: re.search(r'([\\w]{3})\\_\\d+\\.txt', string).group(1))"
   ]
  },
  {
   "cell_type": "code",
   "execution_count": 8,
   "metadata": {},
   "outputs": [
    {
     "data": {
      "text/html": [
       "<div>\n",
       "<style scoped>\n",
       "    .dataframe tbody tr th:only-of-type {\n",
       "        vertical-align: middle;\n",
       "    }\n",
       "\n",
       "    .dataframe tbody tr th {\n",
       "        vertical-align: top;\n",
       "    }\n",
       "\n",
       "    .dataframe thead th {\n",
       "        text-align: right;\n",
       "    }\n",
       "</style>\n",
       "<table border=\"1\" class=\"dataframe\">\n",
       "  <thead>\n",
       "    <tr style=\"text-align: center;\">\n",
       "      <th></th>\n",
       "      <th>label</th>\n",
       "      <th>reviews</th>\n",
       "    </tr>\n",
       "  </thead>\n",
       "  <tbody>\n",
       "    <tr>\n",
       "      <th>0</th>\n",
       "      <td>neg</td>\n",
       "      <td>Robert DeNiro plays the most unbelievably intelligent illiterate of all time. This movie is so wasteful of talent, it is truly disgusting. The script is unbelievable. The dialog is unbelievable. Jane Fonda's character is a caricature of herself, and not a funny one. The movie moves at a snail's pace, is photographed in an ill-advised manner, and is insufferably preachy. It also plugs in every cliche in the book. Swoozie Kurtz is excellent in a supporting role, but so what?&lt;br /&gt;&lt;br /&gt;Equally annoying is this new IMDB rule of requiring ten lines for every review. When a movie is this worthless, it doesn't require ten lines of text to let other readers know that it is a waste of time and tape. Avoid this movie.</td>\n",
       "    </tr>\n",
       "    <tr>\n",
       "      <th>1</th>\n",
       "      <td>neg</td>\n",
       "      <td>I saw the capsule comment said \"great acting.\" In my opinion, these are two great actors giving horrible performances, and with zero chemistry with one another, for a great director in his all-time worst effort. Robert De Niro has to be the most ingenious and insightful illiterate of all time. Jane Fonda's performance uncomfortably drifts all over the map as she clearly has no handle on this character, mostly because the character is so poorly written. Molasses-like would be too swift an adjective for this film's excruciating pacing. Although the film's intent is to be an uplifting story of curing illiteracy, watching it is a true \"bummer.\" I give it 1 out of 10, truly one of the worst 20 movies for its budget level that I have ever seen.</td>\n",
       "    </tr>\n",
       "    <tr>\n",
       "      <th>2</th>\n",
       "      <td>neg</td>\n",
       "      <td>If I had not read Pat Barker's 'Union Street' before seeing this film, I would have liked it. Unfortuntately this is not the case. It is actually my kind of film, it is well made, and in no way do I want to say otherwise, but as an adaptation, it fails from every angle.&lt;br /&gt;&lt;br /&gt;The harrowing novel about the reality of living in a northern England working-class area grabbed hold of my heartstrings and refused to let go for weeks after I had finished. I was put through tears, repulsion, shock, anger, sympathy and misery when reading about the women of Union Street. Excellent. A novel that at times I felt I could not read any more of, but I novel I simply couldn't put down. Depressing yes, but utterly gripping.&lt;br /&gt;&lt;br /&gt;The film. Oh dear. Hollywood took Barker's truth and reality, and showered a layer of sweet icing sugar over the top of it. A beautiful film, an inspiring soundtrack, excellent performances, a tale of hope and romance...yes. An adaptation of 'Union Street'...no.&lt;b...</td>\n",
       "    </tr>\n",
       "    <tr>\n",
       "      <th>3</th>\n",
       "      <td>neg</td>\n",
       "      <td>This fanciful horror flick has Vincent Price playing a mad magician that realizes his vocational talents have been sold to another. He devise ways of avenging all those that have wronged him. His master scheme seems to back fire on him.&lt;br /&gt;&lt;br /&gt;Price is a little below par compared to his masterpieces, but is still the only reason to watch this thriller. Supporting cast includes Patrick O'Neal, Mary Murphy, Eva Gabor and Jay Novello.&lt;br /&gt;&lt;br /&gt;</td>\n",
       "    </tr>\n",
       "    <tr>\n",
       "      <th>4</th>\n",
       "      <td>neg</td>\n",
       "      <td>I basically skimmed through the movie but just enough to catch watch the plot was about. To tell you the truth it was kind of boring to me and at some spots it didn't make sense. The only reason I watched this movie in the first place was to see CHACE CRAWFORD!!! He is so hot, but in this movie his hair was kind of weird. But still hot.&lt;br /&gt;&lt;br /&gt;However, despite how hot CHACE is, it really did not make up for the film. I guess the plot isn't that bad but what really threw me over was the fact that they cuss in like every sentence. Is it that hard to express your anger without saying the F word every time?The cussing was annoying and the whole flashy, camera shaking thing gave me a headache.&lt;br /&gt;&lt;br /&gt;All in all, although the plot was OK, I found the film to be a bore and over dramatic. That's why I only cut to scenes with CHACE in it. LOL Anyways, not worth renting unless your a die-hard fan of a specific cast member like I was. Oh yeah the cast was Hot. The girls were HOT!!! Bu...</td>\n",
       "    </tr>\n",
       "  </tbody>\n",
       "</table>\n",
       "</div>"
      ],
      "text/plain": [
       "  label  \\\n",
       "0   neg   \n",
       "1   neg   \n",
       "2   neg   \n",
       "3   neg   \n",
       "4   neg   \n",
       "\n",
       "                                                                                                                                                                                                                                                                                                                                                                                                                                                                                                                  reviews                                                                                                                                                                                                                                                                                                                                                                                                                                                                                                                   \n",
       "0                                                                                                                                                                                                                                                                                           Robert DeNiro plays the most unbelievably intelligent illiterate of all time. This movie is so wasteful of talent, it is truly disgusting. The script is unbelievable. The dialog is unbelievable. Jane Fonda's character is a caricature of herself, and not a funny one. The movie moves at a snail's pace, is photographed in an ill-advised manner, and is insufferably preachy. It also plugs in every cliche in the book. Swoozie Kurtz is excellent in a supporting role, but so what?<br /><br />Equally annoying is this new IMDB rule of requiring ten lines for every review. When a movie is this worthless, it doesn't require ten lines of text to let other readers know that it is a waste of time and tape. Avoid this movie.  \n",
       "1                                                                                                                                                                                                                                                             I saw the capsule comment said \"great acting.\" In my opinion, these are two great actors giving horrible performances, and with zero chemistry with one another, for a great director in his all-time worst effort. Robert De Niro has to be the most ingenious and insightful illiterate of all time. Jane Fonda's performance uncomfortably drifts all over the map as she clearly has no handle on this character, mostly because the character is so poorly written. Molasses-like would be too swift an adjective for this film's excruciating pacing. Although the film's intent is to be an uplifting story of curing illiteracy, watching it is a true \"bummer.\" I give it 1 out of 10, truly one of the worst 20 movies for its budget level that I have ever seen.  \n",
       "2  If I had not read Pat Barker's 'Union Street' before seeing this film, I would have liked it. Unfortuntately this is not the case. It is actually my kind of film, it is well made, and in no way do I want to say otherwise, but as an adaptation, it fails from every angle.<br /><br />The harrowing novel about the reality of living in a northern England working-class area grabbed hold of my heartstrings and refused to let go for weeks after I had finished. I was put through tears, repulsion, shock, anger, sympathy and misery when reading about the women of Union Street. Excellent. A novel that at times I felt I could not read any more of, but I novel I simply couldn't put down. Depressing yes, but utterly gripping.<br /><br />The film. Oh dear. Hollywood took Barker's truth and reality, and showered a layer of sweet icing sugar over the top of it. A beautiful film, an inspiring soundtrack, excellent performances, a tale of hope and romance...yes. An adaptation of 'Union Street'...no.<b...  \n",
       "3                                                                                                                                                                                                                                                                                                                                                                                                                                                                                                                                                                      This fanciful horror flick has Vincent Price playing a mad magician that realizes his vocational talents have been sold to another. He devise ways of avenging all those that have wronged him. His master scheme seems to back fire on him.<br /><br />Price is a little below par compared to his masterpieces, but is still the only reason to watch this thriller. Supporting cast includes Patrick O'Neal, Mary Murphy, Eva Gabor and Jay Novello.<br /><br />  \n",
       "4  I basically skimmed through the movie but just enough to catch watch the plot was about. To tell you the truth it was kind of boring to me and at some spots it didn't make sense. The only reason I watched this movie in the first place was to see CHACE CRAWFORD!!! He is so hot, but in this movie his hair was kind of weird. But still hot.<br /><br />However, despite how hot CHACE is, it really did not make up for the film. I guess the plot isn't that bad but what really threw me over was the fact that they cuss in like every sentence. Is it that hard to express your anger without saying the F word every time?The cussing was annoying and the whole flashy, camera shaking thing gave me a headache.<br /><br />All in all, although the plot was OK, I found the film to be a bore and over dramatic. That's why I only cut to scenes with CHACE in it. LOL Anyways, not worth renting unless your a die-hard fan of a specific cast member like I was. Oh yeah the cast was Hot. The girls were HOT!!! Bu...  "
      ]
     },
     "execution_count": 8,
     "metadata": {},
     "output_type": "execute_result"
    }
   ],
   "source": [
    "train_df.head()"
   ]
  },
  {
   "cell_type": "code",
   "execution_count": 9,
   "metadata": {},
   "outputs": [
    {
     "data": {
      "text/html": [
       "<div>\n",
       "<style scoped>\n",
       "    .dataframe tbody tr th:only-of-type {\n",
       "        vertical-align: middle;\n",
       "    }\n",
       "\n",
       "    .dataframe tbody tr th {\n",
       "        vertical-align: top;\n",
       "    }\n",
       "\n",
       "    .dataframe thead th {\n",
       "        text-align: right;\n",
       "    }\n",
       "</style>\n",
       "<table border=\"1\" class=\"dataframe\">\n",
       "  <thead>\n",
       "    <tr style=\"text-align: center;\">\n",
       "      <th></th>\n",
       "      <th>label</th>\n",
       "      <th>reviews</th>\n",
       "    </tr>\n",
       "  </thead>\n",
       "  <tbody>\n",
       "    <tr>\n",
       "      <th>0</th>\n",
       "      <td>neg</td>\n",
       "      <td>This is a pale imitation of 'Officer and a Gentleman.' There is NO chemistry between Kutcher and the unknown woman who plays his love interest. The dialog is wooden, the situations hackneyed. It's too long and the climax is anti-climactic(!). I love the USCG, its men and women are fearless and tough. The action scenes are awesome, but this movie doesn't do much for recruiting, I fear. The script is formulaic, but confusing. Kutcher's character is trying to redeem himself for an accident that wasn't his fault? Costner's is raging against the dying of the light, but why? His 'conflict' with his wife is about as deep as a mud puddle. I saw this sneak preview for free and certainly felt I got my money's worth.</td>\n",
       "    </tr>\n",
       "    <tr>\n",
       "      <th>1</th>\n",
       "      <td>neg</td>\n",
       "      <td>It seems ever since 1982, about every two or three years we get a movie that claims to be \"The Next Officer and a Gentleman.\" There has yet to be one movie that has lived up to this claim and this movie is no different.&lt;br /&gt;&lt;br /&gt;We get the usual ripped off scenes from OAAG (\"I want you DOR,\" the instructor gives the Richard Gere character his overdose of drills in hopes he'll quit, the Gere character comes back for the girl, the Gere character realizes the instructor is great, etc.) and this movie is as predictable as the sun rising in the East and is horribly miscast on top. Costner plays his usual \"wise teacher\" character, the only character he can play, and you really get a sense of his limited acting abilities here. Kutcher is terrible in the Richard Gere character, just miscast with acting skills barely a notch above Keanu Reeves.&lt;br /&gt;&lt;br /&gt;The main problem with this OAAG wannabe is the two main characters are so amazingly one-dimensional, you never care for either in the l...</td>\n",
       "    </tr>\n",
       "    <tr>\n",
       "      <th>2</th>\n",
       "      <td>neg</td>\n",
       "      <td>Wow, another Kevin Costner hero movie. Postman, Tin Cup, Waterworld, Bodyguard, Wyatt Earp, Robin Hood, even that baseball movie. Seems like he makes movies specifically to be the center of attention. The characters are almost always the same ... the heroics, the flaws, the greatness, the fall, the redemption. Yup, within the 1st 5 minutes of the movie, we're all supposed to be in awe of his character, and it builds up more and more from there.&lt;br /&gt;&lt;br /&gt;And this time the story ... story? ... is just a collage of different movies. You don't need a spoiler; you've seen this movie several times, though it had different titles. You'll know what will happen way before it happens. This is like mixing An Officer and a Gentleman with Backdraft, but both are easily better movies. Watch Backdraft to see how this kind of movie should be made ... and also to see how an good but slightly underrated actor, Russell, plays the hero.</td>\n",
       "    </tr>\n",
       "    <tr>\n",
       "      <th>3</th>\n",
       "      <td>neg</td>\n",
       "      <td>Alas, another Costner movie that was an hour too long. Credible performances, but the script had no where to go and was in no hurry to get there. First we are offered an unrelated string of events few of which further the story. Will the script center on Randall and his wife? Randall and Fischer? How about Fischer and Thomas? In the end, no real front story ever develops and the characters themselves are artificially propped up by monologues from third parties. The singer explains Randall, Randall explains Fischer, on and on. Finally, long after you don't care anymore, you will learn something about the script meetings. Three endings were no doubt proffered and no one could make a decision. The end result? All three were used, one, after another, after another. If you can hang in past the 100th yawn, you'll be able to pick them out. Despite the transparent attempt to gain points with a dedication to the Coast Guard, this one should have washed out the very first day.</td>\n",
       "    </tr>\n",
       "    <tr>\n",
       "      <th>4</th>\n",
       "      <td>neg</td>\n",
       "      <td>I wish I knew what to make of a movie like this. It seems to be divided into two parts -- action sequences and personal dramas ashore. It follows Ashton Kutsher through survival swimmer school, guided by Master Chief Kevin Costner, then to Alaska where a couple of spectacular rescues take place, the last resulting in death.&lt;br /&gt;&lt;br /&gt;I must say that the scenes on the beach struck me as so stereotypical in so many ways that they should be barnacle encrusted. A typical bar room fight between Navy guys and Coast Guardsmen (\"puddle pirates\"). The experienced old timer Costner who is, as an elderly bar tender tells him, \"married to the Coast Guard.\" The older chief who \"keeps trying to prove to himself that he's still nineteen.\" The neglected ex wife ashore to whom Kostner pays a farewell visit. The seemingly sadistic demands placed on the swimmers by the instructors, all in pursuit of a loftier goal. The gifted young man hobbled by a troubled past.&lt;br /&gt;&lt;br /&gt;The problem is that we've...</td>\n",
       "    </tr>\n",
       "  </tbody>\n",
       "</table>\n",
       "</div>"
      ],
      "text/plain": [
       "  label  \\\n",
       "0   neg   \n",
       "1   neg   \n",
       "2   neg   \n",
       "3   neg   \n",
       "4   neg   \n",
       "\n",
       "                                                                                                                                                                                                                                                                                                                                                                                                                                                                                                                  reviews                                                                                                                                                                                                                                                                                                                                                                                                                                                                                                                   \n",
       "0                                                                                                                                                                                                                                                                                              This is a pale imitation of 'Officer and a Gentleman.' There is NO chemistry between Kutcher and the unknown woman who plays his love interest. The dialog is wooden, the situations hackneyed. It's too long and the climax is anti-climactic(!). I love the USCG, its men and women are fearless and tough. The action scenes are awesome, but this movie doesn't do much for recruiting, I fear. The script is formulaic, but confusing. Kutcher's character is trying to redeem himself for an accident that wasn't his fault? Costner's is raging against the dying of the light, but why? His 'conflict' with his wife is about as deep as a mud puddle. I saw this sneak preview for free and certainly felt I got my money's worth.  \n",
       "1  It seems ever since 1982, about every two or three years we get a movie that claims to be \"The Next Officer and a Gentleman.\" There has yet to be one movie that has lived up to this claim and this movie is no different.<br /><br />We get the usual ripped off scenes from OAAG (\"I want you DOR,\" the instructor gives the Richard Gere character his overdose of drills in hopes he'll quit, the Gere character comes back for the girl, the Gere character realizes the instructor is great, etc.) and this movie is as predictable as the sun rising in the East and is horribly miscast on top. Costner plays his usual \"wise teacher\" character, the only character he can play, and you really get a sense of his limited acting abilities here. Kutcher is terrible in the Richard Gere character, just miscast with acting skills barely a notch above Keanu Reeves.<br /><br />The main problem with this OAAG wannabe is the two main characters are so amazingly one-dimensional, you never care for either in the l...  \n",
       "2                                                                     Wow, another Kevin Costner hero movie. Postman, Tin Cup, Waterworld, Bodyguard, Wyatt Earp, Robin Hood, even that baseball movie. Seems like he makes movies specifically to be the center of attention. The characters are almost always the same ... the heroics, the flaws, the greatness, the fall, the redemption. Yup, within the 1st 5 minutes of the movie, we're all supposed to be in awe of his character, and it builds up more and more from there.<br /><br />And this time the story ... story? ... is just a collage of different movies. You don't need a spoiler; you've seen this movie several times, though it had different titles. You'll know what will happen way before it happens. This is like mixing An Officer and a Gentleman with Backdraft, but both are easily better movies. Watch Backdraft to see how this kind of movie should be made ... and also to see how an good but slightly underrated actor, Russell, plays the hero.  \n",
       "3                    Alas, another Costner movie that was an hour too long. Credible performances, but the script had no where to go and was in no hurry to get there. First we are offered an unrelated string of events few of which further the story. Will the script center on Randall and his wife? Randall and Fischer? How about Fischer and Thomas? In the end, no real front story ever develops and the characters themselves are artificially propped up by monologues from third parties. The singer explains Randall, Randall explains Fischer, on and on. Finally, long after you don't care anymore, you will learn something about the script meetings. Three endings were no doubt proffered and no one could make a decision. The end result? All three were used, one, after another, after another. If you can hang in past the 100th yawn, you'll be able to pick them out. Despite the transparent attempt to gain points with a dedication to the Coast Guard, this one should have washed out the very first day.  \n",
       "4  I wish I knew what to make of a movie like this. It seems to be divided into two parts -- action sequences and personal dramas ashore. It follows Ashton Kutsher through survival swimmer school, guided by Master Chief Kevin Costner, then to Alaska where a couple of spectacular rescues take place, the last resulting in death.<br /><br />I must say that the scenes on the beach struck me as so stereotypical in so many ways that they should be barnacle encrusted. A typical bar room fight between Navy guys and Coast Guardsmen (\"puddle pirates\"). The experienced old timer Costner who is, as an elderly bar tender tells him, \"married to the Coast Guard.\" The older chief who \"keeps trying to prove to himself that he's still nineteen.\" The neglected ex wife ashore to whom Kostner pays a farewell visit. The seemingly sadistic demands placed on the swimmers by the instructors, all in pursuit of a loftier goal. The gifted young man hobbled by a troubled past.<br /><br />The problem is that we've...  "
      ]
     },
     "execution_count": 9,
     "metadata": {},
     "output_type": "execute_result"
    }
   ],
   "source": [
    "test_df.head()"
   ]
  },
  {
   "cell_type": "markdown",
   "metadata": {},
   "source": [
    "## Vectorization "
   ]
  },
  {
   "cell_type": "code",
   "execution_count": 10,
   "metadata": {},
   "outputs": [],
   "source": [
    "from sklearn.feature_extraction.text import CountVectorizer\n",
    "vect = CountVectorizer()"
   ]
  },
  {
   "cell_type": "markdown",
   "metadata": {},
   "source": [
    "#### Vecterizing on the entire dataset:"
   ]
  },
  {
   "cell_type": "code",
   "execution_count": 11,
   "metadata": {},
   "outputs": [
    {
     "name": "stdout",
     "output_type": "stream",
     "text": [
      "40\n",
      "40\n"
     ]
    }
   ],
   "source": [
    "# combine the train and test lists\n",
    "all_text = train_text + test_text\n",
    "print(len(all_text))\n",
    "\n",
    "# create a list of labels\n",
    "all_labels = train_filenames + test_filenames\n",
    "print(len(all_labels))"
   ]
  },
  {
   "cell_type": "code",
   "execution_count": 12,
   "metadata": {},
   "outputs": [
    {
     "name": "stdout",
     "output_type": "stream",
     "text": [
      "Shape of the dataframe: (40, 2)\n"
     ]
    }
   ],
   "source": [
    "import pandas as pd\n",
    "import re\n",
    "# convert the lists into a DataFrame\n",
    "df = pd.DataFrame({'label':all_labels, 'reviews':all_text})\n",
    "df['label']=df.label.map(lambda string: re.search(r'([\\w]{3})\\_\\d+\\.txt', string).group(1))\n",
    "print('Shape of the dataframe: {}'.format(df.shape))"
   ]
  },
  {
   "cell_type": "code",
   "execution_count": 13,
   "metadata": {},
   "outputs": [
    {
     "data": {
      "text/plain": [
       "CountVectorizer(analyzer='word', binary=False, decode_error='strict',\n",
       "                dtype=<class 'numpy.int64'>, encoding='utf-8', input='content',\n",
       "                lowercase=True, max_df=1.0, max_features=None, min_df=1,\n",
       "                ngram_range=(1, 1), preprocessor=None, stop_words=None,\n",
       "                strip_accents=None, token_pattern='(?u)\\\\b\\\\w\\\\w+\\\\b',\n",
       "                tokenizer=None, vocabulary=None)"
      ]
     },
     "execution_count": 13,
     "metadata": {},
     "output_type": "execute_result"
    }
   ],
   "source": [
    "vect.fit(df.reviews)\n",
    "vect"
   ]
  },
  {
   "cell_type": "code",
   "execution_count": 14,
   "metadata": {},
   "outputs": [
    {
     "data": {
      "text/plain": [
       "(40, 1989)"
      ]
     },
     "execution_count": 14,
     "metadata": {},
     "output_type": "execute_result"
    }
   ],
   "source": [
    "reviews_dtm = vect.transform(df.reviews)\n",
    "reviews_dtm.shape"
   ]
  },
  {
   "cell_type": "markdown",
   "metadata": {},
   "source": [
    "In default, the 40 documents can have 1679 tokens."
   ]
  },
  {
   "cell_type": "code",
   "execution_count": 15,
   "metadata": {
    "scrolled": true
   },
   "outputs": [
    {
     "name": "stdout",
     "output_type": "stream",
     "text": [
      "['with', 'within', 'without', 'witty', 'wolfit', 'woman', 'women', 'won', 'wooden', 'word', 'work', 'working', 'works', 'world', 'worn', 'worse', 'worst', 'worth', 'worthless', 'would', 'wouldn', 'wow', 'wreck', 'write', 'writer', 'written', 'wrong', 'wronged', 'wrote', 'wwii', 'wyatt', 'yardstick', 'yashere', 'yates', 'yawn', 'yeah', 'year', 'years', 'yes', 'yet', 'york', 'you', 'young', 'younger', 'your', 'yourself', 'yup', 'zeppelin', 'zero', 'zsigmond']\n"
     ]
    }
   ],
   "source": [
    "# examine the last 50 features\n",
    "print(vect.get_feature_names()[-50:])"
   ]
  },
  {
   "cell_type": "code",
   "execution_count": 16,
   "metadata": {
    "scrolled": true
   },
   "outputs": [
    {
     "data": {
      "text/html": [
       "<div>\n",
       "<style scoped>\n",
       "    .dataframe tbody tr th:only-of-type {\n",
       "        vertical-align: middle;\n",
       "    }\n",
       "\n",
       "    .dataframe tbody tr th {\n",
       "        vertical-align: top;\n",
       "    }\n",
       "\n",
       "    .dataframe thead th {\n",
       "        text-align: right;\n",
       "    }\n",
       "</style>\n",
       "<table border=\"1\" class=\"dataframe\">\n",
       "  <thead>\n",
       "    <tr style=\"text-align: center;\">\n",
       "      <th></th>\n",
       "      <th>10</th>\n",
       "      <th>100th</th>\n",
       "      <th>12</th>\n",
       "      <th>15</th>\n",
       "      <th>1940s</th>\n",
       "      <th>1960s</th>\n",
       "      <th>1970</th>\n",
       "      <th>1982</th>\n",
       "      <th>1million</th>\n",
       "      <th>1st</th>\n",
       "      <th>...</th>\n",
       "      <th>you</th>\n",
       "      <th>young</th>\n",
       "      <th>younger</th>\n",
       "      <th>your</th>\n",
       "      <th>yourself</th>\n",
       "      <th>yup</th>\n",
       "      <th>zeppelin</th>\n",
       "      <th>zero</th>\n",
       "      <th>zsigmond</th>\n",
       "      <th>label</th>\n",
       "    </tr>\n",
       "  </thead>\n",
       "  <tbody>\n",
       "    <tr>\n",
       "      <th>0</th>\n",
       "      <td>0</td>\n",
       "      <td>0</td>\n",
       "      <td>0</td>\n",
       "      <td>0</td>\n",
       "      <td>0</td>\n",
       "      <td>0</td>\n",
       "      <td>0</td>\n",
       "      <td>0</td>\n",
       "      <td>0</td>\n",
       "      <td>0</td>\n",
       "      <td>...</td>\n",
       "      <td>0</td>\n",
       "      <td>0</td>\n",
       "      <td>0</td>\n",
       "      <td>0</td>\n",
       "      <td>0</td>\n",
       "      <td>0</td>\n",
       "      <td>0</td>\n",
       "      <td>0</td>\n",
       "      <td>0</td>\n",
       "      <td>neg</td>\n",
       "    </tr>\n",
       "    <tr>\n",
       "      <th>1</th>\n",
       "      <td>1</td>\n",
       "      <td>0</td>\n",
       "      <td>0</td>\n",
       "      <td>0</td>\n",
       "      <td>0</td>\n",
       "      <td>0</td>\n",
       "      <td>0</td>\n",
       "      <td>0</td>\n",
       "      <td>0</td>\n",
       "      <td>0</td>\n",
       "      <td>...</td>\n",
       "      <td>0</td>\n",
       "      <td>0</td>\n",
       "      <td>0</td>\n",
       "      <td>0</td>\n",
       "      <td>0</td>\n",
       "      <td>0</td>\n",
       "      <td>0</td>\n",
       "      <td>1</td>\n",
       "      <td>0</td>\n",
       "      <td>neg</td>\n",
       "    </tr>\n",
       "    <tr>\n",
       "      <th>2</th>\n",
       "      <td>0</td>\n",
       "      <td>0</td>\n",
       "      <td>0</td>\n",
       "      <td>0</td>\n",
       "      <td>0</td>\n",
       "      <td>0</td>\n",
       "      <td>0</td>\n",
       "      <td>0</td>\n",
       "      <td>0</td>\n",
       "      <td>0</td>\n",
       "      <td>...</td>\n",
       "      <td>2</td>\n",
       "      <td>0</td>\n",
       "      <td>0</td>\n",
       "      <td>0</td>\n",
       "      <td>1</td>\n",
       "      <td>0</td>\n",
       "      <td>0</td>\n",
       "      <td>0</td>\n",
       "      <td>0</td>\n",
       "      <td>neg</td>\n",
       "    </tr>\n",
       "    <tr>\n",
       "      <th>3</th>\n",
       "      <td>0</td>\n",
       "      <td>0</td>\n",
       "      <td>0</td>\n",
       "      <td>0</td>\n",
       "      <td>0</td>\n",
       "      <td>0</td>\n",
       "      <td>0</td>\n",
       "      <td>0</td>\n",
       "      <td>0</td>\n",
       "      <td>0</td>\n",
       "      <td>...</td>\n",
       "      <td>0</td>\n",
       "      <td>0</td>\n",
       "      <td>0</td>\n",
       "      <td>0</td>\n",
       "      <td>0</td>\n",
       "      <td>0</td>\n",
       "      <td>0</td>\n",
       "      <td>0</td>\n",
       "      <td>0</td>\n",
       "      <td>neg</td>\n",
       "    </tr>\n",
       "    <tr>\n",
       "      <th>4</th>\n",
       "      <td>0</td>\n",
       "      <td>0</td>\n",
       "      <td>0</td>\n",
       "      <td>0</td>\n",
       "      <td>0</td>\n",
       "      <td>0</td>\n",
       "      <td>0</td>\n",
       "      <td>0</td>\n",
       "      <td>0</td>\n",
       "      <td>0</td>\n",
       "      <td>...</td>\n",
       "      <td>1</td>\n",
       "      <td>0</td>\n",
       "      <td>0</td>\n",
       "      <td>2</td>\n",
       "      <td>0</td>\n",
       "      <td>0</td>\n",
       "      <td>0</td>\n",
       "      <td>0</td>\n",
       "      <td>0</td>\n",
       "      <td>neg</td>\n",
       "    </tr>\n",
       "  </tbody>\n",
       "</table>\n",
       "<p>5 rows × 1990 columns</p>\n",
       "</div>"
      ],
      "text/plain": [
       "   10  100th  12  15  1940s  1960s  1970  1982  1million  1st  ...  you  \\\n",
       "0   0    0     0   0    0      0      0     0       0      0   ...   0    \n",
       "1   1    0     0   0    0      0      0     0       0      0   ...   0    \n",
       "2   0    0     0   0    0      0      0     0       0      0   ...   2    \n",
       "3   0    0     0   0    0      0      0     0       0      0   ...   0    \n",
       "4   0    0     0   0    0      0      0     0       0      0   ...   1    \n",
       "\n",
       "   young  younger  your  yourself  yup  zeppelin  zero  zsigmond  label  \n",
       "0    0       0       0       0      0       0       0       0      neg   \n",
       "1    0       0       0       0      0       0       1       0      neg   \n",
       "2    0       0       0       1      0       0       0       0      neg   \n",
       "3    0       0       0       0      0       0       0       0      neg   \n",
       "4    0       0       2       0      0       0       0       0      neg   \n",
       "\n",
       "[5 rows x 1990 columns]"
      ]
     },
     "execution_count": 16,
     "metadata": {},
     "output_type": "execute_result"
    }
   ],
   "source": [
    "reviews_df = pd.DataFrame(reviews_dtm.toarray(), columns=vect.get_feature_names())\n",
    "reviews_df['label']=df.label\n",
    "reviews_df.head()"
   ]
  },
  {
   "cell_type": "code",
   "execution_count": 17,
   "metadata": {},
   "outputs": [
    {
     "data": {
      "image/png": "[encoded data removed]",
      "text/plain": [
       "<Figure size 576x432 with 1 Axes>"
      ]
     },
     "metadata": {
      "needs_background": "light"
     },
     "output_type": "display_data"
    }
   ],
   "source": [
    "reviews_df.label.value_counts().plot(kind='bar', figsize=(8,6), fontsize=11,);\n",
    "plt.title('Movie Reviews', size=12)\n",
    "plt.xlabel('Sentiment')\n",
    "plt.ylabel('Counts')\n",
    "# add annotation on each bar\n",
    "for i in range(2):\n",
    "    plt.text(x = i - 0.05 , y = reviews_df.label.value_counts().values[i] + 0.4, \n",
    "             s = reviews_df.label.value_counts().values[i])\n",
    "plt.show()"
   ]
  },
  {
   "cell_type": "markdown",
   "metadata": {},
   "source": [
    "#### Vectorizing for training set and test set:"
   ]
  },
  {
   "cell_type": "code",
   "execution_count": 18,
   "metadata": {},
   "outputs": [
    {
     "data": {
      "text/html": [
       "<div>\n",
       "<style scoped>\n",
       "    .dataframe tbody tr th:only-of-type {\n",
       "        vertical-align: middle;\n",
       "    }\n",
       "\n",
       "    .dataframe tbody tr th {\n",
       "        vertical-align: top;\n",
       "    }\n",
       "\n",
       "    .dataframe thead th {\n",
       "        text-align: right;\n",
       "    }\n",
       "</style>\n",
       "<table border=\"1\" class=\"dataframe\">\n",
       "  <thead>\n",
       "    <tr style=\"text-align: center;\">\n",
       "      <th></th>\n",
       "      <th>label</th>\n",
       "      <th>reviews</th>\n",
       "    </tr>\n",
       "  </thead>\n",
       "  <tbody>\n",
       "    <tr>\n",
       "      <th>0</th>\n",
       "      <td>neg</td>\n",
       "      <td>Robert DeNiro plays the most unbelievably intelligent illiterate of all time. This movie is so wasteful of talent, it is truly disgusting. The script is unbelievable. The dialog is unbelievable. Jane Fonda's character is a caricature of herself, and not a funny one. The movie moves at a snail's pace, is photographed in an ill-advised manner, and is insufferably preachy. It also plugs in every cliche in the book. Swoozie Kurtz is excellent in a supporting role, but so what?&lt;br /&gt;&lt;br /&gt;Equally annoying is this new IMDB rule of requiring ten lines for every review. When a movie is this worthless, it doesn't require ten lines of text to let other readers know that it is a waste of time and tape. Avoid this movie.</td>\n",
       "    </tr>\n",
       "    <tr>\n",
       "      <th>1</th>\n",
       "      <td>neg</td>\n",
       "      <td>I saw the capsule comment said \"great acting.\" In my opinion, these are two great actors giving horrible performances, and with zero chemistry with one another, for a great director in his all-time worst effort. Robert De Niro has to be the most ingenious and insightful illiterate of all time. Jane Fonda's performance uncomfortably drifts all over the map as she clearly has no handle on this character, mostly because the character is so poorly written. Molasses-like would be too swift an adjective for this film's excruciating pacing. Although the film's intent is to be an uplifting story of curing illiteracy, watching it is a true \"bummer.\" I give it 1 out of 10, truly one of the worst 20 movies for its budget level that I have ever seen.</td>\n",
       "    </tr>\n",
       "    <tr>\n",
       "      <th>2</th>\n",
       "      <td>neg</td>\n",
       "      <td>If I had not read Pat Barker's 'Union Street' before seeing this film, I would have liked it. Unfortuntately this is not the case. It is actually my kind of film, it is well made, and in no way do I want to say otherwise, but as an adaptation, it fails from every angle.&lt;br /&gt;&lt;br /&gt;The harrowing novel about the reality of living in a northern England working-class area grabbed hold of my heartstrings and refused to let go for weeks after I had finished. I was put through tears, repulsion, shock, anger, sympathy and misery when reading about the women of Union Street. Excellent. A novel that at times I felt I could not read any more of, but I novel I simply couldn't put down. Depressing yes, but utterly gripping.&lt;br /&gt;&lt;br /&gt;The film. Oh dear. Hollywood took Barker's truth and reality, and showered a layer of sweet icing sugar over the top of it. A beautiful film, an inspiring soundtrack, excellent performances, a tale of hope and romance...yes. An adaptation of 'Union Street'...no.&lt;b...</td>\n",
       "    </tr>\n",
       "    <tr>\n",
       "      <th>3</th>\n",
       "      <td>neg</td>\n",
       "      <td>This fanciful horror flick has Vincent Price playing a mad magician that realizes his vocational talents have been sold to another. He devise ways of avenging all those that have wronged him. His master scheme seems to back fire on him.&lt;br /&gt;&lt;br /&gt;Price is a little below par compared to his masterpieces, but is still the only reason to watch this thriller. Supporting cast includes Patrick O'Neal, Mary Murphy, Eva Gabor and Jay Novello.&lt;br /&gt;&lt;br /&gt;</td>\n",
       "    </tr>\n",
       "    <tr>\n",
       "      <th>4</th>\n",
       "      <td>neg</td>\n",
       "      <td>I basically skimmed through the movie but just enough to catch watch the plot was about. To tell you the truth it was kind of boring to me and at some spots it didn't make sense. The only reason I watched this movie in the first place was to see CHACE CRAWFORD!!! He is so hot, but in this movie his hair was kind of weird. But still hot.&lt;br /&gt;&lt;br /&gt;However, despite how hot CHACE is, it really did not make up for the film. I guess the plot isn't that bad but what really threw me over was the fact that they cuss in like every sentence. Is it that hard to express your anger without saying the F word every time?The cussing was annoying and the whole flashy, camera shaking thing gave me a headache.&lt;br /&gt;&lt;br /&gt;All in all, although the plot was OK, I found the film to be a bore and over dramatic. That's why I only cut to scenes with CHACE in it. LOL Anyways, not worth renting unless your a die-hard fan of a specific cast member like I was. Oh yeah the cast was Hot. The girls were HOT!!! Bu...</td>\n",
       "    </tr>\n",
       "  </tbody>\n",
       "</table>\n",
       "</div>"
      ],
      "text/plain": [
       "  label  \\\n",
       "0   neg   \n",
       "1   neg   \n",
       "2   neg   \n",
       "3   neg   \n",
       "4   neg   \n",
       "\n",
       "                                                                                                                                                                                                                                                                                                                                                                                                                                                                                                                  reviews                                                                                                                                                                                                                                                                                                                                                                                                                                                                                                                   \n",
       "0                                                                                                                                                                                                                                                                                           Robert DeNiro plays the most unbelievably intelligent illiterate of all time. This movie is so wasteful of talent, it is truly disgusting. The script is unbelievable. The dialog is unbelievable. Jane Fonda's character is a caricature of herself, and not a funny one. The movie moves at a snail's pace, is photographed in an ill-advised manner, and is insufferably preachy. It also plugs in every cliche in the book. Swoozie Kurtz is excellent in a supporting role, but so what?<br /><br />Equally annoying is this new IMDB rule of requiring ten lines for every review. When a movie is this worthless, it doesn't require ten lines of text to let other readers know that it is a waste of time and tape. Avoid this movie.  \n",
       "1                                                                                                                                                                                                                                                             I saw the capsule comment said \"great acting.\" In my opinion, these are two great actors giving horrible performances, and with zero chemistry with one another, for a great director in his all-time worst effort. Robert De Niro has to be the most ingenious and insightful illiterate of all time. Jane Fonda's performance uncomfortably drifts all over the map as she clearly has no handle on this character, mostly because the character is so poorly written. Molasses-like would be too swift an adjective for this film's excruciating pacing. Although the film's intent is to be an uplifting story of curing illiteracy, watching it is a true \"bummer.\" I give it 1 out of 10, truly one of the worst 20 movies for its budget level that I have ever seen.  \n",
       "2  If I had not read Pat Barker's 'Union Street' before seeing this film, I would have liked it. Unfortuntately this is not the case. It is actually my kind of film, it is well made, and in no way do I want to say otherwise, but as an adaptation, it fails from every angle.<br /><br />The harrowing novel about the reality of living in a northern England working-class area grabbed hold of my heartstrings and refused to let go for weeks after I had finished. I was put through tears, repulsion, shock, anger, sympathy and misery when reading about the women of Union Street. Excellent. A novel that at times I felt I could not read any more of, but I novel I simply couldn't put down. Depressing yes, but utterly gripping.<br /><br />The film. Oh dear. Hollywood took Barker's truth and reality, and showered a layer of sweet icing sugar over the top of it. A beautiful film, an inspiring soundtrack, excellent performances, a tale of hope and romance...yes. An adaptation of 'Union Street'...no.<b...  \n",
       "3                                                                                                                                                                                                                                                                                                                                                                                                                                                                                                                                                                      This fanciful horror flick has Vincent Price playing a mad magician that realizes his vocational talents have been sold to another. He devise ways of avenging all those that have wronged him. His master scheme seems to back fire on him.<br /><br />Price is a little below par compared to his masterpieces, but is still the only reason to watch this thriller. Supporting cast includes Patrick O'Neal, Mary Murphy, Eva Gabor and Jay Novello.<br /><br />  \n",
       "4  I basically skimmed through the movie but just enough to catch watch the plot was about. To tell you the truth it was kind of boring to me and at some spots it didn't make sense. The only reason I watched this movie in the first place was to see CHACE CRAWFORD!!! He is so hot, but in this movie his hair was kind of weird. But still hot.<br /><br />However, despite how hot CHACE is, it really did not make up for the film. I guess the plot isn't that bad but what really threw me over was the fact that they cuss in like every sentence. Is it that hard to express your anger without saying the F word every time?The cussing was annoying and the whole flashy, camera shaking thing gave me a headache.<br /><br />All in all, although the plot was OK, I found the film to be a bore and over dramatic. That's why I only cut to scenes with CHACE in it. LOL Anyways, not worth renting unless your a die-hard fan of a specific cast member like I was. Oh yeah the cast was Hot. The girls were HOT!!! Bu...  "
      ]
     },
     "execution_count": 18,
     "metadata": {},
     "output_type": "execute_result"
    }
   ],
   "source": [
    "train_df.head()"
   ]
  },
  {
   "cell_type": "code",
   "execution_count": 19,
   "metadata": {},
   "outputs": [
    {
     "name": "stdout",
     "output_type": "stream",
     "text": [
      "There are 20 documents in training set.\n",
      "There are 20 documents in training set.\n"
     ]
    }
   ],
   "source": [
    "# split train_df and test_df into X_train, X_test, y_train, y_test\n",
    "X_train, X_test, y_train, y_test = train_df.reviews, test_df.reviews, train_df.label, test_df.label\n",
    "\n",
    "# examine the object shapes\n",
    "print('There are {} documents in training set.'.format(X_train.shape[0]))\n",
    "print('There are {} documents in training set.'.format(X_test.shape[0]))"
   ]
  },
  {
   "cell_type": "code",
   "execution_count": 20,
   "metadata": {},
   "outputs": [
    {
     "name": "stdout",
     "output_type": "stream",
     "text": [
      "Training set: \n",
      "pos    10\n",
      "neg    10\n",
      "Name: label, dtype: int64\n",
      "\n"
     ]
    },
    {
     "data": {
      "image/png": "[encoded data removed]",
      "text/plain": [
       "<Figure size 576x432 with 1 Axes>"
      ]
     },
     "metadata": {
      "needs_background": "light"
     },
     "output_type": "display_data"
    },
    {
     "name": "stdout",
     "output_type": "stream",
     "text": [
      "Test set: \n",
      "pos    10\n",
      "neg    10\n",
      "Name: label, dtype: int64\n",
      "\n"
     ]
    },
    {
     "data": {
      "image/png": "[encoded data removed]",
      "text/plain": [
       "<Figure size 576x432 with 1 Axes>"
      ]
     },
     "metadata": {
      "needs_background": "light"
     },
     "output_type": "display_data"
    }
   ],
   "source": [
    "# examine output ratio between Training Set and Test Set\n",
    "print('Training set: \\n{}\\n'.format(y_train.value_counts()))\n",
    "y_train.value_counts().plot(kind='bar', figsize=(8,6), fontsize=11);\n",
    "plt.title('Training Set Output', size=12)\n",
    "plt.xlabel('Sentiment')\n",
    "plt.ylabel('Counts')\n",
    "# add annotation on each bar\n",
    "for i in range(2):\n",
    "    plt.text(x = i - 0.05 , y = y_train.value_counts().values[i] + 0.2, \n",
    "             s = y_train.value_counts().values[i])\n",
    "plt.show()\n",
    "\n",
    "print('Test set: \\n{}\\n'.format(y_test.value_counts()))\n",
    "y_test.value_counts().plot(kind='bar', figsize=(8,6), fontsize=11);\n",
    "plt.title('Test Set Output', size=12)\n",
    "plt.xlabel('Sentiment')\n",
    "plt.ylabel('Counts')\n",
    "# add annotation on each bar\n",
    "for i in range(2):\n",
    "    plt.text(x = i - 0.05 , y = y_test.value_counts().values[i] + 0.1, \n",
    "             s = y_test.value_counts().values[i])\n",
    "plt.show()"
   ]
  },
  {
   "cell_type": "code",
   "execution_count": 21,
   "metadata": {},
   "outputs": [
    {
     "name": "stdout",
     "output_type": "stream",
     "text": [
      "Training set: \n",
      "(20, 1085)\n",
      "\n",
      "Test set: \n",
      "(20, 1085)\n",
      "\n"
     ]
    }
   ],
   "source": [
    "# use CountVectorizer to create document-term matrices from X_train and X_test\n",
    "from sklearn.feature_extraction.text import CountVectorizer\n",
    "vect = CountVectorizer()\n",
    "\n",
    "# fit and transform X_train\n",
    "X_train_dtm = vect.fit_transform(X_train)\n",
    "\n",
    "# only transform X_test\n",
    "X_test_dtm = vect.transform(X_test)\n",
    "\n",
    "# examine the shapes: rows are documents, columns are terms (aka \"tokens\" or \"features\")\n",
    "print('Training set: \\n{}\\n'.format(X_train_dtm.shape))\n",
    "print('Test set: \\n{}\\n'.format(X_test_dtm.shape))"
   ]
  },
  {
   "cell_type": "code",
   "execution_count": 22,
   "metadata": {},
   "outputs": [
    {
     "name": "stdout",
     "output_type": "stream",
     "text": [
      "['10', '1960s', '20', '30', '35', '50', 'ability', 'about', 'absurd', 'abuse', 'accept', 'acclaim', 'accurate', 'acting', 'action', 'active', 'actors', 'actually', 'adaptation', 'addition', 'adjective', 'admire', 'adult', 'adults', 'adventures', 'advise', 'advised', 'afraid', 'african', 'after', 'afterthought', 'again', 'age', 'aggressive', 'alas', 'all', 'almost', 'along', 'already', 'also', 'although', 'always', 'am', 'america', 'american', 'americana', 'amount', 'an', 'and', 'anger', 'angle', 'animals', 'ann', 'annoying', 'another', 'any', 'anymore', 'anything', 'anyways', 'anywhere', 'appeared', 'are', 'area', 'areas', 'aren', 'around', 'as', 'ask', 'associates', 'at', 'attention', 'audience', 'avenging', 'average', 'avoid', 'awakening', 'away', 'back', 'backflashes', 'bad', 'badly', 'barker', 'basically', 'be', 'beautiful', 'beauty', 'because', 'been', 'beer', 'before', 'beginning', 'behaved', 'behavior', 'being', 'believable', 'believe', 'below', 'best', 'bette', 'better', 'bigger', 'bip', 'bit', 'bitches', 'bland', 'blank', 'blue', 'blunder', 'bombasticities', 'book', 'bore', 'bored', 'boring', 'both', 'br', 'break', 'breath', 'briefly', 'brilliant', 'bring', 'british', 'broadway', 'broken', 'bromwell', 'brought', 'budget', 'bummer', 'burn', 'but', 'buys', 'by', 'call', 'came', 'camera', 'can', 'canada', 'cant', 'capsule', 'cardboard', 'care', 'caricature', 'caricatured', 'carolina', 'cartoon', 'cartoons', 'case', 'cast', 'catch', 'caught', 'cautious', 'chace', 'change', 'chantings', 'character', 'characters', 'charges', 'charisma', 'cheap', 'chemistry', 'child', 'chrissie', 'christ', 'cinematic', 'cinematography', 'class', 'classic', 'clearly', 'cliche', 'cliché', 'closer', 'closet', 'coartship', 'collar', 'colorless', 'come', 'comedy', 'comment', 'commentators', 'compared', 'completely', 'conceived', 'condensed', 'conform', 'conformity', 'congress', 'constitution', 'content', 'conti', 'continuity', 'convincing', 'cool', 'coplandesque', 'correctness', 'could', 'couldn', 'covered', 'crap', 'crawford', 'crazy', 'credit', 'credits', 'critic', 'cross', 'cryptic', 'curing', 'cuss', 'cussing', 'cut', 'cynics', 'danny', 'darkly', 'darkness', 'day', 'days', 'de', 'dead', 'deal', 'dear', 'decent', 'decisions', 'deeply', 'degree', 'delicate', 'delivered', 'deniro', 'depressing', 'described', 'deserve', 'despite', 'devise', 'devito', 'dialog', 'dialogs', 'dialogue', 'dictating', 'did', 'didn', 'die', 'different', 'difficult', 'directed', 'directing', 'direction', 'director', 'disappoint', 'discarded', 'discovered', 'disgusting', 'disturbing', 'do', 'does', 'doesn', 'doing', 'don', 'doon', 'door', 'down', 'download', 'downloading', 'drama', 'dramatic', 'drawn', 'drifts', 'drops', 'drug', 'due', 'dumbest', 'eastenders', 'easy', 'editing', 'education', 'effects', 'effort', 'egg', 'elderly', 'emotional', 'ending', 'england', 'enjoy', 'enjoyed', 'enough', 'ensuing', 'entertainment', 'episode', 'equally', 'era', 'escapades', 'essence', 'etc', 'europe', 'eva', 'even', 'eventually', 'ever', 'every', 'everyone', 'evolve', 'exaggerated', 'example', 'excellent', 'excruciating', 'expect', 'experience', 'experiment', 'experimental', 'expertly', 'exploding', 'express', 'fable', 'face', 'fact', 'failed', 'fails', 'fair', 'falls', 'family', 'fan', 'fanciful', 'fans', 'fantastic', 'fantasy', 'far', 'fast', 'father', 'feeling', 'feelings', 'felt', 'fetched', 'few', 'fill', 'film', 'filmed', 'films', 'finale', 'financially', 'find', 'finding', 'finished', 'fire', 'fireworks', 'first', 'flashy', 'flaws', 'flick', 'flies', 'fluff', 'focuses', 'focusing', 'following', 'fonda', 'for', 'forcing', 'forget', 'formal', 'format', 'forrest', 'forwards', 'found', 'frederic', 'from', 'fully', 'fun', 'funny', 'future', 'futz', 'gabor', 'gangster', 'gave', 'gay', 'general', 'genre', 'genuinely', 'get', 'gets', 'gina', 'girls', 'give', 'given', 'gives', 'giving', 'glorify', 'glorious', 'go', 'god', 'goes', 'going', 'gold', 'gone', 'good', 'grabbed', 'grader', 'grand', 'graphically', 'great', 'green', 'gripping', 'guess', 'gut', 'had', 'hair', 'hand', 'handle', 'happens', 'happy', 'hard', 'harrowing', 'has', 'hate', 'have', 'haven', 'he', 'headache', 'heard', 'heart', 'heartstrings', 'hell', 'henry', 'here', 'herself', 'hesitate', 'hey', 'high', 'him', 'himself', 'his', 'hold', 'hollywood', 'home', 'honestly', 'hope', 'horgan', 'horrible', 'horrific', 'horror', 'hot', 'hour', 'houses', 'how', 'however', 'hued', 'huge', 'husband', 'icing', 'idea', 'idiotic', 'if', 'ill', 'illegally', 'illiteracy', 'illiterate', 'imaginable', 'imaginative', 'imagine', 'imdb', 'immediately', 'in', 'includes', 'including', 'incorrect', 'influenced', 'ingenious', 'insane', 'insightful', 'inspector', 'inspiring', 'instead', 'insufferably', 'intellectual', 'intelligent', 'intent', 'intentionally', 'interested', 'interesting', 'international', 'into', 'inventor', 'iris', 'is', 'isn', 'issue', 'issues', 'it', 'its', 'itself', 'jackass', 'jane', 'jay', 'jesus', 'john', 'jones', 'judging', 'just', 'keeping', 'keisha', 'kids', 'kind', 'kirkland', 'knew', 'knocked', 'know', 'knows', 'konrack', 'kurtz', 'lack', 'laid', 'latrina', 'laughter', 'layer', 'lead', 'leader', 'leading', 'leads', 'least', 'leaves', 'leaving', 'left', 'lenny', 'let', 'level', 'liberty', 'life', 'like', 'liked', 'line', 'lines', 'list', 'listened', 'literally', 'little', 'live', 'lives', 'living', 'll', 'load', 'lol', 'london', 'looked', 'looks', 'lost', 'lot', 'love', 'lovely', 'low', 'luckily', 'mackichan', 'mad', 'made', 'magician', 'main', 'mainstream', 'maintain', 'make', 'makes', 'making', 'man', 'manages', 'managing', 'manner', 'many', 'map', 'mark', 'marriage', 'martin', 'mary', 'mass', 'master', 'masterpieces', 'maths', 'matter', 'may', 'me', 'mean', 'media', 'member', 'mess', 'middle', 'might', 'minutes', 'misery', 'mixed', 'mob', 'molasses', 'moment', 'moments', 'money', 'morality', 'more', 'most', 'mostly', 'motions', 'motives', 'move', 'movement', 'moves', 'movie', 'movies', 'mr', 'much', 'murphy', 'music', 'musics', 'must', 'my', 'name', 'narrative', 'natella', 'naturally', 'neal', 'nearly', 'necessary', 'need', 'needs', 'neither', 'nervous', 'nest', 'never', 'new', 'nina', 'niro', 'no', 'none', 'nonsense', 'nor', 'norms', 'northern', 'not', 'nothing', 'novel', 'novello', 'now', 'oberman', 'of', 'off', 'often', 'oh', 'ok', 'on', 'one', 'only', 'opening', 'opinion', 'opposite', 'or', 'orchestra', 'original', 'originally', 'origins', 'other', 'others', 'otherwise', 'our', 'out', 'outlaw', 'over', 'overall', 'overtures', 'pace', 'pacing', 'painful', 'par', 'park', 'parody', 'parodying', 'participants', 'participation', 'pat', 'path', 'pathetic', 'patrick', 'paying', 'people', 'perfectly', 'performance', 'performances', 'permission', 'perry', 'personal', 'pettiness', 'photographed', 'picture', 'piece', 'pig', 'pit', 'pity', 'place', 'playing', 'plays', 'pleasant', 'pleasure', 'plot', 'plugs', 'poignant', 'poke', 'political', 'pomp', 'pony', 'poorly', 'portray', 'portrays', 'positive', 'positivity', 'potential', 'poverty', 'practical', 'preachy', 'preparing', 'preserved', 'pretty', 'price', 'principal', 'probably', 'produced', 'production', 'profession', 'programs', 'protagonists', 'provocative', 'public', 'pure', 'put', 'putting', 'quarrels', 'questions', 'rain', 'ran', 'random', 'read', 'readers', 'reading', 'real', 'reality', 'realizes', 'really', 'reason', 'rebellious', 'recalled', 'received', 'recent', 'reception', 'recommend', 'reflect', 'refused', 'regarding', 'relationships', 'relatives', 'released', 'relevant', 'remind', 'removed', 'renaissance', 'renting', 'repeatedly', 'replaced', 'repulsion', 'reputation', 'require', 'requiring', 'rest', 'revenge', 'review', 'right', 'ringers', 'rips', 'ritt', 'robert', 'role', 'rolling', 'romance', 'romantic', 'rosy', 'ruin', 'rule', 'sack', 'said', 'sally', 'same', 'satire', 'satisfying', 'saw', 'say', 'saying', 'scene', 'scenes', 'scheme', 'schindler', 'school', 'schools', 'score', 'scores', 'scramble', 'screenplay', 'script', 'scripted', 'searing', 'sebastians', 'section', 'see', 'seeing', 'seem', 'seems', 'seen', 'sense', 'sensitive', 'sensitivity', 'sentence', 'serious', 'set', 'setting', 'sex', 'shakes', 'shakespeare', 'shaking', 'sharp', 'she', 'shite', 'shock', 'short', 'should', 'show', 'showered', 'shows', 'shy', 'side', 'similar', 'simply', 'singers', 'single', 'situation', 'skimmed', 'slow', 'smack', 'smacked', 'small', 'smooth', 'snail', 'so', 'social', 'socially', 'society', 'sold', 'sole', 'solid', 'some', 'somebody', 'someone', 'something', 'sometimes', 'somewhere', 'sophistication', 'soundtrack', 'south', 'special', 'specific', 'spiritual', 'spots', 'stage', 'stanley', 'star', 'stars', 'starts', 'stays', 'stench', 'stifling', 'still', 'stopped', 'stories', 'story', 'storyline', 'storytelling', 'storywise', 'street', 'strong', 'student', 'students', 'studio', 'stuff', 'stupid', 'style', 'stylish', 'subject', 'substances', 'such', 'suddenly', 'sugar', 'suite', 'sunshine', 'superbly', 'superstar', 'supporter', 'supporting', 'sure', 'surface', 'surpasses', 'surprise', 'survive', 'swallow', 'sweet', 'sweets', 'swift', 'swoozie', 'sympathy', 'taboo', 'take', 'takes', 'tale', 'talent', 'talents', 'tales', 'tape', 'teacher', 'teachers', 'teaching', 'tears', 'technical', 'techniques', 'teenage', 'tell', 'tells', 'ten', 'tender', 'tenderness', 'term', 'terrific', 'text', 'than', 'that', 'the', 'theatre', 'theatrical', 'their', 'them', 'themselves', 'then', 'there', 'therefore', 'these', 'they', 'thing', 'think', 'third', 'this', 'those', 'though', 'three', 'threw', 'thriller', 'through', 'thru', 'thumbs', 'till', 'time', 'times', 'title', 'to', 'told', 'tom', 'toned', 'too', 'took', 'tool', 'top', 'total', 'totally', 'touched', 'toured', 'tracks', 'tracy', 'trailer', 'trashing', 'tremendously', 'tried', 'tristan', 'troubled', 'true', 'truly', 'truth', 'trying', 'turned', 'twinkling', 'two', 'type', 'typically', 'unbelievable', 'unbelievably', 'uncomfortably', 'understand', 'unexplainable', 'unfortunately', 'unfortuntately', 'union', 'unless', 'unnatural', 'unsettling', 'up', 'uplifting', 'upper', 'uses', 'usually', 'utterly', 'valley', 've', 'verges', 'version', 'very', 'viewers', 'viewing', 'vilmos', 'vincent', 'vinnie', 'violence', 'violent', 'vocational', 'voigt', 'vulgar', 'want', 'wanted', 'wants', 'wars', 'was', 'wasn', 'waste', 'wasted', 'wasteful', 'watch', 'watched', 'watching', 'watts', 'way', 'ways', 'we', 'weeks', 'weird', 'welcome', 'well', 'were', 'what', 'when', 'where', 'which', 'who', 'whole', 'why', 'widow', 'wife', 'wildly', 'will', 'william', 'williams', 'window', 'windows', 'wiser', 'wit', 'with', 'without', 'witty', 'women', 'won', 'word', 'work', 'working', 'world', 'worn', 'worse', 'worst', 'worth', 'worthless', 'would', 'wouldn', 'write', 'writer', 'written', 'wronged', 'wrote', 'yashere', 'yeah', 'years', 'yes', 'yet', 'york', 'you', 'young', 'your', 'yourself', 'zero', 'zsigmond']\n"
     ]
    }
   ],
   "source": [
    "# examine the last 50 features\n",
    "print(vect.get_feature_names())"
   ]
  },
  {
   "cell_type": "code",
   "execution_count": 23,
   "metadata": {},
   "outputs": [
    {
     "data": {
      "text/plain": [
       "CountVectorizer(analyzer='word', binary=False, decode_error='strict',\n",
       "                dtype=<class 'numpy.int64'>, encoding='utf-8', input='content',\n",
       "                lowercase=True, max_df=1.0, max_features=None, min_df=1,\n",
       "                ngram_range=(1, 1), preprocessor=None, stop_words=None,\n",
       "                strip_accents=None, token_pattern='(?u)\\\\b\\\\w\\\\w+\\\\b',\n",
       "                tokenizer=None, vocabulary=None)"
      ]
     },
     "execution_count": 23,
     "metadata": {},
     "output_type": "execute_result"
    }
   ],
   "source": [
    "# show default parameters for CountVectorizer\n",
    "vect"
   ]
  },
  {
   "cell_type": "markdown",
   "metadata": {},
   "source": [
    "### Use Naive Bayes to predict sentitment"
   ]
  },
  {
   "cell_type": "markdown",
   "metadata": {},
   "source": [
    "#### Create a function for comparing the accuracy of different approaches"
   ]
  },
  {
   "cell_type": "code",
   "execution_count": 24,
   "metadata": {},
   "outputs": [],
   "source": [
    "from sklearn.naive_bayes import GaussianNB\n",
    "from sklearn.metrics import accuracy_score\n",
    "\n",
    "# define a function that accepts a vectorizer and calculates the accuracy\n",
    "def vectorize_test(vect):\n",
    "    '''\n",
    "    Expect: a vectorizer object with different parameter setting, ex: CountVectorizer(lowercase=False)\n",
    "    Modifies: (1) for the vecterization, fit and transform the training set; then transform on the test set\n",
    "              (2) fort the modeling, train the nb model with training set and evaluate with test set\n",
    "    Returns: 1. the number of feature used and  \n",
    "             2. the accuracy rate\n",
    "    '''\n",
    "    \n",
    "    # create document-term matrices using the vectorizer\n",
    "    X_train_dtm = vect.fit_transform(X_train)\n",
    "    X_test_dtm = vect.transform(X_test)\n",
    "    \n",
    "    # print the number of features that were generated\n",
    "    print('Features used: {}'.format(X_train_dtm.shape[1]))\n",
    "    \n",
    "    # use Multinomial Naive Bayes to predict the sentiment\n",
    "    gnb = GaussianNB()\n",
    "    gnb.fit(X_train_dtm.toarray(), y_train)\n",
    "    y_pred_class = gnb.predict(X_test_dtm.toarray())\n",
    "    \n",
    "    # print the accuracy of its predictions\n",
    "    print('Accuracy: {}%'.format(round(accuracy_score(y_test, y_pred_class)*100, 2)))"
   ]
  },
  {
   "cell_type": "markdown",
   "metadata": {},
   "source": [
    "**Approach 1:** null model"
   ]
  },
  {
   "cell_type": "code",
   "execution_count": 25,
   "metadata": {},
   "outputs": [
    {
     "name": "stdout",
     "output_type": "stream",
     "text": [
      "Approach 1 (null model):\n",
      "\n"
     ]
    },
    {
     "data": {
      "text/plain": [
       "pos    0.5\n",
       "Name: label, dtype: float64"
      ]
     },
     "execution_count": 25,
     "metadata": {},
     "output_type": "execute_result"
    }
   ],
   "source": [
    "print('Approach 1 (null model):\\n')\n",
    "# calculate null accuracy\n",
    "y_test.value_counts().head(1) / y_test.shape"
   ]
  },
  {
   "cell_type": "markdown",
   "metadata": {},
   "source": [
    "The null model will be the baseline for the model selection. No other models below this accruacy can be chosen as the best model."
   ]
  },
  {
   "cell_type": "markdown",
   "metadata": {},
   "source": [
    "**Approach** 2: Default Parameters for CountVectorizer  \n",
    "(`stop_words=None`, `lowercase=True`, `min_df=1`, `max_features=None`, `max_df=1.0`)"
   ]
  },
  {
   "cell_type": "code",
   "execution_count": 26,
   "metadata": {},
   "outputs": [
    {
     "name": "stdout",
     "output_type": "stream",
     "text": [
      "Approach 2 (Default Parameters for CountVectorizer):\n",
      "\n",
      "Features used: 1085\n",
      "Accuracy: 40.0%\n"
     ]
    }
   ],
   "source": [
    "print('Approach 2 (Default Parameters for CountVectorizer):\\n')\n",
    "# use the default parameters\n",
    "vect = CountVectorizer()\n",
    "vectorize_test(vect)"
   ]
  },
  {
   "cell_type": "markdown",
   "metadata": {},
   "source": [
    "**Approach 3:** Don't convert to lowercase  \n",
    "(`lowercase=False`)"
   ]
  },
  {
   "cell_type": "code",
   "execution_count": 27,
   "metadata": {},
   "outputs": [
    {
     "name": "stdout",
     "output_type": "stream",
     "text": [
      "Approach 3 (Not convert to lowercase):\n",
      "\n",
      "Features used: 1152\n",
      "Accuracy: 40.0%\n"
     ]
    }
   ],
   "source": [
    "print('Approach 3 (Not convert to lowercase):\\n')\n",
    "# not convert to lowercase\n",
    "vect = CountVectorizer(lowercase=False)\n",
    "vectorize_test(vect)"
   ]
  },
  {
   "cell_type": "markdown",
   "metadata": {},
   "source": [
    "**Approach** 4: remove stop_words and not convert to lowercase  \n",
    "(`stop_words='english'`, `lowercase=False`)"
   ]
  },
  {
   "cell_type": "code",
   "execution_count": 28,
   "metadata": {},
   "outputs": [
    {
     "name": "stdout",
     "output_type": "stream",
     "text": [
      "Approach 4 (remove stop_words and not convert to lowercase):\n",
      "\n",
      "Features used: 981\n",
      "Accuracy: 35.0%\n"
     ]
    }
   ],
   "source": [
    "print('Approach 4 (remove stop_words and not convert to lowercase):\\n')\n",
    "# remove stop_words and not convert to lowercase  \n",
    "vect = CountVectorizer(lowercase=False, stop_words='english')\n",
    "vectorize_test(vect)"
   ]
  },
  {
   "cell_type": "markdown",
   "metadata": {},
   "source": [
    "**Approach** 5: include unigram and bigrams  \n",
    "(`ngram_range=(1, 2)`)"
   ]
  },
  {
   "cell_type": "code",
   "execution_count": 29,
   "metadata": {},
   "outputs": [
    {
     "name": "stdout",
     "output_type": "stream",
     "text": [
      "Approach 5 (include unigram and bigrams):\n",
      "\n",
      "Features used: 3652\n",
      "Accuracy: 40.0%\n"
     ]
    }
   ],
   "source": [
    "print('Approach 5 (include unigram and bigrams):\\n')\n",
    "# include unigram and bigrams\n",
    "vect = CountVectorizer(ngram_range=(1, 2))\n",
    "vectorize_test(vect)"
   ]
  },
  {
   "cell_type": "markdown",
   "metadata": {},
   "source": [
    "**Approach** 6: include unigram and bigrams, not convert to lowercase  \n",
    "(`ngram_range=(1, 2)`, `lowercase=False`)"
   ]
  },
  {
   "cell_type": "code",
   "execution_count": 30,
   "metadata": {},
   "outputs": [
    {
     "name": "stdout",
     "output_type": "stream",
     "text": [
      "Approach 6 (include unigram and bigrams, not convert to lowercase):\n",
      "\n",
      "Features used: 3763\n",
      "Accuracy: 35.0%\n"
     ]
    }
   ],
   "source": [
    "print('Approach 6 (include unigram and bigrams, not convert to lowercase):\\n')\n",
    "# include unigram and bigrams, not convert to lowercase\n",
    "vect = CountVectorizer(ngram_range=(1, 2), lowercase=False)\n",
    "vectorize_test(vect)"
   ]
  },
  {
   "cell_type": "markdown",
   "metadata": {},
   "source": [
    "**Approach** 7:  all alphabetic characters and not convert to lowercase  \n",
    "(`token_pattern='^[^\\w]+$'`, `lowercase=False`)"
   ]
  },
  {
   "cell_type": "code",
   "execution_count": 31,
   "metadata": {},
   "outputs": [
    {
     "name": "stdout",
     "output_type": "stream",
     "text": [
      "Approach 7 (all alphabetic characters and not convert to lowercase):\n",
      "\n",
      "Features used: 1115\n",
      "Accuracy: 40.0%\n"
     ]
    }
   ],
   "source": [
    "print('Approach 7 (all alphabetic characters and not convert to lowercase):\\n')\n",
    "# include unigram and bigrams, not convert to lowercase\n",
    "vect = CountVectorizer(token_pattern='[a-z]+', lowercase=False)\n",
    "vectorize_test(vect)"
   ]
  },
  {
   "cell_type": "markdown",
   "metadata": {},
   "source": [
    "**Approach** 8: English stemmer from nltk  \n",
    "(`analyzer=stemmed_words`)"
   ]
  },
  {
   "cell_type": "code",
   "execution_count": 32,
   "metadata": {},
   "outputs": [],
   "source": [
    "# Define stemmed_words function for CountVectorizer\n",
    "from sklearn.feature_extraction.text import CountVectorizer\n",
    "from nltk.stem.snowball import EnglishStemmer\n",
    "stemmer = EnglishStemmer()\n",
    "analyzer = CountVectorizer().build_analyzer()\n",
    "\n",
    "def stemmed_words(doc):\n",
    "    return (stemmer.stem(w) for w in analyzer(doc))\n"
   ]
  },
  {
   "cell_type": "code",
   "execution_count": 33,
   "metadata": {},
   "outputs": [
    {
     "name": "stdout",
     "output_type": "stream",
     "text": [
      "Approach 8 (English stemmer from nltk):\n",
      "\n",
      "Features used: 972\n",
      "Accuracy: 35.0%\n"
     ]
    }
   ],
   "source": [
    "print('Approach 8 (English stemmer from nltk):\\n')\n",
    "# English stemmer from nltk\n",
    "vect = CountVectorizer(analyzer=stemmed_words, token_pattern='^[^\\w]+$')\n",
    "vectorize_test(vect)"
   ]
  },
  {
   "cell_type": "code",
   "execution_count": 34,
   "metadata": {},
   "outputs": [],
   "source": [
    "import pandas as pd\n",
    "import matplotlib.pyplot as plt\n",
    "model = ['null model', 'default model' ,'lower/uppercase model', 'stopwords_lower/uppercase model', \n",
    "         'uni/bigrams_lowercase model', 'uni/bigrams_lower/uppercase model', 'alphabet model', 'NLTK_stemmer model']\n",
    "accuracy = [50,    40,     40,   35,   40,    35,    40,    35]\n",
    "features = [0,     1085,   1152, 981,  3652,  3763,  1115,   972]\n",
    "\n",
    "models = pd.DataFrame({'model':model, 'accuracy':accuracy, 'features':features})\n",
    "models = models.set_index('model')"
   ]
  },
  {
   "cell_type": "code",
   "execution_count": 35,
   "metadata": {},
   "outputs": [
    {
     "data": {
      "image/png": "[encoded data removed]",
      "text/plain": [
       "<Figure size 576x432 with 1 Axes>"
      ]
     },
     "metadata": {
      "needs_background": "light"
     },
     "output_type": "display_data"
    }
   ],
   "source": [
    "models.loc[:,'features'].sort_values().plot(kind='barh', figsize=(8,6), fontsize=11)\n",
    "plt.xlim(0,4000)\n",
    "plt.title('Feature counts', size=12)\n",
    "plt.xlabel('Counts')\n",
    "plt.ylabel('Models')\n",
    "# add annotation on each bar\n",
    "for i in range(8):\n",
    "    plt.text(y = i - 0.05 , x = models.loc[:,'features'].sort_values()[i] + 10, \n",
    "             s = models.loc[:,'features'].sort_values()[i])"
   ]
  },
  {
   "cell_type": "code",
   "execution_count": 36,
   "metadata": {
    "scrolled": false
   },
   "outputs": [
    {
     "data": {
      "image/png": "[encoded data removed]",
      "text/plain": [
       "<Figure size 576x432 with 1 Axes>"
      ]
     },
     "metadata": {
      "needs_background": "light"
     },
     "output_type": "display_data"
    }
   ],
   "source": [
    "models.loc[:,'accuracy'].sort_values().plot(kind='barh', figsize=(8,6), fontsize=11)\n",
    "plt.xlim(0,100)\n",
    "plt.title('Model Accuracy', size=12)\n",
    "plt.xlabel('Accuracy (%)')\n",
    "plt.ylabel('Models')\n",
    "# add annotation on each bar\n",
    "for i in range(8):\n",
    "    plt.text(y = i - 0.05 , x = models.loc[:,'accuracy'].sort_values()[i] + 1, \n",
    "             s = str(models.loc[:,'accuracy'].sort_values()[i])+'%')"
   ]
  },
  {
   "cell_type": "code",
   "execution_count": null,
   "metadata": {},
   "outputs": [],
   "source": []
  }
 ],
 "metadata": {
  "kernelspec": {
   "display_name": "Python 3",
   "language": "python",
   "name": "python3"
  },
  "language_info": {
   "codemirror_mode": {
    "name": "ipython",
    "version": 3
   },
   "file_extension": ".py",
   "mimetype": "text/x-python",
   "name": "python",
   "nbconvert_exporter": "python",
   "pygments_lexer": "ipython3",
   "version": "3.7.3"
  }
 },
 "nbformat": 4,
 "nbformat_minor": 2
}
