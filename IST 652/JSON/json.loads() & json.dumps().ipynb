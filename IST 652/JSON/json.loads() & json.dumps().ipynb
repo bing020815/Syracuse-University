{
 "cells": [
  {
   "cell_type": "markdown",
   "metadata": {},
   "source": [
    "https://www.bogotobogo.com/python/python-json-dumps-loads-file-read-write.php"
   ]
  },
  {
   "cell_type": "markdown",
   "metadata": {},
   "source": [
    "Create a JSON for the following demo:"
   ]
  },
  {
   "cell_type": "code",
   "execution_count": 1,
   "metadata": {},
   "outputs": [],
   "source": [
    "injson={'alpha': 1, 'beta': 2}\n",
    "import json\n",
    "with open('in.json', 'w', encoding='utf-8') as tfile:\n",
    "    json.dump(injson, tfile, ensure_ascii=False, indent=4)\n",
    "    # The use of \"ensure_ascii=False\" and \"indent=4\" gives better readability and smaller size"
   ]
  },
  {
   "cell_type": "markdown",
   "metadata": {},
   "source": [
    "* Associate with files:\n",
    "    + dump: dict -> str file\n",
    "    + load: str file -> dict \n",
    "  \n",
    "  \n",
    "* Not associate with files:\n",
    "    + dumps: dict -> str \n",
    "    + loads: str -> dict"
   ]
  },
  {
   "cell_type": "markdown",
   "metadata": {},
   "source": [
    "### There are two ways of reading in (load/loads) json file:"
   ]
  },
  {
   "cell_type": "markdown",
   "metadata": {},
   "source": [
    "1. String:"
   ]
  },
  {
   "cell_type": "code",
   "execution_count": 3,
   "metadata": {
    "scrolled": true
   },
   "outputs": [
    {
     "data": {
      "text/plain": [
       "dict"
      ]
     },
     "execution_count": 3,
     "metadata": {},
     "output_type": "execute_result"
    }
   ],
   "source": [
    "type(json.loads(open(\"in.json\",\"r\").read() ) )"
   ]
  },
  {
   "cell_type": "code",
   "execution_count": 2,
   "metadata": {
    "scrolled": true
   },
   "outputs": [
    {
     "name": "stdout",
     "output_type": "stream",
     "text": [
      "{'alpha': 1, 'beta': 2}\n"
     ]
    }
   ],
   "source": [
    "import json\n",
    "# open(\"in.json\",\"r\").read() returns strings\n",
    "# json.loads(string) returns a dictionary\n",
    "print ( json.loads(open(\"in.json\",\"r\").read() ) ) "
   ]
  },
  {
   "cell_type": "markdown",
   "metadata": {},
   "source": [
    "2. Dictionary:"
   ]
  },
  {
   "cell_type": "code",
   "execution_count": 4,
   "metadata": {},
   "outputs": [
    {
     "data": {
      "text/plain": [
       "dict"
      ]
     },
     "execution_count": 4,
     "metadata": {},
     "output_type": "execute_result"
    }
   ],
   "source": [
    "type(json.load(open(\"in.json\",\"r\")) )"
   ]
  },
  {
   "cell_type": "code",
   "execution_count": 3,
   "metadata": {},
   "outputs": [
    {
     "name": "stdout",
     "output_type": "stream",
     "text": [
      "{'alpha': 1, 'beta': 2}\n"
     ]
    }
   ],
   "source": [
    "import json\n",
    "# The io(input/output) module provides the Python interfaces to stream handling.\n",
    "# json.load(_io) returns a dictionary\n",
    "print( json.load(open(\"in.json\",\"r\")) )"
   ]
  },
  {
   "cell_type": "markdown",
   "metadata": {},
   "source": [
    "### Similarly, we can write a (dump/dumps) json file:"
   ]
  },
  {
   "cell_type": "markdown",
   "metadata": {},
   "source": [
    "1. String:"
   ]
  },
  {
   "cell_type": "code",
   "execution_count": 4,
   "metadata": {},
   "outputs": [
    {
     "data": {
      "text/plain": [
       "23"
      ]
     },
     "execution_count": 4,
     "metadata": {},
     "output_type": "execute_result"
    }
   ],
   "source": [
    "import json\n",
    "d = {'alpha': 1, 'beta': 2}\n",
    "# json.dumps() returns a str\n",
    "s = json.dumps(d) \n",
    "open(\"out.json\",\"w\").write(s)"
   ]
  },
  {
   "cell_type": "markdown",
   "metadata": {},
   "source": [
    "2. Dictionary:"
   ]
  },
  {
   "cell_type": "code",
   "execution_count": 10,
   "metadata": {},
   "outputs": [],
   "source": [
    "import json\n",
    "d = {'alpha': 1, 'beta': 2}\n",
    "# json.dump() returns a str file\n",
    "with open('out.json', 'w', encoding='utf-8') as outfile:\n",
    "    json.dump(d, outfile, ensure_ascii=False, indent=4)\n",
    "# The use of \"ensure_ascii=False\" and \"indent=4\" gives better readability and smaller size"
   ]
  },
  {
   "cell_type": "markdown",
   "metadata": {},
   "source": [
    "    "
   ]
  },
  {
   "cell_type": "markdown",
   "metadata": {},
   "source": [
    "### In this tutorial, we'll convert Python dictionary to JSON and write it to a text file. Then, we'll read in back from the file and play with it."
   ]
  },
  {
   "cell_type": "markdown",
   "metadata": {},
   "source": [
    "Initially we'll construct Python dictionary like this:"
   ]
  },
  {
   "cell_type": "code",
   "execution_count": 11,
   "metadata": {},
   "outputs": [
    {
     "name": "stdout",
     "output_type": "stream",
     "text": [
      "{'gravity': {'mediator': 'gravitons', 'relative strength': '1', 'range': 'infinity'}, 'weak': {'mediator': 'W/Z bosons', 'relative strength': '10^25', 'range': '10^-18'}, 'electromagnetic': {'mediator': 'photons', 'relative strength': '10^36', 'range': 'infinity'}, 'strong': {'mediator': 'gluons', 'relative strength': '10^38', 'range': '10^-15'}}\n"
     ]
    }
   ],
   "source": [
    "# Four Fundamental Forces with JSON\n",
    "d = {}\n",
    "\n",
    "d [\"gravity\"] = {\n",
    "    \"mediator\":\"gravitons\",\n",
    "    \"relative strength\" : \"1\",\n",
    "    \"range\" : \"infinity\"\n",
    "}\n",
    "d [\"weak\"] = {\n",
    "    \"mediator\":\"W/Z bosons\",\n",
    "    \"relative strength\" : \"10^25\",\n",
    "    \"range\" : \"10^-18\"\n",
    "}\n",
    "d [\"electromagnetic\"] = {\n",
    "    \"mediator\":\"photons\",\n",
    "    \"relative strength\" : \"10^36\",\n",
    "    \"range\" : \"infinity\"\n",
    "}\n",
    "d [\"strong\"] = {\n",
    "    \"mediator\":\"gluons\",\n",
    "    \"relative strength\" : \"10^38\",\n",
    "    \"range\" : \"10^-15\"\n",
    "}\n",
    "\n",
    "print(d)"
   ]
  },
  {
   "cell_type": "markdown",
   "metadata": {},
   "source": [
    "The out put is a dictionary. \n",
    "##### Now we want to convert the dictionary to a string using json.dumps()"
   ]
  },
  {
   "cell_type": "code",
   "execution_count": 26,
   "metadata": {},
   "outputs": [
    {
     "name": "stdout",
     "output_type": "stream",
     "text": [
      "<class 'str'>\n",
      "{\"gravity\": {\"mediator\": \"gravitons\", \"relative strength\": \"1\", \"range\": \"infinity\"}, \"weak\": {\"mediator\": \"W/Z bosons\", \"relative strength\": \"10^25\", \"range\": \"10^-18\"}, \"electromagnetic\": {\"mediator\": \"photons\", \"relative strength\": \"10^36\", \"range\": \"infinity\"}, \"strong\": {\"mediator\": \"gluons\", \"relative strength\": \"10^38\", \"range\": \"10^-15\"}}\n"
     ]
    }
   ],
   "source": [
    "# The ouutput should be a string\n",
    "import json\n",
    "data = json.dumps(d)\n",
    "print(type(data))\n",
    "print(data)"
   ]
  },
  {
   "cell_type": "markdown",
   "metadata": {},
   "source": [
    "Note that the \"json.dumps()\" returns a string as indicated by the \"s\" at the end of \"dumps\". This process is called encoding.  \n",
    "Let's write it to a file:  "
   ]
  },
  {
   "cell_type": "code",
   "execution_count": 27,
   "metadata": {},
   "outputs": [],
   "source": [
    "import json\n",
    "data = json.dumps(d)\n",
    "with open(\"4forces.json\",\"w\") as f:\n",
    "  f.write(data)"
   ]
  },
  {
   "cell_type": "markdown",
   "metadata": {},
   "source": [
    "Now that the file is written. Let's reads it back and decoding the JSON-encoded string back into a Python dictionary data structure:"
   ]
  },
  {
   "cell_type": "code",
   "execution_count": 28,
   "metadata": {},
   "outputs": [],
   "source": [
    "# reads it back\n",
    "with open(\"4forces.json\",\"r\") as f:\n",
    "  data = f.read() # read() a file as string\n",
    "\n",
    "# decoding the JSON to dictionay with loads() -- meaing load string to json dictionary\n",
    "d = json.loads(data)"
   ]
  },
  {
   "cell_type": "code",
   "execution_count": 29,
   "metadata": {},
   "outputs": [
    {
     "data": {
      "text/plain": [
       "{'gravity': {'mediator': 'gravitons',\n",
       "  'relative strength': '1',\n",
       "  'range': 'infinity'},\n",
       " 'weak': {'mediator': 'W/Z bosons',\n",
       "  'relative strength': '10^25',\n",
       "  'range': '10^-18'},\n",
       " 'electromagnetic': {'mediator': 'photons',\n",
       "  'relative strength': '10^36',\n",
       "  'range': 'infinity'},\n",
       " 'strong': {'mediator': 'gluons',\n",
       "  'relative strength': '10^38',\n",
       "  'range': '10^-15'}}"
      ]
     },
     "execution_count": 29,
     "metadata": {},
     "output_type": "execute_result"
    }
   ],
   "source": [
    "d"
   ]
  },
  {
   "cell_type": "markdown",
   "metadata": {},
   "source": [
    "Let's play with the dictionary a little bit.  \n",
    "##### What's the relative strength of electromagnetic compared to gravity?"
   ]
  },
  {
   "cell_type": "code",
   "execution_count": 19,
   "metadata": {},
   "outputs": [
    {
     "name": "stdout",
     "output_type": "stream",
     "text": [
      "10^36\n"
     ]
    }
   ],
   "source": [
    "print(d[\"electromagnetic\"][\"relative strength\"])"
   ]
  },
  {
   "cell_type": "markdown",
   "metadata": {},
   "source": [
    "##### Who's the mediator for \"strong\" force?"
   ]
  },
  {
   "cell_type": "code",
   "execution_count": 20,
   "metadata": {},
   "outputs": [
    {
     "name": "stdout",
     "output_type": "stream",
     "text": [
      "gluons\n"
     ]
    }
   ],
   "source": [
    "print(d[\"strong\"][\"mediator\"])"
   ]
  },
  {
   "cell_type": "markdown",
   "metadata": {},
   "source": [
    "    "
   ]
  },
  {
   "cell_type": "markdown",
   "metadata": {},
   "source": [
    "#### If we prefer working with files instead of strings, we may want to use json.dump() / json.load() to encode / decode JSON data using the data from the previous example:"
   ]
  },
  {
   "cell_type": "code",
   "execution_count": 30,
   "metadata": {},
   "outputs": [],
   "source": [
    "# write to a file\n",
    "with open(\"4forces.json\",\"w\") as f:\n",
    "  json.dump(d, f, indent=4)\n",
    "\n",
    "# reads it back\n",
    "with open(\"4forces.json\",\"r\") as f:\n",
    "  d = json.load(f)"
   ]
  },
  {
   "cell_type": "code",
   "execution_count": 31,
   "metadata": {},
   "outputs": [
    {
     "data": {
      "text/plain": [
       "{'gravity': {'mediator': 'gravitons',\n",
       "  'relative strength': '1',\n",
       "  'range': 'infinity'},\n",
       " 'weak': {'mediator': 'W/Z bosons',\n",
       "  'relative strength': '10^25',\n",
       "  'range': '10^-18'},\n",
       " 'electromagnetic': {'mediator': 'photons',\n",
       "  'relative strength': '10^36',\n",
       "  'range': 'infinity'},\n",
       " 'strong': {'mediator': 'gluons',\n",
       "  'relative strength': '10^38',\n",
       "  'range': '10^-15'}}"
      ]
     },
     "execution_count": 31,
     "metadata": {},
     "output_type": "execute_result"
    }
   ],
   "source": [
    "d"
   ]
  },
  {
   "cell_type": "markdown",
   "metadata": {},
   "source": [
    "    "
   ]
  },
  {
   "cell_type": "markdown",
   "metadata": {},
   "source": [
    "#### Here is another example (json.dump()/json.load()) using simpler data:"
   ]
  },
  {
   "cell_type": "code",
   "execution_count": 33,
   "metadata": {},
   "outputs": [
    {
     "name": "stdout",
     "output_type": "stream",
     "text": [
      "{'alpha': 1, 'beta': 2}\n"
     ]
    }
   ],
   "source": [
    "import json\n",
    "# read\n",
    "# in.json file - {\"alpha\":1, \"beta\":2}\n",
    "with open(\"in.json\",\"r\") as fr:\n",
    "  out_dict = json.load(fr)\n",
    "print(out_dict)"
   ]
  },
  {
   "cell_type": "code",
   "execution_count": 34,
   "metadata": {},
   "outputs": [],
   "source": [
    "# write to a file\n",
    "in_dict = {\"a\":1,\"b\":2}\n",
    "with open(\"out.json\",\"w\") as fw:\n",
    "    json.dump(in_dict, fw, indent=4)\n",
    "# out.json file - {\"a\":1,\"b\":2}"
   ]
  },
  {
   "cell_type": "markdown",
   "metadata": {},
   "source": [
    "    "
   ]
  },
  {
   "cell_type": "markdown",
   "metadata": {},
   "source": [
    "#### Usage for string version: json.loads()/json.dumps():"
   ]
  },
  {
   "cell_type": "code",
   "execution_count": 36,
   "metadata": {},
   "outputs": [],
   "source": [
    "import json\n",
    "# read\n",
    "# in.json file - {\"alpha\":1, \"beta\":2}\n",
    "with open(\"in.json\", \"r\") as fr:\n",
    "    out_str = fr.read()\n",
    "out_dict = json.loads(out_str)"
   ]
  },
  {
   "cell_type": "code",
   "execution_count": 37,
   "metadata": {},
   "outputs": [],
   "source": [
    "# in_dict = {\"a\":1,\"b\":2}\n",
    "in_str = json.dumps(in_dict)\n",
    "with open(\"out.json\",\"w\") as fw:\n",
    "    fw.write(in_str)\n",
    "# out.json file - {\"a\":1,\"b\":2}"
   ]
  },
  {
   "cell_type": "code",
   "execution_count": null,
   "metadata": {},
   "outputs": [],
   "source": []
  }
 ],
 "metadata": {
  "kernelspec": {
   "display_name": "Python 3",
   "language": "python",
   "name": "python3"
  },
  "language_info": {
   "codemirror_mode": {
    "name": "ipython",
    "version": 3
   },
   "file_extension": ".py",
   "mimetype": "text/x-python",
   "name": "python",
   "nbconvert_exporter": "python",
   "pygments_lexer": "ipython3",
   "version": "3.7.3"
  }
 },
 "nbformat": 4,
 "nbformat_minor": 2
}
