{
 "cells": [
  {
   "cell_type": "markdown",
   "metadata": {},
   "source": [
    "### Read and write files using the built-in Python file methods"
   ]
  },
  {
   "cell_type": "code",
   "execution_count": 1,
   "metadata": {},
   "outputs": [],
   "source": [
    "# Open a file for writing and create it if it doesn't exist\n",
    "f = open('textfile.txt','w+')\n",
    "\n",
    "# write some lines of data to the file\n",
    "for i in range(10):\n",
    "    f.write(f'This is line {i} \\r\\n')\n",
    "# close the file when done\n",
    "f.close()\n"
   ]
  },
  {
   "cell_type": "code",
   "execution_count": 2,
   "metadata": {},
   "outputs": [],
   "source": [
    "# Open the file for appending text to the end\n",
    "f = open('textfile.txt','a') # a is to append instead of overwrite the data\n",
    "# write some lines of data to the file\n",
    "for i in range(10):\n",
    "    f.write(f'This is line {i} \\r\\n')\n",
    "# close the file when done\n",
    "f.close()"
   ]
  },
  {
   "cell_type": "code",
   "execution_count": 3,
   "metadata": {},
   "outputs": [
    {
     "name": "stdout",
     "output_type": "stream",
     "text": [
      "This is line 0 \n",
      "\n",
      "This is line 1 \n",
      "\n",
      "This is line 2 \n",
      "\n",
      "This is line 3 \n",
      "\n",
      "This is line 4 \n",
      "\n",
      "This is line 5 \n",
      "\n",
      "This is line 6 \n",
      "\n",
      "This is line 7 \n",
      "\n",
      "This is line 8 \n",
      "\n",
      "This is line 9 \n",
      "\n",
      "This is line 0 \n",
      "\n",
      "This is line 1 \n",
      "\n",
      "This is line 2 \n",
      "\n",
      "This is line 3 \n",
      "\n",
      "This is line 4 \n",
      "\n",
      "This is line 5 \n",
      "\n",
      "This is line 6 \n",
      "\n",
      "This is line 7 \n",
      "\n",
      "This is line 8 \n",
      "\n",
      "This is line 9 \n",
      "\n",
      "\n"
     ]
    }
   ],
   "source": [
    "# Open the file to read\n",
    "f = open('textfile.txt','r')\n",
    "# Open the file back up and read the contents\n",
    "if f.mode == 'r':\n",
    "    contents = f.read()\n",
    "    print(contents)"
   ]
  },
  {
   "cell_type": "markdown",
   "metadata": {},
   "source": [
    "### readlines()"
   ]
  },
  {
   "cell_type": "code",
   "execution_count": 5,
   "metadata": {},
   "outputs": [
    {
     "name": "stdout",
     "output_type": "stream",
     "text": [
      "This is line 0 \n",
      "\n",
      "\n",
      "\n",
      "This is line 1 \n",
      "\n",
      "\n",
      "\n",
      "This is line 2 \n",
      "\n",
      "\n",
      "\n",
      "This is line 3 \n",
      "\n",
      "\n",
      "\n",
      "This is line 4 \n",
      "\n",
      "\n",
      "\n",
      "This is line 5 \n",
      "\n",
      "\n",
      "\n",
      "This is line 6 \n",
      "\n",
      "\n",
      "\n",
      "This is line 7 \n",
      "\n",
      "\n",
      "\n",
      "This is line 8 \n",
      "\n",
      "\n",
      "\n",
      "This is line 9 \n",
      "\n",
      "\n",
      "\n",
      "This is line 0 \n",
      "\n",
      "\n",
      "\n",
      "This is line 1 \n",
      "\n",
      "\n",
      "\n",
      "This is line 2 \n",
      "\n",
      "\n",
      "\n",
      "This is line 3 \n",
      "\n",
      "\n",
      "\n",
      "This is line 4 \n",
      "\n",
      "\n",
      "\n",
      "This is line 5 \n",
      "\n",
      "\n",
      "\n",
      "This is line 6 \n",
      "\n",
      "\n",
      "\n",
      "This is line 7 \n",
      "\n",
      "\n",
      "\n",
      "This is line 8 \n",
      "\n",
      "\n",
      "\n",
      "This is line 9 \n",
      "\n",
      "\n",
      "\n"
     ]
    }
   ],
   "source": [
    "# Open the file to read\n",
    "f = open('textfile.txt','r')\n",
    "# Open the file back up and read the contents\n",
    "if f.mode == 'r':\n",
    "    fl=f.readlines()\n",
    "    for x in fl:\n",
    "        print(x)"
   ]
  },
  {
   "cell_type": "markdown",
   "metadata": {},
   "source": [
    "### Example file for working with os.path module"
   ]
  },
  {
   "cell_type": "code",
   "execution_count": 9,
   "metadata": {},
   "outputs": [],
   "source": [
    "import os\n",
    "from os import path\n",
    "import datetime\n",
    "from datetime import date, time, timedelta\n",
    "import time"
   ]
  },
  {
   "cell_type": "code",
   "execution_count": 17,
   "metadata": {},
   "outputs": [
    {
     "name": "stdout",
     "output_type": "stream",
     "text": [
      "nt\n"
     ]
    }
   ],
   "source": [
    "# print the name of the os\n",
    "print(os.name)"
   ]
  },
  {
   "cell_type": "code",
   "execution_count": 18,
   "metadata": {},
   "outputs": [
    {
     "name": "stdout",
     "output_type": "stream",
     "text": [
      "Item exists: True\n",
      "Item is a file: True\n",
      "Item is a directory: False\n"
     ]
    }
   ],
   "source": [
    "# check for item existence and type\n",
    "print(f'Item exists: {path.exists(\"textfile.txt\")}')\n",
    "print(f'Item is a file: {path.isfile(\"textfile.txt\")}')\n",
    "print(f'Item is a directory: {path.isdir(\"textfile.txt\")}')"
   ]
  },
  {
   "cell_type": "code",
   "execution_count": 19,
   "metadata": {},
   "outputs": [
    {
     "name": "stdout",
     "output_type": "stream",
     "text": [
      "Item path: C:\\Users\\wubingje\\Dropbox\\7. Syracuse University\\Courses\\IST 652 Fall 2019\\Resource\\textfile.txt\n",
      "Item is a file: ('C:\\\\Users\\\\wubingje\\\\Dropbox\\\\7. Syracuse University\\\\Courses\\\\IST 652 Fall 2019\\\\Resource', 'textfile.txt')\n"
     ]
    }
   ],
   "source": [
    "# work with file paths\n",
    "print(f'Item path: {path.realpath(\"textfile.txt\")}')\n",
    "print(f'Item is a file: {path.split(path.realpath(\"textfile.txt\"))}')"
   ]
  },
  {
   "cell_type": "code",
   "execution_count": 20,
   "metadata": {},
   "outputs": [
    {
     "name": "stdout",
     "output_type": "stream",
     "text": [
      "Wed Oct 30 15:30:45 2019\n",
      "2019-10-30 15:30:45.983828\n"
     ]
    }
   ],
   "source": [
    "# Get the modification time\n",
    "t=time.ctime(path.getmtime(\"textfile.txt\"))\n",
    "print(t)\n",
    "print(datetime.datetime.fromtimestamp(path.getmtime(\"textfile.txt\")))"
   ]
  },
  {
   "cell_type": "code",
   "execution_count": 22,
   "metadata": {},
   "outputs": [
    {
     "name": "stdout",
     "output_type": "stream",
     "text": [
      "It has been 0:17:44.930263 since the file was modified\n",
      "Or, 1064.930263 seconds\n"
     ]
    }
   ],
   "source": [
    "# Calculate how long ago the item was modified\n",
    "td=datetime.datetime.now()-datetime.datetime.fromtimestamp(path.getmtime(\"textfile.txt\"))\n",
    "print(f'It has been {td} since the file was modified')\n",
    "print(f'Or, {td.total_seconds()} seconds')"
   ]
  },
  {
   "cell_type": "code",
   "execution_count": null,
   "metadata": {},
   "outputs": [],
   "source": []
  }
 ],
 "metadata": {
  "kernelspec": {
   "display_name": "Python 3",
   "language": "python",
   "name": "python3"
  },
  "language_info": {
   "codemirror_mode": {
    "name": "ipython",
    "version": 3
   },
   "file_extension": ".py",
   "mimetype": "text/x-python",
   "name": "python",
   "nbconvert_exporter": "python",
   "pygments_lexer": "ipython3",
   "version": "3.7.3"
  }
 },
 "nbformat": 4,
 "nbformat_minor": 2
}
