{
 "cells": [
  {
   "cell_type": "markdown",
   "metadata": {},
   "source": [
    "## Load libraries for working with date information"
   ]
  },
  {
   "cell_type": "markdown",
   "metadata": {},
   "source": [
    "### The date, time and datetime classes"
   ]
  },
  {
   "cell_type": "code",
   "execution_count": 1,
   "metadata": {},
   "outputs": [],
   "source": [
    "from datetime import date # date class\n",
    "from datetime import time # time class\n",
    "from datetime import datetime # datetime class"
   ]
  },
  {
   "cell_type": "code",
   "execution_count": 4,
   "metadata": {},
   "outputs": [
    {
     "name": "stdout",
     "output_type": "stream",
     "text": [
      "Today's date is  2019-10-29\n"
     ]
    }
   ],
   "source": [
    "## Date objects\n",
    "# Get today's date from the simple today() method from the date class\n",
    "today=date.today()\n",
    "print(\"Today's date is \", today)"
   ]
  },
  {
   "cell_type": "code",
   "execution_count": 5,
   "metadata": {},
   "outputs": [
    {
     "name": "stdout",
     "output_type": "stream",
     "text": [
      "Date components:  29 10 2019\n"
     ]
    }
   ],
   "source": [
    "# print out the date's individual components\n",
    "print(\"Date components: \", today.day, today.month, today.year)"
   ]
  },
  {
   "cell_type": "code",
   "execution_count": 8,
   "metadata": {},
   "outputs": [
    {
     "name": "stdout",
     "output_type": "stream",
     "text": [
      "Today's weekday # is: 1\n",
      "Which is a:  Tud\n"
     ]
    }
   ],
   "source": [
    "# retrieve today's weekday (0=Monday, 6=Sunday)\n",
    "print(\"Today's weekday # is:\", today.weekday() )\n",
    "days=['Mon', 'Tud','Wed', 'Thu','Fri', 'Sat','Sun']\n",
    "print(\"Which is a: \", days[today.weekday()])"
   ]
  },
  {
   "cell_type": "code",
   "execution_count": 10,
   "metadata": {},
   "outputs": [
    {
     "name": "stdout",
     "output_type": "stream",
     "text": [
      "The current date and time is  2019-10-29 15:43:13.613935\n"
     ]
    }
   ],
   "source": [
    "## Date objects\n",
    "# Get today's date from the datetime class\n",
    "today = datetime.now()\n",
    "print(\"The current date and time is \", today)\n"
   ]
  },
  {
   "cell_type": "code",
   "execution_count": 14,
   "metadata": {},
   "outputs": [
    {
     "name": "stdout",
     "output_type": "stream",
     "text": [
      "15:43:57.483355\n"
     ]
    }
   ],
   "source": [
    "# Get the current time\n",
    "t=datetime.time(datetime.now())\n",
    "print(t)"
   ]
  },
  {
   "cell_type": "markdown",
   "metadata": {},
   "source": [
    "### Formatting time output"
   ]
  },
  {
   "cell_type": "code",
   "execution_count": 23,
   "metadata": {},
   "outputs": [],
   "source": [
    "from datetime import date # date class\n",
    "from datetime import time # time class\n",
    "from datetime import datetime # datetime class"
   ]
  },
  {
   "cell_type": "markdown",
   "metadata": {},
   "source": [
    "#### Date Formatting:\n",
    "%t/%Y - Year  \n",
    "%a/%A - Weekday  \n",
    "%b/%B - Month in English\n",
    "%m - Month\n",
    "%d/%D - Day of month  \n",
    "%c - local's date and time  \n",
    "%x - local's date  \n",
    "%X - local's time\n",
    "%j - Day of the year as a zero-padded decimal number\n",
    "%U - Week number of the year (Sunday as the first day of the week)\n",
    "%W - Week number of the year (Monday as the first day of the week)"
   ]
  },
  {
   "cell_type": "code",
   "execution_count": 16,
   "metadata": {},
   "outputs": [
    {
     "name": "stdout",
     "output_type": "stream",
     "text": [
      "The current year is: 2019\n"
     ]
    }
   ],
   "source": [
    "# Times and dates can be formatted using a set of predefiend string control codes\n",
    "now=datetime.now()\n",
    "print(now.strftime(\"The current year is: %Y\"))"
   ]
  },
  {
   "cell_type": "code",
   "execution_count": 17,
   "metadata": {},
   "outputs": [
    {
     "name": "stdout",
     "output_type": "stream",
     "text": [
      "Tue, 29 October, 19\n"
     ]
    }
   ],
   "source": [
    "print(now.strftime(\"%a, %d %B, %y\"))"
   ]
  },
  {
   "cell_type": "code",
   "execution_count": 19,
   "metadata": {},
   "outputs": [
    {
     "name": "stdout",
     "output_type": "stream",
     "text": [
      "Locale date and time: Tue Oct 29 15:50:45 2019\n",
      "Locale date: 10/29/19\n",
      "Locale time: 15:50:45\n"
     ]
    }
   ],
   "source": [
    "print(now.strftime(\"Locale date and time: %c\"))\n",
    "print(now.strftime(\"Locale date: %x\"))\n",
    "print(now.strftime(\"Locale time: %X\"))"
   ]
  },
  {
   "cell_type": "markdown",
   "metadata": {},
   "source": [
    "#### Time Formatting:\n",
    "%I/%H - 12/24 Hour  \n",
    "%M - Minute  \n",
    "%S - Second\n",
    "%p local's AM/PM"
   ]
  },
  {
   "cell_type": "code",
   "execution_count": 20,
   "metadata": {},
   "outputs": [
    {
     "name": "stdout",
     "output_type": "stream",
     "text": [
      "Current time: 03:50:45 PM\n",
      "24-hour time: 15:50\n"
     ]
    }
   ],
   "source": [
    "print(now.strftime(\"Current time: %I:%M:%S %p\"))\n",
    "print(now.strftime(\"24-hour time: %H:%M\"))"
   ]
  },
  {
   "cell_type": "markdown",
   "metadata": {},
   "source": [
    "### Using timedelta objects"
   ]
  },
  {
   "cell_type": "code",
   "execution_count": 36,
   "metadata": {},
   "outputs": [],
   "source": [
    "from datetime import date # date class\n",
    "from datetime import time # time class\n",
    "from datetime import datetime # datetime class\n",
    "from datetime import timedelta"
   ]
  },
  {
   "cell_type": "code",
   "execution_count": 24,
   "metadata": {},
   "outputs": [
    {
     "name": "stdout",
     "output_type": "stream",
     "text": [
      "365 days, 5:01:00\n"
     ]
    }
   ],
   "source": [
    "# Construct a basic timedelta and print it\n",
    "print(timedelta(days=365, hours=5, minutes=1))"
   ]
  },
  {
   "cell_type": "code",
   "execution_count": 26,
   "metadata": {},
   "outputs": [
    {
     "name": "stdout",
     "output_type": "stream",
     "text": [
      "today is : 2019-10-29 16:21:43.632307\n"
     ]
    }
   ],
   "source": [
    "# print today's date\n",
    "now=datetime.now()\n",
    "print(\"today is : \" + str(now))"
   ]
  },
  {
   "cell_type": "code",
   "execution_count": 28,
   "metadata": {},
   "outputs": [
    {
     "name": "stdout",
     "output_type": "stream",
     "text": [
      "today is : 2019-10-29 16:21:43.632307\n",
      "one year from now it will be: 2020-10-28 16:21:43.632307\n"
     ]
    }
   ],
   "source": [
    "# print today's date one year from now\n",
    "print(\"today is : \" + str(now))\n",
    "print(\"one year from now it will be: \" + str(now + timedelta(days=365)))"
   ]
  },
  {
   "cell_type": "code",
   "execution_count": 30,
   "metadata": {},
   "outputs": [
    {
     "name": "stdout",
     "output_type": "stream",
     "text": [
      "today is : 2019-10-29 16:21:43.632307\n",
      "In 2 days and 3 weeks, it will be: 2019-11-21 16:21:43.632307\n"
     ]
    }
   ],
   "source": [
    "# create a timedelta that uses more than one argument\n",
    "print(\"today is : \" + str(now))\n",
    "print(\"In 2 days and 3 weeks, it will be: \" + str(now + timedelta(days=2, weeks=3)))"
   ]
  },
  {
   "cell_type": "code",
   "execution_count": 32,
   "metadata": {},
   "outputs": [
    {
     "name": "stdout",
     "output_type": "stream",
     "text": [
      "One week ago it was: Tuesday October 22, 2019\n"
     ]
    }
   ],
   "source": [
    "# calculate the date 1 week ago, formatted as a sting\n",
    "t = datetime.now() -timedelta(weeks=1)\n",
    "s=t.strftime(\"%A %B %d, %Y\")\n",
    "print(\"One week ago it was: \" + s)"
   ]
  },
  {
   "cell_type": "code",
   "execution_count": 41,
   "metadata": {},
   "outputs": [
    {
     "name": "stdout",
     "output_type": "stream",
     "text": [
      "April Fool's day already went by 211 days ago\n",
      "It's just 155 days until April Fool's Day\n"
     ]
    }
   ],
   "source": [
    "# Calculate how many days until April Fools' Day?\n",
    "today = date.today()\n",
    "afd = date(today.year, 4, 1)\n",
    "\n",
    "# use date comparison to see if April Fool's has already gone for this year\n",
    "# if it has, use replace() function to get the date for next year\n",
    "if afd < today:\n",
    "    print(f\"April Fool's day already went by {(today-afd).days} days ago\")\n",
    "    afd=afd.replace(year=today.year+1)\n",
    "    \n",
    "# Now calculate the amountof time until April Fool's Day\n",
    "time_to_afd = afd-today\n",
    "print(f\"It's just {time_to_afd.days} days until April Fool's Day\")"
   ]
  },
  {
   "cell_type": "markdown",
   "metadata": {},
   "source": [
    "### Working with calendars"
   ]
  },
  {
   "cell_type": "code",
   "execution_count": 42,
   "metadata": {},
   "outputs": [],
   "source": [
    "# Import the calendar module\n",
    "import calendar"
   ]
  },
  {
   "cell_type": "code",
   "execution_count": 48,
   "metadata": {},
   "outputs": [
    {
     "name": "stdout",
     "output_type": "stream",
     "text": [
      "    January 2019\n",
      "Su Mo Tu We Th Fr Sa\n",
      "       1  2  3  4  5\n",
      " 6  7  8  9 10 11 12\n",
      "13 14 15 16 17 18 19\n",
      "20 21 22 23 24 25 26\n",
      "27 28 29 30 31\n",
      "\n"
     ]
    }
   ],
   "source": [
    "# create a plain text calender\n",
    "c = calendar.TextCalendar(calendar.SUNDAY) # indicate which day of the week we want to start on\n",
    "st = c.formatmonth(2019,1,0,0)\n",
    "print(st)"
   ]
  },
  {
   "cell_type": "code",
   "execution_count": 47,
   "metadata": {},
   "outputs": [
    {
     "name": "stdout",
     "output_type": "stream",
     "text": [
      "<table border=\"0\" cellpadding=\"0\" cellspacing=\"0\" class=\"month\">\n",
      "<tr><th colspan=\"7\" class=\"month\">January 2019</th></tr>\n",
      "<tr><th class=\"sun\">Sun</th><th class=\"mon\">Mon</th><th class=\"tue\">Tue</th><th class=\"wed\">Wed</th><th class=\"thu\">Thu</th><th class=\"fri\">Fri</th><th class=\"sat\">Sat</th></tr>\n",
      "<tr><td class=\"noday\">&nbsp;</td><td class=\"noday\">&nbsp;</td><td class=\"tue\">1</td><td class=\"wed\">2</td><td class=\"thu\">3</td><td class=\"fri\">4</td><td class=\"sat\">5</td></tr>\n",
      "<tr><td class=\"sun\">6</td><td class=\"mon\">7</td><td class=\"tue\">8</td><td class=\"wed\">9</td><td class=\"thu\">10</td><td class=\"fri\">11</td><td class=\"sat\">12</td></tr>\n",
      "<tr><td class=\"sun\">13</td><td class=\"mon\">14</td><td class=\"tue\">15</td><td class=\"wed\">16</td><td class=\"thu\">17</td><td class=\"fri\">18</td><td class=\"sat\">19</td></tr>\n",
      "<tr><td class=\"sun\">20</td><td class=\"mon\">21</td><td class=\"tue\">22</td><td class=\"wed\">23</td><td class=\"thu\">24</td><td class=\"fri\">25</td><td class=\"sat\">26</td></tr>\n",
      "<tr><td class=\"sun\">27</td><td class=\"mon\">28</td><td class=\"tue\">29</td><td class=\"wed\">30</td><td class=\"thu\">31</td><td class=\"noday\">&nbsp;</td><td class=\"noday\">&nbsp;</td></tr>\n",
      "</table>\n",
      "\n"
     ]
    }
   ],
   "source": [
    "# create an HTML formatted calendar\n",
    "hc = calendar.HTMLCalendar(calendar.SUNDAY) # indicate which day of the week we want to start on\n",
    "st = hc.formatmonth(2019,1)\n",
    "print(st)"
   ]
  },
  {
   "cell_type": "code",
   "execution_count": 49,
   "metadata": {},
   "outputs": [
    {
     "name": "stdout",
     "output_type": "stream",
     "text": [
      "0\n",
      "0\n",
      "0\n",
      "0\n",
      "1\n",
      "2\n",
      "3\n",
      "4\n",
      "5\n",
      "6\n",
      "7\n",
      "8\n",
      "9\n",
      "10\n",
      "11\n",
      "12\n",
      "13\n",
      "14\n",
      "15\n",
      "16\n",
      "17\n",
      "18\n",
      "19\n",
      "20\n",
      "21\n",
      "22\n",
      "23\n",
      "24\n",
      "25\n",
      "26\n",
      "27\n",
      "28\n",
      "29\n",
      "30\n",
      "31\n"
     ]
    }
   ],
   "source": [
    "# loop over the days of a month\n",
    "# zeros mean that the day of the week is in an overlapping month\n",
    "for i in c.itermonthdays(2019, 8):\n",
    "   print(i)\n",
    "# zeros in the output represent the days that belong to other months"
   ]
  },
  {
   "cell_type": "code",
   "execution_count": 54,
   "metadata": {},
   "outputs": [
    {
     "name": "stdout",
     "output_type": "stream",
     "text": [
      "\n",
      "January\n",
      "February\n",
      "March\n",
      "April\n",
      "May\n",
      "June\n",
      "July\n",
      "August\n",
      "September\n",
      "October\n",
      "November\n",
      "December\n",
      "Monday\n",
      "Tuesday\n",
      "Wednesday\n",
      "Thursday\n",
      "Friday\n",
      "Saturday\n",
      "Sunday\n"
     ]
    }
   ],
   "source": [
    "# The Calendar module provides useful utilities for the given local,\n",
    "# such as the names of days and months in both full and abbreviated forms\n",
    "for name in calendar.month_name:\n",
    "    print(name)\n",
    "\n",
    "for day in calendar.day_name:\n",
    "    print(day)"
   ]
  },
  {
   "cell_type": "code",
   "execution_count": 96,
   "metadata": {},
   "outputs": [
    {
     "name": "stdout",
     "output_type": "stream",
     "text": [
      "Team meetings will be on:\n",
      "January     4\n",
      "February    1\n",
      "March       1\n",
      "April       5\n",
      "May         3\n",
      "June        7\n",
      "July        5\n",
      "August      2\n",
      "September   6\n",
      "October     4\n",
      "November    1\n",
      "December    6\n"
     ]
    }
   ],
   "source": [
    "# Calculate days based on a rule:\n",
    "# Consider a team meeting on the first Friday of every month. \n",
    "# To figure out what days that would be for each month, we can use this script:\n",
    "print(\"Team meetings will be on:\")\n",
    "for m in range(1,13):\n",
    "    cal = calendar.monthcalendar(2019, m)\n",
    "    weekone=cal[0] # store the first week of the month\n",
    "    weektwo=cal[1] # store the second week of the month\n",
    "    \n",
    "    if weekone[calendar.FRIDAY] != 0:\n",
    "        meetday=weekone[calendar.FRIDAY]\n",
    "    else:\n",
    "        meetday=weektwo[calendar.FRIDAY]\n",
    "    print('{:10s} {:2d}'.format(calendar.month_name[m],meetday))"
   ]
  },
  {
   "cell_type": "code",
   "execution_count": 108,
   "metadata": {},
   "outputs": [
    {
     "name": "stdout",
     "output_type": "stream",
     "text": [
      "   December 2019\n",
      "Su Mo Tu We Th Fr Sa\n",
      " 1  2  3  4  5  6  7\n",
      " 8  9 10 11 12 13 14\n",
      "15 16 17 18 19 20 21\n",
      "22 23 24 25 26 27 28\n",
      "29 30 31\n",
      "\n"
     ]
    }
   ],
   "source": [
    "c = calendar.TextCalendar(calendar.SUNDAY) \n",
    "# indicate which day of the week we want to start on\n",
    "# in default it starts on Monday\n",
    "st = c.formatmonth(2019,12,0,0)\n",
    "print(st)"
   ]
  },
  {
   "cell_type": "code",
   "execution_count": 109,
   "metadata": {},
   "outputs": [
    {
     "data": {
      "text/plain": [
       "[[0, 0, 0, 0, 0, 0, 1],\n",
       " [2, 3, 4, 5, 6, 7, 8],\n",
       " [9, 10, 11, 12, 13, 14, 15],\n",
       " [16, 17, 18, 19, 20, 21, 22],\n",
       " [23, 24, 25, 26, 27, 28, 29],\n",
       " [30, 31, 0, 0, 0, 0, 0]]"
      ]
     },
     "execution_count": 109,
     "metadata": {},
     "output_type": "execute_result"
    }
   ],
   "source": [
    "# The calender day starts from Mon, Tue, Wed, Thu, Fri, Sat, Sun\n",
    "# The calender index for each day of a week starts from 0(Mon), 1(Tue),2(Wed),3(Thu), 4(Fri), 5(Sun) and 6(Sun)\n",
    "calendar.monthcalendar(2019, 12)"
   ]
  },
  {
   "cell_type": "code",
   "execution_count": 110,
   "metadata": {},
   "outputs": [
    {
     "data": {
      "text/plain": [
       "[0, 0, 0, 0, 0, 0, 1]"
      ]
     },
     "execution_count": 110,
     "metadata": {},
     "output_type": "execute_result"
    }
   ],
   "source": [
    "weekone # first week of December "
   ]
  },
  {
   "cell_type": "code",
   "execution_count": 111,
   "metadata": {},
   "outputs": [
    {
     "data": {
      "text/plain": [
       "[2, 3, 4, 5, 6, 7, 8]"
      ]
     },
     "execution_count": 111,
     "metadata": {},
     "output_type": "execute_result"
    }
   ],
   "source": [
    "weektwo # second week of December "
   ]
  },
  {
   "cell_type": "code",
   "execution_count": 101,
   "metadata": {},
   "outputs": [
    {
     "data": {
      "text/plain": [
       "0"
      ]
     },
     "execution_count": 101,
     "metadata": {},
     "output_type": "execute_result"
    }
   ],
   "source": [
    "calendar.MONDAY"
   ]
  },
  {
   "cell_type": "code",
   "execution_count": 102,
   "metadata": {},
   "outputs": [
    {
     "data": {
      "text/plain": [
       "1"
      ]
     },
     "execution_count": 102,
     "metadata": {},
     "output_type": "execute_result"
    }
   ],
   "source": [
    "calendar.TUESDAY"
   ]
  },
  {
   "cell_type": "code",
   "execution_count": 103,
   "metadata": {},
   "outputs": [
    {
     "data": {
      "text/plain": [
       "2"
      ]
     },
     "execution_count": 103,
     "metadata": {},
     "output_type": "execute_result"
    }
   ],
   "source": [
    "calendar.WEDNESDAY"
   ]
  },
  {
   "cell_type": "code",
   "execution_count": 104,
   "metadata": {},
   "outputs": [
    {
     "data": {
      "text/plain": [
       "3"
      ]
     },
     "execution_count": 104,
     "metadata": {},
     "output_type": "execute_result"
    }
   ],
   "source": [
    "calendar.THURSDAY"
   ]
  },
  {
   "cell_type": "code",
   "execution_count": 105,
   "metadata": {},
   "outputs": [
    {
     "data": {
      "text/plain": [
       "4"
      ]
     },
     "execution_count": 105,
     "metadata": {},
     "output_type": "execute_result"
    }
   ],
   "source": [
    "calendar.FRIDAY"
   ]
  },
  {
   "cell_type": "code",
   "execution_count": 106,
   "metadata": {},
   "outputs": [
    {
     "data": {
      "text/plain": [
       "5"
      ]
     },
     "execution_count": 106,
     "metadata": {},
     "output_type": "execute_result"
    }
   ],
   "source": [
    "calendar.SATURDAY"
   ]
  },
  {
   "cell_type": "code",
   "execution_count": 107,
   "metadata": {},
   "outputs": [
    {
     "data": {
      "text/plain": [
       "6"
      ]
     },
     "execution_count": 107,
     "metadata": {},
     "output_type": "execute_result"
    }
   ],
   "source": [
    "calendar.SUNDAY"
   ]
  },
  {
   "cell_type": "code",
   "execution_count": null,
   "metadata": {},
   "outputs": [],
   "source": []
  },
  {
   "cell_type": "code",
   "execution_count": null,
   "metadata": {},
   "outputs": [],
   "source": []
  },
  {
   "cell_type": "code",
   "execution_count": null,
   "metadata": {},
   "outputs": [],
   "source": []
  },
  {
   "cell_type": "code",
   "execution_count": null,
   "metadata": {},
   "outputs": [],
   "source": []
  }
 ],
 "metadata": {
  "kernelspec": {
   "display_name": "Python 3",
   "language": "python",
   "name": "python3"
  },
  "language_info": {
   "codemirror_mode": {
    "name": "ipython",
    "version": 3
   },
   "file_extension": ".py",
   "mimetype": "text/x-python",
   "name": "python",
   "nbconvert_exporter": "python",
   "pygments_lexer": "ipython3",
   "version": "3.7.3"
  }
 },
 "nbformat": 4,
 "nbformat_minor": 2
}
