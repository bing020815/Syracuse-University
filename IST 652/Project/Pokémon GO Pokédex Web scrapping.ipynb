{
 "cells": [
  {
   "cell_type": "markdown",
   "metadata": {},
   "source": [
    "## Collecting web page data  \n",
    "\n",
    "The purpose of this program is to scrape data from the website https://pokemondb.net/go/pokedex, \n",
    "and save it as a csv file in a format that facilitates analysis.\n",
    "\n",
    "It will seek to answer Question 2: Is there any difference in a Pokémon’s power or skill between the two platforms? How are they different?\n",
    "\n",
    "The following tutorial was referenced to complete this webscraping project\n",
    "https://towardsdatascience.com/web-scraping-html-tables-with-python-c9baba21059"
   ]
  },
  {
   "cell_type": "markdown",
   "metadata": {},
   "source": [
    "##### Inspect HTML\n",
    "Before moving forward, we need to understand the structure of the website we wish to scrape.  \n",
    "This can be done by clicking right-clicking the element we wish to scrape and then hitting “Inspect”.   \n",
    "The Pokemon GO pokedex table is under the tag, table id=\"pokedex."
   ]
  },
  {
   "cell_type": "markdown",
   "metadata": {},
   "source": [
    "![title](img/table.png)"
   ]
  },
  {
   "cell_type": "markdown",
   "metadata": {},
   "source": [
    "##### Import Libraries\n",
    "We will need requests for getting the HTML contents of the website and lxml.html for parsing the relevant fields. \n",
    "Finally, we will store the data on a Pandas Dataframe."
   ]
  },
  {
   "cell_type": "code",
   "execution_count": 1,
   "metadata": {},
   "outputs": [],
   "source": [
    "import requests          # to get a response from a url\n",
    "import lxml.html as lh   # lxml parser\n",
    "import pandas as pd      # pandas dataframe"
   ]
  },
  {
   "cell_type": "markdown",
   "metadata": {},
   "source": [
    "##### Scrape Table Cells\n",
    "Use code below to get the Pokemon Go data of the HTML table."
   ]
  },
  {
   "cell_type": "code",
   "execution_count": 2,
   "metadata": {},
   "outputs": [],
   "source": [
    "# Assign the url to an url variable\n",
    "url='https://pokemondb.net/go/pokedex'\n",
    "\n",
    "# Create a handle, page (a response class which contains a server's response to an HTTP request), \n",
    "# to handle the contents of the website\n",
    "page = requests.get(url)"
   ]
  },
  {
   "cell_type": "code",
   "execution_count": 3,
   "metadata": {},
   "outputs": [
    {
     "data": {
      "text/plain": [
       "200"
      ]
     },
     "execution_count": 3,
     "metadata": {},
     "output_type": "execute_result"
    }
   ],
   "source": [
    "# use the status_code method, a function defined in the class, to check the http response status code\n",
    "page.status_code # the url is responsed successfully"
   ]
  },
  {
   "cell_type": "markdown",
   "metadata": {},
   "source": [
    "HTTP response status codes indicate whether a specific HTTP request has been successfully completed. Responses are grouped in five classes:  \n",
    "\n",
    "Informational responses (100–199),  \n",
    "Successful responses (200–299),  \n",
    "Redirects (300–399),  \n",
    "Client errors (400–499),  \n",
    "and Server errors (500–599).  "
   ]
  },
  {
   "cell_type": "code",
   "execution_count": 4,
   "metadata": {},
   "outputs": [
    {
     "data": {
      "text/plain": [
       "b'<!DOCTYPE html>\\n<html lang=\"en\">\\n<head>\\n<meta charset=\"utf-8\">\\n<title>Pok\\xc3\\xa9mon GO list of Pok\\xc3\\xa9mon | Pok\\xc3\\xa9mon Database</title>\\n<link rel=\"preconnect\" href=\"https://fonts.gstatic.com\">\\n<link rel=\"preconnect\" href=\"https://img.pokemondb.net\">\\n<link rel=\"stylesheet\" href=\"/static/css/pokemondb-3866aea80e.css\">\\n<meta name=\"viewport\" content=\"width=device-width, initial-scale=1\">\\n<meta property=\"og:description\" name=\"description\" content=\"Complete Pok\\xc3\\xa9dex for all Pok\\xc3\\xa9mon available in Pok\\xc3\\xa9mon GO.\">'"
      ]
     },
     "execution_count": 4,
     "metadata": {},
     "output_type": "execute_result"
    }
   ],
   "source": [
    "# use the content method, a function defined in the class, to take a quickly look at the html code\n",
    "page.content[:500]"
   ]
  },
  {
   "cell_type": "code",
   "execution_count": 5,
   "metadata": {},
   "outputs": [],
   "source": [
    "# use fromstring() method from lxml.html module to store bytes type to an Element class\n",
    "doc = lh.fromstring(page.content)  # <lxml.html.HtmlElement> "
   ]
  },
  {
   "cell_type": "markdown",
   "metadata": {},
   "source": [
    "####  < table > tag:\n",
    "The < table > tag defines an HTML table.  \n",
    "An HTML table consists of the < table > element and one or more < tr >, < th >, and < td > elements.  \n",
    "The < tr > element defines a table row,  \n",
    "The < th > element defines a table header,  \n",
    "and the < td > element defines a table cell.  \n",
    "\n",
    "A more complex HTML table may also include < caption >, < col >, < colgroup >, < thead >, < tfoot >, and < tbody > elements.  "
   ]
  },
  {
   "cell_type": "markdown",
   "metadata": {},
   "source": [
    "##### Example:   \n",
    "< table>  \n",
    "....< tr>  \n",
    "........< th>Month< /th>  \n",
    "........< th>Savings< /th>  \n",
    "....< / tr>  \n",
    "....< tr>  \n",
    "........< td> January< / td>  \n",
    "........< td> 100< / td>  \n",
    "....< / tr>  \n",
    "....< tr>  \n",
    "........< td>February< /td>  \n",
    "........< td> 80< /td>  \n",
    "....< /tr>  \n",
    "< /table>  "
   ]
  },
  {
   "cell_type": "code",
   "execution_count": 6,
   "metadata": {},
   "outputs": [
    {
     "data": {
      "text/plain": [
       "list"
      ]
     },
     "execution_count": 6,
     "metadata": {},
     "output_type": "execute_result"
    }
   ],
   "source": [
    "# Parse data that are stored between <tr>..</tr> of HTML by using xpath() method from lxml module\n",
    "# the xpath() method will return a list\n",
    "tr_elements = doc.xpath('//tr')\n",
    "type(tr_elements)   # <list>"
   ]
  },
  {
   "cell_type": "code",
   "execution_count": 7,
   "metadata": {},
   "outputs": [
    {
     "data": {
      "text/plain": [
       "[11, 11, 11, 11, 11, 11, 11, 11, 11, 11, 11, 11]"
      ]
     },
     "execution_count": 7,
     "metadata": {},
     "output_type": "execute_result"
    }
   ],
   "source": [
    "# Check each row has the same length\n",
    "# Here only check the previous 12 rows\n",
    "[len(T) for T in tr_elements[:12]]"
   ]
  },
  {
   "cell_type": "markdown",
   "metadata": {},
   "source": [
    "It seems like all rows have exactly 11 columns.  \n",
    "It means all the data collected on tr_elements are from the correct table."
   ]
  },
  {
   "cell_type": "markdown",
   "metadata": {},
   "source": [
    "##### Parse Table Header\n",
    "Next, we need to parse the first row as the header."
   ]
  },
  {
   "cell_type": "code",
   "execution_count": 8,
   "metadata": {},
   "outputs": [
    {
     "data": {
      "text/plain": [
       "lxml.etree._ElementUnicodeResult"
      ]
     },
     "execution_count": 8,
     "metadata": {},
     "output_type": "execute_result"
    }
   ],
   "source": [
    "type(tr_elements[0].text_content())"
   ]
  },
  {
   "cell_type": "code",
   "execution_count": 9,
   "metadata": {},
   "outputs": [
    {
     "name": "stdout",
     "output_type": "stream",
     "text": [
      " 1 : #\n",
      " 2 : Name\n",
      " 3 : Type\n",
      " 4 : Attack\n",
      " 5 : Defense\n",
      " 6 : HP\n",
      " 7 : Catch Rate\n",
      " 8 : Flee Rate\n",
      " 9 : Candy\n",
      "10 : Fast Moves\n",
      "11 : Charge Moves\n"
     ]
    }
   ],
   "source": [
    "# Create empty list to store headers\n",
    "col=[]\n",
    "# For loop the first row as the headers\n",
    "for i,t in enumerate(tr_elements[0]):\n",
    "    # use text_content() method of lh module to get the row content\n",
    "    name = t.text_content() \n",
    "    # print the header for each column\n",
    "    print('{:2d} : {:s}'.format(i+1,name))\n",
    "    # Append tuples that contain each first element (header) and an empty list (to fill the cells from the table)\n",
    "    col.append((name,[]))"
   ]
  },
  {
   "cell_type": "code",
   "execution_count": 10,
   "metadata": {},
   "outputs": [
    {
     "data": {
      "text/plain": [
       "[('#', []),\n",
       " ('Name', []),\n",
       " ('Type', []),\n",
       " ('Attack', []),\n",
       " ('Defense', []),\n",
       " ('HP', []),\n",
       " ('Catch Rate', []),\n",
       " ('Flee Rate', []),\n",
       " ('Candy', []),\n",
       " ('Fast Moves', []),\n",
       " ('Charge Moves', [])]"
      ]
     },
     "execution_count": 10,
     "metadata": {},
     "output_type": "execute_result"
    }
   ],
   "source": [
    "# col[0] contains column names; col[1] is to store cells information (rows)\n",
    "col"
   ]
  },
  {
   "cell_type": "markdown",
   "metadata": {},
   "source": [
    "##### Creating Pandas DataFrame  \n",
    "Each header is appended to a tuple along with an empty list."
   ]
  },
  {
   "cell_type": "code",
   "execution_count": 11,
   "metadata": {},
   "outputs": [],
   "source": [
    "# Since the first row is the header, data is stored on the second row onwards\n",
    "# the range of the tr_elements starts from 1\n",
    "for j in range(1,len(tr_elements)):\n",
    "    # T is our j'th row\n",
    "    T = tr_elements[j]\n",
    "    \n",
    "    # Check the number of columns for each row\n",
    "    # If row is not of size 11, the '//tr' data is not from our table \n",
    "    if len(T)!=11:\n",
    "        break\n",
    "    \n",
    "    # i is the index counter of our column\n",
    "    # it will be reset as 0 when a new row is iterated \n",
    "    i=0\n",
    "    \n",
    "    # Iterate through each element of the row\n",
    "    for t in T.iterchildren():\n",
    "        data=t.text_content() \n",
    "        #Check if row is empty\n",
    "        if i>0:\n",
    "        # Convert any numerical value to integers\n",
    "        # The table on the web has the numeric value in integer, instead of float type\n",
    "        # Try to convert the data into numeric\n",
    "        # If it cannot be converted, use the except and pass keep the data as a string\n",
    "            try:\n",
    "                data=int(data)\n",
    "            except:\n",
    "                pass\n",
    "        # Append the data to the empty list of the i'th column\n",
    "        col[i][1].append(data) \n",
    "        # Increment i for the next column\n",
    "        i+=1"
   ]
  },
  {
   "cell_type": "code",
   "execution_count": 12,
   "metadata": {},
   "outputs": [
    {
     "data": {
      "text/plain": [
       "[570, 570, 570, 570, 570, 570, 570, 570, 570, 570, 570]"
      ]
     },
     "execution_count": 12,
     "metadata": {},
     "output_type": "execute_result"
    }
   ],
   "source": [
    "# check the number of rows for each column\n",
    "[len(cell) for colname, cell in col]"
   ]
  },
  {
   "cell_type": "markdown",
   "metadata": {},
   "source": [
    "##### Create the DataFrame:\n",
    "The dataframe contains 11 columns and 570 rows."
   ]
  },
  {
   "cell_type": "code",
   "execution_count": 13,
   "metadata": {},
   "outputs": [],
   "source": [
    "# convert a list of tuples to dictionary\n",
    "Dict={colname : column for (colname , column) in col}"
   ]
  },
  {
   "cell_type": "code",
   "execution_count": 14,
   "metadata": {
    "scrolled": false
   },
   "outputs": [
    {
     "data": {
      "text/html": [
       "<div>\n",
       "<style scoped>\n",
       "    .dataframe tbody tr th:only-of-type {\n",
       "        vertical-align: middle;\n",
       "    }\n",
       "\n",
       "    .dataframe tbody tr th {\n",
       "        vertical-align: top;\n",
       "    }\n",
       "\n",
       "    .dataframe thead th {\n",
       "        text-align: right;\n",
       "    }\n",
       "</style>\n",
       "<table border=\"1\" class=\"dataframe\">\n",
       "  <thead>\n",
       "    <tr style=\"text-align: right;\">\n",
       "      <th></th>\n",
       "      <th>#</th>\n",
       "      <th>Name</th>\n",
       "      <th>Type</th>\n",
       "      <th>Attack</th>\n",
       "      <th>Defense</th>\n",
       "      <th>HP</th>\n",
       "      <th>Catch Rate</th>\n",
       "      <th>Flee Rate</th>\n",
       "      <th>Candy</th>\n",
       "      <th>Fast Moves</th>\n",
       "      <th>Charge Moves</th>\n",
       "    </tr>\n",
       "  </thead>\n",
       "  <tbody>\n",
       "    <tr>\n",
       "      <th>0</th>\n",
       "      <td>001</td>\n",
       "      <td>Bulbasaur</td>\n",
       "      <td>Grass Poison</td>\n",
       "      <td>128</td>\n",
       "      <td>118</td>\n",
       "      <td>111</td>\n",
       "      <td>20%</td>\n",
       "      <td>10%</td>\n",
       "      <td>25</td>\n",
       "      <td>Vine WhipTackle</td>\n",
       "      <td>Seed BombSludge BombPower Whip</td>\n",
       "    </tr>\n",
       "    <tr>\n",
       "      <th>1</th>\n",
       "      <td>002</td>\n",
       "      <td>Ivysaur</td>\n",
       "      <td>Grass Poison</td>\n",
       "      <td>155</td>\n",
       "      <td>151</td>\n",
       "      <td>143</td>\n",
       "      <td>10%</td>\n",
       "      <td>7%</td>\n",
       "      <td>100</td>\n",
       "      <td>Vine WhipRazor Leaf</td>\n",
       "      <td>Sludge BombSolar BeamPower Whip</td>\n",
       "    </tr>\n",
       "    <tr>\n",
       "      <th>2</th>\n",
       "      <td>003</td>\n",
       "      <td>Venusaur</td>\n",
       "      <td>Grass Poison</td>\n",
       "      <td>190</td>\n",
       "      <td>198</td>\n",
       "      <td>189</td>\n",
       "      <td>5%</td>\n",
       "      <td>5%</td>\n",
       "      <td>—</td>\n",
       "      <td>Vine WhipRazor Leaf</td>\n",
       "      <td>Petal BlizzardSludge BombSolar Beam</td>\n",
       "    </tr>\n",
       "    <tr>\n",
       "      <th>3</th>\n",
       "      <td>004</td>\n",
       "      <td>Charmander</td>\n",
       "      <td>Fire</td>\n",
       "      <td>118</td>\n",
       "      <td>116</td>\n",
       "      <td>93</td>\n",
       "      <td>20%</td>\n",
       "      <td>10%</td>\n",
       "      <td>25</td>\n",
       "      <td>EmberScratch</td>\n",
       "      <td>FlamethrowerFlame ChargeFlame Burst</td>\n",
       "    </tr>\n",
       "    <tr>\n",
       "      <th>4</th>\n",
       "      <td>005</td>\n",
       "      <td>Charmeleon</td>\n",
       "      <td>Fire</td>\n",
       "      <td>151</td>\n",
       "      <td>158</td>\n",
       "      <td>126</td>\n",
       "      <td>10%</td>\n",
       "      <td>7%</td>\n",
       "      <td>100</td>\n",
       "      <td>EmberFire Fang</td>\n",
       "      <td>FlamethrowerFlame BurstFire Punch</td>\n",
       "    </tr>\n",
       "    <tr>\n",
       "      <th>...</th>\n",
       "      <td>...</td>\n",
       "      <td>...</td>\n",
       "      <td>...</td>\n",
       "      <td>...</td>\n",
       "      <td>...</td>\n",
       "      <td>...</td>\n",
       "      <td>...</td>\n",
       "      <td>...</td>\n",
       "      <td>...</td>\n",
       "      <td>...</td>\n",
       "      <td>...</td>\n",
       "    </tr>\n",
       "    <tr>\n",
       "      <th>565</th>\n",
       "      <td>633</td>\n",
       "      <td>Deino</td>\n",
       "      <td>Dark Dragon</td>\n",
       "      <td>141</td>\n",
       "      <td>116</td>\n",
       "      <td>93</td>\n",
       "      <td>40%</td>\n",
       "      <td>9%</td>\n",
       "      <td>25</td>\n",
       "      <td>Dragon BreathTackle</td>\n",
       "      <td>Dragon PulseBody SlamCrunch</td>\n",
       "    </tr>\n",
       "    <tr>\n",
       "      <th>566</th>\n",
       "      <td>634</td>\n",
       "      <td>Zweilous</td>\n",
       "      <td>Dark Dragon</td>\n",
       "      <td>176</td>\n",
       "      <td>159</td>\n",
       "      <td>135</td>\n",
       "      <td>10%</td>\n",
       "      <td>7%</td>\n",
       "      <td>100</td>\n",
       "      <td>BiteDragon Breath</td>\n",
       "      <td>Dark PulseDragon PulseBody Slam</td>\n",
       "    </tr>\n",
       "    <tr>\n",
       "      <th>567</th>\n",
       "      <td>635</td>\n",
       "      <td>Hydreigon</td>\n",
       "      <td>Dark Dragon</td>\n",
       "      <td>211</td>\n",
       "      <td>256</td>\n",
       "      <td>188</td>\n",
       "      <td>5%</td>\n",
       "      <td>5%</td>\n",
       "      <td>—</td>\n",
       "      <td>BiteDragon Breath</td>\n",
       "      <td>Dark PulseFlash CannonDragon Pulse</td>\n",
       "    </tr>\n",
       "    <tr>\n",
       "      <th>568</th>\n",
       "      <td>808</td>\n",
       "      <td>Meltan</td>\n",
       "      <td>Steel</td>\n",
       "      <td>130</td>\n",
       "      <td>118</td>\n",
       "      <td>99</td>\n",
       "      <td>30%</td>\n",
       "      <td>0%</td>\n",
       "      <td>400</td>\n",
       "      <td>Thunder Shock</td>\n",
       "      <td>Flash CannonThunderbolt</td>\n",
       "    </tr>\n",
       "    <tr>\n",
       "      <th>569</th>\n",
       "      <td>809</td>\n",
       "      <td>Melmetal</td>\n",
       "      <td>Steel</td>\n",
       "      <td>264</td>\n",
       "      <td>226</td>\n",
       "      <td>190</td>\n",
       "      <td>30%</td>\n",
       "      <td>0%</td>\n",
       "      <td>—</td>\n",
       "      <td>Thunder Shock</td>\n",
       "      <td>Hyper BeamFlash CannonRock SlideThunderbolt</td>\n",
       "    </tr>\n",
       "  </tbody>\n",
       "</table>\n",
       "<p>570 rows × 11 columns</p>\n",
       "</div>"
      ],
      "text/plain": [
       "       #        Name          Type  Attack  Defense   HP Catch Rate Flee Rate  \\\n",
       "0    001   Bulbasaur  Grass Poison     128      118  111        20%       10%   \n",
       "1    002     Ivysaur  Grass Poison     155      151  143        10%        7%   \n",
       "2    003    Venusaur  Grass Poison     190      198  189         5%        5%   \n",
       "3    004  Charmander         Fire      118      116   93        20%       10%   \n",
       "4    005  Charmeleon         Fire      151      158  126        10%        7%   \n",
       "..   ...         ...           ...     ...      ...  ...        ...       ...   \n",
       "565  633       Deino   Dark Dragon     141      116   93        40%        9%   \n",
       "566  634    Zweilous   Dark Dragon     176      159  135        10%        7%   \n",
       "567  635   Hydreigon   Dark Dragon     211      256  188         5%        5%   \n",
       "568  808      Meltan        Steel      130      118   99        30%        0%   \n",
       "569  809    Melmetal        Steel      264      226  190        30%        0%   \n",
       "\n",
       "    Candy           Fast Moves                                 Charge Moves  \n",
       "0      25      Vine WhipTackle               Seed BombSludge BombPower Whip  \n",
       "1     100  Vine WhipRazor Leaf              Sludge BombSolar BeamPower Whip  \n",
       "2       —  Vine WhipRazor Leaf          Petal BlizzardSludge BombSolar Beam  \n",
       "3      25         EmberScratch          FlamethrowerFlame ChargeFlame Burst  \n",
       "4     100       EmberFire Fang            FlamethrowerFlame BurstFire Punch  \n",
       "..    ...                  ...                                          ...  \n",
       "565    25  Dragon BreathTackle                  Dragon PulseBody SlamCrunch  \n",
       "566   100    BiteDragon Breath              Dark PulseDragon PulseBody Slam  \n",
       "567     —    BiteDragon Breath           Dark PulseFlash CannonDragon Pulse  \n",
       "568   400        Thunder Shock                      Flash CannonThunderbolt  \n",
       "569     —        Thunder Shock  Hyper BeamFlash CannonRock SlideThunderbolt  \n",
       "\n",
       "[570 rows x 11 columns]"
      ]
     },
     "execution_count": 14,
     "metadata": {},
     "output_type": "execute_result"
    }
   ],
   "source": [
    "import pandas as pd \n",
    "df = pd.DataFrame(Dict)\n",
    "df"
   ]
  },
  {
   "cell_type": "markdown",
   "metadata": {},
   "source": [
    "In order to do analysis on this table, there are some steps we need to do:\n",
    "1. Rename the column names   \n",
    "    (use 'GO' as suffix to indicate it is Pokemon Go table)  \n",
    "2. Columns transformation  (Name, Type , Fast Moves, and Charge Moves)  \n",
    "    - Define functions to apply on each column\n",
    "        + Use name_bracket() on 'Name' column\n",
    "        + Use split_2type() on 'Type' column\n",
    "        + Use camel_case_split() on 'Fast Moves' column\n",
    "        + Use camel_case_split() on 'Charge Moves' column\n",
    "3. Replace '—' with 0  "
   ]
  },
  {
   "cell_type": "markdown",
   "metadata": {},
   "source": [
    "##### Split Type column"
   ]
  },
  {
   "cell_type": "code",
   "execution_count": 15,
   "metadata": {},
   "outputs": [],
   "source": [
    "def split_2type(cell_str):\n",
    "    # strip the leading or trailing spaces, then split\n",
    "    result = cell_str.strip().split()\n",
    "    return result"
   ]
  },
  {
   "cell_type": "code",
   "execution_count": 16,
   "metadata": {},
   "outputs": [
    {
     "data": {
      "text/plain": [
       "0      [Grass, Poison]\n",
       "1      [Grass, Poison]\n",
       "2      [Grass, Poison]\n",
       "3               [Fire]\n",
       "4               [Fire]\n",
       "            ...       \n",
       "565     [Dark, Dragon]\n",
       "566     [Dark, Dragon]\n",
       "567     [Dark, Dragon]\n",
       "568            [Steel]\n",
       "569            [Steel]\n",
       "Name: Type, Length: 570, dtype: object"
      ]
     },
     "execution_count": 16,
     "metadata": {},
     "output_type": "execute_result"
    }
   ],
   "source": [
    "# use apply method from pandas to apply a function to each row\n",
    "# Pandas.apply allow the users to pass a function and apply it on every single value of the Pandas series.\n",
    "# https://www.geeksforgeeks.org/python-pandas-apply/\n",
    "df['Type'] = df['Type'].apply(split_2type)\n",
    "df['Type']"
   ]
  },
  {
   "cell_type": "markdown",
   "metadata": {},
   "source": [
    "##### Add bracket to the special name "
   ]
  },
  {
   "cell_type": "code",
   "execution_count": 17,
   "metadata": {},
   "outputs": [],
   "source": [
    "def name_bracket(name):  # ex: name='Vulpix Alolan Vulpix'\n",
    "    testlist = name.split()\n",
    "    # check if the first word is duplicated\n",
    "    if testlist[0] in testlist[1:len(testlist)]:\n",
    "        # split the charaters into a list\n",
    "        namelist = [x for x in name]   # ex: ['V', 'u', 'l',  'p'....etc]\n",
    "        \n",
    "        for char_index in range(1, len(namelist)):\n",
    "            # check which character is uppder case character except the first character\n",
    "            if namelist[char_index].isupper():\n",
    "            # add a leading space before the upper case character\n",
    "                namelist[char_index] = ' ' + namelist[char_index] # ex: from 'A' to ' A'\n",
    "        # Now we need to comobine a list of characters together and split the word by spaces\n",
    "        final_list = ''.join(namelist).split(' ')  # ['Vulpix', '', 'Alolan', '', 'Vulpix']\n",
    "        # replace a '(' at index 1\n",
    "        final_list[1]='('\n",
    "        # append a ')' to the list\n",
    "        final_list.append(')') \n",
    "        # combine all the characters with parentheses\n",
    "        return ' '.join(final_list)\n",
    "    else:\n",
    "        return name"
   ]
  },
  {
   "cell_type": "code",
   "execution_count": 18,
   "metadata": {
    "scrolled": true
   },
   "outputs": [
    {
     "data": {
      "text/plain": [
       "0       Bulbasaur\n",
       "1         Ivysaur\n",
       "2        Venusaur\n",
       "3      Charmander\n",
       "4      Charmeleon\n",
       "          ...    \n",
       "565         Deino\n",
       "566      Zweilous\n",
       "567     Hydreigon\n",
       "568        Meltan\n",
       "569      Melmetal\n",
       "Name: Name, Length: 570, dtype: object"
      ]
     },
     "execution_count": 18,
     "metadata": {},
     "output_type": "execute_result"
    }
   ],
   "source": [
    "# use apply method from pandas to apply a function to each row\n",
    "# Pandas.apply allow the users to pass a function and apply it on every single value of the Pandas series.\n",
    "# https://www.geeksforgeeks.org/python-pandas-apply/\n",
    "df['Name'] = df['Name'].apply(name_bracket)\n",
    "df['Name']"
   ]
  },
  {
   "cell_type": "markdown",
   "metadata": {},
   "source": [
    "##### Break string bewteen lower case and upper case"
   ]
  },
  {
   "cell_type": "code",
   "execution_count": 19,
   "metadata": {},
   "outputs": [],
   "source": [
    "def camel_case_split(strings): \n",
    "    'Break string bewteen lower case and upper case' \n",
    "    # split the input string to check the number of possible words\n",
    "    stringlist=strings.split()\n",
    "    # check if there is at least a word (it may have no word in a cell)\n",
    "    if len(stringlist)>=1: \n",
    "        words = [strings[0]]\n",
    "        for c in strings[1:]:\n",
    "            # When the last character is lower case and the following word is upper case\n",
    "            if words[-1].islower() and c.isupper():  # list[-1]: last item in the array\n",
    "                # append a delimiter '-'\n",
    "                words.append('-')\n",
    "                # append the followeing upper case character\n",
    "                words.append(c) \n",
    "            # Either the last character is upper case or the following word is lower case\n",
    "            else: \n",
    "                # append the followeing lower case character\n",
    "                words.append(c)\n",
    "                # combine a list of words to a string\n",
    "                combine=''.join(words)\n",
    "            # return a list of seperated strings delimited at '-'\n",
    "        return combine.split('-')\n",
    "    # if a cell is empty, return itself\n",
    "    else:\n",
    "        return strings"
   ]
  },
  {
   "cell_type": "code",
   "execution_count": 20,
   "metadata": {},
   "outputs": [
    {
     "data": {
      "text/plain": [
       "0          [Vine Whip, Tackle]\n",
       "1      [Vine Whip, Razor Leaf]\n",
       "2      [Vine Whip, Razor Leaf]\n",
       "3             [Ember, Scratch]\n",
       "4           [Ember, Fire Fang]\n",
       "                ...           \n",
       "565    [Dragon Breath, Tackle]\n",
       "566      [Bite, Dragon Breath]\n",
       "567      [Bite, Dragon Breath]\n",
       "568            [Thunder Shock]\n",
       "569            [Thunder Shock]\n",
       "Name: Fast Moves, Length: 570, dtype: object"
      ]
     },
     "execution_count": 20,
     "metadata": {},
     "output_type": "execute_result"
    }
   ],
   "source": [
    "# use apply method from pandas to apply a function to each row\n",
    "# Pandas.apply allow the users to pass a function and apply it on every single value of the Pandas series.\n",
    "# https://www.geeksforgeeks.org/python-pandas-apply/\n",
    "df['Fast Moves']=df['Fast Moves'].apply(camel_case_split)\n",
    "df['Fast Moves']"
   ]
  },
  {
   "cell_type": "code",
   "execution_count": 21,
   "metadata": {},
   "outputs": [
    {
     "data": {
      "text/plain": [
       "0                   [Seed Bomb, Sludge Bomb, Power Whip]\n",
       "1                  [Sludge Bomb, Solar Beam, Power Whip]\n",
       "2              [Petal Blizzard, Sludge Bomb, Solar Beam]\n",
       "3              [Flamethrower, Flame Charge, Flame Burst]\n",
       "4                [Flamethrower, Flame Burst, Fire Punch]\n",
       "                             ...                        \n",
       "565                    [Dragon Pulse, Body Slam, Crunch]\n",
       "566                [Dark Pulse, Dragon Pulse, Body Slam]\n",
       "567             [Dark Pulse, Flash Cannon, Dragon Pulse]\n",
       "568                          [Flash Cannon, Thunderbolt]\n",
       "569    [Hyper Beam, Flash Cannon, Rock Slide, Thunder...\n",
       "Name: Charge Moves, Length: 570, dtype: object"
      ]
     },
     "execution_count": 21,
     "metadata": {},
     "output_type": "execute_result"
    }
   ],
   "source": [
    "# use apply method from pandas to apply a function to each row\n",
    "# Pandas.apply allow the users to pass a function and apply it on every single value of the Pandas series.\n",
    "# https://www.geeksforgeeks.org/python-pandas-apply/\n",
    "df['Charge Moves']=df['Charge Moves'].apply(camel_case_split)\n",
    "df['Charge Moves']"
   ]
  },
  {
   "cell_type": "code",
   "execution_count": 22,
   "metadata": {},
   "outputs": [],
   "source": [
    "# Replace '—' to 0 on 'Candy' column\n",
    "df['Candy']=['0' if x=='—' else x for x in df['Candy']]  "
   ]
  },
  {
   "cell_type": "code",
   "execution_count": 23,
   "metadata": {},
   "outputs": [],
   "source": [
    "# rename column names\n",
    "df.rename(columns={'Catch Rate':'Catch_Rate',\n",
    "                   'Flee Rate':'Flee_Rate',\n",
    "                   'Fast Moves':'Fast_Moves',\n",
    "                   'Charge Moves':'Charge_Moves',}, inplace=True)"
   ]
  },
  {
   "cell_type": "markdown",
   "metadata": {},
   "source": [
    "##### Version 1: raw data with list in a cell"
   ]
  },
  {
   "cell_type": "code",
   "execution_count": 24,
   "metadata": {},
   "outputs": [],
   "source": [
    "# output a list in cells version of csv\n",
    "df.to_csv('pokemonGo_list.csv', encoding='utf-8')"
   ]
  },
  {
   "cell_type": "markdown",
   "metadata": {},
   "source": [
    "##### Version 2:  Each cell contains only one value\n",
    "Here we are going to split column of lists into multiple columns"
   ]
  },
  {
   "cell_type": "code",
   "execution_count": 25,
   "metadata": {},
   "outputs": [
    {
     "data": {
      "text/plain": [
       "570"
      ]
     },
     "execution_count": 25,
     "metadata": {},
     "output_type": "execute_result"
    }
   ],
   "source": [
    "# Name column does not contain duplicate value\n",
    "df['Name'].nunique()"
   ]
  },
  {
   "cell_type": "code",
   "execution_count": 26,
   "metadata": {
    "scrolled": true
   },
   "outputs": [],
   "source": [
    "Type =pd.DataFrame(df['Type'].values.tolist(), columns=['Type1','Type2'])"
   ]
  },
  {
   "cell_type": "code",
   "execution_count": 27,
   "metadata": {},
   "outputs": [],
   "source": [
    "# split 'Fast_Moves' column\n",
    "maxlist=[]\n",
    "for x in df['Fast_Moves']:\n",
    "    a=len(x)\n",
    "    maxlist.append(a)\n",
    "Fast_Moves=pd.DataFrame(df['Fast_Moves'].values.tolist(), columns=[f'Fast_Moves_{i+1}' for i in range(max(maxlist))])"
   ]
  },
  {
   "cell_type": "code",
   "execution_count": 28,
   "metadata": {},
   "outputs": [],
   "source": [
    "# split 'Charge_Moves' column\n",
    "maxlist=[]\n",
    "for x in df['Charge_Moves']:\n",
    "    a=len(x)\n",
    "    maxlist.append(a)\n",
    "Charge_Moves=pd.DataFrame(df['Charge_Moves'].values.tolist(), columns=[f'Charge_Moves_{i+1}' for i in range(max(maxlist))])"
   ]
  },
  {
   "cell_type": "code",
   "execution_count": 29,
   "metadata": {},
   "outputs": [],
   "source": [
    "# https://songhuiming.github.io/pages/2017/04/02/jupyter-and-pandas-display/\n",
    "pd.set_option('display.max_columns', 500)\n",
    "\n",
    "# https://pandas.pydata.org/pandas-docs/stable/user_guide/merging.html\n",
    "df2=pd.concat([df[['#','Name']], Type, df[['Attack','Defense','HP','Catch_Rate','Flee_Rate','Candy']], \n",
    "           Fast_Moves,Charge_Moves], axis=1)"
   ]
  },
  {
   "cell_type": "code",
   "execution_count": 30,
   "metadata": {},
   "outputs": [
    {
     "name": "stdout",
     "output_type": "stream",
     "text": [
      "<class 'pandas.core.frame.DataFrame'>\n",
      "RangeIndex: 570 entries, 0 to 569\n",
      "Data columns (total 49 columns):\n",
      "#                  570 non-null object\n",
      "Name               570 non-null object\n",
      "Type1              570 non-null object\n",
      "Type2              272 non-null object\n",
      "Attack             570 non-null int64\n",
      "Defense            570 non-null int64\n",
      "HP                 570 non-null int64\n",
      "Catch_Rate         570 non-null object\n",
      "Flee_Rate          570 non-null object\n",
      "Candy              570 non-null object\n",
      "Fast_Moves_1       568 non-null object\n",
      "Fast_Moves_2       553 non-null object\n",
      "Fast_Moves_3       56 non-null object\n",
      "Fast_Moves_4       7 non-null object\n",
      "Fast_Moves_5       2 non-null object\n",
      "Fast_Moves_6       1 non-null object\n",
      "Fast_Moves_7       1 non-null object\n",
      "Fast_Moves_8       1 non-null object\n",
      "Fast_Moves_9       1 non-null object\n",
      "Fast_Moves_10      1 non-null object\n",
      "Fast_Moves_11      1 non-null object\n",
      "Fast_Moves_12      1 non-null object\n",
      "Fast_Moves_13      1 non-null object\n",
      "Fast_Moves_14      1 non-null object\n",
      "Charge_Moves_1     568 non-null object\n",
      "Charge_Moves_2     547 non-null object\n",
      "Charge_Moves_3     539 non-null object\n",
      "Charge_Moves_4     83 non-null object\n",
      "Charge_Moves_5     19 non-null object\n",
      "Charge_Moves_6     4 non-null object\n",
      "Charge_Moves_7     1 non-null object\n",
      "Charge_Moves_8     1 non-null object\n",
      "Charge_Moves_9     1 non-null object\n",
      "Charge_Moves_10    1 non-null object\n",
      "Charge_Moves_11    1 non-null object\n",
      "Charge_Moves_12    1 non-null object\n",
      "Charge_Moves_13    1 non-null object\n",
      "Charge_Moves_14    1 non-null object\n",
      "Charge_Moves_15    1 non-null object\n",
      "Charge_Moves_16    1 non-null object\n",
      "Charge_Moves_17    1 non-null object\n",
      "Charge_Moves_18    1 non-null object\n",
      "Charge_Moves_19    1 non-null object\n",
      "Charge_Moves_20    1 non-null object\n",
      "Charge_Moves_21    1 non-null object\n",
      "Charge_Moves_22    1 non-null object\n",
      "Charge_Moves_23    1 non-null object\n",
      "Charge_Moves_24    1 non-null object\n",
      "Charge_Moves_25    1 non-null object\n",
      "dtypes: int64(3), object(46)\n",
      "memory usage: 218.3+ KB\n"
     ]
    }
   ],
   "source": [
    "df2.info()"
   ]
  },
  {
   "cell_type": "code",
   "execution_count": 31,
   "metadata": {},
   "outputs": [],
   "source": [
    "# output a list in cells version of csv\n",
    "df2.to_csv('pokemonGo_wide.csv', encoding='utf-8')"
   ]
  },
  {
   "cell_type": "code",
   "execution_count": null,
   "metadata": {},
   "outputs": [],
   "source": []
  }
 ],
 "metadata": {
  "kernelspec": {
   "display_name": "Python 3",
   "language": "python",
   "name": "python3"
  },
  "language_info": {
   "codemirror_mode": {
    "name": "ipython",
    "version": 3
   },
   "file_extension": ".py",
   "mimetype": "text/x-python",
   "name": "python",
   "nbconvert_exporter": "python",
   "pygments_lexer": "ipython3",
   "version": "3.7.3"
  }
 },
 "nbformat": 4,
 "nbformat_minor": 2
}
