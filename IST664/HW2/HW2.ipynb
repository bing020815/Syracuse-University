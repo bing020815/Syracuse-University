{
 "cells": [
  {
   "cell_type": "markdown",
   "metadata": {},
   "source": [
    "# NLP Homework 2\n",
    "\n",
    "Contact Finder:  Using Regular Expressions to find email addresses and phone numbers\n"
   ]
  },
  {
   "cell_type": "markdown",
   "metadata": {},
   "source": [
    "This homework is based on a similar homework called SpamLord! from the Stanford NLP course, in particular, both the programs and the data has been adapted. \n",
    "\n",
    "On the web, many people who want to give their email addresses or phone numbers for people to contact them will try to make it hard for spammers to automatically search text for email addresses and phone numbers by giving non-standard forms of them, sometimes called obfuscation.  You may have seen examples like:\n",
    "\n",
    "jurafsky(at)cs.stanford.edu \n",
    "jurafsky at csli dot stanford dot edu\n",
    "\n",
    "For this homework, we are going use regular expressions to try to find these email addresses anyway.  Although our main objective is to learn more about using regular expressions, we can also observe what types of obfuscations work best to foil the spammers.\n",
    "\n",
    "In the data/dev directory are text files that have html text with obscured emails and phone numbers from faculty and staff at Stanford.  (This data is both out-of-date and has been modified to require more interesting regular expressions.)  In the data/devGold file are the corresponding standard form emails and phone numbers;  these are the correct answers.\n",
    "\n",
    "The program ContactFinder.py is set up so that you can write a set of regular expressions with parentheses to pick out the parts of the email address or phone numbers that match it in their obscured form.  Then there is a function “process_filename” that goes through lines of the file, matches all the regular expressions and builds up a result list called “res” that has the name of the file, an ‘e’ or ‘p’ for email or phone, and the standard format email address or phone number.\n",
    "\n",
    "The rest of the program processes all the files in the dev directory and combines the standard form results, it compares them with the devGold file and reports how many your program got right.\n",
    "\n",
    "In the evaluation part,   \n",
    "    * the true positive section displays e-mails and phone numbers which the code correctly matches, \n",
    "    * the false positive section displays e-mails which the code regular expressions match but which are not correct, and \n",
    "    * the false negative section displays e-mails and phone numbers which the starter code did not match, but which do exist in the html files. \n",
    "    \n",
    "Your goal, then, is to reduce the number of false positives and negatives.  The false positive section also lists the correct matches to help debugging.\n"
   ]
  },
  {
   "cell_type": "markdown",
   "metadata": {},
   "source": [
    "1.  (Required)  Write more regular expressions that correct false positives or fit false negatives.  Do as best as you can using the epatterns and ppatterns lists in the program.  For each regular expression that you write or extend, list\n",
    "    * example(s) of email or phone numbers that match that pattern,\n",
    "    * including example(s) of the obfuscated text that was matched from the file,\n",
    "    * a short English description of the expressions the pattern matches, demonstrating your understanding of regular expressions.\n",
    "    * and the results (TP, FP and FN) before and after you added the expression.\n",
    "    \n",
    "When you are done with as many as you can do, give the output of the program.\n",
    "Then choose either option 2 or option 3:  \n",
    "\n",
    "2. (Option)  Do both parts a and b in this option.\n",
    "    * a.  List the examples that you found you could not match with the current regular expressions with two extracted parts, ending in .edu.  For each example, or set of examples that fit the same pattern, explain briefly why it won’t work.  If you can make expressions in regexpal that match, but don’t work in the program to extract the email or phone numbers, list those here.  If you had any false positives in Part 1, include a discussion here of why that rule generated them.\n",
    "\n",
    "    * b. Then search the web and find a couple of additional examples of obscured email addresses or phone numbers and report on them, or try to design a way to obscure an email address that would be extremely difficult for ContactFinder to match with a regular expression.  For the latter, try to have something more specific than things like “To send me email, try the simplest address that makes sense.”\n",
    "\n",
    "\n",
    "3.  (Option)  Python programming:  Continue working on the regular expressions to match more examples by having other lists of patterns.  For example, you may want to have patterns that will match three parts of the email addresses, or you may want to make a list of patterns for email addresses that end in .com. For each list, you will need to add a part to process_filename that matches that list and puts its parts into a standard format answer.\n",
    "\n",
    "\n",
    "Write a section in the report that describes your approach.  For each type of list and regular expression, you must describe each as in part 1.  Wherever you added code to the program, add comments as well before submitting the program."
   ]
  },
  {
   "cell_type": "markdown",
   "metadata": {},
   "source": [
    "__What to submit for Homework:__\n",
    "\n",
    "If you do Part 1 and choose to do Option 2, write a short report that shows the epatterns that you developed for part 1 and discusses Part 2, both a and b.\n",
    "\n",
    "If you do Part 1 and choose to do Option 3, write a short report that shows all the patterns that you developed, with examples, and describe the new version of process_file.py.\n",
    "\n",
    "For all sections, your report should demonstrate your understanding of regular expressions.\n",
    "\n",
    "In both cases, please also submit your version of ContactFinder.py.  This program MUST be a .py program, please do not submit .ipynb programs.\n"
   ]
  },
  {
   "cell_type": "code",
   "execution_count": 1,
   "metadata": {},
   "outputs": [],
   "source": [
    "text=\"\"\"{('cheriton', 'p', '650-723-1131'),\n",
    " ('cheriton', 'p', '650-725-3726'),\n",
    " ('eroberts', 'p', '650-723-3642'),\n",
    " ('eroberts', 'p', '650-723-6092'),\n",
    " ('hager', 'p', '410-516-8000'),\n",
    " ('rajeev', 'p', '650-723-4377'),\n",
    " ('rajeev', 'p', '650-723-6045'),\n",
    " ('rajeev', 'p', '650-725-4671'),\n",
    " ('subh', 'p', '650-724-1915'),\n",
    " ('subh', 'p', '650-725-3726'),\n",
    " ('subh', 'p', '650-725-6949'),\n",
    " ('ullman', 'p', '650-494-8016'),\n",
    " ('ullman', 'p', '650-725-2588'),\n",
    " ('ullman', 'p', '650-725-4802'),\n",
    " ('widom', 'p', '650-723-0872'),\n",
    " ('widom', 'p', '650-723-7690'),\n",
    " ('widom', 'p', '650-725-2588'),\n",
    " ('zelenski', 'p', '650-723-6092'),\n",
    " ('zelenski', 'p', '650-725-8596')}\"\"\""
   ]
  },
  {
   "cell_type": "code",
   "execution_count": 2,
   "metadata": {},
   "outputs": [],
   "source": [
    "import re"
   ]
  },
  {
   "cell_type": "code",
   "execution_count": 3,
   "metadata": {},
   "outputs": [
    {
     "data": {
      "text/plain": [
       "['650-723-1131',\n",
       " '650-725-3726',\n",
       " '650-723-3642',\n",
       " '650-723-6092',\n",
       " '410-516-8000',\n",
       " '650-723-4377',\n",
       " '650-723-6045',\n",
       " '650-725-4671',\n",
       " '650-724-1915',\n",
       " '650-725-3726',\n",
       " '650-725-6949',\n",
       " '650-494-8016',\n",
       " '650-725-2588',\n",
       " '650-725-4802',\n",
       " '650-723-0872',\n",
       " '650-723-7690',\n",
       " '650-725-2588',\n",
       " '650-723-6092',\n",
       " '650-725-8596']"
      ]
     },
     "execution_count": 3,
     "metadata": {},
     "output_type": "execute_result"
    }
   ],
   "source": [
    "re.findall(r\"\\'(\\d{3}-\\d{3}-\\d{4})\\'\",text)"
   ]
  },
  {
   "cell_type": "code",
   "execution_count": null,
   "metadata": {},
   "outputs": [],
   "source": []
  },
  {
   "cell_type": "code",
   "execution_count": null,
   "metadata": {},
   "outputs": [],
   "source": []
  }
 ],
 "metadata": {
  "kernelspec": {
   "display_name": "Python 3",
   "language": "python",
   "name": "python3"
  },
  "language_info": {
   "codemirror_mode": {
    "name": "ipython",
    "version": 3
   },
   "file_extension": ".py",
   "mimetype": "text/x-python",
   "name": "python",
   "nbconvert_exporter": "python",
   "pygments_lexer": "ipython3",
   "version": "3.7.3"
  }
 },
 "nbformat": 4,
 "nbformat_minor": 4
}
